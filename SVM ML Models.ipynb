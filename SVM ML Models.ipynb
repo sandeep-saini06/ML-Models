{
 "cells": [
  {
   "cell_type": "code",
   "execution_count": 1,
   "id": "1d3b2b42",
   "metadata": {},
   "outputs": [],
   "source": [
    "# general and data handling\n",
    "import numpy as np\n",
    "import pandas as pd\n",
    "import os\n",
    "from collections import Counter\n",
    "\n",
    "# Required RDKit modules\n",
    "import rdkit as rd\n",
    "from rdkit.Chem.Fingerprints import FingerprintMols\n",
    "from rdkit import RDConfig\n",
    "from rdkit.Chem import PandasTools\n",
    "from rdkit import Chem\n",
    "from rdkit.Chem.Draw import IPythonConsole\n",
    "from rdkit.Chem import rdFingerprintGenerator\n",
    "from rdkit import DataStructs\n",
    "from rdkit.Chem import AllChem as Chem\n",
    "from rdkit.Chem.rdMolDescriptors import GetAtomPairFingerprint\n",
    "from rdkit.Chem.AtomPairs import Torsions\n",
    "from rdkit.Chem import AllChem\n",
    "from rdkit.Chem import MACCSkeys\n",
    "\n",
    "# modeling\n",
    "import sklearn as sk\n",
    "from sklearn import metrics\n",
    "from sklearn.model_selection import cross_val_score\n",
    "from sklearn.model_selection import train_test_split\n",
    "from sklearn.model_selection import validation_curve\n",
    "from sklearn.linear_model import LogisticRegression\n",
    "from sklearn.linear_model import LogisticRegressionCV\n",
    "from sklearn.decomposition import PCA\n",
    "#from imblearn.over_sampling import ADASYN\n",
    "from sklearn.metrics import classification_report\n",
    "from sklearn.neighbors import KNeighborsClassifier\n",
    "from sklearn.model_selection import GridSearchCV\n",
    "from sklearn.ensemble import GradientBoostingClassifier\n",
    "from sklearn.ensemble import RandomForestRegressor\n",
    "from sklearn.metrics import roc_curve\n",
    "from sklearn.metrics import roc_auc_score\n",
    "# Graphing\n",
    "import matplotlib.pyplot as plt\n",
    "import seaborn as sns"
   ]
  },
  {
   "cell_type": "code",
   "execution_count": 2,
   "id": "b2116e1a",
   "metadata": {},
   "outputs": [],
   "source": [
    "#Import File:\n",
    "mcf7 = pd.read_csv('V1/mcf7_V1.csv')\n",
    "breast = pd.read_csv('V1/breast_V1.csv')\n",
    "lung = pd.read_csv('V1/lung_V1.csv')\n",
    "a549 = pd.read_csv('V1/a549_V1.csv')"
   ]
  },
  {
   "cell_type": "code",
   "execution_count": 3,
   "id": "fifteen-increase",
   "metadata": {},
   "outputs": [
    {
     "name": "stdout",
     "output_type": "stream",
     "text": [
      "MCF7 : 454\n",
      "Breast : 538\n",
      "Lung : 592\n",
      "A549 : 375\n"
     ]
    }
   ],
   "source": [
    "print('MCF7 :',len(mcf7))\n",
    "print('Breast :',len(breast))\n",
    "print('Lung :',len(lung))\n",
    "print('A549 :',len(a549))"
   ]
  },
  {
   "cell_type": "code",
   "execution_count": 4,
   "id": "severe-newsletter",
   "metadata": {},
   "outputs": [],
   "source": [
    "mcf7[\"mol\"] = [Chem.MolFromSmiles(x) for x in mcf7[\"CanonicalSMILES\"]]\n",
    "breast[\"mol\"] = [Chem.MolFromSmiles(x) for x in breast[\"CanonicalSMILES\"]]\n",
    "lung[\"mol\"] = [Chem.MolFromSmiles(x) for x in lung[\"CanonicalSMILES\"]]\n",
    "a549[\"mol\"] = [Chem.MolFromSmiles(x) for x in a549[\"CanonicalSMILES\"]]"
   ]
  },
  {
   "cell_type": "code",
   "execution_count": 5,
   "id": "creative-description",
   "metadata": {},
   "outputs": [
    {
     "name": "stdout",
     "output_type": "stream",
     "text": [
      "MCF7 SMiles: 454\n",
      "Breast Smiles: 538\n",
      "lung Smiles: 592\n",
      "A549 Smiles: 375\n"
     ]
    }
   ],
   "source": [
    "print('MCF7 SMiles:',mcf7['CanonicalSMILES'].count())\n",
    "print('Breast Smiles:',breast['CanonicalSMILES'].count())\n",
    "print('lung Smiles:',lung['CanonicalSMILES'].count())\n",
    "print('A549 Smiles:',a549['CanonicalSMILES'].count())"
   ]
  },
  {
   "cell_type": "code",
   "execution_count": 6,
   "id": "accompanied-continuity",
   "metadata": {},
   "outputs": [],
   "source": [
    "# Maccs Fingerprint:\n",
    "mcf7[\"Maccs\"] = [MACCSkeys.GenMACCSKeys(x) for x in mcf7[\"mol\"]]\n",
    "breast[\"Maccs\"] = [MACCSkeys.GenMACCSKeys(x) for x in breast[\"mol\"]]\n",
    "lung[\"Maccs\"] = [MACCSkeys.GenMACCSKeys(x) for x in lung[\"mol\"]]\n",
    "a549[\"Maccs\"] = [MACCSkeys.GenMACCSKeys(x) for x in a549[\"mol\"]]"
   ]
  },
  {
   "cell_type": "code",
   "execution_count": 7,
   "id": "architectural-maria",
   "metadata": {},
   "outputs": [],
   "source": [
    "# Morgan 2 Fingerprint:\n",
    "mcf7[\"morg2_fp\"] = [Chem.GetMorganFingerprintAsBitVect(m, 2, nBits = 1024) for m in mcf7[\"mol\"]]\n",
    "breast[\"morg2_fp\"] = [Chem.GetMorganFingerprintAsBitVect(m, 2, nBits = 1024) for m in breast[\"mol\"]]\n",
    "lung[\"morg2_fp\"] = [Chem.GetMorganFingerprintAsBitVect(m, 2, nBits = 1024) for m in lung[\"mol\"]]\n",
    "a549[\"morg2_fp\"] = [Chem.GetMorganFingerprintAsBitVect(m, 2, nBits = 1024) for m in a549[\"mol\"]]"
   ]
  },
  {
   "cell_type": "code",
   "execution_count": 8,
   "id": "wooden-stand",
   "metadata": {},
   "outputs": [
    {
     "name": "stdout",
     "output_type": "stream",
     "text": [
      "Training Data for MCF7: 363 \n",
      "\n",
      "Testing Data for MCF7: 91 \n",
      "\n",
      "***************************************************************************\n",
      "Training Data for Breast: 430 \n",
      "\n",
      "Testing Data for Breast: 108 \n",
      "\n",
      "***************************************************************************\n",
      "Training Data for lung: 473 \n",
      "\n",
      "Testing Data for lung: 119 \n",
      "\n",
      "***************************************************************************\n",
      "Training Data for a549: 300 \n",
      "\n",
      "Testing Data for a549: 75 \n",
      "\n"
     ]
    }
   ],
   "source": [
    "train_mcf7, test_mcf7 = train_test_split(mcf7, test_size=0.2, random_state=1,stratify=mcf7.Target.values)\n",
    "train_breast, test_breast = train_test_split(breast, test_size=0.2, random_state=1,stratify=breast.Target.values)\n",
    "train_lung, test_lung = train_test_split(lung, test_size=0.2, random_state=1,stratify=lung.Target.values)\n",
    "train_a549, test_a549 = train_test_split(a549, test_size=0.2, random_state=1,stratify=a549.Target.values)\n",
    "\n",
    "print('Training Data for MCF7:',len(train_mcf7),'\\n')\n",
    "print('Testing Data for MCF7:',len(test_mcf7),'\\n')\n",
    "print('***************************************************************************')\n",
    "print('Training Data for Breast:',len(train_breast),'\\n')\n",
    "print('Testing Data for Breast:',len(test_breast),'\\n')\n",
    "print('***************************************************************************')\n",
    "print('Training Data for lung:',len(train_lung),'\\n')\n",
    "print('Testing Data for lung:',len(test_lung),'\\n')\n",
    "print('***************************************************************************')\n",
    "print('Training Data for a549:',len(train_a549),'\\n')\n",
    "print('Testing Data for a549:',len(test_a549),'\\n')"
   ]
  },
  {
   "cell_type": "code",
   "execution_count": 9,
   "id": "sufficient-packing",
   "metadata": {},
   "outputs": [],
   "source": [
    "def Counting(y):\n",
    "    unique, counts = np.unique(y, return_counts=True)\n",
    "    a=dict(zip(unique, counts))\n",
    "    return str(a)"
   ]
  },
  {
   "cell_type": "code",
   "execution_count": 10,
   "id": "statistical-latest",
   "metadata": {},
   "outputs": [
    {
     "name": "stdout",
     "output_type": "stream",
     "text": [
      "Train Set for MCF7 has: {0: 204, 1: 159}\n",
      "Test Set for MCF7 has: {0: 51, 1: 40}\n",
      "*********************************************************************\n",
      "Train Set for Breast has: {0: 236, 1: 194}\n",
      "Test Set for Breast has: {0: 59, 1: 49}\n",
      "*********************************************************************\n",
      "Train Set for Lung has: {0: 249, 1: 224}\n",
      "Test Set for Lung has: {0: 63, 1: 56}\n",
      "*********************************************************************\n",
      "Train Set for A549 has: {0: 157, 1: 143}\n",
      "Test Set for A549 has: {0: 39, 1: 36}\n"
     ]
    }
   ],
   "source": [
    "print('Train Set for MCF7 has:',Counting(train_mcf7['Target']))\n",
    "print('Test Set for MCF7 has:',Counting(test_mcf7['Target']))\n",
    "print('*********************************************************************')\n",
    "print('Train Set for Breast has:',Counting(train_breast['Target']))\n",
    "print('Test Set for Breast has:',Counting(test_breast['Target']))\n",
    "print('*********************************************************************')\n",
    "print('Train Set for Lung has:',Counting(train_lung['Target']))\n",
    "print('Test Set for Lung has:',Counting(test_lung['Target']))\n",
    "print('*********************************************************************')\n",
    "print('Train Set for A549 has:',Counting(train_a549['Target']))\n",
    "print('Test Set for A549 has:',Counting(test_a549['Target']))"
   ]
  },
  {
   "cell_type": "code",
   "execution_count": 11,
   "id": "forced-keyboard",
   "metadata": {},
   "outputs": [],
   "source": [
    "def to_bit(fps):\n",
    "    fp_np = []\n",
    "    for fp in fps:\n",
    "        arr = np.zeros((1,))\n",
    "        DataStructs.ConvertToNumpyArray(fp, arr)\n",
    "        fp_np.append(arr)\n",
    "    test = fp_np\n",
    "    return test"
   ]
  },
  {
   "cell_type": "markdown",
   "id": "freelance-closing",
   "metadata": {},
   "source": [
    "### Maccs:"
   ]
  },
  {
   "cell_type": "code",
   "execution_count": 12,
   "id": "seventh-domestic",
   "metadata": {},
   "outputs": [],
   "source": [
    "# MACCS Fingreprint:  # MCF7\n",
    "X_Macc_train_mcf7=to_bit(train_mcf7['Maccs'])\n",
    "y_Macc_train_mcf7=train_mcf7.Target.values\n",
    "\n",
    "X_Macc_test_mcf7=to_bit(test_mcf7['Maccs'])\n",
    "y_Macc_test_mcf7=test_mcf7.Target.values"
   ]
  },
  {
   "cell_type": "code",
   "execution_count": 13,
   "id": "planned-muscle",
   "metadata": {},
   "outputs": [],
   "source": [
    "# MACCS Fingreprint:  #Breast\n",
    "X_Macc_train_breast=to_bit(train_breast['Maccs'])\n",
    "y_Macc_train_breast=train_breast.Target.values\n",
    "\n",
    "X_Macc_test_breast=to_bit(test_breast['Maccs'])\n",
    "y_Macc_test_breast=test_breast.Target.values"
   ]
  },
  {
   "cell_type": "code",
   "execution_count": 14,
   "id": "73ff1bef",
   "metadata": {},
   "outputs": [],
   "source": [
    "# MACCS Fingreprint:  # Lung\n",
    "X_Macc_train_lung=to_bit(train_lung['Maccs'])\n",
    "y_Macc_train_lung=train_lung.Target.values\n",
    "\n",
    "X_Macc_test_lung=to_bit(test_lung['Maccs'])\n",
    "y_Macc_test_lung=test_lung.Target.values"
   ]
  },
  {
   "cell_type": "code",
   "execution_count": 15,
   "id": "7852963f",
   "metadata": {},
   "outputs": [],
   "source": [
    "# MACCS Fingreprint:  # A549\n",
    "X_Macc_train_a549=to_bit(train_a549['Maccs'])\n",
    "y_Macc_train_a549=train_a549.Target.values\n",
    "\n",
    "X_Macc_test_a549=to_bit(test_a549['Maccs'])\n",
    "y_Macc_test_a549=test_a549.Target.values"
   ]
  },
  {
   "cell_type": "markdown",
   "id": "conventional-browser",
   "metadata": {},
   "source": [
    "### Morgan2:"
   ]
  },
  {
   "cell_type": "code",
   "execution_count": 16,
   "id": "african-damages",
   "metadata": {},
   "outputs": [],
   "source": [
    "# Morgan 2 Fingreprint:   #MCF7\n",
    "X_Morgan2_train_mcf7=to_bit(train_mcf7['morg2_fp'])\n",
    "y_Morgan2_train_mcf7=train_mcf7.Target.values\n",
    "\n",
    "X_Morgan2_test_mcf7=to_bit(test_mcf7['morg2_fp'])\n",
    "y_Morgan2_test_mcf7=test_mcf7.Target.values"
   ]
  },
  {
   "cell_type": "code",
   "execution_count": 17,
   "id": "warming-palestine",
   "metadata": {},
   "outputs": [],
   "source": [
    "# Morgan 2 Fingreprint:  #Breast\n",
    "X_Morgan2_train_breast=to_bit(train_breast['morg2_fp'])\n",
    "y_Morgan2_train_breast=train_breast.Target.values\n",
    "\n",
    "X_Morgan2_test_breast=to_bit(test_breast['morg2_fp'])\n",
    "y_Morgan2_test_breast=test_breast.Target.values"
   ]
  },
  {
   "cell_type": "code",
   "execution_count": 18,
   "id": "27e4f9ee",
   "metadata": {},
   "outputs": [],
   "source": [
    "# Morgan 2 Fingreprint:   #Lung\n",
    "X_Morgan2_train_lung=to_bit(train_lung['morg2_fp'])\n",
    "y_Morgan2_train_lung=train_lung.Target.values\n",
    "\n",
    "X_Morgan2_test_lung=to_bit(test_lung['morg2_fp'])\n",
    "y_Morgan2_test_lung=test_lung.Target.values"
   ]
  },
  {
   "cell_type": "code",
   "execution_count": 19,
   "id": "dfaee449",
   "metadata": {},
   "outputs": [],
   "source": [
    "# Morgan 2 Fingreprint:   #A549\n",
    "X_Morgan2_train_a549=to_bit(train_a549['morg2_fp'])\n",
    "y_Morgan2_train_a549=train_a549.Target.values\n",
    "\n",
    "X_Morgan2_test_a549=to_bit(test_a549['morg2_fp'])\n",
    "y_Morgan2_test_a549=test_a549.Target.values"
   ]
  },
  {
   "cell_type": "markdown",
   "id": "outdoor-glass",
   "metadata": {},
   "source": [
    "### Models:\n",
    "\n",
    "<ol>\n",
    "<li>Random forest (RF)</li>\n",
    "<li>SVM</li>\n",
    "<li>KNN</li>\n",
    "<li>eXtreme Gradient Boosting (XGBoost)</li>\n",
    "</ol>"
   ]
  },
  {
   "cell_type": "code",
   "execution_count": 20,
   "id": "statewide-abuse",
   "metadata": {},
   "outputs": [],
   "source": [
    "def permonce_measure(y_test,y_pred):\n",
    "    print(\"Accuracy Score:\", round(accuracy_score(y_test, y_pred),3))\n",
    "    print('Balanced Accuracy:',round(balanced_accuracy_score(y_test,y_pred),3))\n",
    "    print(\"MCC Score:\",round(matthews_corrcoef(y_test, y_pred),3))\n",
    "    tn, fp, fn, tp = confusion_matrix(y_test, y_pred).ravel()\n",
    "    a3= Sensitivity = tp/(tp+fn)\n",
    "    a4= Specificity = tn/(tn+fp)\n",
    "    print(\"Sensitivity Score:\",round(a3,3))\n",
    "    print(\"Specificity Score:\",round(a4,3))\n",
    "    \n",
    "    test_measure = {\"Accuracy_test\":round(accuracy_score(y_test, y_pred),3),\n",
    "                    \"Balanced Accuracy_test\":round(balanced_accuracy_score(y_test,y_pred),3),\n",
    "                    \"MCC Score_test\":round(matthews_corrcoef(y_test, y_pred),3),\n",
    "                    \"Sensitivity Score_test\":round(a3,3),\n",
    "                    \"Specificity Score_test\":round(a4,3)\n",
    "                   }\n",
    "    score=accuracy_score(y_test, y_pred)\n",
    "    cm_macc_test = metrics.confusion_matrix(y_test, y_pred)\n",
    "    #Graph:\n",
    "    print('\\n********************** Graph *****************************\\n')\n",
    "    plt.figure(figsize=(5,5))\n",
    "    sns.heatmap(cm_macc_test, annot=True, fmt=\".3f\", linewidths=.5, square = True, cmap = 'Blues_r');\n",
    "    plt.ylabel('Actual label');\n",
    "    plt.xlabel('Predicted label');\n",
    "    all_sample_title = 'Accuracy Score: {0}'.format(score)\n",
    "    plt.title(all_sample_title, size = 15);\n",
    "    return test_measure\n",
    "\n",
    "def roc_auc(y_val,prediction_probs,model_name):\n",
    "    # generate a no skill prediction (majority class)\n",
    "    ns_probs = [0 for _ in range(len(y_val))]\n",
    "    # keep probabilities for the positive outcome only\n",
    "    prediction_probs = prediction_probs[:, 1]\n",
    "    # calculate scores\n",
    "    ns_auc = roc_auc_score(y_val, ns_probs)\n",
    "    prediction_probs_auc = roc_auc_score(y_val, prediction_probs)\n",
    "    # summarize scores\n",
    "    print('No Skill: ROC AUC=%.3f' % (ns_auc))\n",
    "    print('ROC AUC=%.3f' % (prediction_probs_auc))\n",
    "    roc_auc = {\"AUC_Score_test\":round(prediction_probs_auc,3)}\n",
    "    # calculate roc curves\n",
    "    ns_fpr, ns_tpr, _ = roc_curve(y_val, ns_probs)\n",
    "    prediction_probs_fpr, prediction_probs_tpr, _ = roc_curve(y_val, prediction_probs)\n",
    "    # plot the roc curve for the model\n",
    "    pyplot.plot(ns_fpr, ns_tpr, linestyle='--', label='No Skill')\n",
    "    pyplot.plot(prediction_probs_fpr, prediction_probs_tpr, marker='.', label=model_name)\n",
    "    # axis labels\n",
    "    pyplot.xlabel('False Positive Rate')\n",
    "    pyplot.ylabel('True Positive Rate')\n",
    "    # show the legend\n",
    "    pyplot.legend()\n",
    "    # show the plot\n",
    "    pyplot.show()\n",
    "    return roc_auc\n",
    "\n",
    "def cv_result(best_model,X_train,y_train):\n",
    "    scoring={'accuracy':'accuracy',\n",
    "            'balanced_accuracy':'balanced_accuracy',\n",
    "            'roc_auc':'roc_auc',\n",
    "            'specificity':make_scorer(recall_score,pos_label=0),\n",
    "            'sensitivity':make_scorer(recall_score,pos_label=1),\n",
    "            'MCC':make_scorer(matthews_corrcoef)}\n",
    "    cv=cross_validate(best_model,X_train,y_train, cv=5,scoring=scoring)\n",
    "    cv_df=pd.DataFrame(cv)\n",
    "    Mean={'Accuracy':round(cv['test_accuracy'].mean(),3),\n",
    "          'Balanced Accuracy':round(cv['test_balanced_accuracy'].mean(),3),\n",
    "          'AUC_Score':round(cv['test_roc_auc'].mean(),3),\n",
    "          'Specificity':round(cv['test_specificity'].mean(),3),\n",
    "          'Sensitivity':round(cv['test_sensitivity'].mean(),3),\n",
    "          'MCC':round(cv['test_MCC'].mean(),3)\n",
    "         }\n",
    "    print('Accuracy:',round(cv['test_accuracy'].mean(),3),'\\nBalanced_accuracy:',round(cv['test_balanced_accuracy'].mean(),3),'\\nAUC_Score:',round(cv['test_roc_auc'].mean(),3),'\\nSpecificity:',round(cv['test_specificity'].mean(),3),'\\nSensitivity:',round(cv['test_sensitivity'].mean(),3),'\\nMCC:',round(cv['test_MCC'].mean(),3))\n",
    "    return cv_df,Mean"
   ]
  },
  {
   "cell_type": "markdown",
   "id": "premium-validity",
   "metadata": {},
   "source": [
    "## SVM:"
   ]
  },
  {
   "cell_type": "code",
   "execution_count": 21,
   "id": "listed-nowhere",
   "metadata": {},
   "outputs": [],
   "source": [
    "from sklearn.ensemble import RandomForestClassifier\n",
    "from sklearn.metrics import confusion_matrix\n",
    "from sklearn.metrics import matthews_corrcoef,accuracy_score\n",
    "from sklearn.metrics import roc_curve\n",
    "from sklearn.metrics import roc_auc_score,balanced_accuracy_score,recall_score,make_scorer\n",
    "from sklearn.model_selection import cross_validate\n",
    "from matplotlib import pyplot\n",
    "from sklearn import svm"
   ]
  },
  {
   "cell_type": "code",
   "execution_count": 22,
   "id": "bearing-pioneer",
   "metadata": {},
   "outputs": [],
   "source": [
    "# Support Vector Machine:\n",
    "SVM = svm.SVC(random_state = 1,probability=True)"
   ]
  },
  {
   "cell_type": "code",
   "execution_count": 23,
   "id": "acquired-immunology",
   "metadata": {},
   "outputs": [],
   "source": [
    "param_grid_svm = {\n",
    "    'C': [int(x) for x in range(1,11)], \n",
    "    'gamma': [float(x) for x in np.arange(0.001,0.1,0.001)]+['auto'],\n",
    "    'kernel': ['rbf']\n",
    "}"
   ]
  },
  {
   "cell_type": "markdown",
   "id": "agricultural-stylus",
   "metadata": {},
   "source": [
    "## For Maccs:"
   ]
  },
  {
   "cell_type": "markdown",
   "id": "soviet-thumb",
   "metadata": {},
   "source": [
    "#### For MCF7"
   ]
  },
  {
   "cell_type": "code",
   "execution_count": 24,
   "id": "ahead-trunk",
   "metadata": {},
   "outputs": [
    {
     "name": "stdout",
     "output_type": "stream",
     "text": [
      "********************************** Wait *****************************************************\n",
      "\n",
      "Fitting 5 folds for each of 1000 candidates, totalling 5000 fits\n",
      "\n",
      "******************************** Done *****************************************************\n",
      "CPU times: user 1min 17s, sys: 794 ms, total: 1min 18s\n",
      "Wall time: 4min 30s\n"
     ]
    }
   ],
   "source": [
    "%%time\n",
    "print('********************************** Wait *****************************************************\\n')\n",
    "grid_search_svm_mcf7_maccs = GridSearchCV(estimator = SVM, param_grid = param_grid_svm, cv = 5, n_jobs = -1, verbose = 2,scoring='recall')\n",
    "grid_search_svm_mcf7_maccs.fit(X_Macc_train_mcf7, y_Macc_train_mcf7)\n",
    "print('\\n******************************** Done *****************************************************')\n",
    "MCF7_Maccs_SVM=pd.DataFrame(grid_search_svm_mcf7_maccs.cv_results_)"
   ]
  },
  {
   "cell_type": "code",
   "execution_count": 25,
   "id": "pretty-douglas",
   "metadata": {},
   "outputs": [
    {
     "name": "stdout",
     "output_type": "stream",
     "text": [
      "  Best Parameter are:\n",
      " SVC(C=6, gamma=0.097, probability=True, random_state=1)\n"
     ]
    }
   ],
   "source": [
    "print('  Best Parameter are:\\n',grid_search_svm_mcf7_maccs.best_estimator_) # criterion = gini"
   ]
  },
  {
   "cell_type": "code",
   "execution_count": 26,
   "id": "ranking-lawrence",
   "metadata": {},
   "outputs": [],
   "source": [
    "best_model_SVM_MCF7_Maccs = grid_search_svm_mcf7_maccs.best_estimator_\n",
    "#best_model_SVM_MCF7_Maccs=svm.SVC(C=8, gamma=0.085, random_state=1,probability=True)"
   ]
  },
  {
   "cell_type": "code",
   "execution_count": 27,
   "id": "fancy-color",
   "metadata": {},
   "outputs": [
    {
     "name": "stdout",
     "output_type": "stream",
     "text": [
      "Accuracy: 0.799 \n",
      "Balanced_accuracy: 0.797 \n",
      "AUC_Score: 0.873 \n",
      "Specificity: 0.808 \n",
      "Sensitivity: 0.786 \n",
      "MCC: 0.598\n"
     ]
    }
   ],
   "source": [
    "SVM_mcf7_maccs_cv,SVM_mcf7_maccs_mean=cv_result(best_model_SVM_MCF7_Maccs,X_Macc_train_mcf7,y_Macc_train_mcf7)"
   ]
  },
  {
   "cell_type": "code",
   "execution_count": 28,
   "id": "continent-wholesale",
   "metadata": {},
   "outputs": [
    {
     "data": {
      "text/html": [
       "<div>\n",
       "<style scoped>\n",
       "    .dataframe tbody tr th:only-of-type {\n",
       "        vertical-align: middle;\n",
       "    }\n",
       "\n",
       "    .dataframe tbody tr th {\n",
       "        vertical-align: top;\n",
       "    }\n",
       "\n",
       "    .dataframe thead th {\n",
       "        text-align: right;\n",
       "    }\n",
       "</style>\n",
       "<table border=\"1\" class=\"dataframe\">\n",
       "  <thead>\n",
       "    <tr style=\"text-align: right;\">\n",
       "      <th></th>\n",
       "      <th>fit_time</th>\n",
       "      <th>score_time</th>\n",
       "      <th>test_accuracy</th>\n",
       "      <th>test_balanced_accuracy</th>\n",
       "      <th>test_roc_auc</th>\n",
       "      <th>test_specificity</th>\n",
       "      <th>test_sensitivity</th>\n",
       "      <th>test_MCC</th>\n",
       "    </tr>\n",
       "  </thead>\n",
       "  <tbody>\n",
       "    <tr>\n",
       "      <th>0</th>\n",
       "      <td>0.049361</td>\n",
       "      <td>0.013544</td>\n",
       "      <td>0.794521</td>\n",
       "      <td>0.786204</td>\n",
       "      <td>0.887195</td>\n",
       "      <td>0.853659</td>\n",
       "      <td>0.71875</td>\n",
       "      <td>0.580427</td>\n",
       "    </tr>\n",
       "    <tr>\n",
       "      <th>1</th>\n",
       "      <td>0.055299</td>\n",
       "      <td>0.012196</td>\n",
       "      <td>0.849315</td>\n",
       "      <td>0.855564</td>\n",
       "      <td>0.903201</td>\n",
       "      <td>0.804878</td>\n",
       "      <td>0.90625</td>\n",
       "      <td>0.705769</td>\n",
       "    </tr>\n",
       "    <tr>\n",
       "      <th>2</th>\n",
       "      <td>0.045045</td>\n",
       "      <td>0.011522</td>\n",
       "      <td>0.739726</td>\n",
       "      <td>0.727134</td>\n",
       "      <td>0.800305</td>\n",
       "      <td>0.829268</td>\n",
       "      <td>0.62500</td>\n",
       "      <td>0.466894</td>\n",
       "    </tr>\n",
       "    <tr>\n",
       "      <th>3</th>\n",
       "      <td>0.045662</td>\n",
       "      <td>0.009428</td>\n",
       "      <td>0.861111</td>\n",
       "      <td>0.858379</td>\n",
       "      <td>0.911094</td>\n",
       "      <td>0.878049</td>\n",
       "      <td>0.83871</td>\n",
       "      <td>0.716758</td>\n",
       "    </tr>\n",
       "    <tr>\n",
       "      <th>4</th>\n",
       "      <td>0.050805</td>\n",
       "      <td>0.014879</td>\n",
       "      <td>0.750000</td>\n",
       "      <td>0.759375</td>\n",
       "      <td>0.864844</td>\n",
       "      <td>0.675000</td>\n",
       "      <td>0.84375</td>\n",
       "      <td>0.518750</td>\n",
       "    </tr>\n",
       "  </tbody>\n",
       "</table>\n",
       "</div>"
      ],
      "text/plain": [
       "   fit_time  score_time  test_accuracy  test_balanced_accuracy  test_roc_auc  \\\n",
       "0  0.049361    0.013544       0.794521                0.786204      0.887195   \n",
       "1  0.055299    0.012196       0.849315                0.855564      0.903201   \n",
       "2  0.045045    0.011522       0.739726                0.727134      0.800305   \n",
       "3  0.045662    0.009428       0.861111                0.858379      0.911094   \n",
       "4  0.050805    0.014879       0.750000                0.759375      0.864844   \n",
       "\n",
       "   test_specificity  test_sensitivity  test_MCC  \n",
       "0          0.853659           0.71875  0.580427  \n",
       "1          0.804878           0.90625  0.705769  \n",
       "2          0.829268           0.62500  0.466894  \n",
       "3          0.878049           0.83871  0.716758  \n",
       "4          0.675000           0.84375  0.518750  "
      ]
     },
     "execution_count": 28,
     "metadata": {},
     "output_type": "execute_result"
    }
   ],
   "source": [
    "SVM_mcf7_maccs_cv"
   ]
  },
  {
   "cell_type": "markdown",
   "id": "fifteen-appeal",
   "metadata": {},
   "source": [
    "#### MCF7 Test Set:"
   ]
  },
  {
   "cell_type": "code",
   "execution_count": 29,
   "id": "fourth-atlantic",
   "metadata": {},
   "outputs": [
    {
     "name": "stdout",
     "output_type": "stream",
     "text": [
      "Accuracy Score: 0.78\n",
      "Balanced Accuracy: 0.774\n",
      "MCC Score: 0.552\n",
      "Sensitivity Score: 0.725\n",
      "Specificity Score: 0.824\n",
      "\n",
      "********************** Graph *****************************\n",
      "\n"
     ]
    },
    {
     "data": {
      "image/png": "[encoded data removed]",
      "text/plain": [
       "<Figure size 360x360 with 2 Axes>"
      ]
     },
     "metadata": {
      "needs_background": "light"
     },
     "output_type": "display_data"
    }
   ],
   "source": [
    "best_model_SVM_MCF7_Maccs.fit(X_Macc_train_mcf7, y_Macc_train_mcf7)\n",
    "prediction_mcf7_maccs_SVM=best_model_SVM_MCF7_Maccs.predict(X_Macc_test_mcf7)\n",
    "svm_test_mcf7_maccs=permonce_measure(y_Macc_test_mcf7,prediction_mcf7_maccs_SVM)"
   ]
  },
  {
   "cell_type": "code",
   "execution_count": 30,
   "id": "crazy-venture",
   "metadata": {},
   "outputs": [
    {
     "name": "stdout",
     "output_type": "stream",
     "text": [
      "No Skill: ROC AUC=0.500\n",
      "ROC AUC=0.839\n"
     ]
    },
    {
     "data": {
      "image/png": "[encoded data removed]",
      "text/plain": [
       "<Figure size 432x288 with 1 Axes>"
      ]
     },
     "metadata": {
      "needs_background": "light"
     },
     "output_type": "display_data"
    }
   ],
   "source": [
    "prediction_mcf7_maccs_SVM_probs = best_model_SVM_MCF7_Maccs.predict_proba(X_Macc_test_mcf7)\n",
    "roc_auc_mcf7_maccs=roc_auc(y_Macc_test_mcf7,prediction_mcf7_maccs_SVM_probs,'SVM')\n",
    "svm_test_mcf7_maccs.update(roc_auc_mcf7_maccs)"
   ]
  },
  {
   "cell_type": "code",
   "execution_count": 31,
   "id": "german-earth",
   "metadata": {},
   "outputs": [],
   "source": [
    "#MCF7_Maccs_SVM.to_csv('MCF7_Maccs_SVM_auc.csv',index=False)"
   ]
  },
  {
   "cell_type": "markdown",
   "id": "collaborative-catholic",
   "metadata": {},
   "source": [
    "--------------------------------------------------------------------------------------------------------------------"
   ]
  },
  {
   "cell_type": "markdown",
   "id": "smoking-netherlands",
   "metadata": {},
   "source": [
    "### For Breast:"
   ]
  },
  {
   "cell_type": "code",
   "execution_count": 32,
   "id": "daily-enzyme",
   "metadata": {},
   "outputs": [
    {
     "name": "stdout",
     "output_type": "stream",
     "text": [
      "********************************** Wait *****************************************************\n",
      "\n",
      "Fitting 5 folds for each of 1000 candidates, totalling 5000 fits\n",
      "\n",
      "******************************** Done *****************************************************\n",
      "CPU times: user 1min 30s, sys: 704 ms, total: 1min 31s\n",
      "Wall time: 5min 36s\n"
     ]
    }
   ],
   "source": [
    "%%time\n",
    "print('********************************** Wait *****************************************************\\n')\n",
    "grid_search_svm_breast_maccs = GridSearchCV(estimator = SVM, param_grid = param_grid_svm, cv = 5, n_jobs = -1, verbose = 2,scoring='recall')\n",
    "grid_search_svm_breast_maccs.fit(X_Macc_train_breast, y_Macc_train_breast)\n",
    "print('\\n******************************** Done *****************************************************')\n",
    "Breast_Maccs_SVM=pd.DataFrame(grid_search_svm_breast_maccs.cv_results_)"
   ]
  },
  {
   "cell_type": "code",
   "execution_count": 33,
   "id": "transsexual-logic",
   "metadata": {},
   "outputs": [
    {
     "name": "stdout",
     "output_type": "stream",
     "text": [
      "  Best Parameter are:\n",
      " SVC(C=5, gamma=0.056, probability=True, random_state=1)\n"
     ]
    }
   ],
   "source": [
    "print('  Best Parameter are:\\n',grid_search_svm_breast_maccs.best_estimator_) # criterion='gini'"
   ]
  },
  {
   "cell_type": "code",
   "execution_count": 34,
   "id": "failing-liver",
   "metadata": {},
   "outputs": [],
   "source": [
    "best_model_SVM_Breast_Maccs = grid_search_svm_breast_maccs.best_estimator_\n",
    "#best_model_SVM_Breast_Maccs=svm.SVC(C=2, gamma=0.084, random_state=1,probability=True)"
   ]
  },
  {
   "cell_type": "code",
   "execution_count": 35,
   "id": "decent-suspect",
   "metadata": {},
   "outputs": [
    {
     "name": "stdout",
     "output_type": "stream",
     "text": [
      "Accuracy: 0.749 \n",
      "Balanced_accuracy: 0.746 \n",
      "AUC_Score: 0.817 \n",
      "Specificity: 0.775 \n",
      "Sensitivity: 0.716 \n",
      "MCC: 0.495\n"
     ]
    }
   ],
   "source": [
    "SVM_breast_maccs_cv,SVM_breast_maccs_mean=cv_result(best_model_SVM_Breast_Maccs,X_Macc_train_breast,y_Macc_train_breast)"
   ]
  },
  {
   "cell_type": "code",
   "execution_count": 36,
   "id": "alert-caution",
   "metadata": {},
   "outputs": [
    {
     "data": {
      "text/html": [
       "<div>\n",
       "<style scoped>\n",
       "    .dataframe tbody tr th:only-of-type {\n",
       "        vertical-align: middle;\n",
       "    }\n",
       "\n",
       "    .dataframe tbody tr th {\n",
       "        vertical-align: top;\n",
       "    }\n",
       "\n",
       "    .dataframe thead th {\n",
       "        text-align: right;\n",
       "    }\n",
       "</style>\n",
       "<table border=\"1\" class=\"dataframe\">\n",
       "  <thead>\n",
       "    <tr style=\"text-align: right;\">\n",
       "      <th></th>\n",
       "      <th>fit_time</th>\n",
       "      <th>score_time</th>\n",
       "      <th>test_accuracy</th>\n",
       "      <th>test_balanced_accuracy</th>\n",
       "      <th>test_roc_auc</th>\n",
       "      <th>test_specificity</th>\n",
       "      <th>test_sensitivity</th>\n",
       "      <th>test_MCC</th>\n",
       "    </tr>\n",
       "  </thead>\n",
       "  <tbody>\n",
       "    <tr>\n",
       "      <th>0</th>\n",
       "      <td>0.055397</td>\n",
       "      <td>0.011775</td>\n",
       "      <td>0.767442</td>\n",
       "      <td>0.774141</td>\n",
       "      <td>0.794872</td>\n",
       "      <td>0.702128</td>\n",
       "      <td>0.846154</td>\n",
       "      <td>0.548282</td>\n",
       "    </tr>\n",
       "    <tr>\n",
       "      <th>1</th>\n",
       "      <td>0.053847</td>\n",
       "      <td>0.011486</td>\n",
       "      <td>0.779070</td>\n",
       "      <td>0.771686</td>\n",
       "      <td>0.825968</td>\n",
       "      <td>0.851064</td>\n",
       "      <td>0.692308</td>\n",
       "      <td>0.553270</td>\n",
       "    </tr>\n",
       "    <tr>\n",
       "      <th>2</th>\n",
       "      <td>0.055488</td>\n",
       "      <td>0.011888</td>\n",
       "      <td>0.755814</td>\n",
       "      <td>0.752591</td>\n",
       "      <td>0.823786</td>\n",
       "      <td>0.787234</td>\n",
       "      <td>0.717949</td>\n",
       "      <td>0.506428</td>\n",
       "    </tr>\n",
       "    <tr>\n",
       "      <th>3</th>\n",
       "      <td>0.052802</td>\n",
       "      <td>0.011037</td>\n",
       "      <td>0.755814</td>\n",
       "      <td>0.756956</td>\n",
       "      <td>0.849427</td>\n",
       "      <td>0.744681</td>\n",
       "      <td>0.769231</td>\n",
       "      <td>0.511822</td>\n",
       "    </tr>\n",
       "    <tr>\n",
       "      <th>4</th>\n",
       "      <td>0.051598</td>\n",
       "      <td>0.011530</td>\n",
       "      <td>0.686047</td>\n",
       "      <td>0.672149</td>\n",
       "      <td>0.790570</td>\n",
       "      <td>0.791667</td>\n",
       "      <td>0.552632</td>\n",
       "      <td>0.356111</td>\n",
       "    </tr>\n",
       "  </tbody>\n",
       "</table>\n",
       "</div>"
      ],
      "text/plain": [
       "   fit_time  score_time  test_accuracy  test_balanced_accuracy  test_roc_auc  \\\n",
       "0  0.055397    0.011775       0.767442                0.774141      0.794872   \n",
       "1  0.053847    0.011486       0.779070                0.771686      0.825968   \n",
       "2  0.055488    0.011888       0.755814                0.752591      0.823786   \n",
       "3  0.052802    0.011037       0.755814                0.756956      0.849427   \n",
       "4  0.051598    0.011530       0.686047                0.672149      0.790570   \n",
       "\n",
       "   test_specificity  test_sensitivity  test_MCC  \n",
       "0          0.702128          0.846154  0.548282  \n",
       "1          0.851064          0.692308  0.553270  \n",
       "2          0.787234          0.717949  0.506428  \n",
       "3          0.744681          0.769231  0.511822  \n",
       "4          0.791667          0.552632  0.356111  "
      ]
     },
     "execution_count": 36,
     "metadata": {},
     "output_type": "execute_result"
    }
   ],
   "source": [
    "SVM_breast_maccs_cv"
   ]
  },
  {
   "cell_type": "markdown",
   "id": "mounted-evaluation",
   "metadata": {},
   "source": [
    "#### Breast Test Set:"
   ]
  },
  {
   "cell_type": "code",
   "execution_count": 37,
   "id": "velvet-focus",
   "metadata": {},
   "outputs": [
    {
     "name": "stdout",
     "output_type": "stream",
     "text": [
      "Accuracy Score: 0.806\n",
      "Balanced Accuracy: 0.803\n",
      "MCC Score: 0.607\n",
      "Sensitivity Score: 0.776\n",
      "Specificity Score: 0.831\n",
      "\n",
      "********************** Graph *****************************\n",
      "\n"
     ]
    },
    {
     "data": {
      "image/png": "[encoded data removed]",
      "text/plain": [
       "<Figure size 360x360 with 2 Axes>"
      ]
     },
     "metadata": {
      "needs_background": "light"
     },
     "output_type": "display_data"
    }
   ],
   "source": [
    "best_model_SVM_Breast_Maccs.fit(X_Macc_train_breast, y_Macc_train_breast)\n",
    "prediction_breast_maccs_SVM=best_model_SVM_Breast_Maccs.predict(X_Macc_test_breast)\n",
    "svm_test_breast_maccs = permonce_measure(y_Macc_test_breast,prediction_breast_maccs_SVM)"
   ]
  },
  {
   "cell_type": "code",
   "execution_count": 38,
   "id": "promising-biography",
   "metadata": {},
   "outputs": [
    {
     "name": "stdout",
     "output_type": "stream",
     "text": [
      "No Skill: ROC AUC=0.500\n",
      "ROC AUC=0.842\n"
     ]
    },
    {
     "data": {
      "image/png": "[encoded data removed]",
      "text/plain": [
       "<Figure size 432x288 with 1 Axes>"
      ]
     },
     "metadata": {
      "needs_background": "light"
     },
     "output_type": "display_data"
    }
   ],
   "source": [
    "prediction_breast_maccs_SVM_probs = best_model_SVM_Breast_Maccs.predict_proba(X_Macc_test_breast)\n",
    "roc_auc_breast_maccs=roc_auc(y_Macc_test_breast,prediction_breast_maccs_SVM_probs,'SVM')\n",
    "svm_test_breast_maccs.update(roc_auc_breast_maccs)"
   ]
  },
  {
   "cell_type": "code",
   "execution_count": 39,
   "id": "clinical-permission",
   "metadata": {},
   "outputs": [],
   "source": [
    "#Breast_Maccs_SVM.to_csv('Breast_Maccs_SVM_auc.csv',index=False)"
   ]
  },
  {
   "cell_type": "markdown",
   "id": "bf96bd1f",
   "metadata": {},
   "source": [
    "--------------------------------------------------------------------------------------------------------------------"
   ]
  },
  {
   "cell_type": "markdown",
   "id": "7da69dc9",
   "metadata": {},
   "source": [
    "### For Lung:"
   ]
  },
  {
   "cell_type": "code",
   "execution_count": 40,
   "id": "e5e95f89",
   "metadata": {},
   "outputs": [
    {
     "name": "stdout",
     "output_type": "stream",
     "text": [
      "********************************** Wait *****************************************************\n",
      "\n",
      "Fitting 5 folds for each of 1000 candidates, totalling 5000 fits\n",
      "\n",
      "******************************** Done *****************************************************\n",
      "CPU times: user 1min 39s, sys: 710 ms, total: 1min 40s\n",
      "Wall time: 6min 47s\n"
     ]
    }
   ],
   "source": [
    "%%time\n",
    "print('********************************** Wait *****************************************************\\n')\n",
    "grid_search_svm_lung_maccs = GridSearchCV(estimator = SVM, param_grid = param_grid_svm, cv = 5, n_jobs = -1, verbose = 2,scoring='recall')\n",
    "grid_search_svm_lung_maccs.fit(X_Macc_train_lung, y_Macc_train_lung)\n",
    "print('\\n******************************** Done *****************************************************')\n",
    "Lung_Maccs_SVM=pd.DataFrame(grid_search_svm_lung_maccs.cv_results_)"
   ]
  },
  {
   "cell_type": "code",
   "execution_count": 41,
   "id": "6ef14226",
   "metadata": {},
   "outputs": [],
   "source": [
    "#Lung_Maccs_SVM.to_csv('Lung_Maccs_SVM_auc.csv',index=False)"
   ]
  },
  {
   "cell_type": "code",
   "execution_count": 42,
   "id": "d835ef5f",
   "metadata": {},
   "outputs": [
    {
     "name": "stdout",
     "output_type": "stream",
     "text": [
      "  Best Parameter are:\n",
      " SVC(C=8, gamma=0.078, probability=True, random_state=1)\n"
     ]
    }
   ],
   "source": [
    "print('  Best Parameter are:\\n',grid_search_svm_lung_maccs.best_estimator_)"
   ]
  },
  {
   "cell_type": "code",
   "execution_count": 43,
   "id": "6ef42796",
   "metadata": {},
   "outputs": [],
   "source": [
    "best_model_SVM_Lung_Maccs = grid_search_svm_lung_maccs.best_estimator_\n",
    "#best_model_SVM_Lung_Maccs=svm.SVC(C=1, gamma=0.099, random_state=1,probability=True)"
   ]
  },
  {
   "cell_type": "code",
   "execution_count": 44,
   "id": "b35a3ed1",
   "metadata": {},
   "outputs": [
    {
     "name": "stdout",
     "output_type": "stream",
     "text": [
      "Accuracy: 0.695 \n",
      "Balanced_accuracy: 0.693 \n",
      "AUC_Score: 0.749 \n",
      "Specificity: 0.739 \n",
      "Sensitivity: 0.647 \n",
      "MCC: 0.392\n"
     ]
    }
   ],
   "source": [
    "SVM_lung_maccs_cv,SVM_lung_maccs_mean=cv_result(best_model_SVM_Lung_Maccs,X_Macc_train_lung,y_Macc_train_lung)"
   ]
  },
  {
   "cell_type": "code",
   "execution_count": 45,
   "id": "ae682465",
   "metadata": {},
   "outputs": [
    {
     "data": {
      "text/html": [
       "<div>\n",
       "<style scoped>\n",
       "    .dataframe tbody tr th:only-of-type {\n",
       "        vertical-align: middle;\n",
       "    }\n",
       "\n",
       "    .dataframe tbody tr th {\n",
       "        vertical-align: top;\n",
       "    }\n",
       "\n",
       "    .dataframe thead th {\n",
       "        text-align: right;\n",
       "    }\n",
       "</style>\n",
       "<table border=\"1\" class=\"dataframe\">\n",
       "  <thead>\n",
       "    <tr style=\"text-align: right;\">\n",
       "      <th></th>\n",
       "      <th>fit_time</th>\n",
       "      <th>score_time</th>\n",
       "      <th>test_accuracy</th>\n",
       "      <th>test_balanced_accuracy</th>\n",
       "      <th>test_roc_auc</th>\n",
       "      <th>test_specificity</th>\n",
       "      <th>test_sensitivity</th>\n",
       "      <th>test_MCC</th>\n",
       "    </tr>\n",
       "  </thead>\n",
       "  <tbody>\n",
       "    <tr>\n",
       "      <th>0</th>\n",
       "      <td>0.090376</td>\n",
       "      <td>0.036042</td>\n",
       "      <td>0.673684</td>\n",
       "      <td>0.672222</td>\n",
       "      <td>0.758000</td>\n",
       "      <td>0.700000</td>\n",
       "      <td>0.644444</td>\n",
       "      <td>0.344905</td>\n",
       "    </tr>\n",
       "    <tr>\n",
       "      <th>1</th>\n",
       "      <td>0.103636</td>\n",
       "      <td>0.018425</td>\n",
       "      <td>0.778947</td>\n",
       "      <td>0.771111</td>\n",
       "      <td>0.825111</td>\n",
       "      <td>0.920000</td>\n",
       "      <td>0.622222</td>\n",
       "      <td>0.572827</td>\n",
       "    </tr>\n",
       "    <tr>\n",
       "      <th>2</th>\n",
       "      <td>0.087737</td>\n",
       "      <td>0.017142</td>\n",
       "      <td>0.694737</td>\n",
       "      <td>0.693333</td>\n",
       "      <td>0.745111</td>\n",
       "      <td>0.720000</td>\n",
       "      <td>0.666667</td>\n",
       "      <td>0.387183</td>\n",
       "    </tr>\n",
       "    <tr>\n",
       "      <th>3</th>\n",
       "      <td>0.083308</td>\n",
       "      <td>0.014569</td>\n",
       "      <td>0.680851</td>\n",
       "      <td>0.680272</td>\n",
       "      <td>0.724717</td>\n",
       "      <td>0.693878</td>\n",
       "      <td>0.666667</td>\n",
       "      <td>0.360544</td>\n",
       "    </tr>\n",
       "    <tr>\n",
       "      <th>4</th>\n",
       "      <td>0.080211</td>\n",
       "      <td>0.016325</td>\n",
       "      <td>0.648936</td>\n",
       "      <td>0.648182</td>\n",
       "      <td>0.694091</td>\n",
       "      <td>0.660000</td>\n",
       "      <td>0.636364</td>\n",
       "      <td>0.296027</td>\n",
       "    </tr>\n",
       "  </tbody>\n",
       "</table>\n",
       "</div>"
      ],
      "text/plain": [
       "   fit_time  score_time  test_accuracy  test_balanced_accuracy  test_roc_auc  \\\n",
       "0  0.090376    0.036042       0.673684                0.672222      0.758000   \n",
       "1  0.103636    0.018425       0.778947                0.771111      0.825111   \n",
       "2  0.087737    0.017142       0.694737                0.693333      0.745111   \n",
       "3  0.083308    0.014569       0.680851                0.680272      0.724717   \n",
       "4  0.080211    0.016325       0.648936                0.648182      0.694091   \n",
       "\n",
       "   test_specificity  test_sensitivity  test_MCC  \n",
       "0          0.700000          0.644444  0.344905  \n",
       "1          0.920000          0.622222  0.572827  \n",
       "2          0.720000          0.666667  0.387183  \n",
       "3          0.693878          0.666667  0.360544  \n",
       "4          0.660000          0.636364  0.296027  "
      ]
     },
     "execution_count": 45,
     "metadata": {},
     "output_type": "execute_result"
    }
   ],
   "source": [
    "SVM_lung_maccs_cv"
   ]
  },
  {
   "cell_type": "markdown",
   "id": "atomic-mapping",
   "metadata": {},
   "source": [
    "#### Lung Test Set:"
   ]
  },
  {
   "cell_type": "code",
   "execution_count": 46,
   "id": "04f448a0",
   "metadata": {},
   "outputs": [
    {
     "name": "stdout",
     "output_type": "stream",
     "text": [
      "Accuracy Score: 0.697\n",
      "Balanced Accuracy: 0.69\n",
      "MCC Score: 0.394\n",
      "Sensitivity Score: 0.571\n",
      "Specificity Score: 0.81\n",
      "\n",
      "********************** Graph *****************************\n",
      "\n"
     ]
    },
    {
     "data": {
      "image/png": "[encoded data removed]",
      "text/plain": [
       "<Figure size 360x360 with 2 Axes>"
      ]
     },
     "metadata": {
      "needs_background": "light"
     },
     "output_type": "display_data"
    }
   ],
   "source": [
    "best_model_SVM_Lung_Maccs.fit(X_Macc_train_lung, y_Macc_train_lung)\n",
    "prediction_lung_maccs_SVM=best_model_SVM_Lung_Maccs.predict(X_Macc_test_lung)\n",
    "svm_test_lung_maccs = permonce_measure(y_Macc_test_lung,prediction_lung_maccs_SVM)"
   ]
  },
  {
   "cell_type": "code",
   "execution_count": 47,
   "id": "73160bf6",
   "metadata": {},
   "outputs": [
    {
     "name": "stdout",
     "output_type": "stream",
     "text": [
      "No Skill: ROC AUC=0.500\n",
      "ROC AUC=0.767\n"
     ]
    },
    {
     "data": {
      "image/png": "[encoded data removed]",
      "text/plain": [
       "<Figure size 432x288 with 1 Axes>"
      ]
     },
     "metadata": {
      "needs_background": "light"
     },
     "output_type": "display_data"
    }
   ],
   "source": [
    "prediction_lung_maccs_SVM_probs = best_model_SVM_Lung_Maccs.predict_proba(X_Macc_test_lung)\n",
    "roc_auc_lung_maccs=roc_auc(y_Macc_test_lung,prediction_lung_maccs_SVM_probs,'SVM')\n",
    "svm_test_lung_maccs.update(roc_auc_lung_maccs)"
   ]
  },
  {
   "cell_type": "markdown",
   "id": "revolutionary-battery",
   "metadata": {},
   "source": [
    "--------------------------------------------------------------------------------------------------------------------"
   ]
  },
  {
   "cell_type": "markdown",
   "id": "ambient-degree",
   "metadata": {},
   "source": [
    "### For A549:"
   ]
  },
  {
   "cell_type": "code",
   "execution_count": 48,
   "id": "977b56c4",
   "metadata": {},
   "outputs": [
    {
     "name": "stdout",
     "output_type": "stream",
     "text": [
      "********************************** Wait *****************************************************\n",
      "\n",
      "Fitting 5 folds for each of 1000 candidates, totalling 5000 fits\n",
      "\n",
      "******************************** Done *****************************************************\n",
      "CPU times: user 34.2 s, sys: 274 ms, total: 34.5 s\n",
      "Wall time: 2min 34s\n"
     ]
    }
   ],
   "source": [
    "%%time\n",
    "print('********************************** Wait *****************************************************\\n')\n",
    "grid_search_svm_a549_maccs = GridSearchCV(estimator = SVM, param_grid = param_grid_svm, cv = 5, n_jobs = -1, verbose = 2,scoring='recall')\n",
    "grid_search_svm_a549_maccs.fit(X_Macc_train_a549, y_Macc_train_a549)\n",
    "print('\\n******************************** Done *****************************************************')\n",
    "A549_Maccs_SVM=pd.DataFrame(grid_search_svm_a549_maccs.cv_results_)"
   ]
  },
  {
   "cell_type": "code",
   "execution_count": 49,
   "id": "1168aa30",
   "metadata": {},
   "outputs": [],
   "source": [
    "#A549_Maccs_SVM.to_csv('A549_Maccs_SVM_auc.csv',index=False)"
   ]
  },
  {
   "cell_type": "code",
   "execution_count": 50,
   "id": "literary-philip",
   "metadata": {},
   "outputs": [
    {
     "name": "stdout",
     "output_type": "stream",
     "text": [
      "  Best Parameter are:\n",
      " SVC(C=7, gamma=0.081, probability=True, random_state=1)\n"
     ]
    }
   ],
   "source": [
    "print('  Best Parameter are:\\n',grid_search_svm_a549_maccs.best_estimator_)"
   ]
  },
  {
   "cell_type": "code",
   "execution_count": 51,
   "id": "protected-location",
   "metadata": {},
   "outputs": [],
   "source": [
    "best_model_SVM_A549_Maccs = grid_search_svm_a549_maccs.best_estimator_\n",
    "#best_model_SVM_A549_Maccs=svm.SVC(C=2, gamma=0.059000000000000004, random_state=1,probability=True)"
   ]
  },
  {
   "cell_type": "code",
   "execution_count": 52,
   "id": "controlling-omega",
   "metadata": {},
   "outputs": [
    {
     "name": "stdout",
     "output_type": "stream",
     "text": [
      "Accuracy: 0.727 \n",
      "Balanced_accuracy: 0.725 \n",
      "AUC_Score: 0.789 \n",
      "Specificity: 0.765 \n",
      "Sensitivity: 0.686 \n",
      "MCC: 0.453\n"
     ]
    }
   ],
   "source": [
    "SVM_a549_maccs_cv,SVM_a549_maccs_mean=cv_result(best_model_SVM_A549_Maccs,X_Macc_train_a549,y_Macc_train_a549)"
   ]
  },
  {
   "cell_type": "code",
   "execution_count": 53,
   "id": "incoming-celebrity",
   "metadata": {},
   "outputs": [
    {
     "data": {
      "text/html": [
       "<div>\n",
       "<style scoped>\n",
       "    .dataframe tbody tr th:only-of-type {\n",
       "        vertical-align: middle;\n",
       "    }\n",
       "\n",
       "    .dataframe tbody tr th {\n",
       "        vertical-align: top;\n",
       "    }\n",
       "\n",
       "    .dataframe thead th {\n",
       "        text-align: right;\n",
       "    }\n",
       "</style>\n",
       "<table border=\"1\" class=\"dataframe\">\n",
       "  <thead>\n",
       "    <tr style=\"text-align: right;\">\n",
       "      <th></th>\n",
       "      <th>fit_time</th>\n",
       "      <th>score_time</th>\n",
       "      <th>test_accuracy</th>\n",
       "      <th>test_balanced_accuracy</th>\n",
       "      <th>test_roc_auc</th>\n",
       "      <th>test_specificity</th>\n",
       "      <th>test_sensitivity</th>\n",
       "      <th>test_MCC</th>\n",
       "    </tr>\n",
       "  </thead>\n",
       "  <tbody>\n",
       "    <tr>\n",
       "      <th>0</th>\n",
       "      <td>0.031359</td>\n",
       "      <td>0.009641</td>\n",
       "      <td>0.766667</td>\n",
       "      <td>0.765625</td>\n",
       "      <td>0.804129</td>\n",
       "      <td>0.781250</td>\n",
       "      <td>0.750000</td>\n",
       "      <td>0.531250</td>\n",
       "    </tr>\n",
       "    <tr>\n",
       "      <th>1</th>\n",
       "      <td>0.033296</td>\n",
       "      <td>0.010103</td>\n",
       "      <td>0.683333</td>\n",
       "      <td>0.683036</td>\n",
       "      <td>0.720982</td>\n",
       "      <td>0.687500</td>\n",
       "      <td>0.678571</td>\n",
       "      <td>0.365460</td>\n",
       "    </tr>\n",
       "    <tr>\n",
       "      <th>2</th>\n",
       "      <td>0.033809</td>\n",
       "      <td>0.008798</td>\n",
       "      <td>0.750000</td>\n",
       "      <td>0.750278</td>\n",
       "      <td>0.796440</td>\n",
       "      <td>0.741935</td>\n",
       "      <td>0.758621</td>\n",
       "      <td>0.500278</td>\n",
       "    </tr>\n",
       "    <tr>\n",
       "      <th>3</th>\n",
       "      <td>0.028457</td>\n",
       "      <td>0.008227</td>\n",
       "      <td>0.600000</td>\n",
       "      <td>0.596218</td>\n",
       "      <td>0.709121</td>\n",
       "      <td>0.709677</td>\n",
       "      <td>0.482759</td>\n",
       "      <td>0.197789</td>\n",
       "    </tr>\n",
       "    <tr>\n",
       "      <th>4</th>\n",
       "      <td>0.029822</td>\n",
       "      <td>0.009332</td>\n",
       "      <td>0.833333</td>\n",
       "      <td>0.830923</td>\n",
       "      <td>0.914349</td>\n",
       "      <td>0.903226</td>\n",
       "      <td>0.758621</td>\n",
       "      <td>0.670862</td>\n",
       "    </tr>\n",
       "  </tbody>\n",
       "</table>\n",
       "</div>"
      ],
      "text/plain": [
       "   fit_time  score_time  test_accuracy  test_balanced_accuracy  test_roc_auc  \\\n",
       "0  0.031359    0.009641       0.766667                0.765625      0.804129   \n",
       "1  0.033296    0.010103       0.683333                0.683036      0.720982   \n",
       "2  0.033809    0.008798       0.750000                0.750278      0.796440   \n",
       "3  0.028457    0.008227       0.600000                0.596218      0.709121   \n",
       "4  0.029822    0.009332       0.833333                0.830923      0.914349   \n",
       "\n",
       "   test_specificity  test_sensitivity  test_MCC  \n",
       "0          0.781250          0.750000  0.531250  \n",
       "1          0.687500          0.678571  0.365460  \n",
       "2          0.741935          0.758621  0.500278  \n",
       "3          0.709677          0.482759  0.197789  \n",
       "4          0.903226          0.758621  0.670862  "
      ]
     },
     "execution_count": 53,
     "metadata": {},
     "output_type": "execute_result"
    }
   ],
   "source": [
    "SVM_a549_maccs_cv"
   ]
  },
  {
   "cell_type": "markdown",
   "id": "relevant-illustration",
   "metadata": {},
   "source": [
    "#### A549 Test Set:"
   ]
  },
  {
   "cell_type": "code",
   "execution_count": 54,
   "id": "ordinary-sport",
   "metadata": {},
   "outputs": [
    {
     "name": "stdout",
     "output_type": "stream",
     "text": [
      "Accuracy Score: 0.693\n",
      "Balanced Accuracy: 0.697\n",
      "MCC Score: 0.397\n",
      "Sensitivity Score: 0.778\n",
      "Specificity Score: 0.615\n",
      "\n",
      "********************** Graph *****************************\n",
      "\n"
     ]
    },
    {
     "data": {
      "image/png": "[encoded data removed]",
      "text/plain": [
       "<Figure size 360x360 with 2 Axes>"
      ]
     },
     "metadata": {
      "needs_background": "light"
     },
     "output_type": "display_data"
    }
   ],
   "source": [
    "best_model_SVM_A549_Maccs.fit(X_Macc_train_a549, y_Macc_train_a549)\n",
    "prediction_a549_maccs_SVM=best_model_SVM_A549_Maccs.predict(X_Macc_test_a549)\n",
    "svm_test_a549_maccs = permonce_measure(y_Macc_test_a549,prediction_a549_maccs_SVM)"
   ]
  },
  {
   "cell_type": "code",
   "execution_count": 55,
   "id": "devoted-october",
   "metadata": {},
   "outputs": [
    {
     "name": "stdout",
     "output_type": "stream",
     "text": [
      "No Skill: ROC AUC=0.500\n",
      "ROC AUC=0.762\n"
     ]
    },
    {
     "data": {
      "image/png": "[encoded data removed]",
      "text/plain": [
       "<Figure size 432x288 with 1 Axes>"
      ]
     },
     "metadata": {
      "needs_background": "light"
     },
     "output_type": "display_data"
    }
   ],
   "source": [
    "prediction_a549_maccs_SVM_probs = best_model_SVM_A549_Maccs.predict_proba(X_Macc_test_a549)\n",
    "roc_auc_a549_maccs=roc_auc(y_Macc_test_a549,prediction_a549_maccs_SVM_probs,'SVM')\n",
    "svm_test_a549_maccs.update(roc_auc_a549_maccs)"
   ]
  },
  {
   "cell_type": "markdown",
   "id": "frozen-session",
   "metadata": {},
   "source": [
    "---------------------------------------------------------------------------------------------------------------------"
   ]
  },
  {
   "cell_type": "markdown",
   "id": "virgin-walter",
   "metadata": {},
   "source": [
    "## For Morgan2:"
   ]
  },
  {
   "cell_type": "markdown",
   "id": "outside-decline",
   "metadata": {},
   "source": [
    "### For MCF7:"
   ]
  },
  {
   "cell_type": "code",
   "execution_count": 56,
   "id": "deluxe-chapel",
   "metadata": {},
   "outputs": [
    {
     "name": "stdout",
     "output_type": "stream",
     "text": [
      "********************************** Wait *****************************************************\n",
      "\n",
      "Fitting 5 folds for each of 1000 candidates, totalling 5000 fits\n",
      "\n",
      "******************************** Done ******************************************************\n",
      "CPU times: user 1min 37s, sys: 19.4 s, total: 1min 56s\n",
      "Wall time: 13min 12s\n"
     ]
    }
   ],
   "source": [
    "%%time\n",
    "print('********************************** Wait *****************************************************\\n')\n",
    "grid_search_svm_mcf7_morgan2 = GridSearchCV(estimator = SVM, param_grid = param_grid_svm, cv = 5, n_jobs = -1, verbose = 2,scoring='recall')\n",
    "grid_search_svm_mcf7_morgan2.fit(X_Morgan2_train_mcf7, y_Morgan2_train_mcf7)\n",
    "print('\\n******************************** Done ******************************************************')\n",
    "MCF7_Morgan2_SVM=pd.DataFrame(grid_search_svm_mcf7_morgan2.cv_results_)"
   ]
  },
  {
   "cell_type": "code",
   "execution_count": 57,
   "id": "plain-madagascar",
   "metadata": {},
   "outputs": [],
   "source": [
    "#MCF7_Morgan2_SVM.to_csv('MCF7_Morgan2_SVM_auc.csv',index=False)"
   ]
  },
  {
   "cell_type": "code",
   "execution_count": 58,
   "id": "powerful-twenty",
   "metadata": {},
   "outputs": [
    {
     "name": "stdout",
     "output_type": "stream",
     "text": [
      "  Best Parameter are:\n",
      " SVC(C=8, gamma=0.010000000000000002, probability=True, random_state=1)\n"
     ]
    }
   ],
   "source": [
    "print('  Best Parameter are:\\n',grid_search_svm_mcf7_morgan2.best_estimator_)"
   ]
  },
  {
   "cell_type": "code",
   "execution_count": 59,
   "id": "scientific-national",
   "metadata": {},
   "outputs": [],
   "source": [
    "best_model_SVM_MCF7_Morgan2 = grid_search_svm_mcf7_morgan2.best_estimator_\n",
    "#best_model_SVM_MCF7_Morgan2=svm.SVC(C=1, gamma=0.047, random_state=1,probability=True)"
   ]
  },
  {
   "cell_type": "code",
   "execution_count": 60,
   "id": "former-relation",
   "metadata": {},
   "outputs": [
    {
     "name": "stdout",
     "output_type": "stream",
     "text": [
      "Accuracy: 0.818 \n",
      "Balanced_accuracy: 0.813 \n",
      "AUC_Score: 0.873 \n",
      "Specificity: 0.858 \n",
      "Sensitivity: 0.768 \n",
      "MCC: 0.63\n"
     ]
    }
   ],
   "source": [
    "SVM_mcf7_morgan2_cv,SVM_mcf7_morgan2_mean=cv_result(best_model_SVM_MCF7_Morgan2,X_Morgan2_train_mcf7,y_Morgan2_train_mcf7)"
   ]
  },
  {
   "cell_type": "code",
   "execution_count": 61,
   "id": "assigned-brain",
   "metadata": {},
   "outputs": [
    {
     "data": {
      "text/html": [
       "<div>\n",
       "<style scoped>\n",
       "    .dataframe tbody tr th:only-of-type {\n",
       "        vertical-align: middle;\n",
       "    }\n",
       "\n",
       "    .dataframe tbody tr th {\n",
       "        vertical-align: top;\n",
       "    }\n",
       "\n",
       "    .dataframe thead th {\n",
       "        text-align: right;\n",
       "    }\n",
       "</style>\n",
       "<table border=\"1\" class=\"dataframe\">\n",
       "  <thead>\n",
       "    <tr style=\"text-align: right;\">\n",
       "      <th></th>\n",
       "      <th>fit_time</th>\n",
       "      <th>score_time</th>\n",
       "      <th>test_accuracy</th>\n",
       "      <th>test_balanced_accuracy</th>\n",
       "      <th>test_roc_auc</th>\n",
       "      <th>test_specificity</th>\n",
       "      <th>test_sensitivity</th>\n",
       "      <th>test_MCC</th>\n",
       "    </tr>\n",
       "  </thead>\n",
       "  <tbody>\n",
       "    <tr>\n",
       "      <th>0</th>\n",
       "      <td>0.169111</td>\n",
       "      <td>0.026528</td>\n",
       "      <td>0.780822</td>\n",
       "      <td>0.770579</td>\n",
       "      <td>0.839177</td>\n",
       "      <td>0.853659</td>\n",
       "      <td>0.687500</td>\n",
       "      <td>0.552212</td>\n",
       "    </tr>\n",
       "    <tr>\n",
       "      <th>1</th>\n",
       "      <td>0.128351</td>\n",
       "      <td>0.021965</td>\n",
       "      <td>0.808219</td>\n",
       "      <td>0.801829</td>\n",
       "      <td>0.858232</td>\n",
       "      <td>0.853659</td>\n",
       "      <td>0.750000</td>\n",
       "      <td>0.608784</td>\n",
       "    </tr>\n",
       "    <tr>\n",
       "      <th>2</th>\n",
       "      <td>0.125164</td>\n",
       "      <td>0.020895</td>\n",
       "      <td>0.835616</td>\n",
       "      <td>0.829649</td>\n",
       "      <td>0.865091</td>\n",
       "      <td>0.878049</td>\n",
       "      <td>0.781250</td>\n",
       "      <td>0.664897</td>\n",
       "    </tr>\n",
       "    <tr>\n",
       "      <th>3</th>\n",
       "      <td>0.136991</td>\n",
       "      <td>0.025592</td>\n",
       "      <td>0.861111</td>\n",
       "      <td>0.854445</td>\n",
       "      <td>0.936271</td>\n",
       "      <td>0.902439</td>\n",
       "      <td>0.806452</td>\n",
       "      <td>0.715680</td>\n",
       "    </tr>\n",
       "    <tr>\n",
       "      <th>4</th>\n",
       "      <td>0.134685</td>\n",
       "      <td>0.022607</td>\n",
       "      <td>0.805556</td>\n",
       "      <td>0.806250</td>\n",
       "      <td>0.866016</td>\n",
       "      <td>0.800000</td>\n",
       "      <td>0.812500</td>\n",
       "      <td>0.609649</td>\n",
       "    </tr>\n",
       "  </tbody>\n",
       "</table>\n",
       "</div>"
      ],
      "text/plain": [
       "   fit_time  score_time  test_accuracy  test_balanced_accuracy  test_roc_auc  \\\n",
       "0  0.169111    0.026528       0.780822                0.770579      0.839177   \n",
       "1  0.128351    0.021965       0.808219                0.801829      0.858232   \n",
       "2  0.125164    0.020895       0.835616                0.829649      0.865091   \n",
       "3  0.136991    0.025592       0.861111                0.854445      0.936271   \n",
       "4  0.134685    0.022607       0.805556                0.806250      0.866016   \n",
       "\n",
       "   test_specificity  test_sensitivity  test_MCC  \n",
       "0          0.853659          0.687500  0.552212  \n",
       "1          0.853659          0.750000  0.608784  \n",
       "2          0.878049          0.781250  0.664897  \n",
       "3          0.902439          0.806452  0.715680  \n",
       "4          0.800000          0.812500  0.609649  "
      ]
     },
     "execution_count": 61,
     "metadata": {},
     "output_type": "execute_result"
    }
   ],
   "source": [
    "SVM_mcf7_morgan2_cv"
   ]
  },
  {
   "cell_type": "markdown",
   "id": "architectural-benjamin",
   "metadata": {},
   "source": [
    "#### Test set for MCF7:"
   ]
  },
  {
   "cell_type": "code",
   "execution_count": 62,
   "id": "cardiovascular-gather",
   "metadata": {},
   "outputs": [
    {
     "name": "stdout",
     "output_type": "stream",
     "text": [
      "Accuracy Score: 0.78\n",
      "Balanced Accuracy: 0.772\n",
      "MCC Score: 0.551\n",
      "Sensitivity Score: 0.7\n",
      "Specificity Score: 0.843\n",
      "\n",
      "********************** Graph *****************************\n",
      "\n"
     ]
    },
    {
     "data": {
      "image/png": "[encoded data removed]",
      "text/plain": [
       "<Figure size 360x360 with 2 Axes>"
      ]
     },
     "metadata": {
      "needs_background": "light"
     },
     "output_type": "display_data"
    }
   ],
   "source": [
    "best_model_SVM_MCF7_Morgan2.fit(X_Morgan2_train_mcf7, y_Morgan2_train_mcf7)\n",
    "prediction_mcf7_morgan2_SVM=best_model_SVM_MCF7_Morgan2.predict(X_Morgan2_test_mcf7)\n",
    "svm_test_mcf7_morgan2 = permonce_measure(y_Morgan2_test_mcf7,prediction_mcf7_morgan2_SVM)"
   ]
  },
  {
   "cell_type": "code",
   "execution_count": 63,
   "id": "earlier-hygiene",
   "metadata": {},
   "outputs": [
    {
     "name": "stdout",
     "output_type": "stream",
     "text": [
      "No Skill: ROC AUC=0.500\n",
      "ROC AUC=0.836\n"
     ]
    },
    {
     "data": {
      "image/png": "[encoded data removed]",
      "text/plain": [
       "<Figure size 432x288 with 1 Axes>"
      ]
     },
     "metadata": {
      "needs_background": "light"
     },
     "output_type": "display_data"
    }
   ],
   "source": [
    "prediction_mcf7_morgan2_SVM_probs = best_model_SVM_MCF7_Morgan2.predict_proba(X_Morgan2_test_mcf7)\n",
    "roc_auc_mcf7_morgan2=roc_auc(y_Morgan2_test_mcf7,prediction_mcf7_morgan2_SVM_probs,'SVM')\n",
    "svm_test_mcf7_morgan2.update(roc_auc_mcf7_morgan2)"
   ]
  },
  {
   "cell_type": "markdown",
   "id": "transparent-savings",
   "metadata": {},
   "source": [
    "-------------------------------------------------------------------------------------------------------------------"
   ]
  },
  {
   "cell_type": "markdown",
   "id": "outer-latter",
   "metadata": {},
   "source": [
    "### For Breast:"
   ]
  },
  {
   "cell_type": "code",
   "execution_count": 64,
   "id": "racial-sight",
   "metadata": {},
   "outputs": [
    {
     "name": "stdout",
     "output_type": "stream",
     "text": [
      "********************************** Wait *****************************************************\n",
      "\n",
      "Fitting 5 folds for each of 1000 candidates, totalling 5000 fits\n",
      "\n",
      "******************************** Done ******************************************************\n",
      "CPU times: user 1min 55s, sys: 20.2 s, total: 2min 15s\n",
      "Wall time: 20min 21s\n"
     ]
    }
   ],
   "source": [
    "%%time\n",
    "print('********************************** Wait *****************************************************\\n')\n",
    "grid_search_svm_breast_morgan2 = GridSearchCV(estimator = SVM, param_grid = param_grid_svm, cv = 5, n_jobs = -1, verbose = 2,scoring='recall')\n",
    "grid_search_svm_breast_morgan2.fit(X_Morgan2_train_breast, y_Morgan2_train_breast)\n",
    "print('\\n******************************** Done ******************************************************')\n",
    "Breast_Morgan2_SVM=pd.DataFrame(grid_search_svm_breast_morgan2.cv_results_)"
   ]
  },
  {
   "cell_type": "code",
   "execution_count": 65,
   "id": "curious-robin",
   "metadata": {},
   "outputs": [],
   "source": [
    "#Breast_Morgan2_SVM.to_csv('Breast_Morgan2_SVM_auc.csv',index=False)"
   ]
  },
  {
   "cell_type": "code",
   "execution_count": 66,
   "id": "following-organ",
   "metadata": {},
   "outputs": [
    {
     "name": "stdout",
     "output_type": "stream",
     "text": [
      "  Best Parameter are:\n",
      " SVC(C=6, gamma=0.008, probability=True, random_state=1)\n"
     ]
    }
   ],
   "source": [
    "print('  Best Parameter are:\\n',grid_search_svm_breast_morgan2.best_estimator_)"
   ]
  },
  {
   "cell_type": "code",
   "execution_count": 67,
   "id": "numerous-powell",
   "metadata": {},
   "outputs": [],
   "source": [
    "best_model_SVM_Breast_Morgan2 = grid_search_svm_breast_morgan2.best_estimator_\n",
    "#best_model_SVM_Breast_Morgan2=svm.SVC(C=2, gamma=0.037000000000000005, random_state=1,probability=True)"
   ]
  },
  {
   "cell_type": "code",
   "execution_count": 68,
   "id": "forbidden-pregnancy",
   "metadata": {},
   "outputs": [
    {
     "name": "stdout",
     "output_type": "stream",
     "text": [
      "Accuracy: 0.786 \n",
      "Balanced_accuracy: 0.781 \n",
      "AUC_Score: 0.849 \n",
      "Specificity: 0.826 \n",
      "Sensitivity: 0.736 \n",
      "MCC: 0.572\n"
     ]
    }
   ],
   "source": [
    "SVM_breast_morgan2_cv,SVM_breast_morgan2_mean=cv_result(best_model_SVM_Breast_Morgan2,X_Morgan2_train_breast,y_Morgan2_train_breast)"
   ]
  },
  {
   "cell_type": "code",
   "execution_count": 69,
   "id": "unlikely-kentucky",
   "metadata": {},
   "outputs": [
    {
     "data": {
      "text/html": [
       "<div>\n",
       "<style scoped>\n",
       "    .dataframe tbody tr th:only-of-type {\n",
       "        vertical-align: middle;\n",
       "    }\n",
       "\n",
       "    .dataframe tbody tr th {\n",
       "        vertical-align: top;\n",
       "    }\n",
       "\n",
       "    .dataframe thead th {\n",
       "        text-align: right;\n",
       "    }\n",
       "</style>\n",
       "<table border=\"1\" class=\"dataframe\">\n",
       "  <thead>\n",
       "    <tr style=\"text-align: right;\">\n",
       "      <th></th>\n",
       "      <th>fit_time</th>\n",
       "      <th>score_time</th>\n",
       "      <th>test_accuracy</th>\n",
       "      <th>test_balanced_accuracy</th>\n",
       "      <th>test_roc_auc</th>\n",
       "      <th>test_specificity</th>\n",
       "      <th>test_sensitivity</th>\n",
       "      <th>test_MCC</th>\n",
       "    </tr>\n",
       "  </thead>\n",
       "  <tbody>\n",
       "    <tr>\n",
       "      <th>0</th>\n",
       "      <td>0.205460</td>\n",
       "      <td>0.031332</td>\n",
       "      <td>0.837209</td>\n",
       "      <td>0.846699</td>\n",
       "      <td>0.906983</td>\n",
       "      <td>0.744681</td>\n",
       "      <td>0.948718</td>\n",
       "      <td>0.697213</td>\n",
       "    </tr>\n",
       "    <tr>\n",
       "      <th>1</th>\n",
       "      <td>0.191756</td>\n",
       "      <td>0.027184</td>\n",
       "      <td>0.744186</td>\n",
       "      <td>0.735406</td>\n",
       "      <td>0.807965</td>\n",
       "      <td>0.829787</td>\n",
       "      <td>0.641026</td>\n",
       "      <td>0.481986</td>\n",
       "    </tr>\n",
       "    <tr>\n",
       "      <th>2</th>\n",
       "      <td>0.186749</td>\n",
       "      <td>0.031342</td>\n",
       "      <td>0.802326</td>\n",
       "      <td>0.797327</td>\n",
       "      <td>0.868522</td>\n",
       "      <td>0.851064</td>\n",
       "      <td>0.743590</td>\n",
       "      <td>0.600080</td>\n",
       "    </tr>\n",
       "    <tr>\n",
       "      <th>3</th>\n",
       "      <td>0.187347</td>\n",
       "      <td>0.031433</td>\n",
       "      <td>0.813953</td>\n",
       "      <td>0.812330</td>\n",
       "      <td>0.872886</td>\n",
       "      <td>0.829787</td>\n",
       "      <td>0.794872</td>\n",
       "      <td>0.624659</td>\n",
       "    </tr>\n",
       "    <tr>\n",
       "      <th>4</th>\n",
       "      <td>0.188574</td>\n",
       "      <td>0.031301</td>\n",
       "      <td>0.732558</td>\n",
       "      <td>0.713816</td>\n",
       "      <td>0.788925</td>\n",
       "      <td>0.875000</td>\n",
       "      <td>0.552632</td>\n",
       "      <td>0.457588</td>\n",
       "    </tr>\n",
       "  </tbody>\n",
       "</table>\n",
       "</div>"
      ],
      "text/plain": [
       "   fit_time  score_time  test_accuracy  test_balanced_accuracy  test_roc_auc  \\\n",
       "0  0.205460    0.031332       0.837209                0.846699      0.906983   \n",
       "1  0.191756    0.027184       0.744186                0.735406      0.807965   \n",
       "2  0.186749    0.031342       0.802326                0.797327      0.868522   \n",
       "3  0.187347    0.031433       0.813953                0.812330      0.872886   \n",
       "4  0.188574    0.031301       0.732558                0.713816      0.788925   \n",
       "\n",
       "   test_specificity  test_sensitivity  test_MCC  \n",
       "0          0.744681          0.948718  0.697213  \n",
       "1          0.829787          0.641026  0.481986  \n",
       "2          0.851064          0.743590  0.600080  \n",
       "3          0.829787          0.794872  0.624659  \n",
       "4          0.875000          0.552632  0.457588  "
      ]
     },
     "execution_count": 69,
     "metadata": {},
     "output_type": "execute_result"
    }
   ],
   "source": [
    "SVM_breast_morgan2_cv"
   ]
  },
  {
   "cell_type": "markdown",
   "id": "killing-brain",
   "metadata": {},
   "source": [
    "#### Test set for Breast:"
   ]
  },
  {
   "cell_type": "code",
   "execution_count": 70,
   "id": "composite-springer",
   "metadata": {},
   "outputs": [
    {
     "name": "stdout",
     "output_type": "stream",
     "text": [
      "Accuracy Score: 0.741\n",
      "Balanced Accuracy: 0.737\n",
      "MCC Score: 0.476\n",
      "Sensitivity Score: 0.694\n",
      "Specificity Score: 0.78\n",
      "\n",
      "********************** Graph *****************************\n",
      "\n"
     ]
    },
    {
     "data": {
      "image/png": "[encoded data removed]",
      "text/plain": [
       "<Figure size 360x360 with 2 Axes>"
      ]
     },
     "metadata": {
      "needs_background": "light"
     },
     "output_type": "display_data"
    }
   ],
   "source": [
    "best_model_SVM_Breast_Morgan2.fit(X_Morgan2_train_breast, y_Morgan2_train_breast)\n",
    "prediction_breast_morgan2_SVM=best_model_SVM_Breast_Morgan2.predict(X_Morgan2_test_breast)\n",
    "svm_test_breast_morgan2 = permonce_measure(y_Morgan2_test_breast,prediction_breast_morgan2_SVM)"
   ]
  },
  {
   "cell_type": "code",
   "execution_count": 71,
   "id": "facial-queens",
   "metadata": {},
   "outputs": [
    {
     "name": "stdout",
     "output_type": "stream",
     "text": [
      "No Skill: ROC AUC=0.500\n",
      "ROC AUC=0.840\n"
     ]
    },
    {
     "data": {
      "image/png": "[encoded data removed]",
      "text/plain": [
       "<Figure size 432x288 with 1 Axes>"
      ]
     },
     "metadata": {
      "needs_background": "light"
     },
     "output_type": "display_data"
    }
   ],
   "source": [
    "prediction_breast_morgan2_SVM_probs = best_model_SVM_Breast_Morgan2.predict_proba(X_Morgan2_test_breast)\n",
    "roc_auc_breast_morgan2=roc_auc(y_Morgan2_test_breast,prediction_breast_morgan2_SVM_probs,'SVM')\n",
    "svm_test_breast_morgan2.update(roc_auc_breast_morgan2)"
   ]
  },
  {
   "cell_type": "markdown",
   "id": "ruled-protest",
   "metadata": {},
   "source": [
    "--------------------------------------------------------------------------------------------------------------------"
   ]
  },
  {
   "cell_type": "markdown",
   "id": "floral-spotlight",
   "metadata": {},
   "source": [
    "### For Lung:"
   ]
  },
  {
   "cell_type": "code",
   "execution_count": 72,
   "id": "capital-weekly",
   "metadata": {},
   "outputs": [
    {
     "name": "stdout",
     "output_type": "stream",
     "text": [
      "********************************** Wait *****************************************************\n",
      "\n",
      "Fitting 5 folds for each of 1000 candidates, totalling 5000 fits\n",
      "\n",
      "******************************** Done ******************************************************\n",
      "CPU times: user 2min 6s, sys: 21.6 s, total: 2min 28s\n",
      "Wall time: 25min 40s\n"
     ]
    }
   ],
   "source": [
    "%%time\n",
    "print('********************************** Wait *****************************************************\\n')\n",
    "grid_search_svm_lung_morgan2 = GridSearchCV(estimator = SVM, param_grid = param_grid_svm, cv = 5, n_jobs = -1, verbose = 2,scoring='recall')\n",
    "grid_search_svm_lung_morgan2.fit(X_Morgan2_train_lung, y_Morgan2_train_lung)\n",
    "print('\\n******************************** Done ******************************************************')\n",
    "Lung_Morgan2_SVM=pd.DataFrame(grid_search_svm_lung_morgan2.cv_results_)"
   ]
  },
  {
   "cell_type": "code",
   "execution_count": 73,
   "id": "human-material",
   "metadata": {},
   "outputs": [],
   "source": [
    "#Lung_Morgan2_SVM.to_csv('Lung_Morgan2_SVM_auc.csv',index=False)"
   ]
  },
  {
   "cell_type": "code",
   "execution_count": 74,
   "id": "brutal-slope",
   "metadata": {},
   "outputs": [
    {
     "name": "stdout",
     "output_type": "stream",
     "text": [
      "  Best Parameter are:\n",
      " SVC(C=10, gamma=0.012, probability=True, random_state=1)\n"
     ]
    }
   ],
   "source": [
    "print('  Best Parameter are:\\n',grid_search_svm_lung_morgan2.best_estimator_)"
   ]
  },
  {
   "cell_type": "code",
   "execution_count": 75,
   "id": "broad-performer",
   "metadata": {},
   "outputs": [],
   "source": [
    "best_model_SVM_Lung_Morgan2 = grid_search_svm_lung_morgan2.best_estimator_\n",
    "#best_model_SVM_Lung_Morgan2=svm.SVC(C=4, gamma=0.099, random_state=1,probability=True)"
   ]
  },
  {
   "cell_type": "code",
   "execution_count": 76,
   "id": "disturbed-multiple",
   "metadata": {},
   "outputs": [
    {
     "name": "stdout",
     "output_type": "stream",
     "text": [
      "Accuracy: 0.729 \n",
      "Balanced_accuracy: 0.728 \n",
      "AUC_Score: 0.778 \n",
      "Specificity: 0.747 \n",
      "Sensitivity: 0.71 \n",
      "MCC: 0.461\n"
     ]
    }
   ],
   "source": [
    "SVM_lung_morgan2_cv,SVM_lung_morgan2_mean=cv_result(best_model_SVM_Lung_Morgan2,X_Morgan2_train_lung,y_Morgan2_train_lung)"
   ]
  },
  {
   "cell_type": "code",
   "execution_count": 77,
   "id": "drawn-variety",
   "metadata": {},
   "outputs": [
    {
     "data": {
      "text/html": [
       "<div>\n",
       "<style scoped>\n",
       "    .dataframe tbody tr th:only-of-type {\n",
       "        vertical-align: middle;\n",
       "    }\n",
       "\n",
       "    .dataframe tbody tr th {\n",
       "        vertical-align: top;\n",
       "    }\n",
       "\n",
       "    .dataframe thead th {\n",
       "        text-align: right;\n",
       "    }\n",
       "</style>\n",
       "<table border=\"1\" class=\"dataframe\">\n",
       "  <thead>\n",
       "    <tr style=\"text-align: right;\">\n",
       "      <th></th>\n",
       "      <th>fit_time</th>\n",
       "      <th>score_time</th>\n",
       "      <th>test_accuracy</th>\n",
       "      <th>test_balanced_accuracy</th>\n",
       "      <th>test_roc_auc</th>\n",
       "      <th>test_specificity</th>\n",
       "      <th>test_sensitivity</th>\n",
       "      <th>test_MCC</th>\n",
       "    </tr>\n",
       "  </thead>\n",
       "  <tbody>\n",
       "    <tr>\n",
       "      <th>0</th>\n",
       "      <td>0.246195</td>\n",
       "      <td>0.036530</td>\n",
       "      <td>0.705263</td>\n",
       "      <td>0.708889</td>\n",
       "      <td>0.772889</td>\n",
       "      <td>0.640000</td>\n",
       "      <td>0.777778</td>\n",
       "      <td>0.420024</td>\n",
       "    </tr>\n",
       "    <tr>\n",
       "      <th>1</th>\n",
       "      <td>0.233626</td>\n",
       "      <td>0.039535</td>\n",
       "      <td>0.778947</td>\n",
       "      <td>0.773333</td>\n",
       "      <td>0.829333</td>\n",
       "      <td>0.880000</td>\n",
       "      <td>0.666667</td>\n",
       "      <td>0.562648</td>\n",
       "    </tr>\n",
       "    <tr>\n",
       "      <th>2</th>\n",
       "      <td>0.229631</td>\n",
       "      <td>0.037998</td>\n",
       "      <td>0.694737</td>\n",
       "      <td>0.693333</td>\n",
       "      <td>0.726222</td>\n",
       "      <td>0.720000</td>\n",
       "      <td>0.666667</td>\n",
       "      <td>0.387183</td>\n",
       "    </tr>\n",
       "    <tr>\n",
       "      <th>3</th>\n",
       "      <td>0.228282</td>\n",
       "      <td>0.037177</td>\n",
       "      <td>0.734043</td>\n",
       "      <td>0.734014</td>\n",
       "      <td>0.771882</td>\n",
       "      <td>0.734694</td>\n",
       "      <td>0.733333</td>\n",
       "      <td>0.467709</td>\n",
       "    </tr>\n",
       "    <tr>\n",
       "      <th>4</th>\n",
       "      <td>0.230910</td>\n",
       "      <td>0.036707</td>\n",
       "      <td>0.734043</td>\n",
       "      <td>0.732273</td>\n",
       "      <td>0.788182</td>\n",
       "      <td>0.760000</td>\n",
       "      <td>0.704545</td>\n",
       "      <td>0.465286</td>\n",
       "    </tr>\n",
       "  </tbody>\n",
       "</table>\n",
       "</div>"
      ],
      "text/plain": [
       "   fit_time  score_time  test_accuracy  test_balanced_accuracy  test_roc_auc  \\\n",
       "0  0.246195    0.036530       0.705263                0.708889      0.772889   \n",
       "1  0.233626    0.039535       0.778947                0.773333      0.829333   \n",
       "2  0.229631    0.037998       0.694737                0.693333      0.726222   \n",
       "3  0.228282    0.037177       0.734043                0.734014      0.771882   \n",
       "4  0.230910    0.036707       0.734043                0.732273      0.788182   \n",
       "\n",
       "   test_specificity  test_sensitivity  test_MCC  \n",
       "0          0.640000          0.777778  0.420024  \n",
       "1          0.880000          0.666667  0.562648  \n",
       "2          0.720000          0.666667  0.387183  \n",
       "3          0.734694          0.733333  0.467709  \n",
       "4          0.760000          0.704545  0.465286  "
      ]
     },
     "execution_count": 77,
     "metadata": {},
     "output_type": "execute_result"
    }
   ],
   "source": [
    "SVM_lung_morgan2_cv"
   ]
  },
  {
   "cell_type": "markdown",
   "id": "female-filter",
   "metadata": {},
   "source": [
    "#### Test set for Lung:"
   ]
  },
  {
   "cell_type": "code",
   "execution_count": 78,
   "id": "lesser-breach",
   "metadata": {},
   "outputs": [
    {
     "name": "stdout",
     "output_type": "stream",
     "text": [
      "Accuracy Score: 0.765\n",
      "Balanced Accuracy: 0.763\n",
      "MCC Score: 0.527\n",
      "Sensitivity Score: 0.732\n",
      "Specificity Score: 0.794\n",
      "\n",
      "********************** Graph *****************************\n",
      "\n"
     ]
    },
    {
     "data": {
      "image/png": "[encoded data removed]",
      "text/plain": [
       "<Figure size 360x360 with 2 Axes>"
      ]
     },
     "metadata": {
      "needs_background": "light"
     },
     "output_type": "display_data"
    }
   ],
   "source": [
    "best_model_SVM_Lung_Morgan2.fit(X_Morgan2_train_lung, y_Morgan2_train_lung)\n",
    "prediction_lung_morgan2_SVM=best_model_SVM_Lung_Morgan2.predict(X_Morgan2_test_lung)\n",
    "svm_test_lung_morgan2 = permonce_measure(y_Morgan2_test_lung,prediction_lung_morgan2_SVM)"
   ]
  },
  {
   "cell_type": "code",
   "execution_count": 79,
   "id": "massive-westminster",
   "metadata": {},
   "outputs": [
    {
     "name": "stdout",
     "output_type": "stream",
     "text": [
      "No Skill: ROC AUC=0.500\n",
      "ROC AUC=0.819\n"
     ]
    },
    {
     "data": {
      "image/png": "[encoded data removed]",
      "text/plain": [
       "<Figure size 432x288 with 1 Axes>"
      ]
     },
     "metadata": {
      "needs_background": "light"
     },
     "output_type": "display_data"
    }
   ],
   "source": [
    "prediction_lung_morgan2_SVM_probs = best_model_SVM_Lung_Morgan2.predict_proba(X_Morgan2_test_lung)\n",
    "roc_auc_lung_morgan2=roc_auc(y_Morgan2_test_lung,prediction_lung_morgan2_SVM_probs,'SVM')\n",
    "svm_test_lung_morgan2.update(roc_auc_lung_morgan2)"
   ]
  },
  {
   "cell_type": "markdown",
   "id": "temporal-ballet",
   "metadata": {},
   "source": [
    "---------------------------------------------------------------------------------------------------------------------"
   ]
  },
  {
   "cell_type": "markdown",
   "id": "limited-aaron",
   "metadata": {},
   "source": [
    "### For A549:"
   ]
  },
  {
   "cell_type": "code",
   "execution_count": 80,
   "id": "closing-column",
   "metadata": {},
   "outputs": [
    {
     "name": "stdout",
     "output_type": "stream",
     "text": [
      "********************************** Wait *****************************************************\n",
      "\n",
      "Fitting 5 folds for each of 1000 candidates, totalling 5000 fits\n",
      "\n",
      "******************************** Done ******************************************************\n",
      "CPU times: user 1min 18s, sys: 1.87 s, total: 1min 20s\n",
      "Wall time: 9min 17s\n"
     ]
    }
   ],
   "source": [
    "%%time\n",
    "print('********************************** Wait *****************************************************\\n')\n",
    "grid_search_svm_a549_morgan2 = GridSearchCV(estimator = SVM, param_grid = param_grid_svm, cv = 5, n_jobs = -1, verbose = 2,scoring='recall')\n",
    "grid_search_svm_a549_morgan2.fit(X_Morgan2_train_a549, y_Morgan2_train_a549)\n",
    "print('\\n******************************** Done ******************************************************')\n",
    "A549_Morgan2_SVM=pd.DataFrame(grid_search_svm_a549_morgan2.cv_results_)"
   ]
  },
  {
   "cell_type": "code",
   "execution_count": 81,
   "id": "uniform-feature",
   "metadata": {},
   "outputs": [],
   "source": [
    "#A549_Morgan2_SVM.to_csv('A549_Morgan2_SVM_auc.csv',index=False)"
   ]
  },
  {
   "cell_type": "code",
   "execution_count": 82,
   "id": "removable-dayton",
   "metadata": {},
   "outputs": [
    {
     "name": "stdout",
     "output_type": "stream",
     "text": [
      "  Best Parameter are:\n",
      " SVC(C=5, gamma=0.013000000000000001, probability=True, random_state=1)\n"
     ]
    }
   ],
   "source": [
    "print('  Best Parameter are:\\n',grid_search_svm_a549_morgan2.best_estimator_)"
   ]
  },
  {
   "cell_type": "code",
   "execution_count": 83,
   "id": "cathedral-rainbow",
   "metadata": {},
   "outputs": [],
   "source": [
    "best_model_SVM_A549_Morgan2 = grid_search_svm_a549_morgan2.best_estimator_\n",
    "#best_model_SVM_A549_Morgan2 = svm.SVC(C=4, gamma=0.025, random_state=1,probability=True)"
   ]
  },
  {
   "cell_type": "code",
   "execution_count": 84,
   "id": "obvious-record",
   "metadata": {},
   "outputs": [
    {
     "name": "stdout",
     "output_type": "stream",
     "text": [
      "Accuracy: 0.763 \n",
      "Balanced_accuracy: 0.761 \n",
      "AUC_Score: 0.839 \n",
      "Specificity: 0.816 \n",
      "Sensitivity: 0.707 \n",
      "MCC: 0.533\n"
     ]
    }
   ],
   "source": [
    "SVM_a549_morgan2_cv,SVM_a549_morgan2_mean=cv_result(best_model_SVM_A549_Morgan2,X_Morgan2_train_a549,y_Morgan2_train_a549)"
   ]
  },
  {
   "cell_type": "code",
   "execution_count": 85,
   "id": "regulated-scratch",
   "metadata": {},
   "outputs": [
    {
     "data": {
      "text/html": [
       "<div>\n",
       "<style scoped>\n",
       "    .dataframe tbody tr th:only-of-type {\n",
       "        vertical-align: middle;\n",
       "    }\n",
       "\n",
       "    .dataframe tbody tr th {\n",
       "        vertical-align: top;\n",
       "    }\n",
       "\n",
       "    .dataframe thead th {\n",
       "        text-align: right;\n",
       "    }\n",
       "</style>\n",
       "<table border=\"1\" class=\"dataframe\">\n",
       "  <thead>\n",
       "    <tr style=\"text-align: right;\">\n",
       "      <th></th>\n",
       "      <th>fit_time</th>\n",
       "      <th>score_time</th>\n",
       "      <th>test_accuracy</th>\n",
       "      <th>test_balanced_accuracy</th>\n",
       "      <th>test_roc_auc</th>\n",
       "      <th>test_specificity</th>\n",
       "      <th>test_sensitivity</th>\n",
       "      <th>test_MCC</th>\n",
       "    </tr>\n",
       "  </thead>\n",
       "  <tbody>\n",
       "    <tr>\n",
       "      <th>0</th>\n",
       "      <td>0.128057</td>\n",
       "      <td>0.030188</td>\n",
       "      <td>0.783333</td>\n",
       "      <td>0.781250</td>\n",
       "      <td>0.858259</td>\n",
       "      <td>0.812500</td>\n",
       "      <td>0.750000</td>\n",
       "      <td>0.564076</td>\n",
       "    </tr>\n",
       "    <tr>\n",
       "      <th>1</th>\n",
       "      <td>0.113087</td>\n",
       "      <td>0.024116</td>\n",
       "      <td>0.766667</td>\n",
       "      <td>0.765625</td>\n",
       "      <td>0.822545</td>\n",
       "      <td>0.781250</td>\n",
       "      <td>0.750000</td>\n",
       "      <td>0.531250</td>\n",
       "    </tr>\n",
       "    <tr>\n",
       "      <th>2</th>\n",
       "      <td>0.098601</td>\n",
       "      <td>0.020730</td>\n",
       "      <td>0.683333</td>\n",
       "      <td>0.684650</td>\n",
       "      <td>0.810901</td>\n",
       "      <td>0.645161</td>\n",
       "      <td>0.724138</td>\n",
       "      <td>0.369917</td>\n",
       "    </tr>\n",
       "    <tr>\n",
       "      <th>3</th>\n",
       "      <td>0.092792</td>\n",
       "      <td>0.018942</td>\n",
       "      <td>0.750000</td>\n",
       "      <td>0.745829</td>\n",
       "      <td>0.805339</td>\n",
       "      <td>0.870968</td>\n",
       "      <td>0.620690</td>\n",
       "      <td>0.509846</td>\n",
       "    </tr>\n",
       "    <tr>\n",
       "      <th>4</th>\n",
       "      <td>0.095960</td>\n",
       "      <td>0.020571</td>\n",
       "      <td>0.833333</td>\n",
       "      <td>0.828699</td>\n",
       "      <td>0.898776</td>\n",
       "      <td>0.967742</td>\n",
       "      <td>0.689655</td>\n",
       "      <td>0.688756</td>\n",
       "    </tr>\n",
       "  </tbody>\n",
       "</table>\n",
       "</div>"
      ],
      "text/plain": [
       "   fit_time  score_time  test_accuracy  test_balanced_accuracy  test_roc_auc  \\\n",
       "0  0.128057    0.030188       0.783333                0.781250      0.858259   \n",
       "1  0.113087    0.024116       0.766667                0.765625      0.822545   \n",
       "2  0.098601    0.020730       0.683333                0.684650      0.810901   \n",
       "3  0.092792    0.018942       0.750000                0.745829      0.805339   \n",
       "4  0.095960    0.020571       0.833333                0.828699      0.898776   \n",
       "\n",
       "   test_specificity  test_sensitivity  test_MCC  \n",
       "0          0.812500          0.750000  0.564076  \n",
       "1          0.781250          0.750000  0.531250  \n",
       "2          0.645161          0.724138  0.369917  \n",
       "3          0.870968          0.620690  0.509846  \n",
       "4          0.967742          0.689655  0.688756  "
      ]
     },
     "execution_count": 85,
     "metadata": {},
     "output_type": "execute_result"
    }
   ],
   "source": [
    "SVM_a549_morgan2_cv"
   ]
  },
  {
   "cell_type": "markdown",
   "id": "loved-inspection",
   "metadata": {},
   "source": [
    "#### Test set for A549:"
   ]
  },
  {
   "cell_type": "code",
   "execution_count": 86,
   "id": "endless-stomach",
   "metadata": {},
   "outputs": [
    {
     "name": "stdout",
     "output_type": "stream",
     "text": [
      "Accuracy Score: 0.72\n",
      "Balanced Accuracy: 0.723\n",
      "MCC Score: 0.451\n",
      "Sensitivity Score: 0.806\n",
      "Specificity Score: 0.641\n",
      "\n",
      "********************** Graph *****************************\n",
      "\n"
     ]
    },
    {
     "data": {
      "image/png": "[encoded data removed]",
      "text/plain": [
       "<Figure size 360x360 with 2 Axes>"
      ]
     },
     "metadata": {
      "needs_background": "light"
     },
     "output_type": "display_data"
    }
   ],
   "source": [
    "best_model_SVM_A549_Morgan2.fit(X_Morgan2_train_a549, y_Morgan2_train_a549)\n",
    "prediction_a549_morgan2_SVM=best_model_SVM_A549_Morgan2.predict(X_Morgan2_test_a549)\n",
    "svm_test_a549_morgan2 = permonce_measure(y_Morgan2_test_a549,prediction_a549_morgan2_SVM)"
   ]
  },
  {
   "cell_type": "code",
   "execution_count": 87,
   "id": "british-homework",
   "metadata": {},
   "outputs": [
    {
     "name": "stdout",
     "output_type": "stream",
     "text": [
      "No Skill: ROC AUC=0.500\n",
      "ROC AUC=0.788\n"
     ]
    },
    {
     "data": {
      "image/png": "[encoded data removed]",
      "text/plain": [
       "<Figure size 432x288 with 1 Axes>"
      ]
     },
     "metadata": {
      "needs_background": "light"
     },
     "output_type": "display_data"
    }
   ],
   "source": [
    "prediction_a549_morgan2_SVM_probs = best_model_SVM_A549_Morgan2.predict_proba(X_Morgan2_test_a549)\n",
    "roc_auc_a549_morgan2=roc_auc(y_Morgan2_test_a549,prediction_a549_morgan2_SVM_probs,'SVM')\n",
    "svm_test_a549_morgan2.update(roc_auc_a549_morgan2)"
   ]
  },
  {
   "cell_type": "markdown",
   "id": "protective-blake",
   "metadata": {},
   "source": [
    "## EnD!"
   ]
  },
  {
   "cell_type": "code",
   "execution_count": 88,
   "id": "posted-transparency",
   "metadata": {},
   "outputs": [
    {
     "data": {
      "text/html": [
       "<div>\n",
       "<style scoped>\n",
       "    .dataframe tbody tr th:only-of-type {\n",
       "        vertical-align: middle;\n",
       "    }\n",
       "\n",
       "    .dataframe tbody tr th {\n",
       "        vertical-align: top;\n",
       "    }\n",
       "\n",
       "    .dataframe thead th {\n",
       "        text-align: right;\n",
       "    }\n",
       "</style>\n",
       "<table border=\"1\" class=\"dataframe\">\n",
       "  <thead>\n",
       "    <tr style=\"text-align: right;\">\n",
       "      <th></th>\n",
       "      <th>Model</th>\n",
       "      <th>C</th>\n",
       "      <th>gamma</th>\n",
       "      <th>kernel</th>\n",
       "      <th>Accuracy</th>\n",
       "      <th>Balanced Accuracy</th>\n",
       "      <th>AUC_Score</th>\n",
       "      <th>Specificity</th>\n",
       "      <th>Sensitivity</th>\n",
       "      <th>MCC</th>\n",
       "      <th>Accuracy_test</th>\n",
       "      <th>Balanced Accuracy_test</th>\n",
       "      <th>MCC Score_test</th>\n",
       "      <th>Sensitivity Score_test</th>\n",
       "      <th>Specificity Score_test</th>\n",
       "      <th>AUC_Score_test</th>\n",
       "    </tr>\n",
       "  </thead>\n",
       "  <tbody>\n",
       "    <tr>\n",
       "      <th>0</th>\n",
       "      <td>SVM_MCF7_MACCS</td>\n",
       "      <td>6</td>\n",
       "      <td>0.097</td>\n",
       "      <td>rbf</td>\n",
       "      <td>0.799</td>\n",
       "      <td>0.797</td>\n",
       "      <td>0.873</td>\n",
       "      <td>0.808</td>\n",
       "      <td>0.786</td>\n",
       "      <td>0.598</td>\n",
       "      <td>0.780</td>\n",
       "      <td>0.774</td>\n",
       "      <td>0.552</td>\n",
       "      <td>0.725</td>\n",
       "      <td>0.824</td>\n",
       "      <td>0.839</td>\n",
       "    </tr>\n",
       "    <tr>\n",
       "      <th>1</th>\n",
       "      <td>SVM_Breast_MACCS</td>\n",
       "      <td>5</td>\n",
       "      <td>0.056</td>\n",
       "      <td>rbf</td>\n",
       "      <td>0.749</td>\n",
       "      <td>0.746</td>\n",
       "      <td>0.817</td>\n",
       "      <td>0.775</td>\n",
       "      <td>0.716</td>\n",
       "      <td>0.495</td>\n",
       "      <td>0.806</td>\n",
       "      <td>0.803</td>\n",
       "      <td>0.607</td>\n",
       "      <td>0.776</td>\n",
       "      <td>0.831</td>\n",
       "      <td>0.842</td>\n",
       "    </tr>\n",
       "    <tr>\n",
       "      <th>2</th>\n",
       "      <td>SVM_Lung_MACCS</td>\n",
       "      <td>8</td>\n",
       "      <td>0.078</td>\n",
       "      <td>rbf</td>\n",
       "      <td>0.695</td>\n",
       "      <td>0.693</td>\n",
       "      <td>0.749</td>\n",
       "      <td>0.739</td>\n",
       "      <td>0.647</td>\n",
       "      <td>0.392</td>\n",
       "      <td>0.697</td>\n",
       "      <td>0.690</td>\n",
       "      <td>0.394</td>\n",
       "      <td>0.571</td>\n",
       "      <td>0.810</td>\n",
       "      <td>0.767</td>\n",
       "    </tr>\n",
       "    <tr>\n",
       "      <th>3</th>\n",
       "      <td>SVM_A549_MACCS</td>\n",
       "      <td>7</td>\n",
       "      <td>0.081</td>\n",
       "      <td>rbf</td>\n",
       "      <td>0.727</td>\n",
       "      <td>0.725</td>\n",
       "      <td>0.789</td>\n",
       "      <td>0.765</td>\n",
       "      <td>0.686</td>\n",
       "      <td>0.453</td>\n",
       "      <td>0.693</td>\n",
       "      <td>0.697</td>\n",
       "      <td>0.397</td>\n",
       "      <td>0.778</td>\n",
       "      <td>0.615</td>\n",
       "      <td>0.762</td>\n",
       "    </tr>\n",
       "    <tr>\n",
       "      <th>4</th>\n",
       "      <td>SVM_MCF7_MORGAN2</td>\n",
       "      <td>8</td>\n",
       "      <td>0.010</td>\n",
       "      <td>rbf</td>\n",
       "      <td>0.818</td>\n",
       "      <td>0.813</td>\n",
       "      <td>0.873</td>\n",
       "      <td>0.858</td>\n",
       "      <td>0.768</td>\n",
       "      <td>0.630</td>\n",
       "      <td>0.780</td>\n",
       "      <td>0.772</td>\n",
       "      <td>0.551</td>\n",
       "      <td>0.700</td>\n",
       "      <td>0.843</td>\n",
       "      <td>0.836</td>\n",
       "    </tr>\n",
       "    <tr>\n",
       "      <th>5</th>\n",
       "      <td>SVM_Breast_MORGAN2</td>\n",
       "      <td>6</td>\n",
       "      <td>0.008</td>\n",
       "      <td>rbf</td>\n",
       "      <td>0.786</td>\n",
       "      <td>0.781</td>\n",
       "      <td>0.849</td>\n",
       "      <td>0.826</td>\n",
       "      <td>0.736</td>\n",
       "      <td>0.572</td>\n",
       "      <td>0.741</td>\n",
       "      <td>0.737</td>\n",
       "      <td>0.476</td>\n",
       "      <td>0.694</td>\n",
       "      <td>0.780</td>\n",
       "      <td>0.840</td>\n",
       "    </tr>\n",
       "    <tr>\n",
       "      <th>6</th>\n",
       "      <td>SVM_Lung_MORGAN2</td>\n",
       "      <td>10</td>\n",
       "      <td>0.012</td>\n",
       "      <td>rbf</td>\n",
       "      <td>0.729</td>\n",
       "      <td>0.728</td>\n",
       "      <td>0.778</td>\n",
       "      <td>0.747</td>\n",
       "      <td>0.710</td>\n",
       "      <td>0.461</td>\n",
       "      <td>0.765</td>\n",
       "      <td>0.763</td>\n",
       "      <td>0.527</td>\n",
       "      <td>0.732</td>\n",
       "      <td>0.794</td>\n",
       "      <td>0.819</td>\n",
       "    </tr>\n",
       "    <tr>\n",
       "      <th>7</th>\n",
       "      <td>SVM_A549_MORGAN2</td>\n",
       "      <td>5</td>\n",
       "      <td>0.013</td>\n",
       "      <td>rbf</td>\n",
       "      <td>0.763</td>\n",
       "      <td>0.761</td>\n",
       "      <td>0.839</td>\n",
       "      <td>0.816</td>\n",
       "      <td>0.707</td>\n",
       "      <td>0.533</td>\n",
       "      <td>0.720</td>\n",
       "      <td>0.723</td>\n",
       "      <td>0.451</td>\n",
       "      <td>0.806</td>\n",
       "      <td>0.641</td>\n",
       "      <td>0.788</td>\n",
       "    </tr>\n",
       "  </tbody>\n",
       "</table>\n",
       "</div>"
      ],
      "text/plain": [
       "                Model   C  gamma kernel  Accuracy  Balanced Accuracy  \\\n",
       "0      SVM_MCF7_MACCS   6  0.097    rbf     0.799              0.797   \n",
       "1    SVM_Breast_MACCS   5  0.056    rbf     0.749              0.746   \n",
       "2      SVM_Lung_MACCS   8  0.078    rbf     0.695              0.693   \n",
       "3      SVM_A549_MACCS   7  0.081    rbf     0.727              0.725   \n",
       "4    SVM_MCF7_MORGAN2   8  0.010    rbf     0.818              0.813   \n",
       "5  SVM_Breast_MORGAN2   6  0.008    rbf     0.786              0.781   \n",
       "6    SVM_Lung_MORGAN2  10  0.012    rbf     0.729              0.728   \n",
       "7    SVM_A549_MORGAN2   5  0.013    rbf     0.763              0.761   \n",
       "\n",
       "   AUC_Score  Specificity  Sensitivity    MCC  Accuracy_test  \\\n",
       "0      0.873        0.808        0.786  0.598          0.780   \n",
       "1      0.817        0.775        0.716  0.495          0.806   \n",
       "2      0.749        0.739        0.647  0.392          0.697   \n",
       "3      0.789        0.765        0.686  0.453          0.693   \n",
       "4      0.873        0.858        0.768  0.630          0.780   \n",
       "5      0.849        0.826        0.736  0.572          0.741   \n",
       "6      0.778        0.747        0.710  0.461          0.765   \n",
       "7      0.839        0.816        0.707  0.533          0.720   \n",
       "\n",
       "   Balanced Accuracy_test  MCC Score_test  Sensitivity Score_test  \\\n",
       "0                   0.774           0.552                   0.725   \n",
       "1                   0.803           0.607                   0.776   \n",
       "2                   0.690           0.394                   0.571   \n",
       "3                   0.697           0.397                   0.778   \n",
       "4                   0.772           0.551                   0.700   \n",
       "5                   0.737           0.476                   0.694   \n",
       "6                   0.763           0.527                   0.732   \n",
       "7                   0.723           0.451                   0.806   \n",
       "\n",
       "   Specificity Score_test  AUC_Score_test  \n",
       "0                   0.824           0.839  \n",
       "1                   0.831           0.842  \n",
       "2                   0.810           0.767  \n",
       "3                   0.615           0.762  \n",
       "4                   0.843           0.836  \n",
       "5                   0.780           0.840  \n",
       "6                   0.794           0.819  \n",
       "7                   0.641           0.788  "
      ]
     },
     "execution_count": 88,
     "metadata": {},
     "output_type": "execute_result"
    }
   ],
   "source": [
    "Model = pd.DataFrame({'Model':['SVM_MCF7_MACCS','SVM_Breast_MACCS','SVM_Lung_MACCS','SVM_A549_MACCS','SVM_MCF7_MORGAN2','SVM_Breast_MORGAN2','SVM_Lung_MORGAN2','SVM_A549_MORGAN2']})\n",
    "parameters=pd.DataFrame([grid_search_svm_mcf7_maccs.best_params_,grid_search_svm_breast_maccs.best_params_,grid_search_svm_lung_maccs.best_params_,grid_search_svm_a549_maccs.best_params_,grid_search_svm_mcf7_morgan2.best_params_,grid_search_svm_breast_morgan2.best_params_,grid_search_svm_lung_morgan2.best_params_,grid_search_svm_a549_morgan2.best_params_])\n",
    "cv_set=pd.DataFrame([SVM_mcf7_maccs_mean,SVM_breast_maccs_mean,SVM_lung_maccs_mean,SVM_a549_maccs_mean,SVM_mcf7_morgan2_mean,SVM_breast_morgan2_mean,SVM_lung_morgan2_mean,SVM_a549_morgan2_mean])\n",
    "test_set=pd.DataFrame([svm_test_mcf7_maccs,svm_test_breast_maccs,svm_test_lung_maccs,svm_test_a549_maccs,svm_test_mcf7_morgan2,svm_test_breast_morgan2,svm_test_lung_morgan2,svm_test_a549_morgan2])\n",
    "final_result=pd.concat([Model,parameters,cv_set,test_set],axis=1)\n",
    "final_result"
   ]
  },
  {
   "cell_type": "code",
   "execution_count": null,
   "id": "renewable-sight",
   "metadata": {},
   "outputs": [],
   "source": []
  }
 ],
 "metadata": {
  "kernelspec": {
   "display_name": "Python 3",
   "language": "python",
   "name": "python3"
  },
  "language_info": {
   "codemirror_mode": {
    "name": "ipython",
    "version": 3
   },
   "file_extension": ".py",
   "mimetype": "text/x-python",
   "name": "python",
   "nbconvert_exporter": "python",
   "pygments_lexer": "ipython3",
   "version": "3.7.10"
  }
 },
 "nbformat": 4,
 "nbformat_minor": 5
}
