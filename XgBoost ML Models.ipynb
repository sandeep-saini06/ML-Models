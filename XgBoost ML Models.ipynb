{
 "cells": [
  {
   "cell_type": "code",
   "execution_count": 3,
   "id": "1d3b2b42",
   "metadata": {},
   "outputs": [],
   "source": [
    "# general and data handling\n",
    "import numpy as np\n",
    "import pandas as pd\n",
    "import os\n",
    "from collections import Counter\n",
    "\n",
    "# Required RDKit modules\n",
    "import rdkit as rd\n",
    "from rdkit.Chem.Fingerprints import FingerprintMols\n",
    "from rdkit import RDConfig\n",
    "from rdkit.Chem import PandasTools\n",
    "from rdkit import Chem\n",
    "from rdkit.Chem.Draw import IPythonConsole\n",
    "from rdkit.Chem import rdFingerprintGenerator\n",
    "from rdkit import DataStructs\n",
    "from rdkit.Chem import AllChem as Chem\n",
    "from rdkit.Chem.rdMolDescriptors import GetAtomPairFingerprint\n",
    "from rdkit.Chem.AtomPairs import Torsions\n",
    "from rdkit.Chem import AllChem\n",
    "from rdkit.Chem import MACCSkeys\n",
    "\n",
    "# modeling\n",
    "import sklearn as sk\n",
    "from sklearn import metrics\n",
    "from sklearn.model_selection import cross_val_score\n",
    "from sklearn.model_selection import train_test_split\n",
    "from sklearn.model_selection import validation_curve\n",
    "from sklearn.linear_model import LogisticRegression\n",
    "from sklearn.linear_model import LogisticRegressionCV\n",
    "from sklearn.decomposition import PCA\n",
    "#from imblearn.over_sampling import ADASYN\n",
    "from sklearn.metrics import classification_report\n",
    "from sklearn.neighbors import KNeighborsClassifier\n",
    "from sklearn.model_selection import GridSearchCV\n",
    "from sklearn.ensemble import GradientBoostingClassifier\n",
    "from sklearn.ensemble import RandomForestRegressor\n",
    "from sklearn.metrics import roc_curve\n",
    "from sklearn.metrics import roc_auc_score\n",
    "# Graphing\n",
    "import matplotlib.pyplot as plt\n",
    "import seaborn as sns"
   ]
  },
  {
   "cell_type": "code",
   "execution_count": 4,
   "id": "b2116e1a",
   "metadata": {},
   "outputs": [],
   "source": [
    "#Import File:\n",
    "mcf7 = pd.read_csv('V1/mcf7_V1.csv')\n",
    "breast = pd.read_csv('V1/breast_V1.csv')\n",
    "lung = pd.read_csv('V1/lung_V1.csv')\n",
    "a549 = pd.read_csv('V1/a549_V1.csv')"
   ]
  },
  {
   "cell_type": "code",
   "execution_count": 5,
   "id": "fifteen-increase",
   "metadata": {},
   "outputs": [
    {
     "name": "stdout",
     "output_type": "stream",
     "text": [
      "MCF7 : 454\n",
      "Breast : 538\n",
      "Lung : 592\n",
      "A549 : 375\n"
     ]
    }
   ],
   "source": [
    "print('MCF7 :',len(mcf7))\n",
    "print('Breast :',len(breast))\n",
    "print('Lung :',len(lung))\n",
    "print('A549 :',len(a549))"
   ]
  },
  {
   "cell_type": "code",
   "execution_count": 6,
   "id": "severe-newsletter",
   "metadata": {},
   "outputs": [],
   "source": [
    "mcf7[\"mol\"] = [Chem.MolFromSmiles(x) for x in mcf7[\"CanonicalSMILES\"]]\n",
    "breast[\"mol\"] = [Chem.MolFromSmiles(x) for x in breast[\"CanonicalSMILES\"]]\n",
    "lung[\"mol\"] = [Chem.MolFromSmiles(x) for x in lung[\"CanonicalSMILES\"]]\n",
    "a549[\"mol\"] = [Chem.MolFromSmiles(x) for x in a549[\"CanonicalSMILES\"]]"
   ]
  },
  {
   "cell_type": "code",
   "execution_count": 7,
   "id": "creative-description",
   "metadata": {},
   "outputs": [
    {
     "name": "stdout",
     "output_type": "stream",
     "text": [
      "MCF7 SMiles: 454\n",
      "Breast Smiles: 538\n",
      "lung Smiles: 592\n",
      "A549 Smiles: 375\n"
     ]
    }
   ],
   "source": [
    "print('MCF7 SMiles:',mcf7['CanonicalSMILES'].count())\n",
    "print('Breast Smiles:',breast['CanonicalSMILES'].count())\n",
    "print('lung Smiles:',lung['CanonicalSMILES'].count())\n",
    "print('A549 Smiles:',a549['CanonicalSMILES'].count())"
   ]
  },
  {
   "cell_type": "code",
   "execution_count": 8,
   "id": "accompanied-continuity",
   "metadata": {},
   "outputs": [],
   "source": [
    "# Maccs Fingerprint:\n",
    "mcf7[\"Maccs\"] = [MACCSkeys.GenMACCSKeys(x) for x in mcf7[\"mol\"]]\n",
    "breast[\"Maccs\"] = [MACCSkeys.GenMACCSKeys(x) for x in breast[\"mol\"]]\n",
    "lung[\"Maccs\"] = [MACCSkeys.GenMACCSKeys(x) for x in lung[\"mol\"]]\n",
    "a549[\"Maccs\"] = [MACCSkeys.GenMACCSKeys(x) for x in a549[\"mol\"]]"
   ]
  },
  {
   "cell_type": "code",
   "execution_count": 9,
   "id": "architectural-maria",
   "metadata": {},
   "outputs": [],
   "source": [
    "# Morgan 2 Fingerprint:\n",
    "mcf7[\"morg2_fp\"] = [Chem.GetMorganFingerprintAsBitVect(m, 2, nBits = 1024) for m in mcf7[\"mol\"]]\n",
    "breast[\"morg2_fp\"] = [Chem.GetMorganFingerprintAsBitVect(m, 2, nBits = 1024) for m in breast[\"mol\"]]\n",
    "lung[\"morg2_fp\"] = [Chem.GetMorganFingerprintAsBitVect(m, 2, nBits = 1024) for m in lung[\"mol\"]]\n",
    "a549[\"morg2_fp\"] = [Chem.GetMorganFingerprintAsBitVect(m, 2, nBits = 1024) for m in a549[\"mol\"]]"
   ]
  },
  {
   "cell_type": "code",
   "execution_count": 10,
   "id": "wooden-stand",
   "metadata": {},
   "outputs": [
    {
     "name": "stdout",
     "output_type": "stream",
     "text": [
      "Training Data for MCF7: 363 \n",
      "\n",
      "Testing Data for MCF7: 91 \n",
      "\n",
      "***************************************************************************\n",
      "Training Data for Breast: 430 \n",
      "\n",
      "Testing Data for Breast: 108 \n",
      "\n",
      "***************************************************************************\n",
      "Training Data for lung: 473 \n",
      "\n",
      "Testing Data for lung: 119 \n",
      "\n",
      "***************************************************************************\n",
      "Training Data for a549: 300 \n",
      "\n",
      "Testing Data for a549: 75 \n",
      "\n"
     ]
    }
   ],
   "source": [
    "train_mcf7, test_mcf7 = train_test_split(mcf7, test_size=0.2, random_state=1,stratify=mcf7.Target.values)\n",
    "train_breast, test_breast = train_test_split(breast, test_size=0.2, random_state=1,stratify=breast.Target.values)\n",
    "train_lung, test_lung = train_test_split(lung, test_size=0.2, random_state=1,stratify=lung.Target.values)\n",
    "train_a549, test_a549 = train_test_split(a549, test_size=0.2, random_state=1,stratify=a549.Target.values)\n",
    "\n",
    "print('Training Data for MCF7:',len(train_mcf7),'\\n')\n",
    "print('Testing Data for MCF7:',len(test_mcf7),'\\n')\n",
    "print('***************************************************************************')\n",
    "print('Training Data for Breast:',len(train_breast),'\\n')\n",
    "print('Testing Data for Breast:',len(test_breast),'\\n')\n",
    "print('***************************************************************************')\n",
    "print('Training Data for lung:',len(train_lung),'\\n')\n",
    "print('Testing Data for lung:',len(test_lung),'\\n')\n",
    "print('***************************************************************************')\n",
    "print('Training Data for a549:',len(train_a549),'\\n')\n",
    "print('Testing Data for a549:',len(test_a549),'\\n')"
   ]
  },
  {
   "cell_type": "code",
   "execution_count": 11,
   "id": "sufficient-packing",
   "metadata": {},
   "outputs": [],
   "source": [
    "def Counting(y):\n",
    "    unique, counts = np.unique(y, return_counts=True)\n",
    "    a=dict(zip(unique, counts))\n",
    "    return str(a)"
   ]
  },
  {
   "cell_type": "code",
   "execution_count": 12,
   "id": "statistical-latest",
   "metadata": {},
   "outputs": [
    {
     "name": "stdout",
     "output_type": "stream",
     "text": [
      "Train Set for MCF7 has: {0: 204, 1: 159}\n",
      "Test Set for MCF7 has: {0: 51, 1: 40}\n",
      "*********************************************************************\n",
      "Train Set for Breast has: {0: 236, 1: 194}\n",
      "Test Set for Breast has: {0: 59, 1: 49}\n",
      "*********************************************************************\n",
      "Train Set for Lung has: {0: 249, 1: 224}\n",
      "Test Set for Lung has: {0: 63, 1: 56}\n",
      "*********************************************************************\n",
      "Train Set for A549 has: {0: 157, 1: 143}\n",
      "Test Set for A549 has: {0: 39, 1: 36}\n"
     ]
    }
   ],
   "source": [
    "print('Train Set for MCF7 has:',Counting(train_mcf7['Target']))\n",
    "print('Test Set for MCF7 has:',Counting(test_mcf7['Target']))\n",
    "print('*********************************************************************')\n",
    "print('Train Set for Breast has:',Counting(train_breast['Target']))\n",
    "print('Test Set for Breast has:',Counting(test_breast['Target']))\n",
    "print('*********************************************************************')\n",
    "print('Train Set for Lung has:',Counting(train_lung['Target']))\n",
    "print('Test Set for Lung has:',Counting(test_lung['Target']))\n",
    "print('*********************************************************************')\n",
    "print('Train Set for A549 has:',Counting(train_a549['Target']))\n",
    "print('Test Set for A549 has:',Counting(test_a549['Target']))"
   ]
  },
  {
   "cell_type": "code",
   "execution_count": 13,
   "id": "forced-keyboard",
   "metadata": {},
   "outputs": [],
   "source": [
    "def to_bit(fps):\n",
    "    fp_np = []\n",
    "    for fp in fps:\n",
    "        arr = np.zeros((1,))\n",
    "        DataStructs.ConvertToNumpyArray(fp, arr)\n",
    "        fp_np.append(arr)\n",
    "    test = fp_np\n",
    "    return test"
   ]
  },
  {
   "cell_type": "markdown",
   "id": "freelance-closing",
   "metadata": {},
   "source": [
    "### Maccs:"
   ]
  },
  {
   "cell_type": "code",
   "execution_count": 14,
   "id": "seventh-domestic",
   "metadata": {},
   "outputs": [],
   "source": [
    "# MACCS Fingreprint:  # MCF7\n",
    "X_Macc_train_mcf7=to_bit(train_mcf7['Maccs'])\n",
    "y_Macc_train_mcf7=train_mcf7.Target.values\n",
    "\n",
    "X_Macc_test_mcf7=to_bit(test_mcf7['Maccs'])\n",
    "y_Macc_test_mcf7=test_mcf7.Target.values"
   ]
  },
  {
   "cell_type": "code",
   "execution_count": 15,
   "id": "planned-muscle",
   "metadata": {},
   "outputs": [],
   "source": [
    "# MACCS Fingreprint:  #Breast\n",
    "X_Macc_train_breast=to_bit(train_breast['Maccs'])\n",
    "y_Macc_train_breast=train_breast.Target.values\n",
    "\n",
    "X_Macc_test_breast=to_bit(test_breast['Maccs'])\n",
    "y_Macc_test_breast=test_breast.Target.values"
   ]
  },
  {
   "cell_type": "code",
   "execution_count": 16,
   "id": "73ff1bef",
   "metadata": {},
   "outputs": [],
   "source": [
    "# MACCS Fingreprint:  # Lung\n",
    "X_Macc_train_lung=to_bit(train_lung['Maccs'])\n",
    "y_Macc_train_lung=train_lung.Target.values\n",
    "\n",
    "X_Macc_test_lung=to_bit(test_lung['Maccs'])\n",
    "y_Macc_test_lung=test_lung.Target.values"
   ]
  },
  {
   "cell_type": "code",
   "execution_count": 17,
   "id": "7852963f",
   "metadata": {},
   "outputs": [],
   "source": [
    "# MACCS Fingreprint:  # A549\n",
    "X_Macc_train_a549=to_bit(train_a549['Maccs'])\n",
    "y_Macc_train_a549=train_a549.Target.values\n",
    "\n",
    "X_Macc_test_a549=to_bit(test_a549['Maccs'])\n",
    "y_Macc_test_a549=test_a549.Target.values"
   ]
  },
  {
   "cell_type": "markdown",
   "id": "conventional-browser",
   "metadata": {},
   "source": [
    "### Morgan2:"
   ]
  },
  {
   "cell_type": "code",
   "execution_count": 18,
   "id": "african-damages",
   "metadata": {},
   "outputs": [],
   "source": [
    "# Morgan 2 Fingreprint:   #MCF7\n",
    "X_Morgan2_train_mcf7=to_bit(train_mcf7['morg2_fp'])\n",
    "y_Morgan2_train_mcf7=train_mcf7.Target.values\n",
    "\n",
    "X_Morgan2_test_mcf7=to_bit(test_mcf7['morg2_fp'])\n",
    "y_Morgan2_test_mcf7=test_mcf7.Target.values"
   ]
  },
  {
   "cell_type": "code",
   "execution_count": 19,
   "id": "warming-palestine",
   "metadata": {},
   "outputs": [],
   "source": [
    "# Morgan 2 Fingreprint:  #Breast\n",
    "X_Morgan2_train_breast=to_bit(train_breast['morg2_fp'])\n",
    "y_Morgan2_train_breast=train_breast.Target.values\n",
    "\n",
    "X_Morgan2_test_breast=to_bit(test_breast['morg2_fp'])\n",
    "y_Morgan2_test_breast=test_breast.Target.values"
   ]
  },
  {
   "cell_type": "code",
   "execution_count": 20,
   "id": "27e4f9ee",
   "metadata": {},
   "outputs": [],
   "source": [
    "# Morgan 2 Fingreprint:   #Lung\n",
    "X_Morgan2_train_lung=to_bit(train_lung['morg2_fp'])\n",
    "y_Morgan2_train_lung=train_lung.Target.values\n",
    "\n",
    "X_Morgan2_test_lung=to_bit(test_lung['morg2_fp'])\n",
    "y_Morgan2_test_lung=test_lung.Target.values"
   ]
  },
  {
   "cell_type": "code",
   "execution_count": 21,
   "id": "dfaee449",
   "metadata": {},
   "outputs": [],
   "source": [
    "# Morgan 2 Fingreprint:   #A549\n",
    "X_Morgan2_train_a549=to_bit(train_a549['morg2_fp'])\n",
    "y_Morgan2_train_a549=train_a549.Target.values\n",
    "\n",
    "X_Morgan2_test_a549=to_bit(test_a549['morg2_fp'])\n",
    "y_Morgan2_test_a549=test_a549.Target.values"
   ]
  },
  {
   "cell_type": "markdown",
   "id": "outdoor-glass",
   "metadata": {},
   "source": [
    "### Models:\n",
    "\n",
    "<ol>\n",
    "<li>Random forest (RF)</li>\n",
    "<li>SVM</li>\n",
    "<li>KNN</li>\n",
    "<li>eXtreme Gradient Boosting (XGBoost)</li>\n",
    "</ol>"
   ]
  },
  {
   "cell_type": "code",
   "execution_count": 22,
   "id": "statewide-abuse",
   "metadata": {},
   "outputs": [],
   "source": [
    "def permonce_measure(y_test,y_pred):\n",
    "    print(\"Accuracy Score:\", round(accuracy_score(y_test, y_pred),3))\n",
    "    print('Balanced Accuracy:',round(balanced_accuracy_score(y_test,y_pred),3))\n",
    "    print(\"MCC Score:\",round(matthews_corrcoef(y_test, y_pred),3))\n",
    "    tn, fp, fn, tp = confusion_matrix(y_test, y_pred).ravel()\n",
    "    a3= Sensitivity = tp/(tp+fn)\n",
    "    a4= Specificity = tn/(tn+fp)\n",
    "    print(\"Sensitivity Score:\",round(a3,3))\n",
    "    print(\"Specificity Score:\",round(a4,3))\n",
    "    \n",
    "    test_measure = {\"Accuracy_test\":round(accuracy_score(y_test, y_pred),3),\n",
    "                    \"Balanced Accuracy_test\":round(balanced_accuracy_score(y_test,y_pred),3),\n",
    "                    \"MCC Score_test\":round(matthews_corrcoef(y_test, y_pred),3),\n",
    "                    \"Sensitivity Score_test\":round(a3,3),\n",
    "                    \"Specificity Score_test\":round(a4,3)\n",
    "                   }\n",
    "    score=accuracy_score(y_test, y_pred)\n",
    "    cm_macc_test = metrics.confusion_matrix(y_test, y_pred)\n",
    "    #Graph:\n",
    "    print('\\n********************** Graph *****************************\\n')\n",
    "    plt.figure(figsize=(5,5))\n",
    "    sns.heatmap(cm_macc_test, annot=True, fmt=\".3f\", linewidths=.5, square = True, cmap = 'Blues_r');\n",
    "    plt.ylabel('Actual label');\n",
    "    plt.xlabel('Predicted label');\n",
    "    all_sample_title = 'Accuracy Score: {0}'.format(score)\n",
    "    plt.title(all_sample_title, size = 15);\n",
    "    return test_measure\n",
    "\n",
    "def roc_auc(y_val,prediction_probs,model_name):\n",
    "    # generate a no skill prediction (majority class)\n",
    "    ns_probs = [0 for _ in range(len(y_val))]\n",
    "    # keep probabilities for the positive outcome only\n",
    "    prediction_probs = prediction_probs[:, 1]\n",
    "    # calculate scores\n",
    "    ns_auc = roc_auc_score(y_val, ns_probs)\n",
    "    prediction_probs_auc = roc_auc_score(y_val, prediction_probs)\n",
    "    # summarize scores\n",
    "    print('No Skill: ROC AUC=%.3f' % (ns_auc))\n",
    "    print('ROC AUC=%.3f' % (prediction_probs_auc))\n",
    "    roc_auc = {\"AUC_Score_test\":round(prediction_probs_auc,3)}\n",
    "    # calculate roc curves\n",
    "    ns_fpr, ns_tpr, _ = roc_curve(y_val, ns_probs)\n",
    "    prediction_probs_fpr, prediction_probs_tpr, _ = roc_curve(y_val, prediction_probs)\n",
    "    # plot the roc curve for the model\n",
    "    pyplot.plot(ns_fpr, ns_tpr, linestyle='--', label='No Skill')\n",
    "    pyplot.plot(prediction_probs_fpr, prediction_probs_tpr, marker='.', label=model_name)\n",
    "    # axis labels\n",
    "    pyplot.xlabel('False Positive Rate')\n",
    "    pyplot.ylabel('True Positive Rate')\n",
    "    # show the legend\n",
    "    pyplot.legend()\n",
    "    # show the plot\n",
    "    pyplot.show()\n",
    "    return roc_auc\n",
    "\n",
    "def cv_result(best_model,X_train,y_train):\n",
    "    scoring={'accuracy':'accuracy',\n",
    "            'balanced_accuracy':'balanced_accuracy',\n",
    "            'roc_auc':'roc_auc',\n",
    "            'specificity':make_scorer(recall_score,pos_label=0),\n",
    "            'sensitivity':make_scorer(recall_score,pos_label=1),\n",
    "            'MCC':make_scorer(matthews_corrcoef)}\n",
    "    cv=cross_validate(best_model,X_train,y_train, cv=5,scoring=scoring)\n",
    "    cv_df=pd.DataFrame(cv)\n",
    "    Mean={'Accuracy':round(cv['test_accuracy'].mean(),3),\n",
    "          'Balanced Accuracy':round(cv['test_balanced_accuracy'].mean(),3),\n",
    "          'AUC_Score':round(cv['test_roc_auc'].mean(),3),\n",
    "          'Specificity':round(cv['test_specificity'].mean(),3),\n",
    "          'Sensitivity':round(cv['test_sensitivity'].mean(),3),\n",
    "          'MCC':round(cv['test_MCC'].mean(),3)\n",
    "         }\n",
    "    print('Accuracy:',round(cv['test_accuracy'].mean(),3),'\\nBalanced_accuracy:',round(cv['test_balanced_accuracy'].mean(),3),'\\nAUC_Score:',round(cv['test_roc_auc'].mean(),3),'\\nSpecificity:',round(cv['test_specificity'].mean(),3),'\\nSensitivity:',round(cv['test_sensitivity'].mean(),3),'\\nMCC:',round(cv['test_MCC'].mean(),3))\n",
    "    return cv_df,Mean"
   ]
  },
  {
   "cell_type": "markdown",
   "id": "premium-validity",
   "metadata": {},
   "source": [
    "## XgBoost:"
   ]
  },
  {
   "cell_type": "code",
   "execution_count": 23,
   "id": "listed-nowhere",
   "metadata": {},
   "outputs": [],
   "source": [
    "from sklearn.ensemble import RandomForestClassifier\n",
    "from sklearn.metrics import confusion_matrix\n",
    "from sklearn.metrics import matthews_corrcoef,accuracy_score\n",
    "from sklearn.metrics import roc_curve\n",
    "from sklearn.metrics import roc_auc_score,balanced_accuracy_score,recall_score,make_scorer\n",
    "from sklearn.model_selection import cross_validate\n",
    "from matplotlib import pyplot\n",
    "from xgboost import XGBClassifier"
   ]
  },
  {
   "cell_type": "code",
   "execution_count": 24,
   "id": "bearing-pioneer",
   "metadata": {},
   "outputs": [],
   "source": [
    "# XGB:\n",
    "xgb = XGBClassifier(use_label_encoder=False,random_state=1,eval_metric='error')"
   ]
  },
  {
   "cell_type": "code",
   "execution_count": 25,
   "id": "acquired-immunology",
   "metadata": {},
   "outputs": [],
   "source": [
    "# Parameter:\n",
    "param_grid_xgb = {\n",
    "        'n_estimators':[int(x) for x in range(10,101)],\n",
    "        'gamma':[0,0.5,1,1.5,2,2.5,3,3.5,4,4.5,5]\n",
    "        }"
   ]
  },
  {
   "cell_type": "markdown",
   "id": "agricultural-stylus",
   "metadata": {},
   "source": [
    "## For Maccs:"
   ]
  },
  {
   "cell_type": "markdown",
   "id": "soviet-thumb",
   "metadata": {},
   "source": [
    "#### For MCF7"
   ]
  },
  {
   "cell_type": "code",
   "execution_count": 71,
   "id": "ahead-trunk",
   "metadata": {},
   "outputs": [
    {
     "name": "stdout",
     "output_type": "stream",
     "text": [
      "********************************** Wait *****************************************************\n",
      "\n",
      "Fitting 5 folds for each of 1001 candidates, totalling 5005 fits\n",
      "\n",
      "******************************** Done *****************************************************\n",
      "CPU times: user 11 s, sys: 730 ms, total: 11.7 s\n",
      "Wall time: 10min 19s\n"
     ]
    }
   ],
   "source": [
    "%%time\n",
    "print('********************************** Wait *****************************************************\\n')\n",
    "grid_search_xgb_mcf7_maccs = GridSearchCV(estimator = xgb, param_grid = param_grid_xgb, cv = 5, n_jobs = -1, verbose = 2,scoring='recall')\n",
    "grid_search_xgb_mcf7_maccs.fit(np.array(X_Macc_train_mcf7), y_Macc_train_mcf7,eval_metric='error')\n",
    "print('\\n******************************** Done *****************************************************')\n",
    "MCF7_Maccs_xgb=pd.DataFrame(grid_search_xgb_mcf7_maccs.cv_results_)"
   ]
  },
  {
   "cell_type": "code",
   "execution_count": 72,
   "id": "pretty-douglas",
   "metadata": {},
   "outputs": [
    {
     "name": "stdout",
     "output_type": "stream",
     "text": [
      "  Best Parameter are:\n",
      " XGBClassifier(base_score=0.5, booster='gbtree', colsample_bylevel=1,\n",
      "              colsample_bynode=1, colsample_bytree=1, eval_metric='error',\n",
      "              gamma=0, gpu_id=-1, importance_type='gain',\n",
      "              interaction_constraints='', learning_rate=0.300000012,\n",
      "              max_delta_step=0, max_depth=6, min_child_weight=1, missing=nan,\n",
      "              monotone_constraints='()', n_estimators=45, n_jobs=4,\n",
      "              num_parallel_tree=1, random_state=1, reg_alpha=0, reg_lambda=1,\n",
      "              scale_pos_weight=1, subsample=1, tree_method='exact',\n",
      "              use_label_encoder=False, validate_parameters=1, verbosity=None)\n"
     ]
    }
   ],
   "source": [
    "print('  Best Parameter are:\\n',grid_search_xgb_mcf7_maccs.best_estimator_)"
   ]
  },
  {
   "cell_type": "code",
   "execution_count": 73,
   "id": "ranking-lawrence",
   "metadata": {},
   "outputs": [],
   "source": [
    "best_model_xgb_MCF7_Maccs = grid_search_xgb_mcf7_maccs.best_estimator_\n",
    "#best_model_xgb_MCF7_Maccs=XGBClassifier(use_label_encoder=False,n_estimators=73,gamma=0,random_state=1,eval_metric='error')"
   ]
  },
  {
   "cell_type": "code",
   "execution_count": 74,
   "id": "fancy-color",
   "metadata": {},
   "outputs": [
    {
     "name": "stdout",
     "output_type": "stream",
     "text": [
      "Accuracy: 0.774 \n",
      "Balanced_accuracy: 0.772 \n",
      "AUC_Score: 0.86 \n",
      "Specificity: 0.784 \n",
      "Sensitivity: 0.761 \n",
      "MCC: 0.549\n"
     ]
    }
   ],
   "source": [
    "xgb_mcf7_maccs_cv,xgb_mcf7_maccs_mean=cv_result(best_model_xgb_MCF7_Maccs,np.array(X_Macc_train_mcf7),y_Macc_train_mcf7)"
   ]
  },
  {
   "cell_type": "code",
   "execution_count": 75,
   "id": "continent-wholesale",
   "metadata": {},
   "outputs": [
    {
     "data": {
      "text/html": [
       "<div>\n",
       "<style scoped>\n",
       "    .dataframe tbody tr th:only-of-type {\n",
       "        vertical-align: middle;\n",
       "    }\n",
       "\n",
       "    .dataframe tbody tr th {\n",
       "        vertical-align: top;\n",
       "    }\n",
       "\n",
       "    .dataframe thead th {\n",
       "        text-align: right;\n",
       "    }\n",
       "</style>\n",
       "<table border=\"1\" class=\"dataframe\">\n",
       "  <thead>\n",
       "    <tr style=\"text-align: right;\">\n",
       "      <th></th>\n",
       "      <th>fit_time</th>\n",
       "      <th>score_time</th>\n",
       "      <th>test_accuracy</th>\n",
       "      <th>test_balanced_accuracy</th>\n",
       "      <th>test_roc_auc</th>\n",
       "      <th>test_specificity</th>\n",
       "      <th>test_sensitivity</th>\n",
       "      <th>test_MCC</th>\n",
       "    </tr>\n",
       "  </thead>\n",
       "  <tbody>\n",
       "    <tr>\n",
       "      <th>0</th>\n",
       "      <td>0.134565</td>\n",
       "      <td>0.019334</td>\n",
       "      <td>0.808219</td>\n",
       "      <td>0.801829</td>\n",
       "      <td>0.887957</td>\n",
       "      <td>0.853659</td>\n",
       "      <td>0.750000</td>\n",
       "      <td>0.608784</td>\n",
       "    </tr>\n",
       "    <tr>\n",
       "      <th>1</th>\n",
       "      <td>0.124719</td>\n",
       "      <td>0.010360</td>\n",
       "      <td>0.808219</td>\n",
       "      <td>0.812119</td>\n",
       "      <td>0.900915</td>\n",
       "      <td>0.780488</td>\n",
       "      <td>0.843750</td>\n",
       "      <td>0.619534</td>\n",
       "    </tr>\n",
       "    <tr>\n",
       "      <th>2</th>\n",
       "      <td>0.066986</td>\n",
       "      <td>0.005631</td>\n",
       "      <td>0.698630</td>\n",
       "      <td>0.687119</td>\n",
       "      <td>0.801829</td>\n",
       "      <td>0.780488</td>\n",
       "      <td>0.593750</td>\n",
       "      <td>0.381882</td>\n",
       "    </tr>\n",
       "    <tr>\n",
       "      <th>3</th>\n",
       "      <td>0.058448</td>\n",
       "      <td>0.005395</td>\n",
       "      <td>0.819444</td>\n",
       "      <td>0.809992</td>\n",
       "      <td>0.892998</td>\n",
       "      <td>0.878049</td>\n",
       "      <td>0.741935</td>\n",
       "      <td>0.629721</td>\n",
       "    </tr>\n",
       "    <tr>\n",
       "      <th>4</th>\n",
       "      <td>0.057537</td>\n",
       "      <td>0.005363</td>\n",
       "      <td>0.736111</td>\n",
       "      <td>0.750000</td>\n",
       "      <td>0.814844</td>\n",
       "      <td>0.625000</td>\n",
       "      <td>0.875000</td>\n",
       "      <td>0.506573</td>\n",
       "    </tr>\n",
       "  </tbody>\n",
       "</table>\n",
       "</div>"
      ],
      "text/plain": [
       "   fit_time  score_time  test_accuracy  test_balanced_accuracy  test_roc_auc  \\\n",
       "0  0.134565    0.019334       0.808219                0.801829      0.887957   \n",
       "1  0.124719    0.010360       0.808219                0.812119      0.900915   \n",
       "2  0.066986    0.005631       0.698630                0.687119      0.801829   \n",
       "3  0.058448    0.005395       0.819444                0.809992      0.892998   \n",
       "4  0.057537    0.005363       0.736111                0.750000      0.814844   \n",
       "\n",
       "   test_specificity  test_sensitivity  test_MCC  \n",
       "0          0.853659          0.750000  0.608784  \n",
       "1          0.780488          0.843750  0.619534  \n",
       "2          0.780488          0.593750  0.381882  \n",
       "3          0.878049          0.741935  0.629721  \n",
       "4          0.625000          0.875000  0.506573  "
      ]
     },
     "execution_count": 75,
     "metadata": {},
     "output_type": "execute_result"
    }
   ],
   "source": [
    "xgb_mcf7_maccs_cv"
   ]
  },
  {
   "cell_type": "markdown",
   "id": "fifteen-appeal",
   "metadata": {},
   "source": [
    "#### MCF7 Test Set:"
   ]
  },
  {
   "cell_type": "code",
   "execution_count": 76,
   "id": "fourth-atlantic",
   "metadata": {},
   "outputs": [
    {
     "name": "stdout",
     "output_type": "stream",
     "text": [
      "Accuracy Score: 0.758\n",
      "Balanced Accuracy: 0.757\n",
      "MCC Score: 0.512\n",
      "Sensitivity Score: 0.75\n",
      "Specificity Score: 0.765\n",
      "\n",
      "********************** Graph *****************************\n",
      "\n"
     ]
    },
    {
     "data": {
      "image/png": "[encoded data removed]",
      "text/plain": [
       "<Figure size 360x360 with 2 Axes>"
      ]
     },
     "metadata": {
      "needs_background": "light"
     },
     "output_type": "display_data"
    }
   ],
   "source": [
    "best_model_xgb_MCF7_Maccs.fit(np.array(X_Macc_train_mcf7), y_Macc_train_mcf7,eval_metric='error')\n",
    "prediction_mcf7_maccs_xgb=best_model_xgb_MCF7_Maccs.predict(np.array(X_Macc_test_mcf7))\n",
    "xgb_test_mcf7_maccs=permonce_measure(y_Macc_test_mcf7,prediction_mcf7_maccs_xgb)"
   ]
  },
  {
   "cell_type": "code",
   "execution_count": 77,
   "id": "crazy-venture",
   "metadata": {},
   "outputs": [
    {
     "name": "stdout",
     "output_type": "stream",
     "text": [
      "No Skill: ROC AUC=0.500\n",
      "ROC AUC=0.810\n"
     ]
    },
    {
     "data": {
      "image/png": "[encoded data removed]",
      "text/plain": [
       "<Figure size 432x288 with 1 Axes>"
      ]
     },
     "metadata": {
      "needs_background": "light"
     },
     "output_type": "display_data"
    }
   ],
   "source": [
    "prediction_mcf7_maccs_xgb_probs = best_model_xgb_MCF7_Maccs.predict_proba(np.array(X_Macc_test_mcf7))\n",
    "roc_auc_mcf7_maccs=roc_auc(y_Macc_test_mcf7,prediction_mcf7_maccs_xgb_probs,'XGB')\n",
    "xgb_test_mcf7_maccs.update(roc_auc_mcf7_maccs)"
   ]
  },
  {
   "cell_type": "code",
   "execution_count": 78,
   "id": "german-earth",
   "metadata": {},
   "outputs": [],
   "source": [
    "#MCF7_Maccs_xgb.to_csv('MCF7_Maccs_xgb_auc.csv',index=False)"
   ]
  },
  {
   "cell_type": "markdown",
   "id": "collaborative-catholic",
   "metadata": {},
   "source": [
    "--------------------------------------------------------------------------------------------------------------------"
   ]
  },
  {
   "cell_type": "markdown",
   "id": "smoking-netherlands",
   "metadata": {},
   "source": [
    "### For Breast:"
   ]
  },
  {
   "cell_type": "code",
   "execution_count": 79,
   "id": "daily-enzyme",
   "metadata": {},
   "outputs": [
    {
     "name": "stdout",
     "output_type": "stream",
     "text": [
      "********************************** Wait *****************************************************\n",
      "\n",
      "Fitting 5 folds for each of 1001 candidates, totalling 5005 fits\n",
      "\n",
      "******************************** Done *****************************************************\n",
      "CPU times: user 10.8 s, sys: 854 ms, total: 11.7 s\n",
      "Wall time: 14min 59s\n"
     ]
    }
   ],
   "source": [
    "%%time\n",
    "print('********************************** Wait *****************************************************\\n')\n",
    "grid_search_xgb_breast_maccs = GridSearchCV(estimator = xgb, param_grid = param_grid_xgb, cv = 5, n_jobs = -1, verbose = 2,scoring='recall')\n",
    "grid_search_xgb_breast_maccs.fit(np.array(X_Macc_train_breast), y_Macc_train_breast,eval_metric='error')\n",
    "print('\\n******************************** Done *****************************************************')\n",
    "Breast_Maccs_xgb=pd.DataFrame(grid_search_xgb_breast_maccs.cv_results_)"
   ]
  },
  {
   "cell_type": "code",
   "execution_count": 80,
   "id": "transsexual-logic",
   "metadata": {},
   "outputs": [
    {
     "name": "stdout",
     "output_type": "stream",
     "text": [
      "  Best Parameter are:\n",
      " XGBClassifier(base_score=0.5, booster='gbtree', colsample_bylevel=1,\n",
      "              colsample_bynode=1, colsample_bytree=1, eval_metric='error',\n",
      "              gamma=0, gpu_id=-1, importance_type='gain',\n",
      "              interaction_constraints='', learning_rate=0.300000012,\n",
      "              max_delta_step=0, max_depth=6, min_child_weight=1, missing=nan,\n",
      "              monotone_constraints='()', n_estimators=36, n_jobs=4,\n",
      "              num_parallel_tree=1, random_state=1, reg_alpha=0, reg_lambda=1,\n",
      "              scale_pos_weight=1, subsample=1, tree_method='exact',\n",
      "              use_label_encoder=False, validate_parameters=1, verbosity=None)\n"
     ]
    }
   ],
   "source": [
    "print('  Best Parameter are:\\n',grid_search_xgb_breast_maccs.best_estimator_)"
   ]
  },
  {
   "cell_type": "code",
   "execution_count": 81,
   "id": "failing-liver",
   "metadata": {},
   "outputs": [],
   "source": [
    "best_model_xgb_Breast_Maccs = grid_search_xgb_breast_maccs.best_estimator_\n",
    "#best_model_xgb_Breast_Maccs= XGBClassifier(use_label_encoder=False,n_estimators=11,gamma=1,random_state=1,eval_metric='error')"
   ]
  },
  {
   "cell_type": "code",
   "execution_count": 82,
   "id": "decent-suspect",
   "metadata": {},
   "outputs": [
    {
     "name": "stdout",
     "output_type": "stream",
     "text": [
      "Accuracy: 0.772 \n",
      "Balanced_accuracy: 0.768 \n",
      "AUC_Score: 0.829 \n",
      "Specificity: 0.805 \n",
      "Sensitivity: 0.731 \n",
      "MCC: 0.541\n"
     ]
    }
   ],
   "source": [
    "xgb_breast_maccs_cv,xgb_breast_maccs_mean=cv_result(best_model_xgb_Breast_Maccs,np.array(X_Macc_train_breast),y_Macc_train_breast)"
   ]
  },
  {
   "cell_type": "code",
   "execution_count": 83,
   "id": "alert-caution",
   "metadata": {},
   "outputs": [
    {
     "data": {
      "text/html": [
       "<div>\n",
       "<style scoped>\n",
       "    .dataframe tbody tr th:only-of-type {\n",
       "        vertical-align: middle;\n",
       "    }\n",
       "\n",
       "    .dataframe tbody tr th {\n",
       "        vertical-align: top;\n",
       "    }\n",
       "\n",
       "    .dataframe thead th {\n",
       "        text-align: right;\n",
       "    }\n",
       "</style>\n",
       "<table border=\"1\" class=\"dataframe\">\n",
       "  <thead>\n",
       "    <tr style=\"text-align: right;\">\n",
       "      <th></th>\n",
       "      <th>fit_time</th>\n",
       "      <th>score_time</th>\n",
       "      <th>test_accuracy</th>\n",
       "      <th>test_balanced_accuracy</th>\n",
       "      <th>test_roc_auc</th>\n",
       "      <th>test_specificity</th>\n",
       "      <th>test_sensitivity</th>\n",
       "      <th>test_MCC</th>\n",
       "    </tr>\n",
       "  </thead>\n",
       "  <tbody>\n",
       "    <tr>\n",
       "      <th>0</th>\n",
       "      <td>0.172497</td>\n",
       "      <td>0.010958</td>\n",
       "      <td>0.790698</td>\n",
       "      <td>0.795417</td>\n",
       "      <td>0.868249</td>\n",
       "      <td>0.744681</td>\n",
       "      <td>0.846154</td>\n",
       "      <td>0.588910</td>\n",
       "    </tr>\n",
       "    <tr>\n",
       "      <th>1</th>\n",
       "      <td>0.099829</td>\n",
       "      <td>0.014941</td>\n",
       "      <td>0.779070</td>\n",
       "      <td>0.773868</td>\n",
       "      <td>0.800873</td>\n",
       "      <td>0.829787</td>\n",
       "      <td>0.717949</td>\n",
       "      <td>0.552734</td>\n",
       "    </tr>\n",
       "    <tr>\n",
       "      <th>2</th>\n",
       "      <td>0.065142</td>\n",
       "      <td>0.005663</td>\n",
       "      <td>0.825581</td>\n",
       "      <td>0.822968</td>\n",
       "      <td>0.872340</td>\n",
       "      <td>0.851064</td>\n",
       "      <td>0.794872</td>\n",
       "      <td>0.647527</td>\n",
       "    </tr>\n",
       "    <tr>\n",
       "      <th>3</th>\n",
       "      <td>0.052454</td>\n",
       "      <td>0.005440</td>\n",
       "      <td>0.720930</td>\n",
       "      <td>0.718494</td>\n",
       "      <td>0.813421</td>\n",
       "      <td>0.744681</td>\n",
       "      <td>0.692308</td>\n",
       "      <td>0.436989</td>\n",
       "    </tr>\n",
       "    <tr>\n",
       "      <th>4</th>\n",
       "      <td>0.056177</td>\n",
       "      <td>0.005433</td>\n",
       "      <td>0.744186</td>\n",
       "      <td>0.729715</td>\n",
       "      <td>0.791118</td>\n",
       "      <td>0.854167</td>\n",
       "      <td>0.605263</td>\n",
       "      <td>0.478715</td>\n",
       "    </tr>\n",
       "  </tbody>\n",
       "</table>\n",
       "</div>"
      ],
      "text/plain": [
       "   fit_time  score_time  test_accuracy  test_balanced_accuracy  test_roc_auc  \\\n",
       "0  0.172497    0.010958       0.790698                0.795417      0.868249   \n",
       "1  0.099829    0.014941       0.779070                0.773868      0.800873   \n",
       "2  0.065142    0.005663       0.825581                0.822968      0.872340   \n",
       "3  0.052454    0.005440       0.720930                0.718494      0.813421   \n",
       "4  0.056177    0.005433       0.744186                0.729715      0.791118   \n",
       "\n",
       "   test_specificity  test_sensitivity  test_MCC  \n",
       "0          0.744681          0.846154  0.588910  \n",
       "1          0.829787          0.717949  0.552734  \n",
       "2          0.851064          0.794872  0.647527  \n",
       "3          0.744681          0.692308  0.436989  \n",
       "4          0.854167          0.605263  0.478715  "
      ]
     },
     "execution_count": 83,
     "metadata": {},
     "output_type": "execute_result"
    }
   ],
   "source": [
    "xgb_breast_maccs_cv"
   ]
  },
  {
   "cell_type": "markdown",
   "id": "mounted-evaluation",
   "metadata": {},
   "source": [
    "#### Breast Test Set:"
   ]
  },
  {
   "cell_type": "code",
   "execution_count": 84,
   "id": "velvet-focus",
   "metadata": {},
   "outputs": [
    {
     "name": "stdout",
     "output_type": "stream",
     "text": [
      "Accuracy Score: 0.778\n",
      "Balanced Accuracy: 0.776\n",
      "MCC Score: 0.552\n",
      "Sensitivity Score: 0.755\n",
      "Specificity Score: 0.797\n",
      "\n",
      "********************** Graph *****************************\n",
      "\n"
     ]
    },
    {
     "data": {
      "image/png": "[encoded data removed]",
      "text/plain": [
       "<Figure size 360x360 with 2 Axes>"
      ]
     },
     "metadata": {
      "needs_background": "light"
     },
     "output_type": "display_data"
    }
   ],
   "source": [
    "best_model_xgb_Breast_Maccs.fit(np.array(X_Macc_train_breast), y_Macc_train_breast,eval_metric='error')\n",
    "prediction_breast_maccs_xgb=best_model_xgb_Breast_Maccs.predict(np.array(X_Macc_test_breast))\n",
    "xgb_test_breast_maccs = permonce_measure(y_Macc_test_breast,prediction_breast_maccs_xgb)"
   ]
  },
  {
   "cell_type": "code",
   "execution_count": 85,
   "id": "promising-biography",
   "metadata": {},
   "outputs": [
    {
     "name": "stdout",
     "output_type": "stream",
     "text": [
      "No Skill: ROC AUC=0.500\n",
      "ROC AUC=0.844\n"
     ]
    },
    {
     "data": {
      "image/png": "[encoded data removed]",
      "text/plain": [
       "<Figure size 432x288 with 1 Axes>"
      ]
     },
     "metadata": {
      "needs_background": "light"
     },
     "output_type": "display_data"
    }
   ],
   "source": [
    "prediction_breast_maccs_xgb_probs = best_model_xgb_Breast_Maccs.predict_proba(np.array(X_Macc_test_breast))\n",
    "roc_auc_breast_maccs=roc_auc(y_Macc_test_breast,prediction_breast_maccs_xgb_probs,'XGB')\n",
    "xgb_test_breast_maccs.update(roc_auc_breast_maccs)"
   ]
  },
  {
   "cell_type": "code",
   "execution_count": 86,
   "id": "clinical-permission",
   "metadata": {},
   "outputs": [],
   "source": [
    "#Breast_Maccs_xgb.to_csv('Breast_Maccs_xgb_auc.csv',index=False)"
   ]
  },
  {
   "cell_type": "markdown",
   "id": "bf96bd1f",
   "metadata": {},
   "source": [
    "--------------------------------------------------------------------------------------------------------------------"
   ]
  },
  {
   "cell_type": "markdown",
   "id": "7da69dc9",
   "metadata": {},
   "source": [
    "### For Lung:"
   ]
  },
  {
   "cell_type": "code",
   "execution_count": 87,
   "id": "e5e95f89",
   "metadata": {},
   "outputs": [
    {
     "name": "stdout",
     "output_type": "stream",
     "text": [
      "********************************** Wait *****************************************************\n",
      "\n",
      "Fitting 5 folds for each of 1001 candidates, totalling 5005 fits\n",
      "\n",
      "******************************** Done *****************************************************\n",
      "CPU times: user 11.5 s, sys: 844 ms, total: 12.4 s\n",
      "Wall time: 16min 24s\n"
     ]
    }
   ],
   "source": [
    "%%time\n",
    "print('********************************** Wait *****************************************************\\n')\n",
    "grid_search_xgb_lung_maccs = GridSearchCV(estimator = xgb, param_grid = param_grid_xgb, cv = 5, n_jobs = -1, verbose = 2,scoring='recall')\n",
    "grid_search_xgb_lung_maccs.fit(np.array(X_Macc_train_lung), y_Macc_train_lung,eval_metric='error')\n",
    "print('\\n******************************** Done *****************************************************')\n",
    "Lung_Maccs_xgb=pd.DataFrame(grid_search_xgb_lung_maccs.cv_results_)"
   ]
  },
  {
   "cell_type": "code",
   "execution_count": 88,
   "id": "6ef14226",
   "metadata": {},
   "outputs": [],
   "source": [
    "#Lung_Maccs_xgb.to_csv('Lung_Maccs_xgb_auc.csv',index=False)"
   ]
  },
  {
   "cell_type": "code",
   "execution_count": 89,
   "id": "d835ef5f",
   "metadata": {},
   "outputs": [
    {
     "name": "stdout",
     "output_type": "stream",
     "text": [
      "  Best Parameter are:\n",
      " XGBClassifier(base_score=0.5, booster='gbtree', colsample_bylevel=1,\n",
      "              colsample_bynode=1, colsample_bytree=1, eval_metric='error',\n",
      "              gamma=0, gpu_id=-1, importance_type='gain',\n",
      "              interaction_constraints='', learning_rate=0.300000012,\n",
      "              max_delta_step=0, max_depth=6, min_child_weight=1, missing=nan,\n",
      "              monotone_constraints='()', n_estimators=58, n_jobs=4,\n",
      "              num_parallel_tree=1, random_state=1, reg_alpha=0, reg_lambda=1,\n",
      "              scale_pos_weight=1, subsample=1, tree_method='exact',\n",
      "              use_label_encoder=False, validate_parameters=1, verbosity=None)\n"
     ]
    }
   ],
   "source": [
    "print('  Best Parameter are:\\n',grid_search_xgb_lung_maccs.best_estimator_)"
   ]
  },
  {
   "cell_type": "code",
   "execution_count": 90,
   "id": "6ef42796",
   "metadata": {},
   "outputs": [],
   "source": [
    "best_model_xgb_Lung_Maccs = grid_search_xgb_lung_maccs.best_estimator_\n",
    "#best_model_xgb_Lung_Maccs= XGBClassifier(use_label_encoder=False,n_estimators=10,gamma=3,random_state=1,eval_metric='error')"
   ]
  },
  {
   "cell_type": "code",
   "execution_count": 91,
   "id": "b35a3ed1",
   "metadata": {},
   "outputs": [
    {
     "name": "stdout",
     "output_type": "stream",
     "text": [
      "Accuracy: 0.695 \n",
      "Balanced_accuracy: 0.694 \n",
      "AUC_Score: 0.743 \n",
      "Specificity: 0.731 \n",
      "Sensitivity: 0.656 \n",
      "MCC: 0.391\n"
     ]
    }
   ],
   "source": [
    "xgb_lung_maccs_cv,xgb_lung_maccs_mean=cv_result(best_model_xgb_Lung_Maccs,np.array(X_Macc_train_lung),y_Macc_train_lung)"
   ]
  },
  {
   "cell_type": "code",
   "execution_count": 92,
   "id": "ae682465",
   "metadata": {},
   "outputs": [
    {
     "data": {
      "text/html": [
       "<div>\n",
       "<style scoped>\n",
       "    .dataframe tbody tr th:only-of-type {\n",
       "        vertical-align: middle;\n",
       "    }\n",
       "\n",
       "    .dataframe tbody tr th {\n",
       "        vertical-align: top;\n",
       "    }\n",
       "\n",
       "    .dataframe thead th {\n",
       "        text-align: right;\n",
       "    }\n",
       "</style>\n",
       "<table border=\"1\" class=\"dataframe\">\n",
       "  <thead>\n",
       "    <tr style=\"text-align: right;\">\n",
       "      <th></th>\n",
       "      <th>fit_time</th>\n",
       "      <th>score_time</th>\n",
       "      <th>test_accuracy</th>\n",
       "      <th>test_balanced_accuracy</th>\n",
       "      <th>test_roc_auc</th>\n",
       "      <th>test_specificity</th>\n",
       "      <th>test_sensitivity</th>\n",
       "      <th>test_MCC</th>\n",
       "    </tr>\n",
       "  </thead>\n",
       "  <tbody>\n",
       "    <tr>\n",
       "      <th>0</th>\n",
       "      <td>0.238724</td>\n",
       "      <td>0.014035</td>\n",
       "      <td>0.673684</td>\n",
       "      <td>0.673333</td>\n",
       "      <td>0.714000</td>\n",
       "      <td>0.680000</td>\n",
       "      <td>0.666667</td>\n",
       "      <td>0.346359</td>\n",
       "    </tr>\n",
       "    <tr>\n",
       "      <th>1</th>\n",
       "      <td>0.162282</td>\n",
       "      <td>0.005578</td>\n",
       "      <td>0.800000</td>\n",
       "      <td>0.794444</td>\n",
       "      <td>0.882000</td>\n",
       "      <td>0.900000</td>\n",
       "      <td>0.688889</td>\n",
       "      <td>0.606104</td>\n",
       "    </tr>\n",
       "    <tr>\n",
       "      <th>2</th>\n",
       "      <td>0.089651</td>\n",
       "      <td>0.005586</td>\n",
       "      <td>0.673684</td>\n",
       "      <td>0.672222</td>\n",
       "      <td>0.736222</td>\n",
       "      <td>0.700000</td>\n",
       "      <td>0.644444</td>\n",
       "      <td>0.344905</td>\n",
       "    </tr>\n",
       "    <tr>\n",
       "      <th>3</th>\n",
       "      <td>0.089175</td>\n",
       "      <td>0.005594</td>\n",
       "      <td>0.648936</td>\n",
       "      <td>0.646939</td>\n",
       "      <td>0.692971</td>\n",
       "      <td>0.693878</td>\n",
       "      <td>0.600000</td>\n",
       "      <td>0.295287</td>\n",
       "    </tr>\n",
       "    <tr>\n",
       "      <th>4</th>\n",
       "      <td>0.087874</td>\n",
       "      <td>0.005573</td>\n",
       "      <td>0.680851</td>\n",
       "      <td>0.680909</td>\n",
       "      <td>0.687727</td>\n",
       "      <td>0.680000</td>\n",
       "      <td>0.681818</td>\n",
       "      <td>0.361162</td>\n",
       "    </tr>\n",
       "  </tbody>\n",
       "</table>\n",
       "</div>"
      ],
      "text/plain": [
       "   fit_time  score_time  test_accuracy  test_balanced_accuracy  test_roc_auc  \\\n",
       "0  0.238724    0.014035       0.673684                0.673333      0.714000   \n",
       "1  0.162282    0.005578       0.800000                0.794444      0.882000   \n",
       "2  0.089651    0.005586       0.673684                0.672222      0.736222   \n",
       "3  0.089175    0.005594       0.648936                0.646939      0.692971   \n",
       "4  0.087874    0.005573       0.680851                0.680909      0.687727   \n",
       "\n",
       "   test_specificity  test_sensitivity  test_MCC  \n",
       "0          0.680000          0.666667  0.346359  \n",
       "1          0.900000          0.688889  0.606104  \n",
       "2          0.700000          0.644444  0.344905  \n",
       "3          0.693878          0.600000  0.295287  \n",
       "4          0.680000          0.681818  0.361162  "
      ]
     },
     "execution_count": 92,
     "metadata": {},
     "output_type": "execute_result"
    }
   ],
   "source": [
    "xgb_lung_maccs_cv"
   ]
  },
  {
   "cell_type": "markdown",
   "id": "atomic-mapping",
   "metadata": {},
   "source": [
    "#### Lung Test Set:"
   ]
  },
  {
   "cell_type": "code",
   "execution_count": 93,
   "id": "04f448a0",
   "metadata": {},
   "outputs": [
    {
     "name": "stdout",
     "output_type": "stream",
     "text": [
      "Accuracy Score: 0.697\n",
      "Balanced Accuracy: 0.689\n",
      "MCC Score: 0.396\n",
      "Sensitivity Score: 0.554\n",
      "Specificity Score: 0.825\n",
      "\n",
      "********************** Graph *****************************\n",
      "\n"
     ]
    },
    {
     "data": {
      "image/png": "[encoded data removed]",
      "text/plain": [
       "<Figure size 360x360 with 2 Axes>"
      ]
     },
     "metadata": {
      "needs_background": "light"
     },
     "output_type": "display_data"
    }
   ],
   "source": [
    "best_model_xgb_Lung_Maccs.fit(np.array(X_Macc_train_lung), y_Macc_train_lung,eval_metric='error')\n",
    "prediction_lung_maccs_xgb = best_model_xgb_Lung_Maccs.predict(np.array(X_Macc_test_lung))\n",
    "xgb_test_lung_maccs=permonce_measure(y_Macc_test_lung,prediction_lung_maccs_xgb)"
   ]
  },
  {
   "cell_type": "code",
   "execution_count": 94,
   "id": "73160bf6",
   "metadata": {},
   "outputs": [
    {
     "name": "stdout",
     "output_type": "stream",
     "text": [
      "No Skill: ROC AUC=0.500\n",
      "ROC AUC=0.804\n"
     ]
    },
    {
     "data": {
      "image/png": "[encoded data removed]",
      "text/plain": [
       "<Figure size 432x288 with 1 Axes>"
      ]
     },
     "metadata": {
      "needs_background": "light"
     },
     "output_type": "display_data"
    }
   ],
   "source": [
    "prediction_lung_maccs_xgb_probs = best_model_xgb_Lung_Maccs.predict_proba(np.array(X_Macc_test_lung))\n",
    "roc_auc_lung_maccs=roc_auc(y_Macc_test_lung,prediction_lung_maccs_xgb_probs,'XGB')\n",
    "xgb_test_lung_maccs.update(roc_auc_lung_maccs)"
   ]
  },
  {
   "cell_type": "markdown",
   "id": "revolutionary-battery",
   "metadata": {},
   "source": [
    "--------------------------------------------------------------------------------------------------------------------"
   ]
  },
  {
   "cell_type": "markdown",
   "id": "ambient-degree",
   "metadata": {},
   "source": [
    "### For A549:"
   ]
  },
  {
   "cell_type": "code",
   "execution_count": 95,
   "id": "977b56c4",
   "metadata": {},
   "outputs": [
    {
     "name": "stdout",
     "output_type": "stream",
     "text": [
      "********************************** Wait *****************************************************\n",
      "\n",
      "Fitting 5 folds for each of 1001 candidates, totalling 5005 fits\n",
      "\n",
      "******************************** Done *****************************************************\n",
      "CPU times: user 10.2 s, sys: 563 ms, total: 10.8 s\n",
      "Wall time: 10min 24s\n"
     ]
    }
   ],
   "source": [
    "%%time\n",
    "print('********************************** Wait *****************************************************\\n')\n",
    "grid_search_xgb_a549_maccs = GridSearchCV(estimator = xgb, param_grid = param_grid_xgb, cv = 5, n_jobs = -1, verbose = 2,scoring='recall')\n",
    "grid_search_xgb_a549_maccs.fit(np.array(X_Macc_train_a549), y_Macc_train_a549,eval_metric='error')\n",
    "print('\\n******************************** Done *****************************************************')\n",
    "A549_Maccs_xgb = pd.DataFrame(grid_search_xgb_a549_maccs.cv_results_)"
   ]
  },
  {
   "cell_type": "code",
   "execution_count": 96,
   "id": "1168aa30",
   "metadata": {},
   "outputs": [],
   "source": [
    "#A549_Maccs_xgb.to_csv('A549_Maccs_xgb_auc.csv',index=False)"
   ]
  },
  {
   "cell_type": "code",
   "execution_count": 97,
   "id": "literary-philip",
   "metadata": {},
   "outputs": [
    {
     "name": "stdout",
     "output_type": "stream",
     "text": [
      "  Best Parameter are:\n",
      " XGBClassifier(base_score=0.5, booster='gbtree', colsample_bylevel=1,\n",
      "              colsample_bynode=1, colsample_bytree=1, eval_metric='error',\n",
      "              gamma=0.5, gpu_id=-1, importance_type='gain',\n",
      "              interaction_constraints='', learning_rate=0.300000012,\n",
      "              max_delta_step=0, max_depth=6, min_child_weight=1, missing=nan,\n",
      "              monotone_constraints='()', n_estimators=10, n_jobs=4,\n",
      "              num_parallel_tree=1, random_state=1, reg_alpha=0, reg_lambda=1,\n",
      "              scale_pos_weight=1, subsample=1, tree_method='exact',\n",
      "              use_label_encoder=False, validate_parameters=1, verbosity=None)\n"
     ]
    }
   ],
   "source": [
    "print('  Best Parameter are:\\n',grid_search_xgb_a549_maccs.best_estimator_)"
   ]
  },
  {
   "cell_type": "code",
   "execution_count": 98,
   "id": "protected-location",
   "metadata": {},
   "outputs": [],
   "source": [
    "best_model_xgb_A549_Maccs = grid_search_xgb_a549_maccs.best_estimator_\n",
    "#best_model_xgb_A549_Maccs = XGBClassifier(use_label_encoder=False,n_estimators=10,gamma=2.5,random_state=1,eval_metric='error')"
   ]
  },
  {
   "cell_type": "code",
   "execution_count": 99,
   "id": "controlling-omega",
   "metadata": {},
   "outputs": [
    {
     "name": "stdout",
     "output_type": "stream",
     "text": [
      "Accuracy: 0.713 \n",
      "Balanced_accuracy: 0.713 \n",
      "AUC_Score: 0.8 \n",
      "Specificity: 0.726 \n",
      "Sensitivity: 0.699 \n",
      "MCC: 0.427\n"
     ]
    }
   ],
   "source": [
    "xgb_a549_maccs_cv,xgb_a549_maccs_mean=cv_result(best_model_xgb_A549_Maccs,np.array(X_Macc_train_a549),y_Macc_train_a549)"
   ]
  },
  {
   "cell_type": "code",
   "execution_count": 100,
   "id": "incoming-celebrity",
   "metadata": {},
   "outputs": [
    {
     "data": {
      "text/html": [
       "<div>\n",
       "<style scoped>\n",
       "    .dataframe tbody tr th:only-of-type {\n",
       "        vertical-align: middle;\n",
       "    }\n",
       "\n",
       "    .dataframe tbody tr th {\n",
       "        vertical-align: top;\n",
       "    }\n",
       "\n",
       "    .dataframe thead th {\n",
       "        text-align: right;\n",
       "    }\n",
       "</style>\n",
       "<table border=\"1\" class=\"dataframe\">\n",
       "  <thead>\n",
       "    <tr style=\"text-align: right;\">\n",
       "      <th></th>\n",
       "      <th>fit_time</th>\n",
       "      <th>score_time</th>\n",
       "      <th>test_accuracy</th>\n",
       "      <th>test_balanced_accuracy</th>\n",
       "      <th>test_roc_auc</th>\n",
       "      <th>test_specificity</th>\n",
       "      <th>test_sensitivity</th>\n",
       "      <th>test_MCC</th>\n",
       "    </tr>\n",
       "  </thead>\n",
       "  <tbody>\n",
       "    <tr>\n",
       "      <th>0</th>\n",
       "      <td>0.040676</td>\n",
       "      <td>0.011158</td>\n",
       "      <td>0.716667</td>\n",
       "      <td>0.718750</td>\n",
       "      <td>0.854353</td>\n",
       "      <td>0.687500</td>\n",
       "      <td>0.750000</td>\n",
       "      <td>0.436769</td>\n",
       "    </tr>\n",
       "    <tr>\n",
       "      <th>1</th>\n",
       "      <td>0.027637</td>\n",
       "      <td>0.004927</td>\n",
       "      <td>0.683333</td>\n",
       "      <td>0.680804</td>\n",
       "      <td>0.766741</td>\n",
       "      <td>0.718750</td>\n",
       "      <td>0.642857</td>\n",
       "      <td>0.362620</td>\n",
       "    </tr>\n",
       "    <tr>\n",
       "      <th>2</th>\n",
       "      <td>0.015113</td>\n",
       "      <td>0.004964</td>\n",
       "      <td>0.750000</td>\n",
       "      <td>0.751390</td>\n",
       "      <td>0.811457</td>\n",
       "      <td>0.709677</td>\n",
       "      <td>0.793103</td>\n",
       "      <td>0.503622</td>\n",
       "    </tr>\n",
       "    <tr>\n",
       "      <th>3</th>\n",
       "      <td>0.021710</td>\n",
       "      <td>0.005157</td>\n",
       "      <td>0.583333</td>\n",
       "      <td>0.581201</td>\n",
       "      <td>0.689655</td>\n",
       "      <td>0.645161</td>\n",
       "      <td>0.517241</td>\n",
       "      <td>0.163775</td>\n",
       "    </tr>\n",
       "    <tr>\n",
       "      <th>4</th>\n",
       "      <td>0.010676</td>\n",
       "      <td>0.005015</td>\n",
       "      <td>0.833333</td>\n",
       "      <td>0.832036</td>\n",
       "      <td>0.878754</td>\n",
       "      <td>0.870968</td>\n",
       "      <td>0.793103</td>\n",
       "      <td>0.667046</td>\n",
       "    </tr>\n",
       "  </tbody>\n",
       "</table>\n",
       "</div>"
      ],
      "text/plain": [
       "   fit_time  score_time  test_accuracy  test_balanced_accuracy  test_roc_auc  \\\n",
       "0  0.040676    0.011158       0.716667                0.718750      0.854353   \n",
       "1  0.027637    0.004927       0.683333                0.680804      0.766741   \n",
       "2  0.015113    0.004964       0.750000                0.751390      0.811457   \n",
       "3  0.021710    0.005157       0.583333                0.581201      0.689655   \n",
       "4  0.010676    0.005015       0.833333                0.832036      0.878754   \n",
       "\n",
       "   test_specificity  test_sensitivity  test_MCC  \n",
       "0          0.687500          0.750000  0.436769  \n",
       "1          0.718750          0.642857  0.362620  \n",
       "2          0.709677          0.793103  0.503622  \n",
       "3          0.645161          0.517241  0.163775  \n",
       "4          0.870968          0.793103  0.667046  "
      ]
     },
     "execution_count": 100,
     "metadata": {},
     "output_type": "execute_result"
    }
   ],
   "source": [
    "xgb_a549_maccs_cv"
   ]
  },
  {
   "cell_type": "markdown",
   "id": "relevant-illustration",
   "metadata": {},
   "source": [
    "#### A549 Test Set:"
   ]
  },
  {
   "cell_type": "code",
   "execution_count": 101,
   "id": "ordinary-sport",
   "metadata": {},
   "outputs": [
    {
     "name": "stdout",
     "output_type": "stream",
     "text": [
      "Accuracy Score: 0.64\n",
      "Balanced Accuracy: 0.64\n",
      "MCC Score: 0.28\n",
      "Sensitivity Score: 0.639\n",
      "Specificity Score: 0.641\n",
      "\n",
      "********************** Graph *****************************\n",
      "\n"
     ]
    },
    {
     "data": {
      "image/png": "[encoded data removed]",
      "text/plain": [
       "<Figure size 360x360 with 2 Axes>"
      ]
     },
     "metadata": {
      "needs_background": "light"
     },
     "output_type": "display_data"
    }
   ],
   "source": [
    "best_model_xgb_A549_Maccs.fit(np.array(X_Macc_train_a549), y_Macc_train_a549,eval_metric='error')\n",
    "prediction_a549_maccs_xgb = best_model_xgb_A549_Maccs.predict(np.array(X_Macc_test_a549))\n",
    "xgb_test_a549_maccs=permonce_measure(y_Macc_test_a549,prediction_a549_maccs_xgb)"
   ]
  },
  {
   "cell_type": "code",
   "execution_count": 102,
   "id": "devoted-october",
   "metadata": {},
   "outputs": [
    {
     "name": "stdout",
     "output_type": "stream",
     "text": [
      "No Skill: ROC AUC=0.500\n",
      "ROC AUC=0.749\n"
     ]
    },
    {
     "data": {
      "image/png": "[encoded data removed]",
      "text/plain": [
       "<Figure size 432x288 with 1 Axes>"
      ]
     },
     "metadata": {
      "needs_background": "light"
     },
     "output_type": "display_data"
    }
   ],
   "source": [
    "prediction_a549_maccs_xgb_probs = best_model_xgb_A549_Maccs.predict_proba(np.array(X_Macc_test_a549))\n",
    "roc_auc_a549_maccs=roc_auc(y_Macc_test_a549,prediction_a549_maccs_xgb_probs,'XGB')\n",
    "xgb_test_a549_maccs.update(roc_auc_a549_maccs)"
   ]
  },
  {
   "cell_type": "markdown",
   "id": "frozen-session",
   "metadata": {},
   "source": [
    "---------------------------------------------------------------------------------------------------------------------"
   ]
  },
  {
   "cell_type": "markdown",
   "id": "virgin-walter",
   "metadata": {},
   "source": [
    "## For Morgan2:"
   ]
  },
  {
   "cell_type": "markdown",
   "id": "outside-decline",
   "metadata": {},
   "source": [
    "### For MCF7:"
   ]
  },
  {
   "cell_type": "code",
   "execution_count": 103,
   "id": "deluxe-chapel",
   "metadata": {},
   "outputs": [
    {
     "name": "stdout",
     "output_type": "stream",
     "text": [
      "********************************** Wait *****************************************************\n",
      "\n",
      "Fitting 5 folds for each of 1001 candidates, totalling 5005 fits\n",
      "\n",
      "******************************** Done ******************************************************\n",
      "CPU times: user 10.8 s, sys: 495 ms, total: 11.3 s\n",
      "Wall time: 31min 15s\n"
     ]
    }
   ],
   "source": [
    "%%time\n",
    "print('********************************** Wait *****************************************************\\n')\n",
    "grid_search_xgb_mcf7_morgan2 = GridSearchCV(estimator = xgb, param_grid = param_grid_xgb, cv = 5, n_jobs = -1, verbose = 2,scoring='recall')\n",
    "grid_search_xgb_mcf7_morgan2.fit(np.array(X_Morgan2_train_mcf7), y_Morgan2_train_mcf7,eval_metric='error')\n",
    "print('\\n******************************** Done ******************************************************')\n",
    "MCF7_Morgan2_xgb = pd.DataFrame(grid_search_xgb_mcf7_morgan2.cv_results_)"
   ]
  },
  {
   "cell_type": "code",
   "execution_count": 104,
   "id": "plain-madagascar",
   "metadata": {},
   "outputs": [],
   "source": [
    "#MCF7_Morgan2_xgb.to_csv('MCF7_Morgan2_xgb_auc.csv',index=False)"
   ]
  },
  {
   "cell_type": "code",
   "execution_count": 105,
   "id": "powerful-twenty",
   "metadata": {},
   "outputs": [
    {
     "name": "stdout",
     "output_type": "stream",
     "text": [
      "  Best Parameter are:\n",
      " XGBClassifier(base_score=0.5, booster='gbtree', colsample_bylevel=1,\n",
      "              colsample_bynode=1, colsample_bytree=1, eval_metric='error',\n",
      "              gamma=0, gpu_id=-1, importance_type='gain',\n",
      "              interaction_constraints='', learning_rate=0.300000012,\n",
      "              max_delta_step=0, max_depth=6, min_child_weight=1, missing=nan,\n",
      "              monotone_constraints='()', n_estimators=42, n_jobs=4,\n",
      "              num_parallel_tree=1, random_state=1, reg_alpha=0, reg_lambda=1,\n",
      "              scale_pos_weight=1, subsample=1, tree_method='exact',\n",
      "              use_label_encoder=False, validate_parameters=1, verbosity=None)\n"
     ]
    }
   ],
   "source": [
    "print('  Best Parameter are:\\n',grid_search_xgb_mcf7_morgan2.best_estimator_)"
   ]
  },
  {
   "cell_type": "code",
   "execution_count": 106,
   "id": "scientific-national",
   "metadata": {},
   "outputs": [],
   "source": [
    "best_model_xgb_MCF7_Morgan2 = grid_search_xgb_mcf7_morgan2.best_estimator_\n",
    "#best_model_xgb_MCF7_Morgan2 = XGBClassifier(use_label_encoder=False,n_estimators=30,gamma=1,random_state=1,eval_metric='error')"
   ]
  },
  {
   "cell_type": "code",
   "execution_count": 107,
   "id": "former-relation",
   "metadata": {},
   "outputs": [
    {
     "name": "stdout",
     "output_type": "stream",
     "text": [
      "Accuracy: 0.805 \n",
      "Balanced_accuracy: 0.795 \n",
      "AUC_Score: 0.841 \n",
      "Specificity: 0.872 \n",
      "Sensitivity: 0.717 \n",
      "MCC: 0.603\n"
     ]
    }
   ],
   "source": [
    "xgb_mcf7_morgan2_cv,xgb_mcf7_morgan2_mean=cv_result(best_model_xgb_MCF7_Morgan2,np.array(X_Morgan2_train_mcf7),y_Morgan2_train_mcf7)"
   ]
  },
  {
   "cell_type": "code",
   "execution_count": 108,
   "id": "assigned-brain",
   "metadata": {},
   "outputs": [
    {
     "data": {
      "text/html": [
       "<div>\n",
       "<style scoped>\n",
       "    .dataframe tbody tr th:only-of-type {\n",
       "        vertical-align: middle;\n",
       "    }\n",
       "\n",
       "    .dataframe tbody tr th {\n",
       "        vertical-align: top;\n",
       "    }\n",
       "\n",
       "    .dataframe thead th {\n",
       "        text-align: right;\n",
       "    }\n",
       "</style>\n",
       "<table border=\"1\" class=\"dataframe\">\n",
       "  <thead>\n",
       "    <tr style=\"text-align: right;\">\n",
       "      <th></th>\n",
       "      <th>fit_time</th>\n",
       "      <th>score_time</th>\n",
       "      <th>test_accuracy</th>\n",
       "      <th>test_balanced_accuracy</th>\n",
       "      <th>test_roc_auc</th>\n",
       "      <th>test_specificity</th>\n",
       "      <th>test_sensitivity</th>\n",
       "      <th>test_MCC</th>\n",
       "    </tr>\n",
       "  </thead>\n",
       "  <tbody>\n",
       "    <tr>\n",
       "      <th>0</th>\n",
       "      <td>0.164082</td>\n",
       "      <td>0.006659</td>\n",
       "      <td>0.808219</td>\n",
       "      <td>0.798399</td>\n",
       "      <td>0.826220</td>\n",
       "      <td>0.878049</td>\n",
       "      <td>0.718750</td>\n",
       "      <td>0.608989</td>\n",
       "    </tr>\n",
       "    <tr>\n",
       "      <th>1</th>\n",
       "      <td>0.140296</td>\n",
       "      <td>0.006425</td>\n",
       "      <td>0.780822</td>\n",
       "      <td>0.770579</td>\n",
       "      <td>0.837652</td>\n",
       "      <td>0.853659</td>\n",
       "      <td>0.687500</td>\n",
       "      <td>0.552212</td>\n",
       "    </tr>\n",
       "    <tr>\n",
       "      <th>2</th>\n",
       "      <td>0.144617</td>\n",
       "      <td>0.006256</td>\n",
       "      <td>0.767123</td>\n",
       "      <td>0.754954</td>\n",
       "      <td>0.824695</td>\n",
       "      <td>0.853659</td>\n",
       "      <td>0.656250</td>\n",
       "      <td>0.524081</td>\n",
       "    </tr>\n",
       "    <tr>\n",
       "      <th>3</th>\n",
       "      <td>0.136331</td>\n",
       "      <td>0.006445</td>\n",
       "      <td>0.847222</td>\n",
       "      <td>0.830448</td>\n",
       "      <td>0.906373</td>\n",
       "      <td>0.951220</td>\n",
       "      <td>0.709677</td>\n",
       "      <td>0.694193</td>\n",
       "    </tr>\n",
       "    <tr>\n",
       "      <th>4</th>\n",
       "      <td>0.136139</td>\n",
       "      <td>0.006227</td>\n",
       "      <td>0.819444</td>\n",
       "      <td>0.818750</td>\n",
       "      <td>0.812109</td>\n",
       "      <td>0.825000</td>\n",
       "      <td>0.812500</td>\n",
       "      <td>0.635764</td>\n",
       "    </tr>\n",
       "  </tbody>\n",
       "</table>\n",
       "</div>"
      ],
      "text/plain": [
       "   fit_time  score_time  test_accuracy  test_balanced_accuracy  test_roc_auc  \\\n",
       "0  0.164082    0.006659       0.808219                0.798399      0.826220   \n",
       "1  0.140296    0.006425       0.780822                0.770579      0.837652   \n",
       "2  0.144617    0.006256       0.767123                0.754954      0.824695   \n",
       "3  0.136331    0.006445       0.847222                0.830448      0.906373   \n",
       "4  0.136139    0.006227       0.819444                0.818750      0.812109   \n",
       "\n",
       "   test_specificity  test_sensitivity  test_MCC  \n",
       "0          0.878049          0.718750  0.608989  \n",
       "1          0.853659          0.687500  0.552212  \n",
       "2          0.853659          0.656250  0.524081  \n",
       "3          0.951220          0.709677  0.694193  \n",
       "4          0.825000          0.812500  0.635764  "
      ]
     },
     "execution_count": 108,
     "metadata": {},
     "output_type": "execute_result"
    }
   ],
   "source": [
    "xgb_mcf7_morgan2_cv"
   ]
  },
  {
   "cell_type": "markdown",
   "id": "architectural-benjamin",
   "metadata": {},
   "source": [
    "#### Test set for MCF7:"
   ]
  },
  {
   "cell_type": "code",
   "execution_count": 109,
   "id": "cardiovascular-gather",
   "metadata": {},
   "outputs": [
    {
     "name": "stdout",
     "output_type": "stream",
     "text": [
      "Accuracy Score: 0.747\n",
      "Balanced Accuracy: 0.737\n",
      "MCC Score: 0.483\n",
      "Sensitivity Score: 0.65\n",
      "Specificity Score: 0.824\n",
      "\n",
      "********************** Graph *****************************\n",
      "\n"
     ]
    },
    {
     "data": {
      "image/png": "[encoded data removed]",
      "text/plain": [
       "<Figure size 360x360 with 2 Axes>"
      ]
     },
     "metadata": {
      "needs_background": "light"
     },
     "output_type": "display_data"
    }
   ],
   "source": [
    "best_model_xgb_MCF7_Morgan2.fit(np.array(X_Morgan2_train_mcf7), y_Morgan2_train_mcf7,eval_metric='error')\n",
    "prediction_mcf7_morgan2_xgb = best_model_xgb_MCF7_Morgan2.predict(np.array(X_Morgan2_test_mcf7))\n",
    "xgb_test_mcf7_morgan2 = permonce_measure(y_Morgan2_test_mcf7,prediction_mcf7_morgan2_xgb)"
   ]
  },
  {
   "cell_type": "code",
   "execution_count": 110,
   "id": "earlier-hygiene",
   "metadata": {},
   "outputs": [
    {
     "name": "stdout",
     "output_type": "stream",
     "text": [
      "No Skill: ROC AUC=0.500\n",
      "ROC AUC=0.814\n"
     ]
    },
    {
     "data": {
      "image/png": "[encoded data removed]",
      "text/plain": [
       "<Figure size 432x288 with 1 Axes>"
      ]
     },
     "metadata": {
      "needs_background": "light"
     },
     "output_type": "display_data"
    }
   ],
   "source": [
    "prediction_mcf7_morgan2_xgb_probs = best_model_xgb_MCF7_Morgan2.predict_proba(np.array(X_Morgan2_test_mcf7))\n",
    "roc_auc_mcf7_morgan2=roc_auc(y_Morgan2_test_mcf7,prediction_mcf7_morgan2_xgb_probs,'XGB')\n",
    "xgb_test_mcf7_morgan2.update(roc_auc_mcf7_morgan2)"
   ]
  },
  {
   "cell_type": "markdown",
   "id": "transparent-savings",
   "metadata": {},
   "source": [
    "-------------------------------------------------------------------------------------------------------------------"
   ]
  },
  {
   "cell_type": "markdown",
   "id": "outer-latter",
   "metadata": {},
   "source": [
    "### For Breast:"
   ]
  },
  {
   "cell_type": "code",
   "execution_count": 111,
   "id": "racial-sight",
   "metadata": {},
   "outputs": [
    {
     "name": "stdout",
     "output_type": "stream",
     "text": [
      "********************************** Wait *****************************************************\n",
      "\n",
      "Fitting 5 folds for each of 1001 candidates, totalling 5005 fits\n",
      "\n",
      "******************************** Done ******************************************************\n",
      "CPU times: user 11.4 s, sys: 424 ms, total: 11.8 s\n",
      "Wall time: 34min 1s\n"
     ]
    }
   ],
   "source": [
    "%%time\n",
    "print('********************************** Wait *****************************************************\\n')\n",
    "grid_search_xgb_breast_morgan2 = GridSearchCV(estimator = xgb, param_grid = param_grid_xgb, cv = 5, n_jobs = -1, verbose = 2,scoring='recall')\n",
    "grid_search_xgb_breast_morgan2.fit(np.array(X_Morgan2_train_breast), y_Morgan2_train_breast)\n",
    "print('\\n******************************** Done ******************************************************')\n",
    "Breast_Morgan2_xgb = pd.DataFrame(grid_search_xgb_breast_morgan2.cv_results_)"
   ]
  },
  {
   "cell_type": "code",
   "execution_count": 112,
   "id": "curious-robin",
   "metadata": {},
   "outputs": [],
   "source": [
    "#Breast_Morgan2_xgb.to_csv('Breast_Morgan2_xgb_auc.csv',index=False)"
   ]
  },
  {
   "cell_type": "code",
   "execution_count": 113,
   "id": "following-organ",
   "metadata": {},
   "outputs": [
    {
     "name": "stdout",
     "output_type": "stream",
     "text": [
      "  Best Parameter are:\n",
      " XGBClassifier(base_score=0.5, booster='gbtree', colsample_bylevel=1,\n",
      "              colsample_bynode=1, colsample_bytree=1, eval_metric='error',\n",
      "              gamma=0, gpu_id=-1, importance_type='gain',\n",
      "              interaction_constraints='', learning_rate=0.300000012,\n",
      "              max_delta_step=0, max_depth=6, min_child_weight=1, missing=nan,\n",
      "              monotone_constraints='()', n_estimators=72, n_jobs=4,\n",
      "              num_parallel_tree=1, random_state=1, reg_alpha=0, reg_lambda=1,\n",
      "              scale_pos_weight=1, subsample=1, tree_method='exact',\n",
      "              use_label_encoder=False, validate_parameters=1, verbosity=None)\n"
     ]
    }
   ],
   "source": [
    "print('  Best Parameter are:\\n',grid_search_xgb_breast_morgan2.best_estimator_)"
   ]
  },
  {
   "cell_type": "code",
   "execution_count": 114,
   "id": "numerous-powell",
   "metadata": {},
   "outputs": [],
   "source": [
    "best_model_xgb_Breast_Morgan2 = grid_search_xgb_breast_morgan2.best_estimator_\n",
    "#best_model_xgb_Breast_Morgan2 = XGBClassifier(use_label_encoder=False,n_estimators=30,gamma=0.5,random_state=1,eval_metric='error')"
   ]
  },
  {
   "cell_type": "code",
   "execution_count": 115,
   "id": "forbidden-pregnancy",
   "metadata": {},
   "outputs": [
    {
     "name": "stdout",
     "output_type": "stream",
     "text": [
      "Accuracy: 0.772 \n",
      "Balanced_accuracy: 0.767 \n",
      "AUC_Score: 0.849 \n",
      "Specificity: 0.818 \n",
      "Sensitivity: 0.716 \n",
      "MCC: 0.543\n"
     ]
    }
   ],
   "source": [
    "xgb_breast_morgan2_cv,xgb_breast_morgan2_mean=cv_result(best_model_xgb_Breast_Morgan2,np.array(X_Morgan2_train_breast),y_Morgan2_train_breast)"
   ]
  },
  {
   "cell_type": "code",
   "execution_count": 116,
   "id": "unlikely-kentucky",
   "metadata": {},
   "outputs": [
    {
     "data": {
      "text/html": [
       "<div>\n",
       "<style scoped>\n",
       "    .dataframe tbody tr th:only-of-type {\n",
       "        vertical-align: middle;\n",
       "    }\n",
       "\n",
       "    .dataframe tbody tr th {\n",
       "        vertical-align: top;\n",
       "    }\n",
       "\n",
       "    .dataframe thead th {\n",
       "        text-align: right;\n",
       "    }\n",
       "</style>\n",
       "<table border=\"1\" class=\"dataframe\">\n",
       "  <thead>\n",
       "    <tr style=\"text-align: right;\">\n",
       "      <th></th>\n",
       "      <th>fit_time</th>\n",
       "      <th>score_time</th>\n",
       "      <th>test_accuracy</th>\n",
       "      <th>test_balanced_accuracy</th>\n",
       "      <th>test_roc_auc</th>\n",
       "      <th>test_specificity</th>\n",
       "      <th>test_sensitivity</th>\n",
       "      <th>test_MCC</th>\n",
       "    </tr>\n",
       "  </thead>\n",
       "  <tbody>\n",
       "    <tr>\n",
       "      <th>0</th>\n",
       "      <td>0.320578</td>\n",
       "      <td>0.006943</td>\n",
       "      <td>0.790698</td>\n",
       "      <td>0.797600</td>\n",
       "      <td>0.897163</td>\n",
       "      <td>0.723404</td>\n",
       "      <td>0.871795</td>\n",
       "      <td>0.595199</td>\n",
       "    </tr>\n",
       "    <tr>\n",
       "      <th>1</th>\n",
       "      <td>0.260162</td>\n",
       "      <td>0.006905</td>\n",
       "      <td>0.744186</td>\n",
       "      <td>0.733224</td>\n",
       "      <td>0.784506</td>\n",
       "      <td>0.851064</td>\n",
       "      <td>0.615385</td>\n",
       "      <td>0.483641</td>\n",
       "    </tr>\n",
       "    <tr>\n",
       "      <th>2</th>\n",
       "      <td>0.260720</td>\n",
       "      <td>0.006861</td>\n",
       "      <td>0.802326</td>\n",
       "      <td>0.799509</td>\n",
       "      <td>0.911075</td>\n",
       "      <td>0.829787</td>\n",
       "      <td>0.769231</td>\n",
       "      <td>0.600494</td>\n",
       "    </tr>\n",
       "    <tr>\n",
       "      <th>3</th>\n",
       "      <td>0.264010</td>\n",
       "      <td>0.006873</td>\n",
       "      <td>0.790698</td>\n",
       "      <td>0.788871</td>\n",
       "      <td>0.858702</td>\n",
       "      <td>0.808511</td>\n",
       "      <td>0.769231</td>\n",
       "      <td>0.577741</td>\n",
       "    </tr>\n",
       "    <tr>\n",
       "      <th>4</th>\n",
       "      <td>0.274411</td>\n",
       "      <td>0.006878</td>\n",
       "      <td>0.732558</td>\n",
       "      <td>0.713816</td>\n",
       "      <td>0.794956</td>\n",
       "      <td>0.875000</td>\n",
       "      <td>0.552632</td>\n",
       "      <td>0.457588</td>\n",
       "    </tr>\n",
       "  </tbody>\n",
       "</table>\n",
       "</div>"
      ],
      "text/plain": [
       "   fit_time  score_time  test_accuracy  test_balanced_accuracy  test_roc_auc  \\\n",
       "0  0.320578    0.006943       0.790698                0.797600      0.897163   \n",
       "1  0.260162    0.006905       0.744186                0.733224      0.784506   \n",
       "2  0.260720    0.006861       0.802326                0.799509      0.911075   \n",
       "3  0.264010    0.006873       0.790698                0.788871      0.858702   \n",
       "4  0.274411    0.006878       0.732558                0.713816      0.794956   \n",
       "\n",
       "   test_specificity  test_sensitivity  test_MCC  \n",
       "0          0.723404          0.871795  0.595199  \n",
       "1          0.851064          0.615385  0.483641  \n",
       "2          0.829787          0.769231  0.600494  \n",
       "3          0.808511          0.769231  0.577741  \n",
       "4          0.875000          0.552632  0.457588  "
      ]
     },
     "execution_count": 116,
     "metadata": {},
     "output_type": "execute_result"
    }
   ],
   "source": [
    "xgb_breast_morgan2_cv"
   ]
  },
  {
   "cell_type": "markdown",
   "id": "killing-brain",
   "metadata": {},
   "source": [
    "#### Test set for Breast:"
   ]
  },
  {
   "cell_type": "code",
   "execution_count": 117,
   "id": "composite-springer",
   "metadata": {},
   "outputs": [
    {
     "name": "stdout",
     "output_type": "stream",
     "text": [
      "Accuracy Score: 0.787\n",
      "Balanced Accuracy: 0.784\n",
      "MCC Score: 0.57\n",
      "Sensitivity Score: 0.755\n",
      "Specificity Score: 0.814\n",
      "\n",
      "********************** Graph *****************************\n",
      "\n"
     ]
    },
    {
     "data": {
      "image/png": "[encoded data removed]",
      "text/plain": [
       "<Figure size 360x360 with 2 Axes>"
      ]
     },
     "metadata": {
      "needs_background": "light"
     },
     "output_type": "display_data"
    }
   ],
   "source": [
    "best_model_xgb_Breast_Morgan2.fit(np.array(X_Morgan2_train_breast), y_Morgan2_train_breast,eval_metric='error')\n",
    "prediction_breast_morgan2_xgb = best_model_xgb_Breast_Morgan2.predict(np.array(X_Morgan2_test_breast))\n",
    "xgb_test_breast_morgan2 = permonce_measure(y_Morgan2_test_breast,prediction_breast_morgan2_xgb)"
   ]
  },
  {
   "cell_type": "code",
   "execution_count": 118,
   "id": "facial-queens",
   "metadata": {},
   "outputs": [
    {
     "name": "stdout",
     "output_type": "stream",
     "text": [
      "No Skill: ROC AUC=0.500\n",
      "ROC AUC=0.836\n"
     ]
    },
    {
     "data": {
      "image/png": "[encoded data removed]",
      "text/plain": [
       "<Figure size 432x288 with 1 Axes>"
      ]
     },
     "metadata": {
      "needs_background": "light"
     },
     "output_type": "display_data"
    }
   ],
   "source": [
    "prediction_breast_morgan2_xgb_probs = best_model_xgb_Breast_Morgan2.predict_proba(np.array(X_Morgan2_test_breast))\n",
    "roc_auc_breast_morgan2 = roc_auc(y_Morgan2_test_breast,prediction_breast_morgan2_xgb_probs,'XGB')\n",
    "xgb_test_breast_morgan2.update(roc_auc_breast_morgan2)"
   ]
  },
  {
   "cell_type": "markdown",
   "id": "ruled-protest",
   "metadata": {},
   "source": [
    "--------------------------------------------------------------------------------------------------------------------"
   ]
  },
  {
   "cell_type": "markdown",
   "id": "floral-spotlight",
   "metadata": {},
   "source": [
    "### For Lung:"
   ]
  },
  {
   "cell_type": "code",
   "execution_count": 119,
   "id": "capital-weekly",
   "metadata": {},
   "outputs": [
    {
     "name": "stdout",
     "output_type": "stream",
     "text": [
      "********************************** Wait *****************************************************\n",
      "\n",
      "Fitting 5 folds for each of 1001 candidates, totalling 5005 fits\n",
      "\n",
      "******************************** Done ******************************************************\n",
      "CPU times: user 12 s, sys: 487 ms, total: 12.5 s\n",
      "Wall time: 37min 6s\n"
     ]
    }
   ],
   "source": [
    "%%time\n",
    "print('********************************** Wait *****************************************************\\n')\n",
    "grid_search_xgb_lung_morgan2 = GridSearchCV(estimator = xgb, param_grid = param_grid_xgb, cv = 5, n_jobs = -1, verbose = 2,scoring='recall')\n",
    "grid_search_xgb_lung_morgan2.fit(np.array(X_Morgan2_train_lung), y_Morgan2_train_lung,eval_metric='error')\n",
    "print('\\n******************************** Done ******************************************************')\n",
    "Lung_Morgan2_xgb = pd.DataFrame(grid_search_xgb_lung_morgan2.cv_results_)"
   ]
  },
  {
   "cell_type": "code",
   "execution_count": 120,
   "id": "human-material",
   "metadata": {},
   "outputs": [],
   "source": [
    "#Lung_Morgan2_xgb.to_csv('Lung_Morgan2_xgb_auc.csv',index=False)"
   ]
  },
  {
   "cell_type": "code",
   "execution_count": 121,
   "id": "brutal-slope",
   "metadata": {},
   "outputs": [
    {
     "name": "stdout",
     "output_type": "stream",
     "text": [
      "  Best Parameter are:\n",
      " XGBClassifier(base_score=0.5, booster='gbtree', colsample_bylevel=1,\n",
      "              colsample_bynode=1, colsample_bytree=1, eval_metric='error',\n",
      "              gamma=0, gpu_id=-1, importance_type='gain',\n",
      "              interaction_constraints='', learning_rate=0.300000012,\n",
      "              max_delta_step=0, max_depth=6, min_child_weight=1, missing=nan,\n",
      "              monotone_constraints='()', n_estimators=94, n_jobs=4,\n",
      "              num_parallel_tree=1, random_state=1, reg_alpha=0, reg_lambda=1,\n",
      "              scale_pos_weight=1, subsample=1, tree_method='exact',\n",
      "              use_label_encoder=False, validate_parameters=1, verbosity=None)\n"
     ]
    }
   ],
   "source": [
    "print('  Best Parameter are:\\n',grid_search_xgb_lung_morgan2.best_estimator_)"
   ]
  },
  {
   "cell_type": "code",
   "execution_count": 122,
   "id": "broad-performer",
   "metadata": {},
   "outputs": [],
   "source": [
    "best_model_xgb_Lung_Morgan2 = grid_search_xgb_lung_morgan2.best_estimator_\n",
    "#best_model_xgb_Lung_Morgan2= XGBClassifier(use_label_encoder=False,n_estimators=44,gamma=1,random_state=1,eval_metric='error')"
   ]
  },
  {
   "cell_type": "code",
   "execution_count": 123,
   "id": "disturbed-multiple",
   "metadata": {},
   "outputs": [
    {
     "name": "stdout",
     "output_type": "stream",
     "text": [
      "Accuracy: 0.706 \n",
      "Balanced_accuracy: 0.704 \n",
      "AUC_Score: 0.775 \n",
      "Specificity: 0.751 \n",
      "Sensitivity: 0.656 \n",
      "MCC: 0.411\n"
     ]
    }
   ],
   "source": [
    "xgb_lung_morgan2_cv,xgb_lung_morgan2_mean=cv_result(best_model_xgb_Lung_Morgan2,np.array(X_Morgan2_train_lung),y_Morgan2_train_lung)"
   ]
  },
  {
   "cell_type": "code",
   "execution_count": 124,
   "id": "drawn-variety",
   "metadata": {},
   "outputs": [
    {
     "data": {
      "text/html": [
       "<div>\n",
       "<style scoped>\n",
       "    .dataframe tbody tr th:only-of-type {\n",
       "        vertical-align: middle;\n",
       "    }\n",
       "\n",
       "    .dataframe tbody tr th {\n",
       "        vertical-align: top;\n",
       "    }\n",
       "\n",
       "    .dataframe thead th {\n",
       "        text-align: right;\n",
       "    }\n",
       "</style>\n",
       "<table border=\"1\" class=\"dataframe\">\n",
       "  <thead>\n",
       "    <tr style=\"text-align: right;\">\n",
       "      <th></th>\n",
       "      <th>fit_time</th>\n",
       "      <th>score_time</th>\n",
       "      <th>test_accuracy</th>\n",
       "      <th>test_balanced_accuracy</th>\n",
       "      <th>test_roc_auc</th>\n",
       "      <th>test_specificity</th>\n",
       "      <th>test_sensitivity</th>\n",
       "      <th>test_MCC</th>\n",
       "    </tr>\n",
       "  </thead>\n",
       "  <tbody>\n",
       "    <tr>\n",
       "      <th>0</th>\n",
       "      <td>0.437511</td>\n",
       "      <td>0.007142</td>\n",
       "      <td>0.663158</td>\n",
       "      <td>0.664444</td>\n",
       "      <td>0.752444</td>\n",
       "      <td>0.640000</td>\n",
       "      <td>0.688889</td>\n",
       "      <td>0.328597</td>\n",
       "    </tr>\n",
       "    <tr>\n",
       "      <th>1</th>\n",
       "      <td>0.372480</td>\n",
       "      <td>0.006908</td>\n",
       "      <td>0.747368</td>\n",
       "      <td>0.742222</td>\n",
       "      <td>0.833333</td>\n",
       "      <td>0.840000</td>\n",
       "      <td>0.644444</td>\n",
       "      <td>0.496044</td>\n",
       "    </tr>\n",
       "    <tr>\n",
       "      <th>2</th>\n",
       "      <td>0.388614</td>\n",
       "      <td>0.006887</td>\n",
       "      <td>0.705263</td>\n",
       "      <td>0.702222</td>\n",
       "      <td>0.704000</td>\n",
       "      <td>0.760000</td>\n",
       "      <td>0.644444</td>\n",
       "      <td>0.407719</td>\n",
       "    </tr>\n",
       "    <tr>\n",
       "      <th>3</th>\n",
       "      <td>0.371045</td>\n",
       "      <td>0.006864</td>\n",
       "      <td>0.691489</td>\n",
       "      <td>0.689569</td>\n",
       "      <td>0.773696</td>\n",
       "      <td>0.734694</td>\n",
       "      <td>0.644444</td>\n",
       "      <td>0.380957</td>\n",
       "    </tr>\n",
       "    <tr>\n",
       "      <th>4</th>\n",
       "      <td>0.370021</td>\n",
       "      <td>0.006921</td>\n",
       "      <td>0.723404</td>\n",
       "      <td>0.719545</td>\n",
       "      <td>0.813636</td>\n",
       "      <td>0.780000</td>\n",
       "      <td>0.659091</td>\n",
       "      <td>0.443138</td>\n",
       "    </tr>\n",
       "  </tbody>\n",
       "</table>\n",
       "</div>"
      ],
      "text/plain": [
       "   fit_time  score_time  test_accuracy  test_balanced_accuracy  test_roc_auc  \\\n",
       "0  0.437511    0.007142       0.663158                0.664444      0.752444   \n",
       "1  0.372480    0.006908       0.747368                0.742222      0.833333   \n",
       "2  0.388614    0.006887       0.705263                0.702222      0.704000   \n",
       "3  0.371045    0.006864       0.691489                0.689569      0.773696   \n",
       "4  0.370021    0.006921       0.723404                0.719545      0.813636   \n",
       "\n",
       "   test_specificity  test_sensitivity  test_MCC  \n",
       "0          0.640000          0.688889  0.328597  \n",
       "1          0.840000          0.644444  0.496044  \n",
       "2          0.760000          0.644444  0.407719  \n",
       "3          0.734694          0.644444  0.380957  \n",
       "4          0.780000          0.659091  0.443138  "
      ]
     },
     "execution_count": 124,
     "metadata": {},
     "output_type": "execute_result"
    }
   ],
   "source": [
    "xgb_lung_morgan2_cv"
   ]
  },
  {
   "cell_type": "markdown",
   "id": "female-filter",
   "metadata": {},
   "source": [
    "#### Test set for Lung:"
   ]
  },
  {
   "cell_type": "code",
   "execution_count": 125,
   "id": "lesser-breach",
   "metadata": {},
   "outputs": [
    {
     "name": "stdout",
     "output_type": "stream",
     "text": [
      "Accuracy Score: 0.706\n",
      "Balanced Accuracy: 0.703\n",
      "MCC Score: 0.408\n",
      "Sensitivity Score: 0.661\n",
      "Specificity Score: 0.746\n",
      "\n",
      "********************** Graph *****************************\n",
      "\n"
     ]
    },
    {
     "data": {
      "image/png": "[encoded data removed]",
      "text/plain": [
       "<Figure size 360x360 with 2 Axes>"
      ]
     },
     "metadata": {
      "needs_background": "light"
     },
     "output_type": "display_data"
    }
   ],
   "source": [
    "best_model_xgb_Lung_Morgan2.fit(np.array(X_Morgan2_train_lung), y_Morgan2_train_lung,eval_metric='error')\n",
    "prediction_lung_morgan2_xgb = best_model_xgb_Lung_Morgan2.predict(np.array(X_Morgan2_test_lung))\n",
    "xgb_test_lung_morgan2 = permonce_measure(y_Morgan2_test_lung,prediction_lung_morgan2_xgb)"
   ]
  },
  {
   "cell_type": "code",
   "execution_count": 126,
   "id": "massive-westminster",
   "metadata": {},
   "outputs": [
    {
     "name": "stdout",
     "output_type": "stream",
     "text": [
      "No Skill: ROC AUC=0.500\n",
      "ROC AUC=0.796\n"
     ]
    },
    {
     "data": {
      "image/png": "[encoded data removed]",
      "text/plain": [
       "<Figure size 432x288 with 1 Axes>"
      ]
     },
     "metadata": {
      "needs_background": "light"
     },
     "output_type": "display_data"
    }
   ],
   "source": [
    "prediction_lung_morgan2_xgb_probs = best_model_xgb_Lung_Morgan2.predict_proba(np.array(X_Morgan2_test_lung))\n",
    "roc_auc_lung_morgan2 = roc_auc(y_Morgan2_test_lung,prediction_lung_morgan2_xgb_probs,'XGB')\n",
    "xgb_test_lung_morgan2.update(roc_auc_lung_morgan2)"
   ]
  },
  {
   "cell_type": "markdown",
   "id": "temporal-ballet",
   "metadata": {},
   "source": [
    "---------------------------------------------------------------------------------------------------------------------"
   ]
  },
  {
   "cell_type": "markdown",
   "id": "limited-aaron",
   "metadata": {},
   "source": [
    "### For A549:"
   ]
  },
  {
   "cell_type": "code",
   "execution_count": 127,
   "id": "closing-column",
   "metadata": {},
   "outputs": [
    {
     "name": "stdout",
     "output_type": "stream",
     "text": [
      "********************************** Wait *****************************************************\n",
      "\n",
      "Fitting 5 folds for each of 1001 candidates, totalling 5005 fits\n",
      "\n",
      "******************************** Done ******************************************************\n",
      "CPU times: user 10.7 s, sys: 542 ms, total: 11.3 s\n",
      "Wall time: 27min 43s\n"
     ]
    }
   ],
   "source": [
    "%%time\n",
    "print('********************************** Wait *****************************************************\\n')\n",
    "grid_search_xgb_a549_morgan2 = GridSearchCV(estimator = xgb, param_grid = param_grid_xgb, cv = 5, n_jobs = -1, verbose = 2,scoring='recall')\n",
    "grid_search_xgb_a549_morgan2.fit(np.array(X_Morgan2_train_a549), y_Morgan2_train_a549,eval_metric='error')\n",
    "print('\\n******************************** Done ******************************************************')\n",
    "A549_Morgan2_xgb = pd.DataFrame(grid_search_xgb_a549_morgan2.cv_results_)"
   ]
  },
  {
   "cell_type": "code",
   "execution_count": 128,
   "id": "uniform-feature",
   "metadata": {},
   "outputs": [],
   "source": [
    "#A549_Morgan2_xgb.to_csv('A549_Morgan2_knn_auc.csv',index=False)"
   ]
  },
  {
   "cell_type": "code",
   "execution_count": 129,
   "id": "removable-dayton",
   "metadata": {},
   "outputs": [
    {
     "name": "stdout",
     "output_type": "stream",
     "text": [
      "  Best Parameter are:\n",
      " XGBClassifier(base_score=0.5, booster='gbtree', colsample_bylevel=1,\n",
      "              colsample_bynode=1, colsample_bytree=1, eval_metric='error',\n",
      "              gamma=0, gpu_id=-1, importance_type='gain',\n",
      "              interaction_constraints='', learning_rate=0.300000012,\n",
      "              max_delta_step=0, max_depth=6, min_child_weight=1, missing=nan,\n",
      "              monotone_constraints='()', n_estimators=59, n_jobs=4,\n",
      "              num_parallel_tree=1, random_state=1, reg_alpha=0, reg_lambda=1,\n",
      "              scale_pos_weight=1, subsample=1, tree_method='exact',\n",
      "              use_label_encoder=False, validate_parameters=1, verbosity=None)\n"
     ]
    }
   ],
   "source": [
    "print('  Best Parameter are:\\n',grid_search_xgb_a549_morgan2.best_estimator_)"
   ]
  },
  {
   "cell_type": "code",
   "execution_count": 27,
   "id": "cathedral-rainbow",
   "metadata": {},
   "outputs": [],
   "source": [
    "best_model_xgb_A549_Morgan2 = grid_search_xgb_a549_morgan2.best_estimator_\n",
    "#best_model_xgb_A549_Morgan2 = XGBClassifier(use_label_encoder=False,n_estimators=73,gamma=1,random_state=1,eval_metric='error')"
   ]
  },
  {
   "cell_type": "code",
   "execution_count": 28,
   "id": "obvious-record",
   "metadata": {},
   "outputs": [
    {
     "name": "stdout",
     "output_type": "stream",
     "text": [
      "Accuracy: 0.747 \n",
      "Balanced_accuracy: 0.746 \n",
      "AUC_Score: 0.803 \n",
      "Specificity: 0.765 \n",
      "Sensitivity: 0.728 \n",
      "MCC: 0.497\n"
     ]
    }
   ],
   "source": [
    "xgb_a549_morgan2_cv,xgb_a549_morgan2_mean=cv_result(best_model_xgb_A549_Morgan2,np.array(X_Morgan2_train_a549),y_Morgan2_train_a549)"
   ]
  },
  {
   "cell_type": "code",
   "execution_count": 29,
   "id": "regulated-scratch",
   "metadata": {},
   "outputs": [
    {
     "data": {
      "text/html": [
       "<div>\n",
       "<style scoped>\n",
       "    .dataframe tbody tr th:only-of-type {\n",
       "        vertical-align: middle;\n",
       "    }\n",
       "\n",
       "    .dataframe tbody tr th {\n",
       "        vertical-align: top;\n",
       "    }\n",
       "\n",
       "    .dataframe thead th {\n",
       "        text-align: right;\n",
       "    }\n",
       "</style>\n",
       "<table border=\"1\" class=\"dataframe\">\n",
       "  <thead>\n",
       "    <tr style=\"text-align: right;\">\n",
       "      <th></th>\n",
       "      <th>fit_time</th>\n",
       "      <th>score_time</th>\n",
       "      <th>test_accuracy</th>\n",
       "      <th>test_balanced_accuracy</th>\n",
       "      <th>test_roc_auc</th>\n",
       "      <th>test_specificity</th>\n",
       "      <th>test_sensitivity</th>\n",
       "      <th>test_MCC</th>\n",
       "    </tr>\n",
       "  </thead>\n",
       "  <tbody>\n",
       "    <tr>\n",
       "      <th>0</th>\n",
       "      <td>0.277288</td>\n",
       "      <td>0.006870</td>\n",
       "      <td>0.750000</td>\n",
       "      <td>0.752232</td>\n",
       "      <td>0.829799</td>\n",
       "      <td>0.718750</td>\n",
       "      <td>0.785714</td>\n",
       "      <td>0.503622</td>\n",
       "    </tr>\n",
       "    <tr>\n",
       "      <th>1</th>\n",
       "      <td>0.262079</td>\n",
       "      <td>0.006299</td>\n",
       "      <td>0.766667</td>\n",
       "      <td>0.767857</td>\n",
       "      <td>0.823661</td>\n",
       "      <td>0.750000</td>\n",
       "      <td>0.785714</td>\n",
       "      <td>0.534522</td>\n",
       "    </tr>\n",
       "    <tr>\n",
       "      <th>2</th>\n",
       "      <td>0.191590</td>\n",
       "      <td>0.006091</td>\n",
       "      <td>0.683333</td>\n",
       "      <td>0.684650</td>\n",
       "      <td>0.770857</td>\n",
       "      <td>0.645161</td>\n",
       "      <td>0.724138</td>\n",
       "      <td>0.369917</td>\n",
       "    </tr>\n",
       "    <tr>\n",
       "      <th>3</th>\n",
       "      <td>0.211342</td>\n",
       "      <td>0.006433</td>\n",
       "      <td>0.733333</td>\n",
       "      <td>0.729700</td>\n",
       "      <td>0.721913</td>\n",
       "      <td>0.838710</td>\n",
       "      <td>0.620690</td>\n",
       "      <td>0.472178</td>\n",
       "    </tr>\n",
       "    <tr>\n",
       "      <th>4</th>\n",
       "      <td>0.171736</td>\n",
       "      <td>0.006378</td>\n",
       "      <td>0.800000</td>\n",
       "      <td>0.797553</td>\n",
       "      <td>0.866518</td>\n",
       "      <td>0.870968</td>\n",
       "      <td>0.724138</td>\n",
       "      <td>0.603212</td>\n",
       "    </tr>\n",
       "  </tbody>\n",
       "</table>\n",
       "</div>"
      ],
      "text/plain": [
       "   fit_time  score_time  test_accuracy  test_balanced_accuracy  test_roc_auc  \\\n",
       "0  0.277288    0.006870       0.750000                0.752232      0.829799   \n",
       "1  0.262079    0.006299       0.766667                0.767857      0.823661   \n",
       "2  0.191590    0.006091       0.683333                0.684650      0.770857   \n",
       "3  0.211342    0.006433       0.733333                0.729700      0.721913   \n",
       "4  0.171736    0.006378       0.800000                0.797553      0.866518   \n",
       "\n",
       "   test_specificity  test_sensitivity  test_MCC  \n",
       "0          0.718750          0.785714  0.503622  \n",
       "1          0.750000          0.785714  0.534522  \n",
       "2          0.645161          0.724138  0.369917  \n",
       "3          0.838710          0.620690  0.472178  \n",
       "4          0.870968          0.724138  0.603212  "
      ]
     },
     "execution_count": 29,
     "metadata": {},
     "output_type": "execute_result"
    }
   ],
   "source": [
    "xgb_a549_morgan2_cv"
   ]
  },
  {
   "cell_type": "markdown",
   "id": "loved-inspection",
   "metadata": {},
   "source": [
    "#### Test set for A549:"
   ]
  },
  {
   "cell_type": "code",
   "execution_count": 30,
   "id": "endless-stomach",
   "metadata": {},
   "outputs": [
    {
     "name": "stdout",
     "output_type": "stream",
     "text": [
      "Accuracy Score: 0.72\n",
      "Balanced Accuracy: 0.723\n",
      "MCC Score: 0.451\n",
      "Sensitivity Score: 0.806\n",
      "Specificity Score: 0.641\n",
      "\n",
      "********************** Graph *****************************\n",
      "\n"
     ]
    },
    {
     "data": {
      "image/png": "[encoded data removed]",
      "text/plain": [
       "<Figure size 360x360 with 2 Axes>"
      ]
     },
     "metadata": {
      "needs_background": "light"
     },
     "output_type": "display_data"
    }
   ],
   "source": [
    "best_model_xgb_A549_Morgan2.fit(np.array(X_Morgan2_train_a549), y_Morgan2_train_a549,eval_metric='error')\n",
    "prediction_a549_morgan2_xgb = best_model_xgb_A549_Morgan2.predict(np.array(X_Morgan2_test_a549))\n",
    "xgb_test_a549_morgan2 = permonce_measure(y_Morgan2_test_a549,prediction_a549_morgan2_xgb)"
   ]
  },
  {
   "cell_type": "code",
   "execution_count": 31,
   "id": "british-homework",
   "metadata": {},
   "outputs": [
    {
     "name": "stdout",
     "output_type": "stream",
     "text": [
      "No Skill: ROC AUC=0.500\n",
      "ROC AUC=0.819\n"
     ]
    },
    {
     "data": {
      "image/png": "[encoded data removed]",
      "text/plain": [
       "<Figure size 432x288 with 1 Axes>"
      ]
     },
     "metadata": {
      "needs_background": "light"
     },
     "output_type": "display_data"
    }
   ],
   "source": [
    "prediction_a549_morgan2_xgb_probs = best_model_xgb_A549_Morgan2.predict_proba(np.array(X_Morgan2_test_a549))\n",
    "roc_auc_a549_morgan2 = roc_auc(y_Morgan2_test_a549,prediction_a549_morgan2_xgb_probs,'XGB')\n",
    "xgb_test_a549_morgan2.update(roc_auc_a549_morgan2)"
   ]
  },
  {
   "cell_type": "markdown",
   "id": "protective-blake",
   "metadata": {},
   "source": [
    "## EnD!"
   ]
  },
  {
   "cell_type": "code",
   "execution_count": 135,
   "id": "sealed-pennsylvania",
   "metadata": {},
   "outputs": [
    {
     "data": {
      "text/html": [
       "<div>\n",
       "<style scoped>\n",
       "    .dataframe tbody tr th:only-of-type {\n",
       "        vertical-align: middle;\n",
       "    }\n",
       "\n",
       "    .dataframe tbody tr th {\n",
       "        vertical-align: top;\n",
       "    }\n",
       "\n",
       "    .dataframe thead th {\n",
       "        text-align: right;\n",
       "    }\n",
       "</style>\n",
       "<table border=\"1\" class=\"dataframe\">\n",
       "  <thead>\n",
       "    <tr style=\"text-align: right;\">\n",
       "      <th></th>\n",
       "      <th>Model</th>\n",
       "      <th>gamma</th>\n",
       "      <th>n_estimators</th>\n",
       "      <th>Accuracy</th>\n",
       "      <th>Balanced Accuracy</th>\n",
       "      <th>AUC_Score</th>\n",
       "      <th>Specificity</th>\n",
       "      <th>Sensitivity</th>\n",
       "      <th>MCC</th>\n",
       "      <th>Accuracy_test</th>\n",
       "      <th>Balanced Accuracy_test</th>\n",
       "      <th>MCC Score_test</th>\n",
       "      <th>Sensitivity Score_test</th>\n",
       "      <th>Specificity Score_test</th>\n",
       "      <th>AUC_Score_test</th>\n",
       "    </tr>\n",
       "  </thead>\n",
       "  <tbody>\n",
       "    <tr>\n",
       "      <th>0</th>\n",
       "      <td>XGB_MCF7_MACCS</td>\n",
       "      <td>0.0</td>\n",
       "      <td>45</td>\n",
       "      <td>0.774</td>\n",
       "      <td>0.772</td>\n",
       "      <td>0.860</td>\n",
       "      <td>0.784</td>\n",
       "      <td>0.761</td>\n",
       "      <td>0.549</td>\n",
       "      <td>0.758</td>\n",
       "      <td>0.757</td>\n",
       "      <td>0.512</td>\n",
       "      <td>0.750</td>\n",
       "      <td>0.765</td>\n",
       "      <td>0.810</td>\n",
       "    </tr>\n",
       "    <tr>\n",
       "      <th>1</th>\n",
       "      <td>XGB_Breast_MACCS</td>\n",
       "      <td>0.0</td>\n",
       "      <td>36</td>\n",
       "      <td>0.772</td>\n",
       "      <td>0.768</td>\n",
       "      <td>0.829</td>\n",
       "      <td>0.805</td>\n",
       "      <td>0.731</td>\n",
       "      <td>0.541</td>\n",
       "      <td>0.778</td>\n",
       "      <td>0.776</td>\n",
       "      <td>0.552</td>\n",
       "      <td>0.755</td>\n",
       "      <td>0.797</td>\n",
       "      <td>0.844</td>\n",
       "    </tr>\n",
       "    <tr>\n",
       "      <th>2</th>\n",
       "      <td>XGB_Lung_MACCS</td>\n",
       "      <td>0.0</td>\n",
       "      <td>58</td>\n",
       "      <td>0.695</td>\n",
       "      <td>0.694</td>\n",
       "      <td>0.743</td>\n",
       "      <td>0.731</td>\n",
       "      <td>0.656</td>\n",
       "      <td>0.391</td>\n",
       "      <td>0.697</td>\n",
       "      <td>0.689</td>\n",
       "      <td>0.396</td>\n",
       "      <td>0.554</td>\n",
       "      <td>0.825</td>\n",
       "      <td>0.804</td>\n",
       "    </tr>\n",
       "    <tr>\n",
       "      <th>3</th>\n",
       "      <td>XGB_A549_MACCS</td>\n",
       "      <td>0.5</td>\n",
       "      <td>10</td>\n",
       "      <td>0.713</td>\n",
       "      <td>0.713</td>\n",
       "      <td>0.800</td>\n",
       "      <td>0.726</td>\n",
       "      <td>0.699</td>\n",
       "      <td>0.427</td>\n",
       "      <td>0.640</td>\n",
       "      <td>0.640</td>\n",
       "      <td>0.280</td>\n",
       "      <td>0.639</td>\n",
       "      <td>0.641</td>\n",
       "      <td>0.749</td>\n",
       "    </tr>\n",
       "    <tr>\n",
       "      <th>4</th>\n",
       "      <td>XGB_MCF7_MORGAN2</td>\n",
       "      <td>0.0</td>\n",
       "      <td>42</td>\n",
       "      <td>0.805</td>\n",
       "      <td>0.795</td>\n",
       "      <td>0.841</td>\n",
       "      <td>0.872</td>\n",
       "      <td>0.717</td>\n",
       "      <td>0.603</td>\n",
       "      <td>0.747</td>\n",
       "      <td>0.737</td>\n",
       "      <td>0.483</td>\n",
       "      <td>0.650</td>\n",
       "      <td>0.824</td>\n",
       "      <td>0.814</td>\n",
       "    </tr>\n",
       "    <tr>\n",
       "      <th>5</th>\n",
       "      <td>XGB_Breast_MORGAN2</td>\n",
       "      <td>0.0</td>\n",
       "      <td>72</td>\n",
       "      <td>0.772</td>\n",
       "      <td>0.767</td>\n",
       "      <td>0.849</td>\n",
       "      <td>0.818</td>\n",
       "      <td>0.716</td>\n",
       "      <td>0.543</td>\n",
       "      <td>0.787</td>\n",
       "      <td>0.784</td>\n",
       "      <td>0.570</td>\n",
       "      <td>0.755</td>\n",
       "      <td>0.814</td>\n",
       "      <td>0.836</td>\n",
       "    </tr>\n",
       "    <tr>\n",
       "      <th>6</th>\n",
       "      <td>XGB_Lung_MORGAN2</td>\n",
       "      <td>0.0</td>\n",
       "      <td>94</td>\n",
       "      <td>0.706</td>\n",
       "      <td>0.704</td>\n",
       "      <td>0.775</td>\n",
       "      <td>0.751</td>\n",
       "      <td>0.656</td>\n",
       "      <td>0.411</td>\n",
       "      <td>0.706</td>\n",
       "      <td>0.703</td>\n",
       "      <td>0.408</td>\n",
       "      <td>0.661</td>\n",
       "      <td>0.746</td>\n",
       "      <td>0.796</td>\n",
       "    </tr>\n",
       "    <tr>\n",
       "      <th>7</th>\n",
       "      <td>XGB_A549_MORGAN2</td>\n",
       "      <td>0.0</td>\n",
       "      <td>59</td>\n",
       "      <td>0.710</td>\n",
       "      <td>0.708</td>\n",
       "      <td>0.794</td>\n",
       "      <td>0.758</td>\n",
       "      <td>0.658</td>\n",
       "      <td>0.420</td>\n",
       "      <td>0.773</td>\n",
       "      <td>0.775</td>\n",
       "      <td>0.549</td>\n",
       "      <td>0.806</td>\n",
       "      <td>0.744</td>\n",
       "      <td>0.839</td>\n",
       "    </tr>\n",
       "  </tbody>\n",
       "</table>\n",
       "</div>"
      ],
      "text/plain": [
       "                Model  gamma  n_estimators  Accuracy  Balanced Accuracy  \\\n",
       "0      XGB_MCF7_MACCS    0.0            45     0.774              0.772   \n",
       "1    XGB_Breast_MACCS    0.0            36     0.772              0.768   \n",
       "2      XGB_Lung_MACCS    0.0            58     0.695              0.694   \n",
       "3      XGB_A549_MACCS    0.5            10     0.713              0.713   \n",
       "4    XGB_MCF7_MORGAN2    0.0            42     0.805              0.795   \n",
       "5  XGB_Breast_MORGAN2    0.0            72     0.772              0.767   \n",
       "6    XGB_Lung_MORGAN2    0.0            94     0.706              0.704   \n",
       "7    XGB_A549_MORGAN2    0.0            59     0.710              0.708   \n",
       "\n",
       "   AUC_Score  Specificity  Sensitivity    MCC  Accuracy_test  \\\n",
       "0      0.860        0.784        0.761  0.549          0.758   \n",
       "1      0.829        0.805        0.731  0.541          0.778   \n",
       "2      0.743        0.731        0.656  0.391          0.697   \n",
       "3      0.800        0.726        0.699  0.427          0.640   \n",
       "4      0.841        0.872        0.717  0.603          0.747   \n",
       "5      0.849        0.818        0.716  0.543          0.787   \n",
       "6      0.775        0.751        0.656  0.411          0.706   \n",
       "7      0.794        0.758        0.658  0.420          0.773   \n",
       "\n",
       "   Balanced Accuracy_test  MCC Score_test  Sensitivity Score_test  \\\n",
       "0                   0.757           0.512                   0.750   \n",
       "1                   0.776           0.552                   0.755   \n",
       "2                   0.689           0.396                   0.554   \n",
       "3                   0.640           0.280                   0.639   \n",
       "4                   0.737           0.483                   0.650   \n",
       "5                   0.784           0.570                   0.755   \n",
       "6                   0.703           0.408                   0.661   \n",
       "7                   0.775           0.549                   0.806   \n",
       "\n",
       "   Specificity Score_test  AUC_Score_test  \n",
       "0                   0.765           0.810  \n",
       "1                   0.797           0.844  \n",
       "2                   0.825           0.804  \n",
       "3                   0.641           0.749  \n",
       "4                   0.824           0.814  \n",
       "5                   0.814           0.836  \n",
       "6                   0.746           0.796  \n",
       "7                   0.744           0.839  "
      ]
     },
     "execution_count": 135,
     "metadata": {},
     "output_type": "execute_result"
    }
   ],
   "source": [
    "Model = pd.DataFrame({'Model':['XGB_MCF7_MACCS','XGB_Breast_MACCS','XGB_Lung_MACCS','XGB_A549_MACCS','XGB_MCF7_MORGAN2','XGB_Breast_MORGAN2','XGB_Lung_MORGAN2','XGB_A549_MORGAN2']})\n",
    "parameters=pd.DataFrame([grid_search_xgb_mcf7_maccs.best_params_,grid_search_xgb_breast_maccs.best_params_,grid_search_xgb_lung_maccs.best_params_,grid_search_xgb_a549_maccs.best_params_,grid_search_xgb_mcf7_morgan2.best_params_,grid_search_xgb_breast_morgan2.best_params_,grid_search_xgb_lung_morgan2.best_params_,grid_search_xgb_a549_morgan2.best_params_])\n",
    "test_set=pd.DataFrame([xgb_test_mcf7_maccs,xgb_test_breast_maccs,xgb_test_lung_maccs,xgb_test_a549_maccs,xgb_test_mcf7_morgan2,xgb_test_breast_morgan2,xgb_test_lung_morgan2,xgb_test_a549_morgan2])\n",
    "cv_set=pd.DataFrame([xgb_mcf7_maccs_mean,xgb_breast_maccs_mean,xgb_lung_maccs_mean,xgb_a549_maccs_mean,xgb_mcf7_morgan2_mean,xgb_breast_morgan2_mean,xgb_lung_morgan2_mean,xgb_a549_morgan2_mean])\n",
    "final_result=pd.concat([Model,parameters,cv_set,test_set],axis=1)\n",
    "final_result"
   ]
  },
  {
   "cell_type": "code",
   "execution_count": null,
   "id": "changing-newcastle",
   "metadata": {},
   "outputs": [],
   "source": []
  }
 ],
 "metadata": {
  "kernelspec": {
   "display_name": "Python 3",
   "language": "python",
   "name": "python3"
  },
  "language_info": {
   "codemirror_mode": {
    "name": "ipython",
    "version": 3
   },
   "file_extension": ".py",
   "mimetype": "text/x-python",
   "name": "python",
   "nbconvert_exporter": "python",
   "pygments_lexer": "ipython3",
   "version": "3.7.10"
  }
 },
 "nbformat": 4,
 "nbformat_minor": 5
}
