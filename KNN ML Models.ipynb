{
 "cells": [
  {
   "cell_type": "code",
   "execution_count": 1,
   "id": "1d3b2b42",
   "metadata": {},
   "outputs": [],
   "source": [
    "# general and data handling\n",
    "import numpy as np\n",
    "import pandas as pd\n",
    "import os\n",
    "from collections import Counter\n",
    "\n",
    "# Required RDKit modules\n",
    "import rdkit as rd\n",
    "from rdkit.Chem.Fingerprints import FingerprintMols\n",
    "from rdkit import RDConfig\n",
    "from rdkit.Chem import PandasTools\n",
    "from rdkit import Chem\n",
    "from rdkit.Chem.Draw import IPythonConsole\n",
    "from rdkit.Chem import rdFingerprintGenerator\n",
    "from rdkit import DataStructs\n",
    "from rdkit.Chem import AllChem as Chem\n",
    "from rdkit.Chem.rdMolDescriptors import GetAtomPairFingerprint\n",
    "from rdkit.Chem.AtomPairs import Torsions\n",
    "from rdkit.Chem import AllChem\n",
    "from rdkit.Chem import MACCSkeys\n",
    "\n",
    "# modeling\n",
    "import sklearn as sk\n",
    "from sklearn import metrics\n",
    "from sklearn.model_selection import cross_val_score\n",
    "from sklearn.model_selection import train_test_split\n",
    "from sklearn.model_selection import validation_curve\n",
    "from sklearn.linear_model import LogisticRegression\n",
    "from sklearn.linear_model import LogisticRegressionCV\n",
    "from sklearn.decomposition import PCA\n",
    "#from imblearn.over_sampling import ADASYN\n",
    "from sklearn.metrics import classification_report\n",
    "from sklearn.neighbors import KNeighborsClassifier\n",
    "from sklearn.model_selection import GridSearchCV\n",
    "from sklearn.ensemble import GradientBoostingClassifier\n",
    "from sklearn.ensemble import RandomForestRegressor\n",
    "from sklearn.metrics import roc_curve\n",
    "from sklearn.metrics import roc_auc_score\n",
    "# Graphing\n",
    "import matplotlib.pyplot as plt\n",
    "import seaborn as sns"
   ]
  },
  {
   "cell_type": "code",
   "execution_count": 2,
   "id": "b2116e1a",
   "metadata": {},
   "outputs": [],
   "source": [
    "#Import File:\n",
    "mcf7 = pd.read_csv('V1/mcf7_V1.csv')\n",
    "breast = pd.read_csv('V1/breast_V1.csv')\n",
    "lung = pd.read_csv('V1/lung_V1.csv')\n",
    "a549 = pd.read_csv('V1/a549_V1.csv')"
   ]
  },
  {
   "cell_type": "code",
   "execution_count": 3,
   "id": "fifteen-increase",
   "metadata": {},
   "outputs": [
    {
     "name": "stdout",
     "output_type": "stream",
     "text": [
      "MCF7 : 454\n",
      "Breast : 538\n",
      "Lung : 592\n",
      "A549 : 375\n"
     ]
    }
   ],
   "source": [
    "print('MCF7 :',len(mcf7))\n",
    "print('Breast :',len(breast))\n",
    "print('Lung :',len(lung))\n",
    "print('A549 :',len(a549))"
   ]
  },
  {
   "cell_type": "code",
   "execution_count": 4,
   "id": "severe-newsletter",
   "metadata": {},
   "outputs": [],
   "source": [
    "mcf7[\"mol\"] = [Chem.MolFromSmiles(x) for x in mcf7[\"CanonicalSMILES\"]]\n",
    "breast[\"mol\"] = [Chem.MolFromSmiles(x) for x in breast[\"CanonicalSMILES\"]]\n",
    "lung[\"mol\"] = [Chem.MolFromSmiles(x) for x in lung[\"CanonicalSMILES\"]]\n",
    "a549[\"mol\"] = [Chem.MolFromSmiles(x) for x in a549[\"CanonicalSMILES\"]]"
   ]
  },
  {
   "cell_type": "code",
   "execution_count": 5,
   "id": "creative-description",
   "metadata": {},
   "outputs": [
    {
     "name": "stdout",
     "output_type": "stream",
     "text": [
      "MCF7 SMiles: 454\n",
      "Breast Smiles: 538\n",
      "lung Smiles: 592\n",
      "A549 Smiles: 375\n"
     ]
    }
   ],
   "source": [
    "print('MCF7 SMiles:',mcf7['CanonicalSMILES'].count())\n",
    "print('Breast Smiles:',breast['CanonicalSMILES'].count())\n",
    "print('lung Smiles:',lung['CanonicalSMILES'].count())\n",
    "print('A549 Smiles:',a549['CanonicalSMILES'].count())"
   ]
  },
  {
   "cell_type": "code",
   "execution_count": 6,
   "id": "accompanied-continuity",
   "metadata": {},
   "outputs": [],
   "source": [
    "# Maccs Fingerprint:\n",
    "mcf7[\"Maccs\"] = [MACCSkeys.GenMACCSKeys(x) for x in mcf7[\"mol\"]]\n",
    "breast[\"Maccs\"] = [MACCSkeys.GenMACCSKeys(x) for x in breast[\"mol\"]]\n",
    "lung[\"Maccs\"] = [MACCSkeys.GenMACCSKeys(x) for x in lung[\"mol\"]]\n",
    "a549[\"Maccs\"] = [MACCSkeys.GenMACCSKeys(x) for x in a549[\"mol\"]]"
   ]
  },
  {
   "cell_type": "code",
   "execution_count": 7,
   "id": "architectural-maria",
   "metadata": {},
   "outputs": [],
   "source": [
    "# Morgan 2 Fingerprint:\n",
    "mcf7[\"morg2_fp\"] = [Chem.GetMorganFingerprintAsBitVect(m, 2, nBits = 1024) for m in mcf7[\"mol\"]]\n",
    "breast[\"morg2_fp\"] = [Chem.GetMorganFingerprintAsBitVect(m, 2, nBits = 1024) for m in breast[\"mol\"]]\n",
    "lung[\"morg2_fp\"] = [Chem.GetMorganFingerprintAsBitVect(m, 2, nBits = 1024) for m in lung[\"mol\"]]\n",
    "a549[\"morg2_fp\"] = [Chem.GetMorganFingerprintAsBitVect(m, 2, nBits = 1024) for m in a549[\"mol\"]]"
   ]
  },
  {
   "cell_type": "code",
   "execution_count": 8,
   "id": "wooden-stand",
   "metadata": {},
   "outputs": [
    {
     "name": "stdout",
     "output_type": "stream",
     "text": [
      "Training Data for MCF7: 363 \n",
      "\n",
      "Testing Data for MCF7: 91 \n",
      "\n",
      "***************************************************************************\n",
      "Training Data for Breast: 430 \n",
      "\n",
      "Testing Data for Breast: 108 \n",
      "\n",
      "***************************************************************************\n",
      "Training Data for lung: 473 \n",
      "\n",
      "Testing Data for lung: 119 \n",
      "\n",
      "***************************************************************************\n",
      "Training Data for a549: 300 \n",
      "\n",
      "Testing Data for a549: 75 \n",
      "\n"
     ]
    }
   ],
   "source": [
    "train_mcf7, test_mcf7 = train_test_split(mcf7, test_size=0.2, random_state=1,stratify=mcf7.Target.values)\n",
    "train_breast, test_breast = train_test_split(breast, test_size=0.2, random_state=1,stratify=breast.Target.values)\n",
    "train_lung, test_lung = train_test_split(lung, test_size=0.2, random_state=1,stratify=lung.Target.values)\n",
    "train_a549, test_a549 = train_test_split(a549, test_size=0.2, random_state=1,stratify=a549.Target.values)\n",
    "\n",
    "print('Training Data for MCF7:',len(train_mcf7),'\\n')\n",
    "print('Testing Data for MCF7:',len(test_mcf7),'\\n')\n",
    "print('***************************************************************************')\n",
    "print('Training Data for Breast:',len(train_breast),'\\n')\n",
    "print('Testing Data for Breast:',len(test_breast),'\\n')\n",
    "print('***************************************************************************')\n",
    "print('Training Data for lung:',len(train_lung),'\\n')\n",
    "print('Testing Data for lung:',len(test_lung),'\\n')\n",
    "print('***************************************************************************')\n",
    "print('Training Data for a549:',len(train_a549),'\\n')\n",
    "print('Testing Data for a549:',len(test_a549),'\\n')"
   ]
  },
  {
   "cell_type": "code",
   "execution_count": 9,
   "id": "sufficient-packing",
   "metadata": {},
   "outputs": [],
   "source": [
    "def Counting(y):\n",
    "    unique, counts = np.unique(y, return_counts=True)\n",
    "    a=dict(zip(unique, counts))\n",
    "    return str(a)"
   ]
  },
  {
   "cell_type": "code",
   "execution_count": 10,
   "id": "statistical-latest",
   "metadata": {},
   "outputs": [
    {
     "name": "stdout",
     "output_type": "stream",
     "text": [
      "Train Set for MCF7 has: {0: 204, 1: 159}\n",
      "Test Set for MCF7 has: {0: 51, 1: 40}\n",
      "*********************************************************************\n",
      "Train Set for Breast has: {0: 236, 1: 194}\n",
      "Test Set for Breast has: {0: 59, 1: 49}\n",
      "*********************************************************************\n",
      "Train Set for Lung has: {0: 249, 1: 224}\n",
      "Test Set for Lung has: {0: 63, 1: 56}\n",
      "*********************************************************************\n",
      "Train Set for A549 has: {0: 157, 1: 143}\n",
      "Test Set for A549 has: {0: 39, 1: 36}\n"
     ]
    }
   ],
   "source": [
    "print('Train Set for MCF7 has:',Counting(train_mcf7['Target']))\n",
    "print('Test Set for MCF7 has:',Counting(test_mcf7['Target']))\n",
    "print('*********************************************************************')\n",
    "print('Train Set for Breast has:',Counting(train_breast['Target']))\n",
    "print('Test Set for Breast has:',Counting(test_breast['Target']))\n",
    "print('*********************************************************************')\n",
    "print('Train Set for Lung has:',Counting(train_lung['Target']))\n",
    "print('Test Set for Lung has:',Counting(test_lung['Target']))\n",
    "print('*********************************************************************')\n",
    "print('Train Set for A549 has:',Counting(train_a549['Target']))\n",
    "print('Test Set for A549 has:',Counting(test_a549['Target']))"
   ]
  },
  {
   "cell_type": "code",
   "execution_count": 11,
   "id": "forced-keyboard",
   "metadata": {},
   "outputs": [],
   "source": [
    "def to_bit(fps):\n",
    "    fp_np = []\n",
    "    for fp in fps:\n",
    "        arr = np.zeros((1,))\n",
    "        DataStructs.ConvertToNumpyArray(fp, arr)\n",
    "        fp_np.append(arr)\n",
    "    test = fp_np\n",
    "    return test"
   ]
  },
  {
   "cell_type": "markdown",
   "id": "freelance-closing",
   "metadata": {},
   "source": [
    "### Maccs:"
   ]
  },
  {
   "cell_type": "code",
   "execution_count": 12,
   "id": "seventh-domestic",
   "metadata": {},
   "outputs": [],
   "source": [
    "# MACCS Fingreprint:  # MCF7\n",
    "X_Macc_train_mcf7=to_bit(train_mcf7['Maccs'])\n",
    "y_Macc_train_mcf7=train_mcf7.Target.values\n",
    "\n",
    "X_Macc_test_mcf7=to_bit(test_mcf7['Maccs'])\n",
    "y_Macc_test_mcf7=test_mcf7.Target.values"
   ]
  },
  {
   "cell_type": "code",
   "execution_count": 13,
   "id": "planned-muscle",
   "metadata": {},
   "outputs": [],
   "source": [
    "# MACCS Fingreprint:  #Breast\n",
    "X_Macc_train_breast=to_bit(train_breast['Maccs'])\n",
    "y_Macc_train_breast=train_breast.Target.values\n",
    "\n",
    "X_Macc_test_breast=to_bit(test_breast['Maccs'])\n",
    "y_Macc_test_breast=test_breast.Target.values"
   ]
  },
  {
   "cell_type": "code",
   "execution_count": 14,
   "id": "73ff1bef",
   "metadata": {},
   "outputs": [],
   "source": [
    "# MACCS Fingreprint:  # Lung\n",
    "X_Macc_train_lung=to_bit(train_lung['Maccs'])\n",
    "y_Macc_train_lung=train_lung.Target.values\n",
    "\n",
    "X_Macc_test_lung=to_bit(test_lung['Maccs'])\n",
    "y_Macc_test_lung=test_lung.Target.values"
   ]
  },
  {
   "cell_type": "code",
   "execution_count": 15,
   "id": "7852963f",
   "metadata": {},
   "outputs": [],
   "source": [
    "# MACCS Fingreprint:  # A549\n",
    "X_Macc_train_a549=to_bit(train_a549['Maccs'])\n",
    "y_Macc_train_a549=train_a549.Target.values\n",
    "\n",
    "X_Macc_test_a549=to_bit(test_a549['Maccs'])\n",
    "y_Macc_test_a549=test_a549.Target.values"
   ]
  },
  {
   "cell_type": "markdown",
   "id": "conventional-browser",
   "metadata": {},
   "source": [
    "### Morgan2:"
   ]
  },
  {
   "cell_type": "code",
   "execution_count": 16,
   "id": "african-damages",
   "metadata": {},
   "outputs": [],
   "source": [
    "# Morgan 2 Fingreprint:   #MCF7\n",
    "X_Morgan2_train_mcf7=to_bit(train_mcf7['morg2_fp'])\n",
    "y_Morgan2_train_mcf7=train_mcf7.Target.values\n",
    "\n",
    "X_Morgan2_test_mcf7=to_bit(test_mcf7['morg2_fp'])\n",
    "y_Morgan2_test_mcf7=test_mcf7.Target.values"
   ]
  },
  {
   "cell_type": "code",
   "execution_count": 17,
   "id": "warming-palestine",
   "metadata": {},
   "outputs": [],
   "source": [
    "# Morgan 2 Fingreprint:  #Breast\n",
    "X_Morgan2_train_breast=to_bit(train_breast['morg2_fp'])\n",
    "y_Morgan2_train_breast=train_breast.Target.values\n",
    "\n",
    "X_Morgan2_test_breast=to_bit(test_breast['morg2_fp'])\n",
    "y_Morgan2_test_breast=test_breast.Target.values"
   ]
  },
  {
   "cell_type": "code",
   "execution_count": 18,
   "id": "27e4f9ee",
   "metadata": {},
   "outputs": [],
   "source": [
    "# Morgan 2 Fingreprint:   #Lung\n",
    "X_Morgan2_train_lung=to_bit(train_lung['morg2_fp'])\n",
    "y_Morgan2_train_lung=train_lung.Target.values\n",
    "\n",
    "X_Morgan2_test_lung=to_bit(test_lung['morg2_fp'])\n",
    "y_Morgan2_test_lung=test_lung.Target.values"
   ]
  },
  {
   "cell_type": "code",
   "execution_count": 19,
   "id": "dfaee449",
   "metadata": {},
   "outputs": [],
   "source": [
    "# Morgan 2 Fingreprint:   #A549\n",
    "X_Morgan2_train_a549=to_bit(train_a549['morg2_fp'])\n",
    "y_Morgan2_train_a549=train_a549.Target.values\n",
    "\n",
    "X_Morgan2_test_a549=to_bit(test_a549['morg2_fp'])\n",
    "y_Morgan2_test_a549=test_a549.Target.values"
   ]
  },
  {
   "cell_type": "markdown",
   "id": "outdoor-glass",
   "metadata": {},
   "source": [
    "### Models:\n",
    "\n",
    "<ol>\n",
    "<li>Random forest (RF)</li>\n",
    "<li>SVM</li>\n",
    "<li>KNN</li>\n",
    "<li>eXtreme Gradient Boosting (XGBoost)</li>\n",
    "</ol>"
   ]
  },
  {
   "cell_type": "code",
   "execution_count": 20,
   "id": "statewide-abuse",
   "metadata": {},
   "outputs": [],
   "source": [
    "def permonce_measure(y_test,y_pred):\n",
    "    print(\"Accuracy Score:\", round(accuracy_score(y_test, y_pred),3))\n",
    "    print('Balanced Accuracy:',round(balanced_accuracy_score(y_test,y_pred),3))\n",
    "    print(\"MCC Score:\",round(matthews_corrcoef(y_test, y_pred),3))\n",
    "    tn, fp, fn, tp = confusion_matrix(y_test, y_pred).ravel()\n",
    "    a3= Sensitivity = tp/(tp+fn)\n",
    "    a4= Specificity = tn/(tn+fp)\n",
    "    print(\"Sensitivity Score:\",round(a3,3))\n",
    "    print(\"Specificity Score:\",round(a4,3))\n",
    "    \n",
    "    test_measure = {\"Accuracy_test\":round(accuracy_score(y_test, y_pred),3),\n",
    "                    \"Balanced Accuracy_test\":round(balanced_accuracy_score(y_test,y_pred),3),\n",
    "                    \"MCC Score_test\":round(matthews_corrcoef(y_test, y_pred),3),\n",
    "                    \"Sensitivity Score_test\":round(a3,3),\n",
    "                    \"Specificity Score_test\":round(a4,3)\n",
    "                   }\n",
    "    score=accuracy_score(y_test, y_pred)\n",
    "    cm_macc_test = metrics.confusion_matrix(y_test, y_pred)\n",
    "    #Graph:\n",
    "    print('\\n********************** Graph *****************************\\n')\n",
    "    plt.figure(figsize=(5,5))\n",
    "    sns.heatmap(cm_macc_test, annot=True, fmt=\".3f\", linewidths=.5, square = True, cmap = 'Blues_r');\n",
    "    plt.ylabel('Actual label');\n",
    "    plt.xlabel('Predicted label');\n",
    "    all_sample_title = 'Accuracy Score: {0}'.format(score)\n",
    "    plt.title(all_sample_title, size = 15);\n",
    "    return test_measure\n",
    "\n",
    "def roc_auc(y_val,prediction_probs,model_name):\n",
    "    # generate a no skill prediction (majority class)\n",
    "    ns_probs = [0 for _ in range(len(y_val))]\n",
    "    # keep probabilities for the positive outcome only\n",
    "    prediction_probs = prediction_probs[:, 1]\n",
    "    # calculate scores\n",
    "    ns_auc = roc_auc_score(y_val, ns_probs)\n",
    "    prediction_probs_auc = roc_auc_score(y_val, prediction_probs)\n",
    "    # summarize scores\n",
    "    print('No Skill: ROC AUC=%.3f' % (ns_auc))\n",
    "    print('ROC AUC=%.3f' % (prediction_probs_auc))\n",
    "    roc_auc = {\"AUC_Score_test\":round(prediction_probs_auc,3)}\n",
    "    # calculate roc curves\n",
    "    ns_fpr, ns_tpr, _ = roc_curve(y_val, ns_probs)\n",
    "    prediction_probs_fpr, prediction_probs_tpr, _ = roc_curve(y_val, prediction_probs)\n",
    "    # plot the roc curve for the model\n",
    "    pyplot.plot(ns_fpr, ns_tpr, linestyle='--', label='No Skill')\n",
    "    pyplot.plot(prediction_probs_fpr, prediction_probs_tpr, marker='.', label=model_name)\n",
    "    # axis labels\n",
    "    pyplot.xlabel('False Positive Rate')\n",
    "    pyplot.ylabel('True Positive Rate')\n",
    "    # show the legend\n",
    "    pyplot.legend()\n",
    "    # show the plot\n",
    "    pyplot.show()\n",
    "    return roc_auc\n",
    "\n",
    "def cv_result(best_model,X_train,y_train):\n",
    "    scoring={'accuracy':'accuracy',\n",
    "            'balanced_accuracy':'balanced_accuracy',\n",
    "            'roc_auc':'roc_auc',\n",
    "            'specificity':make_scorer(recall_score,pos_label=0),\n",
    "            'sensitivity':make_scorer(recall_score,pos_label=1),\n",
    "            'MCC':make_scorer(matthews_corrcoef)}\n",
    "    cv=cross_validate(best_model,X_train,y_train, cv=5,scoring=scoring)\n",
    "    cv_df=pd.DataFrame(cv)\n",
    "    Mean={'Accuracy':round(cv['test_accuracy'].mean(),3),\n",
    "          'Balanced Accuracy':round(cv['test_balanced_accuracy'].mean(),3),\n",
    "          'AUC_Score':round(cv['test_roc_auc'].mean(),3),\n",
    "          'Specificity':round(cv['test_specificity'].mean(),3),\n",
    "          'Sensitivity':round(cv['test_sensitivity'].mean(),3),\n",
    "          'MCC':round(cv['test_MCC'].mean(),3)\n",
    "         }\n",
    "    print('Accuracy:',round(cv['test_accuracy'].mean(),3),'\\nBalanced_accuracy:',round(cv['test_balanced_accuracy'].mean(),3),'\\nAUC_Score:',round(cv['test_roc_auc'].mean(),3),'\\nSpecificity:',round(cv['test_specificity'].mean(),3),'\\nSensitivity:',round(cv['test_sensitivity'].mean(),3),'\\nMCC:',round(cv['test_MCC'].mean(),3))\n",
    "    return cv_df,Mean"
   ]
  },
  {
   "cell_type": "markdown",
   "id": "premium-validity",
   "metadata": {},
   "source": [
    "## KNN:"
   ]
  },
  {
   "cell_type": "code",
   "execution_count": 21,
   "id": "listed-nowhere",
   "metadata": {},
   "outputs": [],
   "source": [
    "from sklearn.ensemble import RandomForestClassifier\n",
    "from sklearn.metrics import confusion_matrix\n",
    "from sklearn.metrics import matthews_corrcoef,accuracy_score\n",
    "from sklearn.metrics import roc_curve\n",
    "from sklearn.metrics import roc_auc_score,balanced_accuracy_score,recall_score,make_scorer\n",
    "from sklearn.model_selection import cross_validate\n",
    "from matplotlib import pyplot\n",
    "from sklearn.neighbors import KNeighborsClassifier"
   ]
  },
  {
   "cell_type": "code",
   "execution_count": 22,
   "id": "bearing-pioneer",
   "metadata": {},
   "outputs": [],
   "source": [
    "# KNN:\n",
    "knn = KNeighborsClassifier()"
   ]
  },
  {
   "cell_type": "code",
   "execution_count": 23,
   "id": "acquired-immunology",
   "metadata": {},
   "outputs": [],
   "source": [
    "# Parameters\n",
    "param_grid_knn={\n",
    "    'n_neighbors':[int(x) for x in range(1,6)],\n",
    "    'weights':['uniform','distance']\n",
    "}"
   ]
  },
  {
   "cell_type": "markdown",
   "id": "agricultural-stylus",
   "metadata": {},
   "source": [
    "## For Maccs:"
   ]
  },
  {
   "cell_type": "markdown",
   "id": "soviet-thumb",
   "metadata": {},
   "source": [
    "#### For MCF7"
   ]
  },
  {
   "cell_type": "code",
   "execution_count": 309,
   "id": "ahead-trunk",
   "metadata": {},
   "outputs": [
    {
     "name": "stdout",
     "output_type": "stream",
     "text": [
      "********************************** Wait *****************************************************\n",
      "\n",
      "Fitting 5 folds for each of 10 candidates, totalling 50 fits\n",
      "\n",
      "******************************** Done *****************************************************\n",
      "CPU times: user 765 ms, sys: 29.7 ms, total: 795 ms\n",
      "Wall time: 4.45 s\n"
     ]
    }
   ],
   "source": [
    "%%time\n",
    "print('********************************** Wait *****************************************************\\n')\n",
    "grid_search_knn_mcf7_maccs = GridSearchCV(estimator = knn, param_grid = param_grid_knn, cv = 5, n_jobs = -1, verbose = 2,scoring='recall')\n",
    "grid_search_knn_mcf7_maccs.fit(X_Macc_train_mcf7, y_Macc_train_mcf7)\n",
    "print('\\n******************************** Done *****************************************************')\n",
    "MCF7_Maccs_knn=pd.DataFrame(grid_search_knn_mcf7_maccs.cv_results_)"
   ]
  },
  {
   "cell_type": "code",
   "execution_count": 310,
   "id": "pretty-douglas",
   "metadata": {},
   "outputs": [
    {
     "name": "stdout",
     "output_type": "stream",
     "text": [
      "  Best Parameter are:\n",
      " KNeighborsClassifier(n_neighbors=1)\n"
     ]
    }
   ],
   "source": [
    "print('  Best Parameter are:\\n',grid_search_knn_mcf7_maccs.best_estimator_)"
   ]
  },
  {
   "cell_type": "code",
   "execution_count": 311,
   "id": "ranking-lawrence",
   "metadata": {},
   "outputs": [],
   "source": [
    "best_model_knn_MCF7_Maccs = grid_search_knn_mcf7_maccs.best_estimator_\n",
    "#best_model_knn_MCF7_Maccs=KNeighborsClassifier(weights='distance')"
   ]
  },
  {
   "cell_type": "code",
   "execution_count": 312,
   "id": "fancy-color",
   "metadata": {},
   "outputs": [
    {
     "name": "stdout",
     "output_type": "stream",
     "text": [
      "Accuracy: 0.758 \n",
      "Balanced_accuracy: 0.758 \n",
      "AUC_Score: 0.758 \n",
      "Specificity: 0.754 \n",
      "Sensitivity: 0.761 \n",
      "MCC: 0.515\n"
     ]
    }
   ],
   "source": [
    "knn_mcf7_maccs_cv,knn_mcf7_maccs_mean=cv_result(best_model_knn_MCF7_Maccs,X_Macc_train_mcf7,y_Macc_train_mcf7)"
   ]
  },
  {
   "cell_type": "code",
   "execution_count": 313,
   "id": "continent-wholesale",
   "metadata": {},
   "outputs": [
    {
     "data": {
      "text/html": [
       "<div>\n",
       "<style scoped>\n",
       "    .dataframe tbody tr th:only-of-type {\n",
       "        vertical-align: middle;\n",
       "    }\n",
       "\n",
       "    .dataframe tbody tr th {\n",
       "        vertical-align: top;\n",
       "    }\n",
       "\n",
       "    .dataframe thead th {\n",
       "        text-align: right;\n",
       "    }\n",
       "</style>\n",
       "<table border=\"1\" class=\"dataframe\">\n",
       "  <thead>\n",
       "    <tr style=\"text-align: right;\">\n",
       "      <th></th>\n",
       "      <th>fit_time</th>\n",
       "      <th>score_time</th>\n",
       "      <th>test_accuracy</th>\n",
       "      <th>test_balanced_accuracy</th>\n",
       "      <th>test_roc_auc</th>\n",
       "      <th>test_specificity</th>\n",
       "      <th>test_sensitivity</th>\n",
       "      <th>test_MCC</th>\n",
       "    </tr>\n",
       "  </thead>\n",
       "  <tbody>\n",
       "    <tr>\n",
       "      <th>0</th>\n",
       "      <td>0.000998</td>\n",
       "      <td>0.046405</td>\n",
       "      <td>0.753425</td>\n",
       "      <td>0.749619</td>\n",
       "      <td>0.749619</td>\n",
       "      <td>0.780488</td>\n",
       "      <td>0.718750</td>\n",
       "      <td>0.499238</td>\n",
       "    </tr>\n",
       "    <tr>\n",
       "      <th>1</th>\n",
       "      <td>0.000707</td>\n",
       "      <td>0.044711</td>\n",
       "      <td>0.767123</td>\n",
       "      <td>0.768674</td>\n",
       "      <td>0.768674</td>\n",
       "      <td>0.756098</td>\n",
       "      <td>0.781250</td>\n",
       "      <td>0.533699</td>\n",
       "    </tr>\n",
       "    <tr>\n",
       "      <th>2</th>\n",
       "      <td>0.000822</td>\n",
       "      <td>0.052610</td>\n",
       "      <td>0.712329</td>\n",
       "      <td>0.709604</td>\n",
       "      <td>0.709604</td>\n",
       "      <td>0.731707</td>\n",
       "      <td>0.687500</td>\n",
       "      <td>0.417935</td>\n",
       "    </tr>\n",
       "    <tr>\n",
       "      <th>3</th>\n",
       "      <td>0.000726</td>\n",
       "      <td>0.031762</td>\n",
       "      <td>0.819444</td>\n",
       "      <td>0.813926</td>\n",
       "      <td>0.813926</td>\n",
       "      <td>0.853659</td>\n",
       "      <td>0.774194</td>\n",
       "      <td>0.630587</td>\n",
       "    </tr>\n",
       "    <tr>\n",
       "      <th>4</th>\n",
       "      <td>0.018184</td>\n",
       "      <td>0.042373</td>\n",
       "      <td>0.736111</td>\n",
       "      <td>0.746875</td>\n",
       "      <td>0.746875</td>\n",
       "      <td>0.650000</td>\n",
       "      <td>0.843750</td>\n",
       "      <td>0.495495</td>\n",
       "    </tr>\n",
       "  </tbody>\n",
       "</table>\n",
       "</div>"
      ],
      "text/plain": [
       "   fit_time  score_time  test_accuracy  test_balanced_accuracy  test_roc_auc  \\\n",
       "0  0.000998    0.046405       0.753425                0.749619      0.749619   \n",
       "1  0.000707    0.044711       0.767123                0.768674      0.768674   \n",
       "2  0.000822    0.052610       0.712329                0.709604      0.709604   \n",
       "3  0.000726    0.031762       0.819444                0.813926      0.813926   \n",
       "4  0.018184    0.042373       0.736111                0.746875      0.746875   \n",
       "\n",
       "   test_specificity  test_sensitivity  test_MCC  \n",
       "0          0.780488          0.718750  0.499238  \n",
       "1          0.756098          0.781250  0.533699  \n",
       "2          0.731707          0.687500  0.417935  \n",
       "3          0.853659          0.774194  0.630587  \n",
       "4          0.650000          0.843750  0.495495  "
      ]
     },
     "execution_count": 313,
     "metadata": {},
     "output_type": "execute_result"
    }
   ],
   "source": [
    "knn_mcf7_maccs_cv"
   ]
  },
  {
   "cell_type": "markdown",
   "id": "fifteen-appeal",
   "metadata": {},
   "source": [
    "#### MCF7 Test Set:"
   ]
  },
  {
   "cell_type": "code",
   "execution_count": 314,
   "id": "fourth-atlantic",
   "metadata": {},
   "outputs": [
    {
     "name": "stdout",
     "output_type": "stream",
     "text": [
      "Accuracy Score: 0.758\n",
      "Balanced Accuracy: 0.757\n",
      "MCC Score: 0.512\n",
      "Sensitivity Score: 0.75\n",
      "Specificity Score: 0.765\n",
      "\n",
      "********************** Graph *****************************\n",
      "\n"
     ]
    },
    {
     "data": {
      "image/png": "[encoded data removed]",
      "text/plain": [
       "<Figure size 360x360 with 2 Axes>"
      ]
     },
     "metadata": {
      "needs_background": "light"
     },
     "output_type": "display_data"
    }
   ],
   "source": [
    "best_model_knn_MCF7_Maccs.fit(X_Macc_train_mcf7, y_Macc_train_mcf7)\n",
    "prediction_mcf7_maccs_knn=best_model_knn_MCF7_Maccs.predict(X_Macc_test_mcf7)\n",
    "knn_test_mcf7_maccs = permonce_measure(y_Macc_test_mcf7,prediction_mcf7_maccs_knn)"
   ]
  },
  {
   "cell_type": "code",
   "execution_count": 315,
   "id": "crazy-venture",
   "metadata": {},
   "outputs": [
    {
     "name": "stdout",
     "output_type": "stream",
     "text": [
      "No Skill: ROC AUC=0.500\n",
      "ROC AUC=0.757\n"
     ]
    },
    {
     "data": {
      "image/png": "[encoded data removed]",
      "text/plain": [
       "<Figure size 432x288 with 1 Axes>"
      ]
     },
     "metadata": {
      "needs_background": "light"
     },
     "output_type": "display_data"
    }
   ],
   "source": [
    "prediction_mcf7_maccs_knn_probs = best_model_knn_MCF7_Maccs.predict_proba(X_Macc_test_mcf7)\n",
    "roc_auc_mcf7_maccs=roc_auc(y_Macc_test_mcf7,prediction_mcf7_maccs_knn_probs,'KNN')\n",
    "knn_test_mcf7_maccs.update(roc_auc_mcf7_maccs)"
   ]
  },
  {
   "cell_type": "code",
   "execution_count": 316,
   "id": "german-earth",
   "metadata": {},
   "outputs": [],
   "source": [
    "#MCF7_Maccs_knn.to_csv('MCF7_Maccs_knn_auc.csv',index=False)"
   ]
  },
  {
   "cell_type": "markdown",
   "id": "collaborative-catholic",
   "metadata": {},
   "source": [
    "--------------------------------------------------------------------------------------------------------------------"
   ]
  },
  {
   "cell_type": "markdown",
   "id": "smoking-netherlands",
   "metadata": {},
   "source": [
    "### For Breast:"
   ]
  },
  {
   "cell_type": "code",
   "execution_count": 317,
   "id": "daily-enzyme",
   "metadata": {},
   "outputs": [
    {
     "name": "stdout",
     "output_type": "stream",
     "text": [
      "********************************** Wait *****************************************************\n",
      "\n",
      "Fitting 5 folds for each of 10 candidates, totalling 50 fits\n",
      "\n",
      "******************************** Done *****************************************************\n",
      "CPU times: user 533 ms, sys: 267 µs, total: 534 ms\n",
      "Wall time: 1.37 s\n"
     ]
    }
   ],
   "source": [
    "%%time\n",
    "print('********************************** Wait *****************************************************\\n')\n",
    "grid_search_knn_breast_maccs = GridSearchCV(estimator = knn, param_grid = param_grid_knn, cv = 5, n_jobs = -1, verbose = 2,scoring='recall')\n",
    "grid_search_knn_breast_maccs.fit(X_Macc_train_breast, y_Macc_train_breast)\n",
    "print('\\n******************************** Done *****************************************************')\n",
    "Breast_Maccs_knn=pd.DataFrame(grid_search_knn_breast_maccs.cv_results_)"
   ]
  },
  {
   "cell_type": "code",
   "execution_count": 318,
   "id": "transsexual-logic",
   "metadata": {},
   "outputs": [
    {
     "name": "stdout",
     "output_type": "stream",
     "text": [
      "  Best Parameter are:\n",
      " KNeighborsClassifier(n_neighbors=1)\n"
     ]
    }
   ],
   "source": [
    "print('  Best Parameter are:\\n',grid_search_knn_breast_maccs.best_estimator_)"
   ]
  },
  {
   "cell_type": "code",
   "execution_count": 319,
   "id": "failing-liver",
   "metadata": {},
   "outputs": [],
   "source": [
    "best_model_knn_Breast_Maccs = grid_search_knn_breast_maccs.best_estimator_\n",
    "#best_model_knn_Breast_Maccs=KNeighborsClassifier(weights='distance')"
   ]
  },
  {
   "cell_type": "code",
   "execution_count": 320,
   "id": "decent-suspect",
   "metadata": {},
   "outputs": [
    {
     "name": "stdout",
     "output_type": "stream",
     "text": [
      "Accuracy: 0.765 \n",
      "Balanced_accuracy: 0.761 \n",
      "AUC_Score: 0.761 \n",
      "Specificity: 0.796 \n",
      "Sensitivity: 0.726 \n",
      "MCC: 0.53\n"
     ]
    }
   ],
   "source": [
    "knn_breast_maccs_cv,knn_breast_maccs_mean=cv_result(best_model_knn_Breast_Maccs,X_Macc_train_breast,y_Macc_train_breast)"
   ]
  },
  {
   "cell_type": "code",
   "execution_count": 321,
   "id": "alert-caution",
   "metadata": {},
   "outputs": [
    {
     "data": {
      "text/html": [
       "<div>\n",
       "<style scoped>\n",
       "    .dataframe tbody tr th:only-of-type {\n",
       "        vertical-align: middle;\n",
       "    }\n",
       "\n",
       "    .dataframe tbody tr th {\n",
       "        vertical-align: top;\n",
       "    }\n",
       "\n",
       "    .dataframe thead th {\n",
       "        text-align: right;\n",
       "    }\n",
       "</style>\n",
       "<table border=\"1\" class=\"dataframe\">\n",
       "  <thead>\n",
       "    <tr style=\"text-align: right;\">\n",
       "      <th></th>\n",
       "      <th>fit_time</th>\n",
       "      <th>score_time</th>\n",
       "      <th>test_accuracy</th>\n",
       "      <th>test_balanced_accuracy</th>\n",
       "      <th>test_roc_auc</th>\n",
       "      <th>test_specificity</th>\n",
       "      <th>test_sensitivity</th>\n",
       "      <th>test_MCC</th>\n",
       "    </tr>\n",
       "  </thead>\n",
       "  <tbody>\n",
       "    <tr>\n",
       "      <th>0</th>\n",
       "      <td>0.001107</td>\n",
       "      <td>0.046026</td>\n",
       "      <td>0.860465</td>\n",
       "      <td>0.863612</td>\n",
       "      <td>0.863612</td>\n",
       "      <td>0.829787</td>\n",
       "      <td>0.897436</td>\n",
       "      <td>0.724070</td>\n",
       "    </tr>\n",
       "    <tr>\n",
       "      <th>1</th>\n",
       "      <td>0.000731</td>\n",
       "      <td>0.043834</td>\n",
       "      <td>0.767442</td>\n",
       "      <td>0.758865</td>\n",
       "      <td>0.758865</td>\n",
       "      <td>0.851064</td>\n",
       "      <td>0.666667</td>\n",
       "      <td>0.530017</td>\n",
       "    </tr>\n",
       "    <tr>\n",
       "      <th>2</th>\n",
       "      <td>0.017292</td>\n",
       "      <td>0.042969</td>\n",
       "      <td>0.779070</td>\n",
       "      <td>0.780415</td>\n",
       "      <td>0.780415</td>\n",
       "      <td>0.765957</td>\n",
       "      <td>0.794872</td>\n",
       "      <td>0.558549</td>\n",
       "    </tr>\n",
       "    <tr>\n",
       "      <th>3</th>\n",
       "      <td>0.000772</td>\n",
       "      <td>0.043036</td>\n",
       "      <td>0.709302</td>\n",
       "      <td>0.714403</td>\n",
       "      <td>0.714403</td>\n",
       "      <td>0.659574</td>\n",
       "      <td>0.769231</td>\n",
       "      <td>0.427989</td>\n",
       "    </tr>\n",
       "    <tr>\n",
       "      <th>4</th>\n",
       "      <td>0.000754</td>\n",
       "      <td>0.036227</td>\n",
       "      <td>0.709302</td>\n",
       "      <td>0.687500</td>\n",
       "      <td>0.687500</td>\n",
       "      <td>0.875000</td>\n",
       "      <td>0.500000</td>\n",
       "      <td>0.410118</td>\n",
       "    </tr>\n",
       "  </tbody>\n",
       "</table>\n",
       "</div>"
      ],
      "text/plain": [
       "   fit_time  score_time  test_accuracy  test_balanced_accuracy  test_roc_auc  \\\n",
       "0  0.001107    0.046026       0.860465                0.863612      0.863612   \n",
       "1  0.000731    0.043834       0.767442                0.758865      0.758865   \n",
       "2  0.017292    0.042969       0.779070                0.780415      0.780415   \n",
       "3  0.000772    0.043036       0.709302                0.714403      0.714403   \n",
       "4  0.000754    0.036227       0.709302                0.687500      0.687500   \n",
       "\n",
       "   test_specificity  test_sensitivity  test_MCC  \n",
       "0          0.829787          0.897436  0.724070  \n",
       "1          0.851064          0.666667  0.530017  \n",
       "2          0.765957          0.794872  0.558549  \n",
       "3          0.659574          0.769231  0.427989  \n",
       "4          0.875000          0.500000  0.410118  "
      ]
     },
     "execution_count": 321,
     "metadata": {},
     "output_type": "execute_result"
    }
   ],
   "source": [
    "knn_breast_maccs_cv"
   ]
  },
  {
   "cell_type": "markdown",
   "id": "mounted-evaluation",
   "metadata": {},
   "source": [
    "#### Breast Test Set:"
   ]
  },
  {
   "cell_type": "code",
   "execution_count": 322,
   "id": "velvet-focus",
   "metadata": {},
   "outputs": [
    {
     "name": "stdout",
     "output_type": "stream",
     "text": [
      "Accuracy Score: 0.787\n",
      "Balanced Accuracy: 0.784\n",
      "MCC Score: 0.57\n",
      "Sensitivity Score: 0.755\n",
      "Specificity Score: 0.814\n",
      "\n",
      "********************** Graph *****************************\n",
      "\n"
     ]
    },
    {
     "data": {
      "image/png": "[encoded data removed]",
      "text/plain": [
       "<Figure size 360x360 with 2 Axes>"
      ]
     },
     "metadata": {
      "needs_background": "light"
     },
     "output_type": "display_data"
    }
   ],
   "source": [
    "best_model_knn_Breast_Maccs.fit(X_Macc_train_breast, y_Macc_train_breast)\n",
    "prediction_breast_maccs_knn=best_model_knn_Breast_Maccs.predict(X_Macc_test_breast)\n",
    "knn_test_breast_maccs = permonce_measure(y_Macc_test_breast,prediction_breast_maccs_knn)"
   ]
  },
  {
   "cell_type": "code",
   "execution_count": 323,
   "id": "promising-biography",
   "metadata": {},
   "outputs": [
    {
     "name": "stdout",
     "output_type": "stream",
     "text": [
      "No Skill: ROC AUC=0.500\n",
      "ROC AUC=0.784\n"
     ]
    },
    {
     "data": {
      "image/png": "[encoded data removed]",
      "text/plain": [
       "<Figure size 432x288 with 1 Axes>"
      ]
     },
     "metadata": {
      "needs_background": "light"
     },
     "output_type": "display_data"
    }
   ],
   "source": [
    "prediction_breast_maccs_knn_probs = best_model_knn_Breast_Maccs.predict_proba(X_Macc_test_breast)\n",
    "roc_auc_breast_maccs=roc_auc(y_Macc_test_breast,prediction_breast_maccs_knn_probs,'KNN')\n",
    "knn_test_breast_maccs.update(roc_auc_breast_maccs)"
   ]
  },
  {
   "cell_type": "code",
   "execution_count": 324,
   "id": "divided-anxiety",
   "metadata": {},
   "outputs": [
    {
     "data": {
      "text/plain": [
       "<function __main__.roc_auc(y_val, prediction_probs, model_name)>"
      ]
     },
     "execution_count": 324,
     "metadata": {},
     "output_type": "execute_result"
    }
   ],
   "source": [
    "roc_auc"
   ]
  },
  {
   "cell_type": "code",
   "execution_count": 325,
   "id": "clinical-permission",
   "metadata": {},
   "outputs": [],
   "source": [
    "#Breast_Maccs_knn.to_csv('Breast_Maccs_knn_auc.csv',index=False)"
   ]
  },
  {
   "cell_type": "markdown",
   "id": "bf96bd1f",
   "metadata": {},
   "source": [
    "--------------------------------------------------------------------------------------------------------------------"
   ]
  },
  {
   "cell_type": "markdown",
   "id": "7da69dc9",
   "metadata": {},
   "source": [
    "### For Lung:"
   ]
  },
  {
   "cell_type": "code",
   "execution_count": 326,
   "id": "e5e95f89",
   "metadata": {},
   "outputs": [
    {
     "name": "stdout",
     "output_type": "stream",
     "text": [
      "********************************** Wait *****************************************************\n",
      "\n",
      "Fitting 5 folds for each of 10 candidates, totalling 50 fits\n",
      "\n",
      "******************************** Done *****************************************************\n",
      "CPU times: user 569 ms, sys: 13.4 ms, total: 582 ms\n",
      "Wall time: 1.32 s\n"
     ]
    }
   ],
   "source": [
    "%%time\n",
    "print('********************************** Wait *****************************************************\\n')\n",
    "grid_search_knn_lung_maccs = GridSearchCV(estimator = knn, param_grid = param_grid_knn, cv = 5, n_jobs = -1, verbose = 2,scoring='recall')\n",
    "grid_search_knn_lung_maccs.fit(X_Macc_train_lung, y_Macc_train_lung)\n",
    "print('\\n******************************** Done *****************************************************')\n",
    "Lung_Maccs_knn=pd.DataFrame(grid_search_knn_lung_maccs.cv_results_)"
   ]
  },
  {
   "cell_type": "code",
   "execution_count": 327,
   "id": "6ef14226",
   "metadata": {},
   "outputs": [],
   "source": [
    "#Lung_Maccs_knn.to_csv('Lung_Maccs_knn_auc.csv',index=False)"
   ]
  },
  {
   "cell_type": "code",
   "execution_count": 328,
   "id": "d835ef5f",
   "metadata": {},
   "outputs": [
    {
     "name": "stdout",
     "output_type": "stream",
     "text": [
      "  Best Parameter are:\n",
      " KNeighborsClassifier(n_neighbors=3, weights='distance')\n"
     ]
    }
   ],
   "source": [
    "print('  Best Parameter are:\\n',grid_search_knn_lung_maccs.best_estimator_)"
   ]
  },
  {
   "cell_type": "code",
   "execution_count": 329,
   "id": "6ef42796",
   "metadata": {},
   "outputs": [],
   "source": [
    "best_model_knn_Lung_Maccs = grid_search_knn_lung_maccs.best_estimator_\n",
    "#best_model_knn_Lung_Maccs=KNeighborsClassifier(weights='distance')"
   ]
  },
  {
   "cell_type": "code",
   "execution_count": 330,
   "id": "b35a3ed1",
   "metadata": {},
   "outputs": [
    {
     "name": "stdout",
     "output_type": "stream",
     "text": [
      "Accuracy: 0.67 \n",
      "Balanced_accuracy: 0.667 \n",
      "AUC_Score: 0.706 \n",
      "Specificity: 0.735 \n",
      "Sensitivity: 0.598 \n",
      "MCC: 0.339\n"
     ]
    }
   ],
   "source": [
    "knn_lung_maccs_cv,knn_lung_maccs_mean=cv_result(best_model_knn_Lung_Maccs,X_Macc_train_lung,y_Macc_train_lung)"
   ]
  },
  {
   "cell_type": "code",
   "execution_count": 331,
   "id": "ae682465",
   "metadata": {},
   "outputs": [
    {
     "data": {
      "text/html": [
       "<div>\n",
       "<style scoped>\n",
       "    .dataframe tbody tr th:only-of-type {\n",
       "        vertical-align: middle;\n",
       "    }\n",
       "\n",
       "    .dataframe tbody tr th {\n",
       "        vertical-align: top;\n",
       "    }\n",
       "\n",
       "    .dataframe thead th {\n",
       "        text-align: right;\n",
       "    }\n",
       "</style>\n",
       "<table border=\"1\" class=\"dataframe\">\n",
       "  <thead>\n",
       "    <tr style=\"text-align: right;\">\n",
       "      <th></th>\n",
       "      <th>fit_time</th>\n",
       "      <th>score_time</th>\n",
       "      <th>test_accuracy</th>\n",
       "      <th>test_balanced_accuracy</th>\n",
       "      <th>test_roc_auc</th>\n",
       "      <th>test_specificity</th>\n",
       "      <th>test_sensitivity</th>\n",
       "      <th>test_MCC</th>\n",
       "    </tr>\n",
       "  </thead>\n",
       "  <tbody>\n",
       "    <tr>\n",
       "      <th>0</th>\n",
       "      <td>0.006854</td>\n",
       "      <td>0.044199</td>\n",
       "      <td>0.705263</td>\n",
       "      <td>0.702222</td>\n",
       "      <td>0.723111</td>\n",
       "      <td>0.760000</td>\n",
       "      <td>0.644444</td>\n",
       "      <td>0.407719</td>\n",
       "    </tr>\n",
       "    <tr>\n",
       "      <th>1</th>\n",
       "      <td>0.000771</td>\n",
       "      <td>0.043050</td>\n",
       "      <td>0.694737</td>\n",
       "      <td>0.688889</td>\n",
       "      <td>0.773111</td>\n",
       "      <td>0.800000</td>\n",
       "      <td>0.577778</td>\n",
       "      <td>0.388822</td>\n",
       "    </tr>\n",
       "    <tr>\n",
       "      <th>2</th>\n",
       "      <td>0.000806</td>\n",
       "      <td>0.040812</td>\n",
       "      <td>0.663158</td>\n",
       "      <td>0.656667</td>\n",
       "      <td>0.688000</td>\n",
       "      <td>0.780000</td>\n",
       "      <td>0.533333</td>\n",
       "      <td>0.324331</td>\n",
       "    </tr>\n",
       "    <tr>\n",
       "      <th>3</th>\n",
       "      <td>0.000796</td>\n",
       "      <td>0.021295</td>\n",
       "      <td>0.638298</td>\n",
       "      <td>0.635828</td>\n",
       "      <td>0.685261</td>\n",
       "      <td>0.693878</td>\n",
       "      <td>0.577778</td>\n",
       "      <td>0.273648</td>\n",
       "    </tr>\n",
       "    <tr>\n",
       "      <th>4</th>\n",
       "      <td>0.026468</td>\n",
       "      <td>0.073445</td>\n",
       "      <td>0.648936</td>\n",
       "      <td>0.649545</td>\n",
       "      <td>0.661136</td>\n",
       "      <td>0.640000</td>\n",
       "      <td>0.659091</td>\n",
       "      <td>0.298481</td>\n",
       "    </tr>\n",
       "  </tbody>\n",
       "</table>\n",
       "</div>"
      ],
      "text/plain": [
       "   fit_time  score_time  test_accuracy  test_balanced_accuracy  test_roc_auc  \\\n",
       "0  0.006854    0.044199       0.705263                0.702222      0.723111   \n",
       "1  0.000771    0.043050       0.694737                0.688889      0.773111   \n",
       "2  0.000806    0.040812       0.663158                0.656667      0.688000   \n",
       "3  0.000796    0.021295       0.638298                0.635828      0.685261   \n",
       "4  0.026468    0.073445       0.648936                0.649545      0.661136   \n",
       "\n",
       "   test_specificity  test_sensitivity  test_MCC  \n",
       "0          0.760000          0.644444  0.407719  \n",
       "1          0.800000          0.577778  0.388822  \n",
       "2          0.780000          0.533333  0.324331  \n",
       "3          0.693878          0.577778  0.273648  \n",
       "4          0.640000          0.659091  0.298481  "
      ]
     },
     "execution_count": 331,
     "metadata": {},
     "output_type": "execute_result"
    }
   ],
   "source": [
    "knn_lung_maccs_cv"
   ]
  },
  {
   "cell_type": "markdown",
   "id": "atomic-mapping",
   "metadata": {},
   "source": [
    "#### Lung Test Set:"
   ]
  },
  {
   "cell_type": "code",
   "execution_count": 332,
   "id": "04f448a0",
   "metadata": {},
   "outputs": [
    {
     "name": "stdout",
     "output_type": "stream",
     "text": [
      "Accuracy Score: 0.681\n",
      "Balanced Accuracy: 0.673\n",
      "MCC Score: 0.361\n",
      "Sensitivity Score: 0.536\n",
      "Specificity Score: 0.81\n",
      "\n",
      "********************** Graph *****************************\n",
      "\n"
     ]
    },
    {
     "data": {
      "image/png": "[encoded data removed]",
      "text/plain": [
       "<Figure size 360x360 with 2 Axes>"
      ]
     },
     "metadata": {
      "needs_background": "light"
     },
     "output_type": "display_data"
    }
   ],
   "source": [
    "best_model_knn_Lung_Maccs.fit(X_Macc_train_lung, y_Macc_train_lung)\n",
    "prediction_lung_maccs_knn=best_model_knn_Lung_Maccs.predict(X_Macc_test_lung)\n",
    "knn_test_lung_maccs = permonce_measure(y_Macc_test_lung,prediction_lung_maccs_knn)"
   ]
  },
  {
   "cell_type": "code",
   "execution_count": 333,
   "id": "73160bf6",
   "metadata": {},
   "outputs": [
    {
     "name": "stdout",
     "output_type": "stream",
     "text": [
      "No Skill: ROC AUC=0.500\n",
      "ROC AUC=0.785\n"
     ]
    },
    {
     "data": {
      "image/png": "[encoded data removed]",
      "text/plain": [
       "<Figure size 432x288 with 1 Axes>"
      ]
     },
     "metadata": {
      "needs_background": "light"
     },
     "output_type": "display_data"
    }
   ],
   "source": [
    "prediction_lung_maccs_knn_probs = best_model_knn_Lung_Maccs.predict_proba(X_Macc_test_lung)\n",
    "roc_auc_lung_maccs=roc_auc(y_Macc_test_lung,prediction_lung_maccs_knn_probs,'KNN')\n",
    "knn_test_lung_maccs.update(roc_auc_lung_maccs)"
   ]
  },
  {
   "cell_type": "markdown",
   "id": "revolutionary-battery",
   "metadata": {},
   "source": [
    "--------------------------------------------------------------------------------------------------------------------"
   ]
  },
  {
   "cell_type": "markdown",
   "id": "ambient-degree",
   "metadata": {},
   "source": [
    "### For A549:"
   ]
  },
  {
   "cell_type": "code",
   "execution_count": 334,
   "id": "977b56c4",
   "metadata": {},
   "outputs": [
    {
     "name": "stdout",
     "output_type": "stream",
     "text": [
      "********************************** Wait *****************************************************\n",
      "\n",
      "Fitting 5 folds for each of 10 candidates, totalling 50 fits\n",
      "\n",
      "******************************** Done *****************************************************\n",
      "CPU times: user 389 ms, sys: 7.96 ms, total: 397 ms\n",
      "Wall time: 1.14 s\n"
     ]
    }
   ],
   "source": [
    "%%time\n",
    "print('********************************** Wait *****************************************************\\n')\n",
    "grid_search_knn_a549_maccs = GridSearchCV(estimator = knn, param_grid = param_grid_knn, cv = 5, n_jobs = -1, verbose = 2,scoring='recall')\n",
    "grid_search_knn_a549_maccs.fit(X_Macc_train_a549, y_Macc_train_a549)\n",
    "print('\\n******************************** Done *****************************************************')\n",
    "A549_Maccs_knn=pd.DataFrame(grid_search_knn_a549_maccs.cv_results_)"
   ]
  },
  {
   "cell_type": "code",
   "execution_count": 335,
   "id": "1168aa30",
   "metadata": {},
   "outputs": [],
   "source": [
    "#A549_Maccs_knn.to_csv('A549_Maccs_knn_auc.csv',index=False)"
   ]
  },
  {
   "cell_type": "code",
   "execution_count": 336,
   "id": "literary-philip",
   "metadata": {},
   "outputs": [
    {
     "name": "stdout",
     "output_type": "stream",
     "text": [
      "  Best Parameter are:\n",
      " KNeighborsClassifier()\n"
     ]
    }
   ],
   "source": [
    "print('  Best Parameter are:\\n',grid_search_knn_a549_maccs.best_estimator_)"
   ]
  },
  {
   "cell_type": "code",
   "execution_count": 337,
   "id": "protected-location",
   "metadata": {},
   "outputs": [],
   "source": [
    "best_model_knn_A549_Maccs = grid_search_knn_a549_maccs.best_estimator_\n",
    "#best_model_knn_A549_Maccs=KNeighborsClassifier(n_neighbors=2, weights='distance')"
   ]
  },
  {
   "cell_type": "code",
   "execution_count": 338,
   "id": "controlling-omega",
   "metadata": {},
   "outputs": [
    {
     "name": "stdout",
     "output_type": "stream",
     "text": [
      "Accuracy: 0.67 \n",
      "Balanced_accuracy: 0.668 \n",
      "AUC_Score: 0.744 \n",
      "Specificity: 0.706 \n",
      "Sensitivity: 0.63 \n",
      "MCC: 0.338\n"
     ]
    }
   ],
   "source": [
    "knn_a549_maccs_cv,knn_a549_maccs_mean=cv_result(best_model_knn_A549_Maccs,X_Macc_train_a549,y_Macc_train_a549)"
   ]
  },
  {
   "cell_type": "code",
   "execution_count": 339,
   "id": "incoming-celebrity",
   "metadata": {},
   "outputs": [
    {
     "data": {
      "text/html": [
       "<div>\n",
       "<style scoped>\n",
       "    .dataframe tbody tr th:only-of-type {\n",
       "        vertical-align: middle;\n",
       "    }\n",
       "\n",
       "    .dataframe tbody tr th {\n",
       "        vertical-align: top;\n",
       "    }\n",
       "\n",
       "    .dataframe thead th {\n",
       "        text-align: right;\n",
       "    }\n",
       "</style>\n",
       "<table border=\"1\" class=\"dataframe\">\n",
       "  <thead>\n",
       "    <tr style=\"text-align: right;\">\n",
       "      <th></th>\n",
       "      <th>fit_time</th>\n",
       "      <th>score_time</th>\n",
       "      <th>test_accuracy</th>\n",
       "      <th>test_balanced_accuracy</th>\n",
       "      <th>test_roc_auc</th>\n",
       "      <th>test_specificity</th>\n",
       "      <th>test_sensitivity</th>\n",
       "      <th>test_MCC</th>\n",
       "    </tr>\n",
       "  </thead>\n",
       "  <tbody>\n",
       "    <tr>\n",
       "      <th>0</th>\n",
       "      <td>0.004792</td>\n",
       "      <td>0.048887</td>\n",
       "      <td>0.750000</td>\n",
       "      <td>0.745536</td>\n",
       "      <td>0.805804</td>\n",
       "      <td>0.812500</td>\n",
       "      <td>0.678571</td>\n",
       "      <td>0.496929</td>\n",
       "    </tr>\n",
       "    <tr>\n",
       "      <th>1</th>\n",
       "      <td>0.000687</td>\n",
       "      <td>0.058405</td>\n",
       "      <td>0.683333</td>\n",
       "      <td>0.680804</td>\n",
       "      <td>0.728795</td>\n",
       "      <td>0.718750</td>\n",
       "      <td>0.642857</td>\n",
       "      <td>0.362620</td>\n",
       "    </tr>\n",
       "    <tr>\n",
       "      <th>2</th>\n",
       "      <td>0.000642</td>\n",
       "      <td>0.039038</td>\n",
       "      <td>0.666667</td>\n",
       "      <td>0.668521</td>\n",
       "      <td>0.736374</td>\n",
       "      <td>0.612903</td>\n",
       "      <td>0.724138</td>\n",
       "      <td>0.338551</td>\n",
       "    </tr>\n",
       "    <tr>\n",
       "      <th>3</th>\n",
       "      <td>0.000629</td>\n",
       "      <td>0.046504</td>\n",
       "      <td>0.550000</td>\n",
       "      <td>0.545606</td>\n",
       "      <td>0.625139</td>\n",
       "      <td>0.677419</td>\n",
       "      <td>0.413793</td>\n",
       "      <td>0.094587</td>\n",
       "    </tr>\n",
       "    <tr>\n",
       "      <th>4</th>\n",
       "      <td>0.000671</td>\n",
       "      <td>0.061725</td>\n",
       "      <td>0.700000</td>\n",
       "      <td>0.699666</td>\n",
       "      <td>0.822024</td>\n",
       "      <td>0.709677</td>\n",
       "      <td>0.689655</td>\n",
       "      <td>0.399333</td>\n",
       "    </tr>\n",
       "  </tbody>\n",
       "</table>\n",
       "</div>"
      ],
      "text/plain": [
       "   fit_time  score_time  test_accuracy  test_balanced_accuracy  test_roc_auc  \\\n",
       "0  0.004792    0.048887       0.750000                0.745536      0.805804   \n",
       "1  0.000687    0.058405       0.683333                0.680804      0.728795   \n",
       "2  0.000642    0.039038       0.666667                0.668521      0.736374   \n",
       "3  0.000629    0.046504       0.550000                0.545606      0.625139   \n",
       "4  0.000671    0.061725       0.700000                0.699666      0.822024   \n",
       "\n",
       "   test_specificity  test_sensitivity  test_MCC  \n",
       "0          0.812500          0.678571  0.496929  \n",
       "1          0.718750          0.642857  0.362620  \n",
       "2          0.612903          0.724138  0.338551  \n",
       "3          0.677419          0.413793  0.094587  \n",
       "4          0.709677          0.689655  0.399333  "
      ]
     },
     "execution_count": 339,
     "metadata": {},
     "output_type": "execute_result"
    }
   ],
   "source": [
    "knn_a549_maccs_cv"
   ]
  },
  {
   "cell_type": "markdown",
   "id": "relevant-illustration",
   "metadata": {},
   "source": [
    "#### A549 Test Set:"
   ]
  },
  {
   "cell_type": "code",
   "execution_count": 340,
   "id": "ordinary-sport",
   "metadata": {},
   "outputs": [
    {
     "name": "stdout",
     "output_type": "stream",
     "text": [
      "Accuracy Score: 0.68\n",
      "Balanced Accuracy: 0.682\n",
      "MCC Score: 0.364\n",
      "Sensitivity Score: 0.722\n",
      "Specificity Score: 0.641\n",
      "\n",
      "********************** Graph *****************************\n",
      "\n"
     ]
    },
    {
     "data": {
      "image/png": "[encoded data removed]",
      "text/plain": [
       "<Figure size 360x360 with 2 Axes>"
      ]
     },
     "metadata": {
      "needs_background": "light"
     },
     "output_type": "display_data"
    }
   ],
   "source": [
    "best_model_knn_A549_Maccs.fit(X_Macc_train_a549, y_Macc_train_a549)\n",
    "prediction_a549_maccs_knn=best_model_knn_A549_Maccs.predict(X_Macc_test_a549)\n",
    "knn_test_a549_maccs = permonce_measure(y_Macc_test_a549,prediction_a549_maccs_knn)"
   ]
  },
  {
   "cell_type": "code",
   "execution_count": 341,
   "id": "devoted-october",
   "metadata": {},
   "outputs": [
    {
     "name": "stdout",
     "output_type": "stream",
     "text": [
      "No Skill: ROC AUC=0.500\n",
      "ROC AUC=0.730\n"
     ]
    },
    {
     "data": {
      "image/png": "[encoded data removed]",
      "text/plain": [
       "<Figure size 432x288 with 1 Axes>"
      ]
     },
     "metadata": {
      "needs_background": "light"
     },
     "output_type": "display_data"
    }
   ],
   "source": [
    "prediction_a549_maccs_knn_probs = best_model_knn_A549_Maccs.predict_proba(X_Macc_test_a549)\n",
    "roc_auc_a549_maccs=roc_auc(y_Macc_test_a549,prediction_a549_maccs_knn_probs,'KNN')\n",
    "knn_test_a549_maccs.update(roc_auc_a549_maccs)"
   ]
  },
  {
   "cell_type": "markdown",
   "id": "frozen-session",
   "metadata": {},
   "source": [
    "---------------------------------------------------------------------------------------------------------------------"
   ]
  },
  {
   "cell_type": "markdown",
   "id": "virgin-walter",
   "metadata": {},
   "source": [
    "## For Morgan2:"
   ]
  },
  {
   "cell_type": "markdown",
   "id": "outside-decline",
   "metadata": {},
   "source": [
    "### For MCF7:"
   ]
  },
  {
   "cell_type": "code",
   "execution_count": 342,
   "id": "deluxe-chapel",
   "metadata": {},
   "outputs": [
    {
     "name": "stdout",
     "output_type": "stream",
     "text": [
      "********************************** Wait *****************************************************\n",
      "\n",
      "Fitting 5 folds for each of 10 candidates, totalling 50 fits\n",
      "\n",
      "******************************** Done ******************************************************\n",
      "CPU times: user 537 ms, sys: 27.9 ms, total: 565 ms\n",
      "Wall time: 1.7 s\n"
     ]
    }
   ],
   "source": [
    "%%time\n",
    "print('********************************** Wait *****************************************************\\n')\n",
    "grid_search_knn_mcf7_morgan2 = GridSearchCV(estimator = knn, param_grid = param_grid_knn, cv = 5, n_jobs = -1, verbose = 2,scoring='recall')\n",
    "grid_search_knn_mcf7_morgan2.fit(X_Morgan2_train_mcf7, y_Morgan2_train_mcf7)\n",
    "print('\\n******************************** Done ******************************************************')\n",
    "MCF7_Morgan2_knn=pd.DataFrame(grid_search_knn_mcf7_morgan2.cv_results_)"
   ]
  },
  {
   "cell_type": "code",
   "execution_count": 343,
   "id": "plain-madagascar",
   "metadata": {},
   "outputs": [],
   "source": [
    "#MCF7_Morgan2_knn.to_csv('MCF7_Morgan2_knn_auc.csv',index=False)"
   ]
  },
  {
   "cell_type": "code",
   "execution_count": 344,
   "id": "powerful-twenty",
   "metadata": {},
   "outputs": [
    {
     "name": "stdout",
     "output_type": "stream",
     "text": [
      "  Best Parameter are:\n",
      " KNeighborsClassifier(n_neighbors=1)\n"
     ]
    }
   ],
   "source": [
    "print('  Best Parameter are:\\n',grid_search_knn_mcf7_morgan2.best_estimator_)"
   ]
  },
  {
   "cell_type": "code",
   "execution_count": 24,
   "id": "scientific-national",
   "metadata": {},
   "outputs": [],
   "source": [
    "best_model_knn_MCF7_Morgan2 = grid_search_knn_mcf7_morgan2.best_estimator_\n",
    "#best_model_knn_MCF7_Morgan2=KNeighborsClassifier(n_neighbors=4, weights='distance')"
   ]
  },
  {
   "cell_type": "code",
   "execution_count": 25,
   "id": "former-relation",
   "metadata": {},
   "outputs": [
    {
     "name": "stdout",
     "output_type": "stream",
     "text": [
      "Accuracy: 0.779 \n",
      "Balanced_accuracy: 0.763 \n",
      "AUC_Score: 0.863 \n",
      "Specificity: 0.896 \n",
      "Sensitivity: 0.629 \n",
      "MCC: 0.558\n"
     ]
    }
   ],
   "source": [
    "knn_mcf7_morgan2_cv,knn_mcf7_morgan2_mean=cv_result(best_model_knn_MCF7_Morgan2,X_Morgan2_train_mcf7,y_Morgan2_train_mcf7)"
   ]
  },
  {
   "cell_type": "code",
   "execution_count": 26,
   "id": "assigned-brain",
   "metadata": {},
   "outputs": [
    {
     "data": {
      "text/html": [
       "<div>\n",
       "<style scoped>\n",
       "    .dataframe tbody tr th:only-of-type {\n",
       "        vertical-align: middle;\n",
       "    }\n",
       "\n",
       "    .dataframe tbody tr th {\n",
       "        vertical-align: top;\n",
       "    }\n",
       "\n",
       "    .dataframe thead th {\n",
       "        text-align: right;\n",
       "    }\n",
       "</style>\n",
       "<table border=\"1\" class=\"dataframe\">\n",
       "  <thead>\n",
       "    <tr style=\"text-align: right;\">\n",
       "      <th></th>\n",
       "      <th>fit_time</th>\n",
       "      <th>score_time</th>\n",
       "      <th>test_accuracy</th>\n",
       "      <th>test_balanced_accuracy</th>\n",
       "      <th>test_roc_auc</th>\n",
       "      <th>test_specificity</th>\n",
       "      <th>test_sensitivity</th>\n",
       "      <th>test_MCC</th>\n",
       "    </tr>\n",
       "  </thead>\n",
       "  <tbody>\n",
       "    <tr>\n",
       "      <th>0</th>\n",
       "      <td>0.001942</td>\n",
       "      <td>0.033333</td>\n",
       "      <td>0.808219</td>\n",
       "      <td>0.788110</td>\n",
       "      <td>0.831174</td>\n",
       "      <td>0.951220</td>\n",
       "      <td>0.625000</td>\n",
       "      <td>0.623101</td>\n",
       "    </tr>\n",
       "    <tr>\n",
       "      <th>1</th>\n",
       "      <td>0.001883</td>\n",
       "      <td>0.032371</td>\n",
       "      <td>0.808219</td>\n",
       "      <td>0.791540</td>\n",
       "      <td>0.877287</td>\n",
       "      <td>0.926829</td>\n",
       "      <td>0.656250</td>\n",
       "      <td>0.615873</td>\n",
       "    </tr>\n",
       "    <tr>\n",
       "      <th>2</th>\n",
       "      <td>0.001063</td>\n",
       "      <td>0.019237</td>\n",
       "      <td>0.767123</td>\n",
       "      <td>0.744665</td>\n",
       "      <td>0.896723</td>\n",
       "      <td>0.926829</td>\n",
       "      <td>0.562500</td>\n",
       "      <td>0.536361</td>\n",
       "    </tr>\n",
       "    <tr>\n",
       "      <th>3</th>\n",
       "      <td>0.001054</td>\n",
       "      <td>0.025950</td>\n",
       "      <td>0.763889</td>\n",
       "      <td>0.741542</td>\n",
       "      <td>0.883163</td>\n",
       "      <td>0.902439</td>\n",
       "      <td>0.580645</td>\n",
       "      <td>0.519277</td>\n",
       "    </tr>\n",
       "    <tr>\n",
       "      <th>4</th>\n",
       "      <td>0.001028</td>\n",
       "      <td>0.024384</td>\n",
       "      <td>0.750000</td>\n",
       "      <td>0.746875</td>\n",
       "      <td>0.824609</td>\n",
       "      <td>0.775000</td>\n",
       "      <td>0.718750</td>\n",
       "      <td>0.493750</td>\n",
       "    </tr>\n",
       "  </tbody>\n",
       "</table>\n",
       "</div>"
      ],
      "text/plain": [
       "   fit_time  score_time  test_accuracy  test_balanced_accuracy  test_roc_auc  \\\n",
       "0  0.001942    0.033333       0.808219                0.788110      0.831174   \n",
       "1  0.001883    0.032371       0.808219                0.791540      0.877287   \n",
       "2  0.001063    0.019237       0.767123                0.744665      0.896723   \n",
       "3  0.001054    0.025950       0.763889                0.741542      0.883163   \n",
       "4  0.001028    0.024384       0.750000                0.746875      0.824609   \n",
       "\n",
       "   test_specificity  test_sensitivity  test_MCC  \n",
       "0          0.951220          0.625000  0.623101  \n",
       "1          0.926829          0.656250  0.615873  \n",
       "2          0.926829          0.562500  0.536361  \n",
       "3          0.902439          0.580645  0.519277  \n",
       "4          0.775000          0.718750  0.493750  "
      ]
     },
     "execution_count": 26,
     "metadata": {},
     "output_type": "execute_result"
    }
   ],
   "source": [
    "knn_mcf7_morgan2_cv"
   ]
  },
  {
   "cell_type": "markdown",
   "id": "architectural-benjamin",
   "metadata": {},
   "source": [
    "#### Test set for MCF7:"
   ]
  },
  {
   "cell_type": "code",
   "execution_count": 27,
   "id": "cardiovascular-gather",
   "metadata": {},
   "outputs": [
    {
     "name": "stdout",
     "output_type": "stream",
     "text": [
      "Accuracy Score: 0.802\n",
      "Balanced Accuracy: 0.786\n",
      "MCC Score: 0.603\n",
      "Sensitivity Score: 0.65\n",
      "Specificity Score: 0.922\n",
      "\n",
      "********************** Graph *****************************\n",
      "\n"
     ]
    },
    {
     "data": {
      "image/png": "[encoded data removed]",
      "text/plain": [
       "<Figure size 360x360 with 2 Axes>"
      ]
     },
     "metadata": {
      "needs_background": "light"
     },
     "output_type": "display_data"
    }
   ],
   "source": [
    "best_model_knn_MCF7_Morgan2.fit(X_Morgan2_train_mcf7, y_Morgan2_train_mcf7)\n",
    "prediction_mcf7_morgan2_knn=best_model_knn_MCF7_Morgan2.predict(X_Morgan2_test_mcf7)\n",
    "knn_test_mcf7_morgan2 = permonce_measure(y_Morgan2_test_mcf7,prediction_mcf7_morgan2_knn)"
   ]
  },
  {
   "cell_type": "code",
   "execution_count": 28,
   "id": "earlier-hygiene",
   "metadata": {},
   "outputs": [
    {
     "name": "stdout",
     "output_type": "stream",
     "text": [
      "No Skill: ROC AUC=0.500\n",
      "ROC AUC=0.839\n"
     ]
    },
    {
     "data": {
      "image/png": "[encoded data removed]",
      "text/plain": [
       "<Figure size 432x288 with 1 Axes>"
      ]
     },
     "metadata": {
      "needs_background": "light"
     },
     "output_type": "display_data"
    }
   ],
   "source": [
    "prediction_mcf7_morgan2_knn_probs = best_model_knn_MCF7_Morgan2.predict_proba(X_Morgan2_test_mcf7)\n",
    "roc_auc_mcf7_morgan2=roc_auc(y_Morgan2_test_mcf7,prediction_mcf7_morgan2_knn_probs,'KNN')\n",
    "knn_test_mcf7_morgan2.update(roc_auc_mcf7_morgan2)"
   ]
  },
  {
   "cell_type": "markdown",
   "id": "transparent-savings",
   "metadata": {},
   "source": [
    "-------------------------------------------------------------------------------------------------------------------"
   ]
  },
  {
   "cell_type": "markdown",
   "id": "outer-latter",
   "metadata": {},
   "source": [
    "### For Breast:"
   ]
  },
  {
   "cell_type": "code",
   "execution_count": 350,
   "id": "racial-sight",
   "metadata": {},
   "outputs": [
    {
     "name": "stdout",
     "output_type": "stream",
     "text": [
      "********************************** Wait *****************************************************\n",
      "\n",
      "Fitting 5 folds for each of 10 candidates, totalling 50 fits\n",
      "\n",
      "******************************** Done ******************************************************\n",
      "CPU times: user 630 ms, sys: 14.9 ms, total: 644 ms\n",
      "Wall time: 1.89 s\n"
     ]
    }
   ],
   "source": [
    "%%time\n",
    "print('********************************** Wait *****************************************************\\n')\n",
    "grid_search_knn_breast_morgan2 = GridSearchCV(estimator = knn, param_grid = param_grid_knn, cv = 5, n_jobs = -1, verbose = 2,scoring='recall')\n",
    "grid_search_knn_breast_morgan2.fit(X_Morgan2_train_breast, y_Morgan2_train_breast)\n",
    "print('\\n******************************** Done ******************************************************')\n",
    "Breast_Morgan2_knn=pd.DataFrame(grid_search_knn_breast_morgan2.cv_results_)"
   ]
  },
  {
   "cell_type": "code",
   "execution_count": 351,
   "id": "curious-robin",
   "metadata": {},
   "outputs": [],
   "source": [
    "#Breast_Morgan2_knn.to_csv('Breast_Morgan2_knn_auc.csv',index=False)"
   ]
  },
  {
   "cell_type": "code",
   "execution_count": 352,
   "id": "following-organ",
   "metadata": {},
   "outputs": [
    {
     "name": "stdout",
     "output_type": "stream",
     "text": [
      "  Best Parameter are:\n",
      " KNeighborsClassifier(n_neighbors=1)\n"
     ]
    }
   ],
   "source": [
    "print('  Best Parameter are:\\n',grid_search_knn_breast_morgan2.best_estimator_)"
   ]
  },
  {
   "cell_type": "code",
   "execution_count": 353,
   "id": "numerous-powell",
   "metadata": {},
   "outputs": [],
   "source": [
    "best_model_knn_Breast_Morgan2 = grid_search_knn_breast_morgan2.best_estimator_\n",
    "#best_model_knn_Breast_Morgan2=KNeighborsClassifier(weights='distance')"
   ]
  },
  {
   "cell_type": "code",
   "execution_count": 354,
   "id": "forbidden-pregnancy",
   "metadata": {},
   "outputs": [
    {
     "name": "stdout",
     "output_type": "stream",
     "text": [
      "Accuracy: 0.777 \n",
      "Balanced_accuracy: 0.771 \n",
      "AUC_Score: 0.771 \n",
      "Specificity: 0.822 \n",
      "Sensitivity: 0.721 \n",
      "MCC: 0.555\n"
     ]
    }
   ],
   "source": [
    "knn_breast_morgan2_cv,knn_breast_morgan2_mean=cv_result(best_model_knn_Breast_Morgan2,X_Morgan2_train_breast,y_Morgan2_train_breast)"
   ]
  },
  {
   "cell_type": "code",
   "execution_count": 355,
   "id": "unlikely-kentucky",
   "metadata": {},
   "outputs": [
    {
     "data": {
      "text/html": [
       "<div>\n",
       "<style scoped>\n",
       "    .dataframe tbody tr th:only-of-type {\n",
       "        vertical-align: middle;\n",
       "    }\n",
       "\n",
       "    .dataframe tbody tr th {\n",
       "        vertical-align: top;\n",
       "    }\n",
       "\n",
       "    .dataframe thead th {\n",
       "        text-align: right;\n",
       "    }\n",
       "</style>\n",
       "<table border=\"1\" class=\"dataframe\">\n",
       "  <thead>\n",
       "    <tr style=\"text-align: right;\">\n",
       "      <th></th>\n",
       "      <th>fit_time</th>\n",
       "      <th>score_time</th>\n",
       "      <th>test_accuracy</th>\n",
       "      <th>test_balanced_accuracy</th>\n",
       "      <th>test_roc_auc</th>\n",
       "      <th>test_specificity</th>\n",
       "      <th>test_sensitivity</th>\n",
       "      <th>test_MCC</th>\n",
       "    </tr>\n",
       "  </thead>\n",
       "  <tbody>\n",
       "    <tr>\n",
       "      <th>0</th>\n",
       "      <td>0.002172</td>\n",
       "      <td>0.091393</td>\n",
       "      <td>0.802326</td>\n",
       "      <td>0.810420</td>\n",
       "      <td>0.810420</td>\n",
       "      <td>0.723404</td>\n",
       "      <td>0.897436</td>\n",
       "      <td>0.622370</td>\n",
       "    </tr>\n",
       "    <tr>\n",
       "      <th>1</th>\n",
       "      <td>0.001335</td>\n",
       "      <td>0.076658</td>\n",
       "      <td>0.779070</td>\n",
       "      <td>0.771686</td>\n",
       "      <td>0.771686</td>\n",
       "      <td>0.851064</td>\n",
       "      <td>0.692308</td>\n",
       "      <td>0.553270</td>\n",
       "    </tr>\n",
       "    <tr>\n",
       "      <th>2</th>\n",
       "      <td>0.022902</td>\n",
       "      <td>0.060016</td>\n",
       "      <td>0.813953</td>\n",
       "      <td>0.805783</td>\n",
       "      <td>0.805783</td>\n",
       "      <td>0.893617</td>\n",
       "      <td>0.717949</td>\n",
       "      <td>0.626079</td>\n",
       "    </tr>\n",
       "    <tr>\n",
       "      <th>3</th>\n",
       "      <td>0.001333</td>\n",
       "      <td>0.098296</td>\n",
       "      <td>0.755814</td>\n",
       "      <td>0.756956</td>\n",
       "      <td>0.756956</td>\n",
       "      <td>0.744681</td>\n",
       "      <td>0.769231</td>\n",
       "      <td>0.511822</td>\n",
       "    </tr>\n",
       "    <tr>\n",
       "      <th>4</th>\n",
       "      <td>0.001314</td>\n",
       "      <td>0.071901</td>\n",
       "      <td>0.732558</td>\n",
       "      <td>0.711075</td>\n",
       "      <td>0.711075</td>\n",
       "      <td>0.895833</td>\n",
       "      <td>0.526316</td>\n",
       "      <td>0.461682</td>\n",
       "    </tr>\n",
       "  </tbody>\n",
       "</table>\n",
       "</div>"
      ],
      "text/plain": [
       "   fit_time  score_time  test_accuracy  test_balanced_accuracy  test_roc_auc  \\\n",
       "0  0.002172    0.091393       0.802326                0.810420      0.810420   \n",
       "1  0.001335    0.076658       0.779070                0.771686      0.771686   \n",
       "2  0.022902    0.060016       0.813953                0.805783      0.805783   \n",
       "3  0.001333    0.098296       0.755814                0.756956      0.756956   \n",
       "4  0.001314    0.071901       0.732558                0.711075      0.711075   \n",
       "\n",
       "   test_specificity  test_sensitivity  test_MCC  \n",
       "0          0.723404          0.897436  0.622370  \n",
       "1          0.851064          0.692308  0.553270  \n",
       "2          0.893617          0.717949  0.626079  \n",
       "3          0.744681          0.769231  0.511822  \n",
       "4          0.895833          0.526316  0.461682  "
      ]
     },
     "execution_count": 355,
     "metadata": {},
     "output_type": "execute_result"
    }
   ],
   "source": [
    "knn_breast_morgan2_cv"
   ]
  },
  {
   "cell_type": "markdown",
   "id": "killing-brain",
   "metadata": {},
   "source": [
    "#### Test set for Breast:"
   ]
  },
  {
   "cell_type": "code",
   "execution_count": 356,
   "id": "composite-springer",
   "metadata": {},
   "outputs": [
    {
     "name": "stdout",
     "output_type": "stream",
     "text": [
      "Accuracy Score: 0.806\n",
      "Balanced Accuracy: 0.805\n",
      "MCC Score: 0.609\n",
      "Sensitivity Score: 0.796\n",
      "Specificity Score: 0.814\n",
      "\n",
      "********************** Graph *****************************\n",
      "\n"
     ]
    },
    {
     "data": {
      "image/png": "[encoded data removed]",
      "text/plain": [
       "<Figure size 360x360 with 2 Axes>"
      ]
     },
     "metadata": {
      "needs_background": "light"
     },
     "output_type": "display_data"
    }
   ],
   "source": [
    "best_model_knn_Breast_Morgan2.fit(X_Morgan2_train_breast, y_Morgan2_train_breast)\n",
    "prediction_breast_morgan2_knn=best_model_knn_Breast_Morgan2.predict(X_Morgan2_test_breast)\n",
    "knn_test_breast_morgan2 = permonce_measure(y_Morgan2_test_breast,prediction_breast_morgan2_knn)"
   ]
  },
  {
   "cell_type": "code",
   "execution_count": 357,
   "id": "facial-queens",
   "metadata": {},
   "outputs": [
    {
     "name": "stdout",
     "output_type": "stream",
     "text": [
      "No Skill: ROC AUC=0.500\n",
      "ROC AUC=0.805\n"
     ]
    },
    {
     "data": {
      "image/png": "[encoded data removed]",
      "text/plain": [
       "<Figure size 432x288 with 1 Axes>"
      ]
     },
     "metadata": {
      "needs_background": "light"
     },
     "output_type": "display_data"
    }
   ],
   "source": [
    "prediction_breast_morgan2_knn_probs = best_model_knn_Breast_Morgan2.predict_proba(X_Morgan2_test_breast)\n",
    "roc_auc_breast_morgan2=roc_auc(y_Morgan2_test_breast,prediction_breast_morgan2_knn_probs,'KNN')\n",
    "knn_test_breast_morgan2.update(roc_auc_breast_morgan2)"
   ]
  },
  {
   "cell_type": "markdown",
   "id": "ruled-protest",
   "metadata": {},
   "source": [
    "--------------------------------------------------------------------------------------------------------------------"
   ]
  },
  {
   "cell_type": "markdown",
   "id": "floral-spotlight",
   "metadata": {},
   "source": [
    "### For Lung:"
   ]
  },
  {
   "cell_type": "code",
   "execution_count": 358,
   "id": "capital-weekly",
   "metadata": {},
   "outputs": [
    {
     "name": "stdout",
     "output_type": "stream",
     "text": [
      "********************************** Wait *****************************************************\n",
      "\n",
      "Fitting 5 folds for each of 10 candidates, totalling 50 fits\n",
      "\n",
      "******************************** Done ******************************************************\n",
      "CPU times: user 682 ms, sys: 35.2 ms, total: 717 ms\n",
      "Wall time: 2.13 s\n"
     ]
    }
   ],
   "source": [
    "%%time\n",
    "print('********************************** Wait *****************************************************\\n')\n",
    "grid_search_knn_lung_morgan2 = GridSearchCV(estimator = knn, param_grid = param_grid_knn, cv = 5, n_jobs = -1, verbose = 2,scoring='recall')\n",
    "grid_search_knn_lung_morgan2.fit(X_Morgan2_train_lung, y_Morgan2_train_lung)\n",
    "print('\\n******************************** Done ******************************************************')\n",
    "Lung_Morgan2_knn=pd.DataFrame(grid_search_knn_lung_morgan2.cv_results_)"
   ]
  },
  {
   "cell_type": "code",
   "execution_count": 359,
   "id": "human-material",
   "metadata": {},
   "outputs": [],
   "source": [
    "#Lung_Morgan2_knn.to_csv('Lung_Morgan2_knn_auc.csv',index=False)"
   ]
  },
  {
   "cell_type": "code",
   "execution_count": 360,
   "id": "brutal-slope",
   "metadata": {},
   "outputs": [
    {
     "name": "stdout",
     "output_type": "stream",
     "text": [
      "  Best Parameter are:\n",
      " KNeighborsClassifier(n_neighbors=1)\n"
     ]
    }
   ],
   "source": [
    "print('  Best Parameter are:\\n',grid_search_knn_lung_morgan2.best_estimator_)"
   ]
  },
  {
   "cell_type": "code",
   "execution_count": 361,
   "id": "broad-performer",
   "metadata": {},
   "outputs": [],
   "source": [
    "best_model_knn_Lung_Morgan2 = grid_search_knn_lung_morgan2.best_estimator_\n",
    "#best_model_knn_Lung_Morgan2= KNeighborsClassifier(weights='distance')"
   ]
  },
  {
   "cell_type": "code",
   "execution_count": 362,
   "id": "disturbed-multiple",
   "metadata": {},
   "outputs": [
    {
     "name": "stdout",
     "output_type": "stream",
     "text": [
      "Accuracy: 0.7 \n",
      "Balanced_accuracy: 0.698 \n",
      "AUC_Score: 0.698 \n",
      "Specificity: 0.731 \n",
      "Sensitivity: 0.665 \n",
      "MCC: 0.399\n"
     ]
    }
   ],
   "source": [
    "knn_lung_morgan2_cv,knn_lung_morgan2_mean=cv_result(best_model_knn_Lung_Morgan2,X_Morgan2_train_lung,y_Morgan2_train_lung)"
   ]
  },
  {
   "cell_type": "code",
   "execution_count": 363,
   "id": "drawn-variety",
   "metadata": {},
   "outputs": [
    {
     "data": {
      "text/html": [
       "<div>\n",
       "<style scoped>\n",
       "    .dataframe tbody tr th:only-of-type {\n",
       "        vertical-align: middle;\n",
       "    }\n",
       "\n",
       "    .dataframe tbody tr th {\n",
       "        vertical-align: top;\n",
       "    }\n",
       "\n",
       "    .dataframe thead th {\n",
       "        text-align: right;\n",
       "    }\n",
       "</style>\n",
       "<table border=\"1\" class=\"dataframe\">\n",
       "  <thead>\n",
       "    <tr style=\"text-align: right;\">\n",
       "      <th></th>\n",
       "      <th>fit_time</th>\n",
       "      <th>score_time</th>\n",
       "      <th>test_accuracy</th>\n",
       "      <th>test_balanced_accuracy</th>\n",
       "      <th>test_roc_auc</th>\n",
       "      <th>test_specificity</th>\n",
       "      <th>test_sensitivity</th>\n",
       "      <th>test_MCC</th>\n",
       "    </tr>\n",
       "  </thead>\n",
       "  <tbody>\n",
       "    <tr>\n",
       "      <th>0</th>\n",
       "      <td>0.002519</td>\n",
       "      <td>0.081773</td>\n",
       "      <td>0.663158</td>\n",
       "      <td>0.663333</td>\n",
       "      <td>0.663333</td>\n",
       "      <td>0.660000</td>\n",
       "      <td>0.666667</td>\n",
       "      <td>0.326232</td>\n",
       "    </tr>\n",
       "    <tr>\n",
       "      <th>1</th>\n",
       "      <td>0.001509</td>\n",
       "      <td>0.067428</td>\n",
       "      <td>0.757895</td>\n",
       "      <td>0.753333</td>\n",
       "      <td>0.753333</td>\n",
       "      <td>0.840000</td>\n",
       "      <td>0.666667</td>\n",
       "      <td>0.516398</td>\n",
       "    </tr>\n",
       "    <tr>\n",
       "      <th>2</th>\n",
       "      <td>0.001465</td>\n",
       "      <td>0.067574</td>\n",
       "      <td>0.621053</td>\n",
       "      <td>0.618889</td>\n",
       "      <td>0.618889</td>\n",
       "      <td>0.660000</td>\n",
       "      <td>0.577778</td>\n",
       "      <td>0.238521</td>\n",
       "    </tr>\n",
       "    <tr>\n",
       "      <th>3</th>\n",
       "      <td>0.022372</td>\n",
       "      <td>0.050530</td>\n",
       "      <td>0.712766</td>\n",
       "      <td>0.713605</td>\n",
       "      <td>0.713605</td>\n",
       "      <td>0.693878</td>\n",
       "      <td>0.733333</td>\n",
       "      <td>0.426921</td>\n",
       "    </tr>\n",
       "    <tr>\n",
       "      <th>4</th>\n",
       "      <td>0.001396</td>\n",
       "      <td>0.065389</td>\n",
       "      <td>0.744681</td>\n",
       "      <td>0.740909</td>\n",
       "      <td>0.740909</td>\n",
       "      <td>0.800000</td>\n",
       "      <td>0.681818</td>\n",
       "      <td>0.486259</td>\n",
       "    </tr>\n",
       "  </tbody>\n",
       "</table>\n",
       "</div>"
      ],
      "text/plain": [
       "   fit_time  score_time  test_accuracy  test_balanced_accuracy  test_roc_auc  \\\n",
       "0  0.002519    0.081773       0.663158                0.663333      0.663333   \n",
       "1  0.001509    0.067428       0.757895                0.753333      0.753333   \n",
       "2  0.001465    0.067574       0.621053                0.618889      0.618889   \n",
       "3  0.022372    0.050530       0.712766                0.713605      0.713605   \n",
       "4  0.001396    0.065389       0.744681                0.740909      0.740909   \n",
       "\n",
       "   test_specificity  test_sensitivity  test_MCC  \n",
       "0          0.660000          0.666667  0.326232  \n",
       "1          0.840000          0.666667  0.516398  \n",
       "2          0.660000          0.577778  0.238521  \n",
       "3          0.693878          0.733333  0.426921  \n",
       "4          0.800000          0.681818  0.486259  "
      ]
     },
     "execution_count": 363,
     "metadata": {},
     "output_type": "execute_result"
    }
   ],
   "source": [
    "knn_lung_morgan2_cv"
   ]
  },
  {
   "cell_type": "markdown",
   "id": "female-filter",
   "metadata": {},
   "source": [
    "#### Test set for Lung:"
   ]
  },
  {
   "cell_type": "code",
   "execution_count": 364,
   "id": "lesser-breach",
   "metadata": {},
   "outputs": [
    {
     "name": "stdout",
     "output_type": "stream",
     "text": [
      "Accuracy Score: 0.765\n",
      "Balanced Accuracy: 0.761\n",
      "MCC Score: 0.528\n",
      "Sensitivity Score: 0.696\n",
      "Specificity Score: 0.825\n",
      "\n",
      "********************** Graph *****************************\n",
      "\n"
     ]
    },
    {
     "data": {
      "image/png": "[encoded data removed]",
      "text/plain": [
       "<Figure size 360x360 with 2 Axes>"
      ]
     },
     "metadata": {
      "needs_background": "light"
     },
     "output_type": "display_data"
    }
   ],
   "source": [
    "best_model_knn_Lung_Morgan2.fit(X_Morgan2_train_lung, y_Morgan2_train_lung)\n",
    "prediction_lung_morgan2_knn=best_model_knn_Lung_Morgan2.predict(X_Morgan2_test_lung)\n",
    "knn_test_lung_morgan2 = permonce_measure(y_Morgan2_test_lung,prediction_lung_morgan2_knn)"
   ]
  },
  {
   "cell_type": "code",
   "execution_count": 365,
   "id": "massive-westminster",
   "metadata": {},
   "outputs": [
    {
     "name": "stdout",
     "output_type": "stream",
     "text": [
      "No Skill: ROC AUC=0.500\n",
      "ROC AUC=0.761\n"
     ]
    },
    {
     "data": {
      "image/png": "[encoded data removed]",
      "text/plain": [
       "<Figure size 432x288 with 1 Axes>"
      ]
     },
     "metadata": {
      "needs_background": "light"
     },
     "output_type": "display_data"
    }
   ],
   "source": [
    "prediction_lung_morgan2_knn_probs = best_model_knn_Lung_Morgan2.predict_proba(X_Morgan2_test_lung)\n",
    "roc_auc_lung_morgan2=roc_auc(y_Morgan2_test_lung,prediction_lung_morgan2_knn_probs,'KNN')\n",
    "knn_test_lung_morgan2.update(roc_auc_lung_morgan2)"
   ]
  },
  {
   "cell_type": "markdown",
   "id": "temporal-ballet",
   "metadata": {},
   "source": [
    "---------------------------------------------------------------------------------------------------------------------"
   ]
  },
  {
   "cell_type": "markdown",
   "id": "limited-aaron",
   "metadata": {},
   "source": [
    "### For A549:"
   ]
  },
  {
   "cell_type": "code",
   "execution_count": 366,
   "id": "closing-column",
   "metadata": {},
   "outputs": [
    {
     "name": "stdout",
     "output_type": "stream",
     "text": [
      "********************************** Wait *****************************************************\n",
      "\n",
      "Fitting 5 folds for each of 10 candidates, totalling 50 fits\n",
      "\n",
      "******************************** Done ******************************************************\n",
      "CPU times: user 464 ms, sys: 12.3 ms, total: 476 ms\n",
      "Wall time: 1.25 s\n"
     ]
    }
   ],
   "source": [
    "%%time\n",
    "print('********************************** Wait *****************************************************\\n')\n",
    "grid_search_knn_a549_morgan2 = GridSearchCV(estimator = knn, param_grid = param_grid_knn, cv = 5, n_jobs = -1, verbose = 2,scoring='recall')\n",
    "grid_search_knn_a549_morgan2.fit(X_Morgan2_train_a549, y_Morgan2_train_a549)\n",
    "print('\\n******************************** Done ******************************************************')\n",
    "A549_Morgan2_knn=pd.DataFrame(grid_search_knn_a549_morgan2.cv_results_)"
   ]
  },
  {
   "cell_type": "code",
   "execution_count": 367,
   "id": "uniform-feature",
   "metadata": {},
   "outputs": [],
   "source": [
    "#A549_Morgan2_knn.to_csv('A549_Morgan2_knn_auc.csv',index=False)"
   ]
  },
  {
   "cell_type": "code",
   "execution_count": 368,
   "id": "removable-dayton",
   "metadata": {},
   "outputs": [
    {
     "name": "stdout",
     "output_type": "stream",
     "text": [
      "  Best Parameter are:\n",
      " KNeighborsClassifier(n_neighbors=1)\n"
     ]
    }
   ],
   "source": [
    "print('  Best Parameter are:\\n',grid_search_knn_a549_morgan2.best_estimator_)"
   ]
  },
  {
   "cell_type": "code",
   "execution_count": 369,
   "id": "cathedral-rainbow",
   "metadata": {},
   "outputs": [],
   "source": [
    "best_model_knn_A549_Morgan2 = grid_search_knn_a549_morgan2.best_estimator_\n",
    "#best_model_knn_A549_Morgan2 = KNeighborsClassifier(n_neighbors=4, weights='distance')"
   ]
  },
  {
   "cell_type": "code",
   "execution_count": 370,
   "id": "obvious-record",
   "metadata": {},
   "outputs": [
    {
     "name": "stdout",
     "output_type": "stream",
     "text": [
      "Accuracy: 0.72 \n",
      "Balanced_accuracy: 0.718 \n",
      "AUC_Score: 0.718 \n",
      "Specificity: 0.765 \n",
      "Sensitivity: 0.672 \n",
      "MCC: 0.448\n"
     ]
    }
   ],
   "source": [
    "knn_a549_morgan2_cv,knn_a549_morgan2_mean=cv_result(best_model_knn_A549_Morgan2,X_Morgan2_train_a549,y_Morgan2_train_a549)"
   ]
  },
  {
   "cell_type": "code",
   "execution_count": 371,
   "id": "regulated-scratch",
   "metadata": {},
   "outputs": [
    {
     "data": {
      "text/html": [
       "<div>\n",
       "<style scoped>\n",
       "    .dataframe tbody tr th:only-of-type {\n",
       "        vertical-align: middle;\n",
       "    }\n",
       "\n",
       "    .dataframe tbody tr th {\n",
       "        vertical-align: top;\n",
       "    }\n",
       "\n",
       "    .dataframe thead th {\n",
       "        text-align: right;\n",
       "    }\n",
       "</style>\n",
       "<table border=\"1\" class=\"dataframe\">\n",
       "  <thead>\n",
       "    <tr style=\"text-align: right;\">\n",
       "      <th></th>\n",
       "      <th>fit_time</th>\n",
       "      <th>score_time</th>\n",
       "      <th>test_accuracy</th>\n",
       "      <th>test_balanced_accuracy</th>\n",
       "      <th>test_roc_auc</th>\n",
       "      <th>test_specificity</th>\n",
       "      <th>test_sensitivity</th>\n",
       "      <th>test_MCC</th>\n",
       "    </tr>\n",
       "  </thead>\n",
       "  <tbody>\n",
       "    <tr>\n",
       "      <th>0</th>\n",
       "      <td>0.009735</td>\n",
       "      <td>0.078139</td>\n",
       "      <td>0.750000</td>\n",
       "      <td>0.747768</td>\n",
       "      <td>0.747768</td>\n",
       "      <td>0.781250</td>\n",
       "      <td>0.714286</td>\n",
       "      <td>0.496924</td>\n",
       "    </tr>\n",
       "    <tr>\n",
       "      <th>1</th>\n",
       "      <td>0.001019</td>\n",
       "      <td>0.055753</td>\n",
       "      <td>0.650000</td>\n",
       "      <td>0.651786</td>\n",
       "      <td>0.651786</td>\n",
       "      <td>0.625000</td>\n",
       "      <td>0.678571</td>\n",
       "      <td>0.303064</td>\n",
       "    </tr>\n",
       "    <tr>\n",
       "      <th>2</th>\n",
       "      <td>0.019739</td>\n",
       "      <td>0.033199</td>\n",
       "      <td>0.683333</td>\n",
       "      <td>0.685762</td>\n",
       "      <td>0.685762</td>\n",
       "      <td>0.612903</td>\n",
       "      <td>0.758621</td>\n",
       "      <td>0.374663</td>\n",
       "    </tr>\n",
       "    <tr>\n",
       "      <th>3</th>\n",
       "      <td>0.000997</td>\n",
       "      <td>0.051967</td>\n",
       "      <td>0.716667</td>\n",
       "      <td>0.711346</td>\n",
       "      <td>0.711346</td>\n",
       "      <td>0.870968</td>\n",
       "      <td>0.551724</td>\n",
       "      <td>0.448083</td>\n",
       "    </tr>\n",
       "    <tr>\n",
       "      <th>4</th>\n",
       "      <td>0.000994</td>\n",
       "      <td>0.046767</td>\n",
       "      <td>0.800000</td>\n",
       "      <td>0.795328</td>\n",
       "      <td>0.795328</td>\n",
       "      <td>0.935484</td>\n",
       "      <td>0.655172</td>\n",
       "      <td>0.618832</td>\n",
       "    </tr>\n",
       "  </tbody>\n",
       "</table>\n",
       "</div>"
      ],
      "text/plain": [
       "   fit_time  score_time  test_accuracy  test_balanced_accuracy  test_roc_auc  \\\n",
       "0  0.009735    0.078139       0.750000                0.747768      0.747768   \n",
       "1  0.001019    0.055753       0.650000                0.651786      0.651786   \n",
       "2  0.019739    0.033199       0.683333                0.685762      0.685762   \n",
       "3  0.000997    0.051967       0.716667                0.711346      0.711346   \n",
       "4  0.000994    0.046767       0.800000                0.795328      0.795328   \n",
       "\n",
       "   test_specificity  test_sensitivity  test_MCC  \n",
       "0          0.781250          0.714286  0.496924  \n",
       "1          0.625000          0.678571  0.303064  \n",
       "2          0.612903          0.758621  0.374663  \n",
       "3          0.870968          0.551724  0.448083  \n",
       "4          0.935484          0.655172  0.618832  "
      ]
     },
     "execution_count": 371,
     "metadata": {},
     "output_type": "execute_result"
    }
   ],
   "source": [
    "knn_a549_morgan2_cv"
   ]
  },
  {
   "cell_type": "markdown",
   "id": "loved-inspection",
   "metadata": {},
   "source": [
    "#### Test set for A549:"
   ]
  },
  {
   "cell_type": "code",
   "execution_count": 372,
   "id": "endless-stomach",
   "metadata": {},
   "outputs": [
    {
     "name": "stdout",
     "output_type": "stream",
     "text": [
      "Accuracy Score: 0.733\n",
      "Balanced Accuracy: 0.736\n",
      "MCC Score: 0.475\n",
      "Sensitivity Score: 0.806\n",
      "Specificity Score: 0.667\n",
      "\n",
      "********************** Graph *****************************\n",
      "\n"
     ]
    },
    {
     "data": {
      "image/png": "[encoded data removed]",
      "text/plain": [
       "<Figure size 360x360 with 2 Axes>"
      ]
     },
     "metadata": {
      "needs_background": "light"
     },
     "output_type": "display_data"
    }
   ],
   "source": [
    "best_model_knn_A549_Morgan2.fit(X_Morgan2_train_a549, y_Morgan2_train_a549)\n",
    "prediction_a549_morgan2_knn=best_model_knn_A549_Morgan2.predict(X_Morgan2_test_a549)\n",
    "knn_test_a549_morgan2 = permonce_measure(y_Morgan2_test_a549,prediction_a549_morgan2_knn)"
   ]
  },
  {
   "cell_type": "code",
   "execution_count": 373,
   "id": "british-homework",
   "metadata": {},
   "outputs": [
    {
     "name": "stdout",
     "output_type": "stream",
     "text": [
      "No Skill: ROC AUC=0.500\n",
      "ROC AUC=0.736\n"
     ]
    },
    {
     "data": {
      "image/png": "[encoded data removed]",
      "text/plain": [
       "<Figure size 432x288 with 1 Axes>"
      ]
     },
     "metadata": {
      "needs_background": "light"
     },
     "output_type": "display_data"
    }
   ],
   "source": [
    "prediction_a549_morgan2_knn_probs = best_model_knn_A549_Morgan2.predict_proba(X_Morgan2_test_a549)\n",
    "roc_auc_a549_morgan2=roc_auc(y_Morgan2_test_a549,prediction_a549_morgan2_knn_probs,'knn')\n",
    "knn_test_a549_morgan2.update(roc_auc_a549_morgan2)"
   ]
  },
  {
   "cell_type": "markdown",
   "id": "protective-blake",
   "metadata": {},
   "source": [
    "## EnD!"
   ]
  },
  {
   "cell_type": "code",
   "execution_count": 374,
   "id": "finnish-infrared",
   "metadata": {},
   "outputs": [
    {
     "data": {
      "text/html": [
       "<div>\n",
       "<style scoped>\n",
       "    .dataframe tbody tr th:only-of-type {\n",
       "        vertical-align: middle;\n",
       "    }\n",
       "\n",
       "    .dataframe tbody tr th {\n",
       "        vertical-align: top;\n",
       "    }\n",
       "\n",
       "    .dataframe thead th {\n",
       "        text-align: right;\n",
       "    }\n",
       "</style>\n",
       "<table border=\"1\" class=\"dataframe\">\n",
       "  <thead>\n",
       "    <tr style=\"text-align: right;\">\n",
       "      <th></th>\n",
       "      <th>Model</th>\n",
       "      <th>n_neighbors</th>\n",
       "      <th>weights</th>\n",
       "      <th>Accuracy</th>\n",
       "      <th>Balanced Accuracy</th>\n",
       "      <th>AUC_Score</th>\n",
       "      <th>Specificity</th>\n",
       "      <th>Sensitivity</th>\n",
       "      <th>MCC</th>\n",
       "      <th>Accuracy_test</th>\n",
       "      <th>Balanced Accuracy_test</th>\n",
       "      <th>MCC Score_test</th>\n",
       "      <th>Sensitivity Score_test</th>\n",
       "      <th>Specificity Score_test</th>\n",
       "      <th>AUC_Score_test</th>\n",
       "    </tr>\n",
       "  </thead>\n",
       "  <tbody>\n",
       "    <tr>\n",
       "      <th>0</th>\n",
       "      <td>KNN_MCF7_MACCS</td>\n",
       "      <td>1</td>\n",
       "      <td>uniform</td>\n",
       "      <td>0.758</td>\n",
       "      <td>0.758</td>\n",
       "      <td>0.758</td>\n",
       "      <td>0.754</td>\n",
       "      <td>0.761</td>\n",
       "      <td>0.515</td>\n",
       "      <td>0.758</td>\n",
       "      <td>0.757</td>\n",
       "      <td>0.512</td>\n",
       "      <td>0.750</td>\n",
       "      <td>0.765</td>\n",
       "      <td>0.757</td>\n",
       "    </tr>\n",
       "    <tr>\n",
       "      <th>1</th>\n",
       "      <td>KNN_Breast_MACCS</td>\n",
       "      <td>1</td>\n",
       "      <td>uniform</td>\n",
       "      <td>0.765</td>\n",
       "      <td>0.761</td>\n",
       "      <td>0.761</td>\n",
       "      <td>0.796</td>\n",
       "      <td>0.726</td>\n",
       "      <td>0.530</td>\n",
       "      <td>0.787</td>\n",
       "      <td>0.784</td>\n",
       "      <td>0.570</td>\n",
       "      <td>0.755</td>\n",
       "      <td>0.814</td>\n",
       "      <td>0.784</td>\n",
       "    </tr>\n",
       "    <tr>\n",
       "      <th>2</th>\n",
       "      <td>KNN_Lung_MACCS</td>\n",
       "      <td>3</td>\n",
       "      <td>distance</td>\n",
       "      <td>0.670</td>\n",
       "      <td>0.667</td>\n",
       "      <td>0.706</td>\n",
       "      <td>0.735</td>\n",
       "      <td>0.598</td>\n",
       "      <td>0.339</td>\n",
       "      <td>0.681</td>\n",
       "      <td>0.673</td>\n",
       "      <td>0.361</td>\n",
       "      <td>0.536</td>\n",
       "      <td>0.810</td>\n",
       "      <td>0.785</td>\n",
       "    </tr>\n",
       "    <tr>\n",
       "      <th>3</th>\n",
       "      <td>KNN_A549_MACCS</td>\n",
       "      <td>5</td>\n",
       "      <td>uniform</td>\n",
       "      <td>0.670</td>\n",
       "      <td>0.668</td>\n",
       "      <td>0.744</td>\n",
       "      <td>0.706</td>\n",
       "      <td>0.630</td>\n",
       "      <td>0.338</td>\n",
       "      <td>0.680</td>\n",
       "      <td>0.682</td>\n",
       "      <td>0.364</td>\n",
       "      <td>0.722</td>\n",
       "      <td>0.641</td>\n",
       "      <td>0.730</td>\n",
       "    </tr>\n",
       "    <tr>\n",
       "      <th>4</th>\n",
       "      <td>KNN_MCF7_MORGAN2</td>\n",
       "      <td>1</td>\n",
       "      <td>uniform</td>\n",
       "      <td>0.791</td>\n",
       "      <td>0.784</td>\n",
       "      <td>0.784</td>\n",
       "      <td>0.838</td>\n",
       "      <td>0.730</td>\n",
       "      <td>0.578</td>\n",
       "      <td>0.747</td>\n",
       "      <td>0.737</td>\n",
       "      <td>0.483</td>\n",
       "      <td>0.650</td>\n",
       "      <td>0.824</td>\n",
       "      <td>0.737</td>\n",
       "    </tr>\n",
       "    <tr>\n",
       "      <th>5</th>\n",
       "      <td>KNN_Breast_MORGAN2</td>\n",
       "      <td>1</td>\n",
       "      <td>uniform</td>\n",
       "      <td>0.777</td>\n",
       "      <td>0.771</td>\n",
       "      <td>0.771</td>\n",
       "      <td>0.822</td>\n",
       "      <td>0.721</td>\n",
       "      <td>0.555</td>\n",
       "      <td>0.806</td>\n",
       "      <td>0.805</td>\n",
       "      <td>0.609</td>\n",
       "      <td>0.796</td>\n",
       "      <td>0.814</td>\n",
       "      <td>0.805</td>\n",
       "    </tr>\n",
       "    <tr>\n",
       "      <th>6</th>\n",
       "      <td>KNN_Lung_MORGAN2</td>\n",
       "      <td>1</td>\n",
       "      <td>uniform</td>\n",
       "      <td>0.700</td>\n",
       "      <td>0.698</td>\n",
       "      <td>0.698</td>\n",
       "      <td>0.731</td>\n",
       "      <td>0.665</td>\n",
       "      <td>0.399</td>\n",
       "      <td>0.765</td>\n",
       "      <td>0.761</td>\n",
       "      <td>0.528</td>\n",
       "      <td>0.696</td>\n",
       "      <td>0.825</td>\n",
       "      <td>0.761</td>\n",
       "    </tr>\n",
       "    <tr>\n",
       "      <th>7</th>\n",
       "      <td>KNN_A549_MORGAN2</td>\n",
       "      <td>1</td>\n",
       "      <td>uniform</td>\n",
       "      <td>0.720</td>\n",
       "      <td>0.718</td>\n",
       "      <td>0.718</td>\n",
       "      <td>0.765</td>\n",
       "      <td>0.672</td>\n",
       "      <td>0.448</td>\n",
       "      <td>0.733</td>\n",
       "      <td>0.736</td>\n",
       "      <td>0.475</td>\n",
       "      <td>0.806</td>\n",
       "      <td>0.667</td>\n",
       "      <td>0.736</td>\n",
       "    </tr>\n",
       "  </tbody>\n",
       "</table>\n",
       "</div>"
      ],
      "text/plain": [
       "                Model  n_neighbors   weights  Accuracy  Balanced Accuracy  \\\n",
       "0      KNN_MCF7_MACCS            1   uniform     0.758              0.758   \n",
       "1    KNN_Breast_MACCS            1   uniform     0.765              0.761   \n",
       "2      KNN_Lung_MACCS            3  distance     0.670              0.667   \n",
       "3      KNN_A549_MACCS            5   uniform     0.670              0.668   \n",
       "4    KNN_MCF7_MORGAN2            1   uniform     0.791              0.784   \n",
       "5  KNN_Breast_MORGAN2            1   uniform     0.777              0.771   \n",
       "6    KNN_Lung_MORGAN2            1   uniform     0.700              0.698   \n",
       "7    KNN_A549_MORGAN2            1   uniform     0.720              0.718   \n",
       "\n",
       "   AUC_Score  Specificity  Sensitivity    MCC  Accuracy_test  \\\n",
       "0      0.758        0.754        0.761  0.515          0.758   \n",
       "1      0.761        0.796        0.726  0.530          0.787   \n",
       "2      0.706        0.735        0.598  0.339          0.681   \n",
       "3      0.744        0.706        0.630  0.338          0.680   \n",
       "4      0.784        0.838        0.730  0.578          0.747   \n",
       "5      0.771        0.822        0.721  0.555          0.806   \n",
       "6      0.698        0.731        0.665  0.399          0.765   \n",
       "7      0.718        0.765        0.672  0.448          0.733   \n",
       "\n",
       "   Balanced Accuracy_test  MCC Score_test  Sensitivity Score_test  \\\n",
       "0                   0.757           0.512                   0.750   \n",
       "1                   0.784           0.570                   0.755   \n",
       "2                   0.673           0.361                   0.536   \n",
       "3                   0.682           0.364                   0.722   \n",
       "4                   0.737           0.483                   0.650   \n",
       "5                   0.805           0.609                   0.796   \n",
       "6                   0.761           0.528                   0.696   \n",
       "7                   0.736           0.475                   0.806   \n",
       "\n",
       "   Specificity Score_test  AUC_Score_test  \n",
       "0                   0.765           0.757  \n",
       "1                   0.814           0.784  \n",
       "2                   0.810           0.785  \n",
       "3                   0.641           0.730  \n",
       "4                   0.824           0.737  \n",
       "5                   0.814           0.805  \n",
       "6                   0.825           0.761  \n",
       "7                   0.667           0.736  "
      ]
     },
     "execution_count": 374,
     "metadata": {},
     "output_type": "execute_result"
    }
   ],
   "source": [
    "Model = pd.DataFrame({'Model':['KNN_MCF7_MACCS','KNN_Breast_MACCS','KNN_Lung_MACCS','KNN_A549_MACCS','KNN_MCF7_MORGAN2','KNN_Breast_MORGAN2','KNN_Lung_MORGAN2','KNN_A549_MORGAN2']})\n",
    "parameters=pd.DataFrame([grid_search_knn_mcf7_maccs.best_params_,grid_search_knn_breast_maccs.best_params_,grid_search_knn_lung_maccs.best_params_,grid_search_knn_a549_maccs.best_params_,grid_search_knn_mcf7_morgan2.best_params_,grid_search_knn_breast_morgan2.best_params_,grid_search_knn_lung_morgan2.best_params_,grid_search_knn_a549_morgan2.best_params_])\n",
    "test_set=pd.DataFrame([knn_test_mcf7_maccs,knn_test_breast_maccs,knn_test_lung_maccs,knn_test_a549_maccs,knn_test_mcf7_morgan2,knn_test_breast_morgan2,knn_test_lung_morgan2,knn_test_a549_morgan2])\n",
    "cv_set=pd.DataFrame([knn_mcf7_maccs_mean,knn_breast_maccs_mean,knn_lung_maccs_mean,knn_a549_maccs_mean,knn_mcf7_morgan2_mean,knn_breast_morgan2_mean,knn_lung_morgan2_mean,knn_a549_morgan2_mean])\n",
    "final_result=pd.concat([Model,parameters,cv_set,test_set],axis=1)\n",
    "final_result"
   ]
  },
  {
   "cell_type": "code",
   "execution_count": null,
   "id": "drawn-johnson",
   "metadata": {},
   "outputs": [],
   "source": []
  }
 ],
 "metadata": {
  "kernelspec": {
   "display_name": "Python 3",
   "language": "python",
   "name": "python3"
  },
  "language_info": {
   "codemirror_mode": {
    "name": "ipython",
    "version": 3
   },
   "file_extension": ".py",
   "mimetype": "text/x-python",
   "name": "python",
   "nbconvert_exporter": "python",
   "pygments_lexer": "ipython3",
   "version": "3.7.10"
  }
 },
 "nbformat": 4,
 "nbformat_minor": 5
}
