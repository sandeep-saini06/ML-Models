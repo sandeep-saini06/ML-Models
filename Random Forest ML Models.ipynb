{
 "cells": [
  {
   "cell_type": "code",
   "execution_count": 3,
   "id": "1d3b2b42",
   "metadata": {},
   "outputs": [],
   "source": [
    "# general and data handling\n",
    "import numpy as np\n",
    "import pandas as pd\n",
    "import os\n",
    "from collections import Counter\n",
    "\n",
    "# Required RDKit modules\n",
    "import rdkit as rd\n",
    "from rdkit.Chem.Fingerprints import FingerprintMols\n",
    "from rdkit import RDConfig\n",
    "from rdkit.Chem import PandasTools\n",
    "from rdkit import Chem\n",
    "from rdkit.Chem.Draw import IPythonConsole\n",
    "from rdkit.Chem import rdFingerprintGenerator\n",
    "from rdkit import DataStructs\n",
    "from rdkit.Chem import AllChem as Chem\n",
    "from rdkit.Chem.rdMolDescriptors import GetAtomPairFingerprint\n",
    "from rdkit.Chem.AtomPairs import Torsions\n",
    "from rdkit.Chem import AllChem\n",
    "from rdkit.Chem import MACCSkeys\n",
    "\n",
    "# modeling\n",
    "import sklearn as sk\n",
    "from sklearn import metrics\n",
    "from sklearn.model_selection import cross_val_score\n",
    "from sklearn.model_selection import train_test_split\n",
    "from sklearn.model_selection import validation_curve\n",
    "from sklearn.linear_model import LogisticRegression\n",
    "from sklearn.linear_model import LogisticRegressionCV\n",
    "from sklearn.decomposition import PCA\n",
    "#from imblearn.over_sampling import ADASYN\n",
    "from sklearn.metrics import classification_report\n",
    "from sklearn.neighbors import KNeighborsClassifier\n",
    "from sklearn.model_selection import GridSearchCV\n",
    "from sklearn.ensemble import GradientBoostingClassifier\n",
    "from sklearn.ensemble import RandomForestRegressor\n",
    "from sklearn.metrics import roc_curve\n",
    "from sklearn.metrics import roc_auc_score\n",
    "# Graphing\n",
    "import matplotlib.pyplot as plt\n",
    "import seaborn as sns"
   ]
  },
  {
   "cell_type": "code",
   "execution_count": 4,
   "id": "b2116e1a",
   "metadata": {},
   "outputs": [],
   "source": [
    "#Import File:\n",
    "mcf7 = pd.read_csv('V1/mcf7_V1.csv')\n",
    "breast = pd.read_csv('V1/breast_V1.csv')\n",
    "lung = pd.read_csv('V1/lung_V1.csv')\n",
    "a549 = pd.read_csv('V1/a549_V1.csv')"
   ]
  },
  {
   "cell_type": "code",
   "execution_count": 5,
   "id": "fifteen-increase",
   "metadata": {},
   "outputs": [
    {
     "name": "stdout",
     "output_type": "stream",
     "text": [
      "MCF7 : 454\n",
      "Breast : 548\n",
      "Lung : 592\n",
      "A549 : 375\n"
     ]
    }
   ],
   "source": [
    "print('MCF7 :',len(mcf7))\n",
    "print('Breast :',len(breast))\n",
    "print('Lung :',len(lung))\n",
    "print('A549 :',len(a549))"
   ]
  },
  {
   "cell_type": "code",
   "execution_count": 6,
   "id": "severe-newsletter",
   "metadata": {},
   "outputs": [],
   "source": [
    "mcf7[\"mol\"] = [Chem.MolFromSmiles(x) for x in mcf7[\"CanonicalSMILES\"]]\n",
    "breast[\"mol\"] = [Chem.MolFromSmiles(x) for x in breast[\"CanonicalSMILES\"]]\n",
    "lung[\"mol\"] = [Chem.MolFromSmiles(x) for x in lung[\"CanonicalSMILES\"]]\n",
    "a549[\"mol\"] = [Chem.MolFromSmiles(x) for x in a549[\"CanonicalSMILES\"]]"
   ]
  },
  {
   "cell_type": "code",
   "execution_count": 7,
   "id": "creative-description",
   "metadata": {},
   "outputs": [
    {
     "name": "stdout",
     "output_type": "stream",
     "text": [
      "MCF7 SMiles: 454\n",
      "Breast Smiles: 548\n",
      "lung Smiles: 592\n",
      "A549 Smiles: 375\n"
     ]
    }
   ],
   "source": [
    "print('MCF7 SMiles:',mcf7['CanonicalSMILES'].count())\n",
    "print('Breast Smiles:',breast['CanonicalSMILES'].count())\n",
    "print('lung Smiles:',lung['CanonicalSMILES'].count())\n",
    "print('A549 Smiles:',a549['CanonicalSMILES'].count())"
   ]
  },
  {
   "cell_type": "code",
   "execution_count": 8,
   "id": "accompanied-continuity",
   "metadata": {},
   "outputs": [],
   "source": [
    "# Maccs\n",
    "mcf7[\"Maccs\"] = [MACCSkeys.GenMACCSKeys(x) for x in mcf7[\"mol\"]]\n",
    "breast[\"Maccs\"] = [MACCSkeys.GenMACCSKeys(x) for x in breast[\"mol\"]]\n",
    "lung[\"Maccs\"] = [MACCSkeys.GenMACCSKeys(x) for x in lung[\"mol\"]]\n",
    "a549[\"Maccs\"] = [MACCSkeys.GenMACCSKeys(x) for x in a549[\"mol\"]]"
   ]
  },
  {
   "cell_type": "code",
   "execution_count": 9,
   "id": "architectural-maria",
   "metadata": {},
   "outputs": [],
   "source": [
    "# Morgan 2:\n",
    "mcf7[\"morg2_fp\"] = [Chem.GetMorganFingerprintAsBitVect(m, 2, nBits = 1024) for m in mcf7[\"mol\"]]\n",
    "breast[\"morg2_fp\"] = [Chem.GetMorganFingerprintAsBitVect(m, 2, nBits = 1024) for m in breast[\"mol\"]]\n",
    "lung[\"morg2_fp\"] = [Chem.GetMorganFingerprintAsBitVect(m, 2, nBits = 1024) for m in lung[\"mol\"]]\n",
    "a549[\"morg2_fp\"] = [Chem.GetMorganFingerprintAsBitVect(m, 2, nBits = 1024) for m in a549[\"mol\"]]"
   ]
  },
  {
   "cell_type": "code",
   "execution_count": 10,
   "id": "wooden-stand",
   "metadata": {},
   "outputs": [
    {
     "name": "stdout",
     "output_type": "stream",
     "text": [
      "Training Data for MCF7: 363 \n",
      "\n",
      "Testing Data for MCF7: 91 \n",
      "\n",
      "***************************************************************************\n",
      "Training Data for Breast: 438 \n",
      "\n",
      "Testing Data for Breast: 110 \n",
      "\n",
      "***************************************************************************\n",
      "Training Data for lung: 473 \n",
      "\n",
      "Testing Data for lung: 119 \n",
      "\n",
      "***************************************************************************\n",
      "Training Data for a549: 300 \n",
      "\n",
      "Testing Data for a549: 75 \n",
      "\n"
     ]
    }
   ],
   "source": [
    "train_mcf7, test_mcf7 = train_test_split(mcf7, test_size=0.2, random_state=1,stratify=mcf7.Target.values)\n",
    "train_breast, test_breast = train_test_split(breast, test_size=0.2, random_state=1,stratify=breast.Target.values)\n",
    "train_lung, test_lung = train_test_split(lung, test_size=0.2, random_state=1,stratify=lung.Target.values)\n",
    "train_a549, test_a549 = train_test_split(a549, test_size=0.2, random_state=1,stratify=a549.Target.values)\n",
    "\n",
    "print('Training Data for MCF7:',len(train_mcf7),'\\n')\n",
    "print('Testing Data for MCF7:',len(test_mcf7),'\\n')\n",
    "print('***************************************************************************')\n",
    "print('Training Data for Breast:',len(train_breast),'\\n')\n",
    "print('Testing Data for Breast:',len(test_breast),'\\n')\n",
    "print('***************************************************************************')\n",
    "print('Training Data for lung:',len(train_lung),'\\n')\n",
    "print('Testing Data for lung:',len(test_lung),'\\n')\n",
    "print('***************************************************************************')\n",
    "print('Training Data for a549:',len(train_a549),'\\n')\n",
    "print('Testing Data for a549:',len(test_a549),'\\n')"
   ]
  },
  {
   "cell_type": "code",
   "execution_count": 11,
   "id": "sufficient-packing",
   "metadata": {},
   "outputs": [],
   "source": [
    "def Counting(y):\n",
    "    unique, counts = np.unique(y, return_counts=True)\n",
    "    a=dict(zip(unique, counts))\n",
    "    return str(a)"
   ]
  },
  {
   "cell_type": "code",
   "execution_count": 12,
   "id": "statistical-latest",
   "metadata": {},
   "outputs": [
    {
     "name": "stdout",
     "output_type": "stream",
     "text": [
      "Train Set for MCF7 has: {0: 204, 1: 159}\n",
      "Test Set for MCF7 has: {0: 51, 1: 40}\n",
      "*********************************************************************\n",
      "Train Set for Breast has: {0: 236, 1: 202}\n",
      "Test Set for Breast has: {0: 59, 1: 51}\n",
      "*********************************************************************\n",
      "Train Set for Lung has: {0: 249, 1: 224}\n",
      "Test Set for Lung has: {0: 63, 1: 56}\n",
      "*********************************************************************\n",
      "Train Set for A549 has: {0: 157, 1: 143}\n",
      "Test Set for A549 has: {0: 39, 1: 36}\n"
     ]
    }
   ],
   "source": [
    "print('Train Set for MCF7 has:',Counting(train_mcf7['Target']))\n",
    "print('Test Set for MCF7 has:',Counting(test_mcf7['Target']))\n",
    "print('*********************************************************************')\n",
    "print('Train Set for Breast has:',Counting(train_breast['Target']))\n",
    "print('Test Set for Breast has:',Counting(test_breast['Target']))\n",
    "print('*********************************************************************')\n",
    "print('Train Set for Lung has:',Counting(train_lung['Target']))\n",
    "print('Test Set for Lung has:',Counting(test_lung['Target']))\n",
    "print('*********************************************************************')\n",
    "print('Train Set for A549 has:',Counting(train_a549['Target']))\n",
    "print('Test Set for A549 has:',Counting(test_a549['Target']))"
   ]
  },
  {
   "cell_type": "code",
   "execution_count": 13,
   "id": "forced-keyboard",
   "metadata": {},
   "outputs": [],
   "source": [
    "def to_bit(fps):\n",
    "    fp_np = []\n",
    "    for fp in fps:\n",
    "        arr = np.zeros((1,))\n",
    "        DataStructs.ConvertToNumpyArray(fp, arr)\n",
    "        fp_np.append(arr)\n",
    "    test = fp_np\n",
    "    return test"
   ]
  },
  {
   "cell_type": "markdown",
   "id": "freelance-closing",
   "metadata": {},
   "source": [
    "### Maccs:"
   ]
  },
  {
   "cell_type": "code",
   "execution_count": 14,
   "id": "seventh-domestic",
   "metadata": {},
   "outputs": [],
   "source": [
    "# MACCS Fingreprint:  # MCF7\n",
    "X_Macc_train_mcf7=to_bit(train_mcf7['Maccs'])\n",
    "y_Macc_train_mcf7=train_mcf7.Target.values\n",
    "\n",
    "X_Macc_test_mcf7=to_bit(test_mcf7['Maccs'])\n",
    "y_Macc_test_mcf7=test_mcf7.Target.values"
   ]
  },
  {
   "cell_type": "code",
   "execution_count": 15,
   "id": "planned-muscle",
   "metadata": {},
   "outputs": [],
   "source": [
    "# MACCS Fingreprint:  #Breast\n",
    "X_Macc_train_breast=to_bit(train_breast['Maccs'])\n",
    "y_Macc_train_breast=train_breast.Target.values\n",
    "\n",
    "X_Macc_test_breast=to_bit(test_breast['Maccs'])\n",
    "y_Macc_test_breast=test_breast.Target.values"
   ]
  },
  {
   "cell_type": "code",
   "execution_count": 16,
   "id": "73ff1bef",
   "metadata": {},
   "outputs": [],
   "source": [
    "# MACCS Fingreprint:  # Lung\n",
    "X_Macc_train_lung=to_bit(train_lung['Maccs'])\n",
    "y_Macc_train_lung=train_lung.Target.values\n",
    "\n",
    "X_Macc_test_lung=to_bit(test_lung['Maccs'])\n",
    "y_Macc_test_lung=test_lung.Target.values"
   ]
  },
  {
   "cell_type": "code",
   "execution_count": 17,
   "id": "7852963f",
   "metadata": {},
   "outputs": [],
   "source": [
    "# MACCS Fingreprint:  # A549\n",
    "X_Macc_train_a549=to_bit(train_a549['Maccs'])\n",
    "y_Macc_train_a549=train_a549.Target.values\n",
    "\n",
    "X_Macc_test_a549=to_bit(test_a549['Maccs'])\n",
    "y_Macc_test_a549=test_a549.Target.values"
   ]
  },
  {
   "cell_type": "markdown",
   "id": "conventional-browser",
   "metadata": {},
   "source": [
    "### Morgan2:"
   ]
  },
  {
   "cell_type": "code",
   "execution_count": 18,
   "id": "african-damages",
   "metadata": {},
   "outputs": [],
   "source": [
    "# Morgan 2 Fingreprint:   #MCF7\n",
    "X_Morgan2_train_mcf7=to_bit(train_mcf7['morg2_fp'])\n",
    "y_Morgan2_train_mcf7=train_mcf7.Target.values\n",
    "\n",
    "X_Morgan2_test_mcf7=to_bit(test_mcf7['morg2_fp'])\n",
    "y_Morgan2_test_mcf7=test_mcf7.Target.values"
   ]
  },
  {
   "cell_type": "code",
   "execution_count": 19,
   "id": "warming-palestine",
   "metadata": {},
   "outputs": [],
   "source": [
    "# Morgan 2 Fingreprint:  #Breast\n",
    "X_Morgan2_train_breast=to_bit(train_breast['morg2_fp'])\n",
    "y_Morgan2_train_breast=train_breast.Target.values\n",
    "\n",
    "X_Morgan2_test_breast=to_bit(test_breast['morg2_fp'])\n",
    "y_Morgan2_test_breast=test_breast.Target.values"
   ]
  },
  {
   "cell_type": "code",
   "execution_count": 20,
   "id": "27e4f9ee",
   "metadata": {},
   "outputs": [],
   "source": [
    "# Morgan 2 Fingreprint:   #Lung\n",
    "X_Morgan2_train_lung=to_bit(train_lung['morg2_fp'])\n",
    "y_Morgan2_train_lung=train_lung.Target.values\n",
    "\n",
    "X_Morgan2_test_lung=to_bit(test_lung['morg2_fp'])\n",
    "y_Morgan2_test_lung=test_lung.Target.values"
   ]
  },
  {
   "cell_type": "code",
   "execution_count": 21,
   "id": "dfaee449",
   "metadata": {},
   "outputs": [],
   "source": [
    "# Morgan 2 Fingreprint:   #A549\n",
    "X_Morgan2_train_a549=to_bit(train_a549['morg2_fp'])\n",
    "y_Morgan2_train_a549=train_a549.Target.values\n",
    "\n",
    "X_Morgan2_test_a549=to_bit(test_a549['morg2_fp'])\n",
    "y_Morgan2_test_a549=test_a549.Target.values"
   ]
  },
  {
   "cell_type": "markdown",
   "id": "outdoor-glass",
   "metadata": {},
   "source": [
    "### Models:\n",
    "\n",
    "<ol>\n",
    "<li>Random forest (RF)</li>\n",
    "<li>SVM</li>\n",
    "<li>KNN</li>\n",
    "<li>eXtreme Gradient Boosting (XGBoost)</li>\n",
    "</ol>"
   ]
  },
  {
   "cell_type": "code",
   "execution_count": 22,
   "id": "statewide-abuse",
   "metadata": {},
   "outputs": [],
   "source": [
    "def permonce_measure(y_test,y_pred):\n",
    "    print(\"Accuracy Score:\", round(accuracy_score(y_test, y_pred),3))\n",
    "    print('Balanced Accuracy:',round(balanced_accuracy_score(y_test,y_pred),3))\n",
    "    print(\"MCC Score:\",round(matthews_corrcoef(y_test, y_pred),3))\n",
    "    tn, fp, fn, tp = confusion_matrix(y_test, y_pred).ravel()\n",
    "    a3= Sensitivity = tp/(tp+fn)\n",
    "    a4= Specificity = tn/(tn+fp)\n",
    "    print(\"Sensitivity Score:\",round(a3,3))\n",
    "    print(\"Specificity Score:\",round(a4,3))\n",
    "    \n",
    "    test_measure = {\"Accuracy_test\":round(accuracy_score(y_test, y_pred),3),\n",
    "                    \"Balanced Accuracy_test\":round(balanced_accuracy_score(y_test,y_pred),3),\n",
    "                    \"MCC Score_test\":round(matthews_corrcoef(y_test, y_pred),3),\n",
    "                    \"Sensitivity Score_test\":round(a3,3),\n",
    "                    \"Specificity Score_test\":round(a4,3)\n",
    "                   }\n",
    "    score=accuracy_score(y_test, y_pred)\n",
    "    cm_macc_test = metrics.confusion_matrix(y_test, y_pred)\n",
    "    #Graph:\n",
    "    print('\\n********************** Graph *****************************\\n')\n",
    "    plt.figure(figsize=(5,5))\n",
    "    sns.heatmap(cm_macc_test, annot=True, fmt=\".3f\", linewidths=.5, square = True, cmap = 'Blues_r');\n",
    "    plt.ylabel('Actual label');\n",
    "    plt.xlabel('Predicted label');\n",
    "    all_sample_title = 'Accuracy Score: {0}'.format(score)\n",
    "    plt.title(all_sample_title, size = 15);\n",
    "    return test_measure\n",
    "\n",
    "def roc_auc(y_val,prediction_probs,model_name):\n",
    "    # generate a no skill prediction (majority class)\n",
    "    ns_probs = [0 for _ in range(len(y_val))]\n",
    "    # keep probabilities for the positive outcome only\n",
    "    prediction_probs = prediction_probs[:, 1]\n",
    "    # calculate scores\n",
    "    ns_auc = roc_auc_score(y_val, ns_probs)\n",
    "    prediction_probs_auc = roc_auc_score(y_val, prediction_probs)\n",
    "    # summarize scores\n",
    "    print('No Skill: ROC AUC=%.3f' % (ns_auc))\n",
    "    print('ROC AUC=%.3f' % (prediction_probs_auc))\n",
    "    roc_auc = {\"AUC_Score_test\":round(prediction_probs_auc,3)}\n",
    "    # calculate roc curves\n",
    "    ns_fpr, ns_tpr, _ = roc_curve(y_val, ns_probs)\n",
    "    prediction_probs_fpr, prediction_probs_tpr, _ = roc_curve(y_val, prediction_probs)\n",
    "    # plot the roc curve for the model\n",
    "    pyplot.plot(ns_fpr, ns_tpr, linestyle='--', label='No Skill')\n",
    "    pyplot.plot(prediction_probs_fpr, prediction_probs_tpr, marker='.', label=model_name)\n",
    "    # axis labels\n",
    "    pyplot.xlabel('False Positive Rate')\n",
    "    pyplot.ylabel('True Positive Rate')\n",
    "    # show the legend\n",
    "    pyplot.legend()\n",
    "    # show the plot\n",
    "    pyplot.show()\n",
    "    return roc_auc\n",
    "\n",
    "def cv_result(best_model,X_train,y_train):\n",
    "    scoring={'accuracy':'accuracy',\n",
    "            'balanced_accuracy':'balanced_accuracy',\n",
    "            'roc_auc':'roc_auc',\n",
    "            'specificity':make_scorer(recall_score,pos_label=0),\n",
    "            'sensitivity':make_scorer(recall_score,pos_label=1),\n",
    "            'MCC':make_scorer(matthews_corrcoef)}\n",
    "    cv=cross_validate(best_model,X_train,y_train, cv=5,scoring=scoring)\n",
    "    cv_df=pd.DataFrame(cv)\n",
    "    Mean={'Accuracy':round(cv['test_accuracy'].mean(),3),\n",
    "          'Balanced Accuracy':round(cv['test_balanced_accuracy'].mean(),3),\n",
    "          'AUC_Score':round(cv['test_roc_auc'].mean(),3),\n",
    "          'Specificity':round(cv['test_specificity'].mean(),3),\n",
    "          'Sensitivity':round(cv['test_sensitivity'].mean(),3),\n",
    "          'MCC':round(cv['test_MCC'].mean(),3)\n",
    "         }\n",
    "    print('Accuracy:',round(cv['test_accuracy'].mean(),3),'\\nBalanced_accuracy:',round(cv['test_balanced_accuracy'].mean(),3),'\\nAUC_Score:',round(cv['test_roc_auc'].mean(),3),'\\nSpecificity:',round(cv['test_specificity'].mean(),3),'\\nSensitivity:',round(cv['test_sensitivity'].mean(),3),'\\nMCC:',round(cv['test_MCC'].mean(),3))\n",
    "    return cv_df,Mean"
   ]
  },
  {
   "cell_type": "code",
   "execution_count": 35,
   "id": "listed-nowhere",
   "metadata": {},
   "outputs": [],
   "source": [
    "from sklearn.ensemble import RandomForestClassifier\n",
    "from sklearn.metrics import confusion_matrix\n",
    "from sklearn.metrics import matthews_corrcoef,accuracy_score\n",
    "from sklearn.metrics import roc_curve\n",
    "from sklearn.metrics import roc_auc_score,balanced_accuracy_score,recall_score,make_scorer\n",
    "from sklearn.model_selection import cross_validate\n",
    "from matplotlib import pyplot"
   ]
  },
  {
   "cell_type": "code",
   "execution_count": 36,
   "id": "bearing-pioneer",
   "metadata": {},
   "outputs": [],
   "source": [
    "rf = RandomForestClassifier(random_state=1)"
   ]
  },
  {
   "cell_type": "code",
   "execution_count": 37,
   "id": "acquired-immunology",
   "metadata": {},
   "outputs": [],
   "source": [
    "# Select Parameters for the Random_forest Classifiear:\n",
    "param_grid_rf = {\n",
    "    'n_estimators': [int(x) for x in range(10,201)],\n",
    "    'criterion': [\"gini\", \"entropy\"],\n",
    "    'max_features': [\"sqrt\", \"log2\"]\n",
    "}"
   ]
  },
  {
   "cell_type": "markdown",
   "id": "agricultural-stylus",
   "metadata": {},
   "source": [
    "## For Maccs:"
   ]
  },
  {
   "cell_type": "markdown",
   "id": "soviet-thumb",
   "metadata": {},
   "source": [
    "#### For MCF7"
   ]
  },
  {
   "cell_type": "code",
   "execution_count": 24,
   "id": "ahead-trunk",
   "metadata": {},
   "outputs": [
    {
     "name": "stdout",
     "output_type": "stream",
     "text": [
      "********************************** Wait *****************************************************\n",
      "\n",
      "Fitting 5 folds for each of 764 candidates, totalling 3820 fits\n",
      "\n",
      "******************************** Done *****************************************************\n",
      "CPU times: user 53 s, sys: 443 ms, total: 53.5 s\n",
      "Wall time: 8min 24s\n"
     ]
    }
   ],
   "source": [
    "%%time\n",
    "print('********************************** Wait *****************************************************\\n')\n",
    "grid_search_rf_mcf7_maccs = GridSearchCV(estimator = rf, param_grid = param_grid_rf, cv = 5, n_jobs = -1, verbose = 2,scoring='recall')\n",
    "grid_search_rf_mcf7_maccs.fit(X_Macc_train_mcf7, y_Macc_train_mcf7)\n",
    "print('\\n******************************** Done *****************************************************')\n",
    "MCF7_Maccs_RF=pd.DataFrame(grid_search_rf_mcf7_maccs.cv_results_)"
   ]
  },
  {
   "cell_type": "code",
   "execution_count": 25,
   "id": "pretty-douglas",
   "metadata": {},
   "outputs": [
    {
     "name": "stdout",
     "output_type": "stream",
     "text": [
      "  Best Parameter are:\n",
      " RandomForestClassifier(criterion='entropy', max_features='sqrt',\n",
      "                       n_estimators=195, random_state=1)\n"
     ]
    }
   ],
   "source": [
    "print('  Best Parameter are:\\n',grid_search_rf_mcf7_maccs.best_estimator_) # criterion = gini"
   ]
  },
  {
   "cell_type": "code",
   "execution_count": 26,
   "id": "ranking-lawrence",
   "metadata": {},
   "outputs": [],
   "source": [
    "best_model_rf_MCF7_Maccs=grid_search_rf_mcf7_maccs.best_estimator_\n",
    "#best_model_rf_MCF7_Maccs=RandomForestClassifier(max_features='sqrt', n_estimators=193, random_state=1)"
   ]
  },
  {
   "cell_type": "code",
   "execution_count": 27,
   "id": "fancy-color",
   "metadata": {},
   "outputs": [
    {
     "name": "stdout",
     "output_type": "stream",
     "text": [
      "Accuracy: 0.793 \n",
      "Balanced_accuracy: 0.788 \n",
      "AUC_Score: 0.868 \n",
      "Specificity: 0.833 \n",
      "Sensitivity: 0.742 \n",
      "MCC: 0.585\n"
     ]
    }
   ],
   "source": [
    "rf_mcf7_maccs_cv,rf_mcf7_maccs_mean=cv_result(best_model_rf_MCF7_Maccs,X_Macc_train_mcf7,y_Macc_train_mcf7)"
   ]
  },
  {
   "cell_type": "code",
   "execution_count": 28,
   "id": "continent-wholesale",
   "metadata": {},
   "outputs": [
    {
     "data": {
      "text/html": [
       "<div>\n",
       "<style scoped>\n",
       "    .dataframe tbody tr th:only-of-type {\n",
       "        vertical-align: middle;\n",
       "    }\n",
       "\n",
       "    .dataframe tbody tr th {\n",
       "        vertical-align: top;\n",
       "    }\n",
       "\n",
       "    .dataframe thead th {\n",
       "        text-align: right;\n",
       "    }\n",
       "</style>\n",
       "<table border=\"1\" class=\"dataframe\">\n",
       "  <thead>\n",
       "    <tr style=\"text-align: right;\">\n",
       "      <th></th>\n",
       "      <th>fit_time</th>\n",
       "      <th>score_time</th>\n",
       "      <th>test_accuracy</th>\n",
       "      <th>test_balanced_accuracy</th>\n",
       "      <th>test_roc_auc</th>\n",
       "      <th>test_specificity</th>\n",
       "      <th>test_sensitivity</th>\n",
       "      <th>test_MCC</th>\n",
       "    </tr>\n",
       "  </thead>\n",
       "  <tbody>\n",
       "    <tr>\n",
       "      <th>0</th>\n",
       "      <td>0.315342</td>\n",
       "      <td>0.042887</td>\n",
       "      <td>0.780822</td>\n",
       "      <td>0.767149</td>\n",
       "      <td>0.863186</td>\n",
       "      <td>0.878049</td>\n",
       "      <td>0.656250</td>\n",
       "      <td>0.553625</td>\n",
       "    </tr>\n",
       "    <tr>\n",
       "      <th>1</th>\n",
       "      <td>0.270996</td>\n",
       "      <td>0.042826</td>\n",
       "      <td>0.821918</td>\n",
       "      <td>0.824314</td>\n",
       "      <td>0.891006</td>\n",
       "      <td>0.804878</td>\n",
       "      <td>0.843750</td>\n",
       "      <td>0.644224</td>\n",
       "    </tr>\n",
       "    <tr>\n",
       "      <th>2</th>\n",
       "      <td>0.270646</td>\n",
       "      <td>0.043264</td>\n",
       "      <td>0.739726</td>\n",
       "      <td>0.723704</td>\n",
       "      <td>0.801829</td>\n",
       "      <td>0.853659</td>\n",
       "      <td>0.593750</td>\n",
       "      <td>0.467822</td>\n",
       "    </tr>\n",
       "    <tr>\n",
       "      <th>3</th>\n",
       "      <td>0.266678</td>\n",
       "      <td>0.042599</td>\n",
       "      <td>0.861111</td>\n",
       "      <td>0.850511</td>\n",
       "      <td>0.924469</td>\n",
       "      <td>0.926829</td>\n",
       "      <td>0.774194</td>\n",
       "      <td>0.716996</td>\n",
       "    </tr>\n",
       "    <tr>\n",
       "      <th>4</th>\n",
       "      <td>0.264747</td>\n",
       "      <td>0.042845</td>\n",
       "      <td>0.763889</td>\n",
       "      <td>0.771875</td>\n",
       "      <td>0.858594</td>\n",
       "      <td>0.700000</td>\n",
       "      <td>0.843750</td>\n",
       "      <td>0.542269</td>\n",
       "    </tr>\n",
       "  </tbody>\n",
       "</table>\n",
       "</div>"
      ],
      "text/plain": [
       "   fit_time  score_time  test_accuracy  test_balanced_accuracy  test_roc_auc  \\\n",
       "0  0.315342    0.042887       0.780822                0.767149      0.863186   \n",
       "1  0.270996    0.042826       0.821918                0.824314      0.891006   \n",
       "2  0.270646    0.043264       0.739726                0.723704      0.801829   \n",
       "3  0.266678    0.042599       0.861111                0.850511      0.924469   \n",
       "4  0.264747    0.042845       0.763889                0.771875      0.858594   \n",
       "\n",
       "   test_specificity  test_sensitivity  test_MCC  \n",
       "0          0.878049          0.656250  0.553625  \n",
       "1          0.804878          0.843750  0.644224  \n",
       "2          0.853659          0.593750  0.467822  \n",
       "3          0.926829          0.774194  0.716996  \n",
       "4          0.700000          0.843750  0.542269  "
      ]
     },
     "execution_count": 28,
     "metadata": {},
     "output_type": "execute_result"
    }
   ],
   "source": [
    "rf_mcf7_maccs_cv"
   ]
  },
  {
   "cell_type": "markdown",
   "id": "fifteen-appeal",
   "metadata": {},
   "source": [
    "#### MCF7 Test Set:"
   ]
  },
  {
   "cell_type": "code",
   "execution_count": 29,
   "id": "fourth-atlantic",
   "metadata": {},
   "outputs": [
    {
     "name": "stdout",
     "output_type": "stream",
     "text": [
      "Accuracy Score: 0.791\n",
      "Balanced Accuracy: 0.781\n",
      "MCC Score: 0.574\n",
      "Sensitivity Score: 0.7\n",
      "Specificity Score: 0.863\n",
      "\n",
      "********************** Graph *****************************\n",
      "\n"
     ]
    },
    {
     "data": {
      "image/png": "[encoded data removed]",
      "text/plain": [
       "<Figure size 360x360 with 2 Axes>"
      ]
     },
     "metadata": {
      "needs_background": "light"
     },
     "output_type": "display_data"
    }
   ],
   "source": [
    "best_model_rf_MCF7_Maccs.fit(X_Macc_train_mcf7, y_Macc_train_mcf7)\n",
    "prediction_mcf7_maccs_rf=best_model_rf_MCF7_Maccs.predict(X_Macc_test_mcf7)\n",
    "rf_test_mcf7_maccs=permonce_measure(y_Macc_test_mcf7,prediction_mcf7_maccs_rf)"
   ]
  },
  {
   "cell_type": "code",
   "execution_count": 30,
   "id": "crazy-venture",
   "metadata": {},
   "outputs": [
    {
     "name": "stdout",
     "output_type": "stream",
     "text": [
      "No Skill: ROC AUC=0.500\n",
      "ROC AUC=0.835\n"
     ]
    },
    {
     "data": {
      "image/png": "[encoded data removed]",
      "text/plain": [
       "<Figure size 432x288 with 1 Axes>"
      ]
     },
     "metadata": {
      "needs_background": "light"
     },
     "output_type": "display_data"
    }
   ],
   "source": [
    "prediction_mcf7_maccs_rf_probs = best_model_rf_MCF7_Maccs.predict_proba(X_Macc_test_mcf7)\n",
    "roc_auc_mcf7_maccs=roc_auc(y_Macc_test_mcf7,prediction_mcf7_maccs_rf_probs,'Random_Forest')\n",
    "rf_test_mcf7_maccs.update(roc_auc_mcf7_maccs)"
   ]
  },
  {
   "cell_type": "code",
   "execution_count": 31,
   "id": "german-earth",
   "metadata": {},
   "outputs": [],
   "source": [
    "#MCF7_Maccs_RF.to_csv('MCF7_Maccs_RF_auc.csv',index=False)"
   ]
  },
  {
   "cell_type": "markdown",
   "id": "collaborative-catholic",
   "metadata": {},
   "source": [
    "--------------------------------------------------------------------------------------------------------------------"
   ]
  },
  {
   "cell_type": "markdown",
   "id": "smoking-netherlands",
   "metadata": {},
   "source": [
    "### For Breast:"
   ]
  },
  {
   "cell_type": "code",
   "execution_count": 38,
   "id": "daily-enzyme",
   "metadata": {},
   "outputs": [
    {
     "name": "stdout",
     "output_type": "stream",
     "text": [
      "********************************** Wait *****************************************************\n",
      "\n",
      "Fitting 5 folds for each of 764 candidates, totalling 3820 fits\n",
      "\n",
      "******************************** Done *****************************************************\n",
      "CPU times: user 30.1 s, sys: 444 ms, total: 30.5 s\n",
      "Wall time: 2min 56s\n"
     ]
    }
   ],
   "source": [
    "%%time\n",
    "print('********************************** Wait *****************************************************\\n')\n",
    "grid_search_rf_breast_maccs = GridSearchCV(estimator = rf, param_grid = param_grid_rf, cv = 5, n_jobs = -1, verbose = 2,scoring='recall')\n",
    "grid_search_rf_breast_maccs.fit(X_Macc_train_breast, y_Macc_train_breast)\n",
    "print('\\n******************************** Done *****************************************************')\n",
    "Breast_Maccs_RF=pd.DataFrame(grid_search_rf_breast_maccs.cv_results_)"
   ]
  },
  {
   "cell_type": "code",
   "execution_count": 39,
   "id": "transsexual-logic",
   "metadata": {},
   "outputs": [
    {
     "name": "stdout",
     "output_type": "stream",
     "text": [
      "  Best Parameter are:\n",
      " RandomForestClassifier(max_features='log2', n_estimators=19, random_state=1)\n"
     ]
    }
   ],
   "source": [
    "print('  Best Parameter are:\\n',grid_search_rf_breast_maccs.best_estimator_) # criterion='gini'"
   ]
  },
  {
   "cell_type": "code",
   "execution_count": 40,
   "id": "failing-liver",
   "metadata": {},
   "outputs": [],
   "source": [
    "best_model_rf_Breast_Maccs = grid_search_rf_breast_maccs.best_estimator_\n",
    "#best_model_rf_Breast_Maccs=RandomForestClassifier(criterion = \"gini\",max_features='log2', n_estimators=67, random_state=1)"
   ]
  },
  {
   "cell_type": "code",
   "execution_count": 41,
   "id": "decent-suspect",
   "metadata": {},
   "outputs": [
    {
     "name": "stdout",
     "output_type": "stream",
     "text": [
      "Accuracy: 0.751 \n",
      "Balanced_accuracy: 0.747 \n",
      "AUC_Score: 0.811 \n",
      "Specificity: 0.797 \n",
      "Sensitivity: 0.698 \n",
      "MCC: 0.499\n"
     ]
    }
   ],
   "source": [
    "rf_breast_maccs_cv,rf_breast_maccs_mean=cv_result(best_model_rf_Breast_Maccs,X_Macc_train_breast,y_Macc_train_breast)"
   ]
  },
  {
   "cell_type": "code",
   "execution_count": 42,
   "id": "alert-caution",
   "metadata": {},
   "outputs": [
    {
     "data": {
      "text/html": [
       "<div>\n",
       "<style scoped>\n",
       "    .dataframe tbody tr th:only-of-type {\n",
       "        vertical-align: middle;\n",
       "    }\n",
       "\n",
       "    .dataframe tbody tr th {\n",
       "        vertical-align: top;\n",
       "    }\n",
       "\n",
       "    .dataframe thead th {\n",
       "        text-align: right;\n",
       "    }\n",
       "</style>\n",
       "<table border=\"1\" class=\"dataframe\">\n",
       "  <thead>\n",
       "    <tr style=\"text-align: right;\">\n",
       "      <th></th>\n",
       "      <th>fit_time</th>\n",
       "      <th>score_time</th>\n",
       "      <th>test_accuracy</th>\n",
       "      <th>test_balanced_accuracy</th>\n",
       "      <th>test_roc_auc</th>\n",
       "      <th>test_specificity</th>\n",
       "      <th>test_sensitivity</th>\n",
       "      <th>test_MCC</th>\n",
       "    </tr>\n",
       "  </thead>\n",
       "  <tbody>\n",
       "    <tr>\n",
       "      <th>0</th>\n",
       "      <td>0.026972</td>\n",
       "      <td>0.009839</td>\n",
       "      <td>0.795455</td>\n",
       "      <td>0.789829</td>\n",
       "      <td>0.822003</td>\n",
       "      <td>0.872340</td>\n",
       "      <td>0.707317</td>\n",
       "      <td>0.590800</td>\n",
       "    </tr>\n",
       "    <tr>\n",
       "      <th>1</th>\n",
       "      <td>0.026931</td>\n",
       "      <td>0.008362</td>\n",
       "      <td>0.715909</td>\n",
       "      <td>0.715361</td>\n",
       "      <td>0.781526</td>\n",
       "      <td>0.723404</td>\n",
       "      <td>0.707317</td>\n",
       "      <td>0.430164</td>\n",
       "    </tr>\n",
       "    <tr>\n",
       "      <th>2</th>\n",
       "      <td>0.025107</td>\n",
       "      <td>0.008088</td>\n",
       "      <td>0.727273</td>\n",
       "      <td>0.725000</td>\n",
       "      <td>0.817969</td>\n",
       "      <td>0.750000</td>\n",
       "      <td>0.700000</td>\n",
       "      <td>0.450000</td>\n",
       "    </tr>\n",
       "    <tr>\n",
       "      <th>3</th>\n",
       "      <td>0.024643</td>\n",
       "      <td>0.008102</td>\n",
       "      <td>0.758621</td>\n",
       "      <td>0.754255</td>\n",
       "      <td>0.792287</td>\n",
       "      <td>0.808511</td>\n",
       "      <td>0.700000</td>\n",
       "      <td>0.512617</td>\n",
       "    </tr>\n",
       "    <tr>\n",
       "      <th>4</th>\n",
       "      <td>0.025019</td>\n",
       "      <td>0.008746</td>\n",
       "      <td>0.758621</td>\n",
       "      <td>0.752394</td>\n",
       "      <td>0.841223</td>\n",
       "      <td>0.829787</td>\n",
       "      <td>0.675000</td>\n",
       "      <td>0.513040</td>\n",
       "    </tr>\n",
       "  </tbody>\n",
       "</table>\n",
       "</div>"
      ],
      "text/plain": [
       "   fit_time  score_time  test_accuracy  test_balanced_accuracy  test_roc_auc  \\\n",
       "0  0.026972    0.009839       0.795455                0.789829      0.822003   \n",
       "1  0.026931    0.008362       0.715909                0.715361      0.781526   \n",
       "2  0.025107    0.008088       0.727273                0.725000      0.817969   \n",
       "3  0.024643    0.008102       0.758621                0.754255      0.792287   \n",
       "4  0.025019    0.008746       0.758621                0.752394      0.841223   \n",
       "\n",
       "   test_specificity  test_sensitivity  test_MCC  \n",
       "0          0.872340          0.707317  0.590800  \n",
       "1          0.723404          0.707317  0.430164  \n",
       "2          0.750000          0.700000  0.450000  \n",
       "3          0.808511          0.700000  0.512617  \n",
       "4          0.829787          0.675000  0.513040  "
      ]
     },
     "execution_count": 42,
     "metadata": {},
     "output_type": "execute_result"
    }
   ],
   "source": [
    "rf_breast_maccs_cv"
   ]
  },
  {
   "cell_type": "markdown",
   "id": "mounted-evaluation",
   "metadata": {},
   "source": [
    "#### Breast Test Set:"
   ]
  },
  {
   "cell_type": "code",
   "execution_count": 43,
   "id": "velvet-focus",
   "metadata": {},
   "outputs": [
    {
     "name": "stdout",
     "output_type": "stream",
     "text": [
      "Accuracy Score: 0.809\n",
      "Balanced Accuracy: 0.809\n",
      "MCC Score: 0.617\n",
      "Sensitivity Score: 0.804\n",
      "Specificity Score: 0.814\n",
      "\n",
      "********************** Graph *****************************\n",
      "\n"
     ]
    },
    {
     "data": {
      "image/png": "[encoded data removed]",
      "text/plain": [
       "<Figure size 360x360 with 2 Axes>"
      ]
     },
     "metadata": {
      "needs_background": "light"
     },
     "output_type": "display_data"
    }
   ],
   "source": [
    "best_model_rf_Breast_Maccs.fit(X_Macc_train_breast, y_Macc_train_breast)\n",
    "prediction_breast_maccs_rf=best_model_rf_Breast_Maccs.predict(X_Macc_test_breast)\n",
    "rf_test_breast_maccs = permonce_measure(y_Macc_test_breast,prediction_breast_maccs_rf)"
   ]
  },
  {
   "cell_type": "code",
   "execution_count": 44,
   "id": "promising-biography",
   "metadata": {},
   "outputs": [
    {
     "name": "stdout",
     "output_type": "stream",
     "text": [
      "No Skill: ROC AUC=0.500\n",
      "ROC AUC=0.844\n"
     ]
    },
    {
     "data": {
      "image/png": "[encoded data removed]",
      "text/plain": [
       "<Figure size 432x288 with 1 Axes>"
      ]
     },
     "metadata": {
      "needs_background": "light"
     },
     "output_type": "display_data"
    }
   ],
   "source": [
    "prediction_breast_maccs_rf_probs = best_model_rf_Breast_Maccs.predict_proba(X_Macc_test_breast)\n",
    "roc_auc_breast_maccs=roc_auc(y_Macc_test_breast,prediction_breast_maccs_rf_probs,'Random_Forest')\n",
    "rf_test_breast_maccs.update(roc_auc_breast_maccs)"
   ]
  },
  {
   "cell_type": "code",
   "execution_count": 39,
   "id": "clinical-permission",
   "metadata": {},
   "outputs": [],
   "source": [
    "#Breast_Maccs_RF.to_csv('Breast_Maccs_RF_auc.csv',index=False)"
   ]
  },
  {
   "cell_type": "markdown",
   "id": "bf96bd1f",
   "metadata": {},
   "source": [
    "--------------------------------------------------------------------------------------------------------------------"
   ]
  },
  {
   "cell_type": "markdown",
   "id": "7da69dc9",
   "metadata": {},
   "source": [
    "### For Lung:"
   ]
  },
  {
   "cell_type": "code",
   "execution_count": 40,
   "id": "e5e95f89",
   "metadata": {},
   "outputs": [
    {
     "name": "stdout",
     "output_type": "stream",
     "text": [
      "********************************** Wait *****************************************************\n",
      "\n",
      "Fitting 5 folds for each of 764 candidates, totalling 3820 fits\n",
      "\n",
      "******************************** Done *****************************************************\n",
      "CPU times: user 1min 10s, sys: 432 ms, total: 1min 11s\n",
      "Wall time: 10min 52s\n"
     ]
    }
   ],
   "source": [
    "%%time\n",
    "print('********************************** Wait *****************************************************\\n')\n",
    "grid_search_rf_lung_maccs = GridSearchCV(estimator = rf, param_grid = param_grid_rf, cv = 5, n_jobs = -1, verbose = 2,scoring='recall')\n",
    "grid_search_rf_lung_maccs.fit(X_Macc_train_lung, y_Macc_train_lung)\n",
    "print('\\n******************************** Done *****************************************************')\n",
    "Lung_Maccs_RF=pd.DataFrame(grid_search_rf_lung_maccs.cv_results_)"
   ]
  },
  {
   "cell_type": "code",
   "execution_count": 41,
   "id": "6ef14226",
   "metadata": {},
   "outputs": [],
   "source": [
    "#Lung_Maccs_RF.to_csv('Lung_Maccs_RF_auc.csv',index=False)"
   ]
  },
  {
   "cell_type": "code",
   "execution_count": 42,
   "id": "d835ef5f",
   "metadata": {},
   "outputs": [
    {
     "name": "stdout",
     "output_type": "stream",
     "text": [
      "  Best Parameter are:\n",
      " RandomForestClassifier(criterion='entropy', max_features='sqrt',\n",
      "                       n_estimators=17, random_state=1)\n"
     ]
    }
   ],
   "source": [
    "print('  Best Parameter are:\\n',grid_search_rf_lung_maccs.best_estimator_)"
   ]
  },
  {
   "cell_type": "code",
   "execution_count": 43,
   "id": "6ef42796",
   "metadata": {},
   "outputs": [],
   "source": [
    "best_model_rf_Lung_Maccs = grid_search_rf_lung_maccs.best_estimator_\n",
    "#best_model_rf_Lung_Maccs=RandomForestClassifier(criterion='entropy',max_features='sqrt', n_estimators=181, random_state=1)"
   ]
  },
  {
   "cell_type": "code",
   "execution_count": 44,
   "id": "b35a3ed1",
   "metadata": {},
   "outputs": [
    {
     "name": "stdout",
     "output_type": "stream",
     "text": [
      "Accuracy: 0.687 \n",
      "Balanced_accuracy: 0.685 \n",
      "AUC_Score: 0.752 \n",
      "Specificity: 0.719 \n",
      "Sensitivity: 0.652 \n",
      "MCC: 0.374\n"
     ]
    }
   ],
   "source": [
    "rf_lung_maccs_cv,rf_lung_maccs_mean=cv_result(best_model_rf_Lung_Maccs,X_Macc_train_lung,y_Macc_train_lung)"
   ]
  },
  {
   "cell_type": "code",
   "execution_count": 45,
   "id": "ae682465",
   "metadata": {},
   "outputs": [
    {
     "data": {
      "text/html": [
       "<div>\n",
       "<style scoped>\n",
       "    .dataframe tbody tr th:only-of-type {\n",
       "        vertical-align: middle;\n",
       "    }\n",
       "\n",
       "    .dataframe tbody tr th {\n",
       "        vertical-align: top;\n",
       "    }\n",
       "\n",
       "    .dataframe thead th {\n",
       "        text-align: right;\n",
       "    }\n",
       "</style>\n",
       "<table border=\"1\" class=\"dataframe\">\n",
       "  <thead>\n",
       "    <tr style=\"text-align: right;\">\n",
       "      <th></th>\n",
       "      <th>fit_time</th>\n",
       "      <th>score_time</th>\n",
       "      <th>test_accuracy</th>\n",
       "      <th>test_balanced_accuracy</th>\n",
       "      <th>test_roc_auc</th>\n",
       "      <th>test_specificity</th>\n",
       "      <th>test_sensitivity</th>\n",
       "      <th>test_MCC</th>\n",
       "    </tr>\n",
       "  </thead>\n",
       "  <tbody>\n",
       "    <tr>\n",
       "      <th>0</th>\n",
       "      <td>0.029835</td>\n",
       "      <td>0.009441</td>\n",
       "      <td>0.663158</td>\n",
       "      <td>0.662222</td>\n",
       "      <td>0.722000</td>\n",
       "      <td>0.680000</td>\n",
       "      <td>0.644444</td>\n",
       "      <td>0.324444</td>\n",
       "    </tr>\n",
       "    <tr>\n",
       "      <th>1</th>\n",
       "      <td>0.031778</td>\n",
       "      <td>0.011994</td>\n",
       "      <td>0.778947</td>\n",
       "      <td>0.774444</td>\n",
       "      <td>0.841556</td>\n",
       "      <td>0.860000</td>\n",
       "      <td>0.688889</td>\n",
       "      <td>0.559431</td>\n",
       "    </tr>\n",
       "    <tr>\n",
       "      <th>2</th>\n",
       "      <td>0.031163</td>\n",
       "      <td>0.009424</td>\n",
       "      <td>0.663158</td>\n",
       "      <td>0.660000</td>\n",
       "      <td>0.716444</td>\n",
       "      <td>0.720000</td>\n",
       "      <td>0.600000</td>\n",
       "      <td>0.322591</td>\n",
       "    </tr>\n",
       "    <tr>\n",
       "      <th>3</th>\n",
       "      <td>0.031430</td>\n",
       "      <td>0.010481</td>\n",
       "      <td>0.670213</td>\n",
       "      <td>0.668254</td>\n",
       "      <td>0.729478</td>\n",
       "      <td>0.714286</td>\n",
       "      <td>0.622222</td>\n",
       "      <td>0.338122</td>\n",
       "    </tr>\n",
       "    <tr>\n",
       "      <th>4</th>\n",
       "      <td>0.030995</td>\n",
       "      <td>0.010235</td>\n",
       "      <td>0.659574</td>\n",
       "      <td>0.662273</td>\n",
       "      <td>0.752500</td>\n",
       "      <td>0.620000</td>\n",
       "      <td>0.704545</td>\n",
       "      <td>0.324545</td>\n",
       "    </tr>\n",
       "  </tbody>\n",
       "</table>\n",
       "</div>"
      ],
      "text/plain": [
       "   fit_time  score_time  test_accuracy  test_balanced_accuracy  test_roc_auc  \\\n",
       "0  0.029835    0.009441       0.663158                0.662222      0.722000   \n",
       "1  0.031778    0.011994       0.778947                0.774444      0.841556   \n",
       "2  0.031163    0.009424       0.663158                0.660000      0.716444   \n",
       "3  0.031430    0.010481       0.670213                0.668254      0.729478   \n",
       "4  0.030995    0.010235       0.659574                0.662273      0.752500   \n",
       "\n",
       "   test_specificity  test_sensitivity  test_MCC  \n",
       "0          0.680000          0.644444  0.324444  \n",
       "1          0.860000          0.688889  0.559431  \n",
       "2          0.720000          0.600000  0.322591  \n",
       "3          0.714286          0.622222  0.338122  \n",
       "4          0.620000          0.704545  0.324545  "
      ]
     },
     "execution_count": 45,
     "metadata": {},
     "output_type": "execute_result"
    }
   ],
   "source": [
    "rf_lung_maccs_cv"
   ]
  },
  {
   "cell_type": "markdown",
   "id": "atomic-mapping",
   "metadata": {},
   "source": [
    "#### Lung Test Set:"
   ]
  },
  {
   "cell_type": "code",
   "execution_count": 46,
   "id": "04f448a0",
   "metadata": {},
   "outputs": [
    {
     "name": "stdout",
     "output_type": "stream",
     "text": [
      "Accuracy Score: 0.706\n",
      "Balanced Accuracy: 0.697\n",
      "MCC Score: 0.415\n",
      "Sensitivity Score: 0.554\n",
      "Specificity Score: 0.841\n",
      "\n",
      "********************** Graph *****************************\n",
      "\n"
     ]
    },
    {
     "data": {
      "image/png": "[encoded data removed]",
      "text/plain": [
       "<Figure size 360x360 with 2 Axes>"
      ]
     },
     "metadata": {
      "needs_background": "light"
     },
     "output_type": "display_data"
    }
   ],
   "source": [
    "best_model_rf_Lung_Maccs.fit(X_Macc_train_lung, y_Macc_train_lung)\n",
    "prediction_lung_maccs_rf=best_model_rf_Lung_Maccs.predict(X_Macc_test_lung)\n",
    "rf_test_lung_maccs = permonce_measure(y_Macc_test_lung,prediction_lung_maccs_rf)"
   ]
  },
  {
   "cell_type": "code",
   "execution_count": 47,
   "id": "73160bf6",
   "metadata": {},
   "outputs": [
    {
     "name": "stdout",
     "output_type": "stream",
     "text": [
      "No Skill: ROC AUC=0.500\n",
      "ROC AUC=0.792\n"
     ]
    },
    {
     "data": {
      "image/png": "[encoded data removed]",
      "text/plain": [
       "<Figure size 432x288 with 1 Axes>"
      ]
     },
     "metadata": {
      "needs_background": "light"
     },
     "output_type": "display_data"
    }
   ],
   "source": [
    "prediction_lung_maccs_rf_probs = best_model_rf_Lung_Maccs.predict_proba(X_Macc_test_lung)\n",
    "roc_auc_lung_maccs=roc_auc(y_Macc_test_lung,prediction_lung_maccs_rf_probs,'Random_Forest')\n",
    "rf_test_lung_maccs.update(roc_auc_lung_maccs)"
   ]
  },
  {
   "cell_type": "markdown",
   "id": "revolutionary-battery",
   "metadata": {},
   "source": [
    "--------------------------------------------------------------------------------------------------------------------"
   ]
  },
  {
   "cell_type": "markdown",
   "id": "ambient-degree",
   "metadata": {},
   "source": [
    "### For A549:"
   ]
  },
  {
   "cell_type": "code",
   "execution_count": 48,
   "id": "977b56c4",
   "metadata": {},
   "outputs": [
    {
     "name": "stdout",
     "output_type": "stream",
     "text": [
      "********************************** Wait *****************************************************\n",
      "\n",
      "Fitting 5 folds for each of 764 candidates, totalling 3820 fits\n",
      "\n",
      "******************************** Done *****************************************************\n",
      "CPU times: user 47.2 s, sys: 396 ms, total: 47.6 s\n",
      "Wall time: 9min 46s\n"
     ]
    }
   ],
   "source": [
    "%%time\n",
    "print('********************************** Wait *****************************************************\\n')\n",
    "grid_search_rf_a549_maccs = GridSearchCV(estimator = rf, param_grid = param_grid_rf, cv = 5, n_jobs = -1, verbose = 2,scoring='recall')\n",
    "grid_search_rf_a549_maccs.fit(X_Macc_train_a549, y_Macc_train_a549)\n",
    "print('\\n******************************** Done *****************************************************')\n",
    "A549_Maccs_RF=pd.DataFrame(grid_search_rf_a549_maccs.cv_results_)"
   ]
  },
  {
   "cell_type": "code",
   "execution_count": 49,
   "id": "1168aa30",
   "metadata": {},
   "outputs": [],
   "source": [
    "#A549_Maccs_RF.to_csv('A549_Maccs_RF_auc.csv',index=False)"
   ]
  },
  {
   "cell_type": "code",
   "execution_count": 50,
   "id": "literary-philip",
   "metadata": {},
   "outputs": [
    {
     "name": "stdout",
     "output_type": "stream",
     "text": [
      "  Best Parameter are:\n",
      " RandomForestClassifier(criterion='entropy', max_features='sqrt',\n",
      "                       n_estimators=121, random_state=1)\n"
     ]
    }
   ],
   "source": [
    "print('  Best Parameter are:\\n',grid_search_rf_a549_maccs.best_estimator_)"
   ]
  },
  {
   "cell_type": "code",
   "execution_count": 51,
   "id": "protected-location",
   "metadata": {},
   "outputs": [],
   "source": [
    "best_model_rf_A549_Maccs = grid_search_rf_a549_maccs.best_estimator_\n",
    "#best_model_rf_A549_Maccs=RandomForestClassifier(max_features='sqrt', n_estimators=186, random_state=1)"
   ]
  },
  {
   "cell_type": "code",
   "execution_count": 52,
   "id": "controlling-omega",
   "metadata": {},
   "outputs": [
    {
     "name": "stdout",
     "output_type": "stream",
     "text": [
      "Accuracy: 0.72 \n",
      "Balanced_accuracy: 0.717 \n",
      "AUC_Score: 0.812 \n",
      "Specificity: 0.791 \n",
      "Sensitivity: 0.644 \n",
      "MCC: 0.442\n"
     ]
    }
   ],
   "source": [
    "rf_a549_maccs_cv,rf_a549_maccs_mean=cv_result(best_model_rf_A549_Maccs,X_Macc_train_a549,y_Macc_train_a549)"
   ]
  },
  {
   "cell_type": "code",
   "execution_count": 53,
   "id": "incoming-celebrity",
   "metadata": {},
   "outputs": [
    {
     "data": {
      "text/html": [
       "<div>\n",
       "<style scoped>\n",
       "    .dataframe tbody tr th:only-of-type {\n",
       "        vertical-align: middle;\n",
       "    }\n",
       "\n",
       "    .dataframe tbody tr th {\n",
       "        vertical-align: top;\n",
       "    }\n",
       "\n",
       "    .dataframe thead th {\n",
       "        text-align: right;\n",
       "    }\n",
       "</style>\n",
       "<table border=\"1\" class=\"dataframe\">\n",
       "  <thead>\n",
       "    <tr style=\"text-align: right;\">\n",
       "      <th></th>\n",
       "      <th>fit_time</th>\n",
       "      <th>score_time</th>\n",
       "      <th>test_accuracy</th>\n",
       "      <th>test_balanced_accuracy</th>\n",
       "      <th>test_roc_auc</th>\n",
       "      <th>test_specificity</th>\n",
       "      <th>test_sensitivity</th>\n",
       "      <th>test_MCC</th>\n",
       "    </tr>\n",
       "  </thead>\n",
       "  <tbody>\n",
       "    <tr>\n",
       "      <th>0</th>\n",
       "      <td>0.238114</td>\n",
       "      <td>0.029959</td>\n",
       "      <td>0.733333</td>\n",
       "      <td>0.732143</td>\n",
       "      <td>0.827567</td>\n",
       "      <td>0.750000</td>\n",
       "      <td>0.714286</td>\n",
       "      <td>0.464286</td>\n",
       "    </tr>\n",
       "    <tr>\n",
       "      <th>1</th>\n",
       "      <td>0.194671</td>\n",
       "      <td>0.028491</td>\n",
       "      <td>0.700000</td>\n",
       "      <td>0.698661</td>\n",
       "      <td>0.768415</td>\n",
       "      <td>0.718750</td>\n",
       "      <td>0.678571</td>\n",
       "      <td>0.397321</td>\n",
       "    </tr>\n",
       "    <tr>\n",
       "      <th>2</th>\n",
       "      <td>0.187381</td>\n",
       "      <td>0.031005</td>\n",
       "      <td>0.716667</td>\n",
       "      <td>0.714683</td>\n",
       "      <td>0.798109</td>\n",
       "      <td>0.774194</td>\n",
       "      <td>0.655172</td>\n",
       "      <td>0.432993</td>\n",
       "    </tr>\n",
       "    <tr>\n",
       "      <th>3</th>\n",
       "      <td>0.196621</td>\n",
       "      <td>0.028970</td>\n",
       "      <td>0.633333</td>\n",
       "      <td>0.628476</td>\n",
       "      <td>0.768076</td>\n",
       "      <td>0.774194</td>\n",
       "      <td>0.482759</td>\n",
       "      <td>0.269209</td>\n",
       "    </tr>\n",
       "    <tr>\n",
       "      <th>4</th>\n",
       "      <td>0.194704</td>\n",
       "      <td>0.031363</td>\n",
       "      <td>0.816667</td>\n",
       "      <td>0.812570</td>\n",
       "      <td>0.896552</td>\n",
       "      <td>0.935484</td>\n",
       "      <td>0.689655</td>\n",
       "      <td>0.648266</td>\n",
       "    </tr>\n",
       "  </tbody>\n",
       "</table>\n",
       "</div>"
      ],
      "text/plain": [
       "   fit_time  score_time  test_accuracy  test_balanced_accuracy  test_roc_auc  \\\n",
       "0  0.238114    0.029959       0.733333                0.732143      0.827567   \n",
       "1  0.194671    0.028491       0.700000                0.698661      0.768415   \n",
       "2  0.187381    0.031005       0.716667                0.714683      0.798109   \n",
       "3  0.196621    0.028970       0.633333                0.628476      0.768076   \n",
       "4  0.194704    0.031363       0.816667                0.812570      0.896552   \n",
       "\n",
       "   test_specificity  test_sensitivity  test_MCC  \n",
       "0          0.750000          0.714286  0.464286  \n",
       "1          0.718750          0.678571  0.397321  \n",
       "2          0.774194          0.655172  0.432993  \n",
       "3          0.774194          0.482759  0.269209  \n",
       "4          0.935484          0.689655  0.648266  "
      ]
     },
     "execution_count": 53,
     "metadata": {},
     "output_type": "execute_result"
    }
   ],
   "source": [
    "rf_a549_maccs_cv"
   ]
  },
  {
   "cell_type": "markdown",
   "id": "relevant-illustration",
   "metadata": {},
   "source": [
    "#### A549 Test Set:"
   ]
  },
  {
   "cell_type": "code",
   "execution_count": 54,
   "id": "ordinary-sport",
   "metadata": {},
   "outputs": [
    {
     "name": "stdout",
     "output_type": "stream",
     "text": [
      "Accuracy Score: 0.72\n",
      "Balanced Accuracy: 0.721\n",
      "MCC Score: 0.442\n",
      "Sensitivity Score: 0.75\n",
      "Specificity Score: 0.692\n",
      "\n",
      "********************** Graph *****************************\n",
      "\n"
     ]
    },
    {
     "data": {
      "image/png": "[encoded data removed]",
      "text/plain": [
       "<Figure size 360x360 with 2 Axes>"
      ]
     },
     "metadata": {
      "needs_background": "light"
     },
     "output_type": "display_data"
    }
   ],
   "source": [
    "best_model_rf_A549_Maccs.fit(X_Macc_train_a549, y_Macc_train_a549)\n",
    "prediction_a549_maccs_rf=best_model_rf_A549_Maccs.predict(X_Macc_test_a549)\n",
    "rf_test_a549_maccs = permonce_measure(y_Macc_test_a549,prediction_a549_maccs_rf)"
   ]
  },
  {
   "cell_type": "code",
   "execution_count": 55,
   "id": "devoted-october",
   "metadata": {},
   "outputs": [
    {
     "name": "stdout",
     "output_type": "stream",
     "text": [
      "No Skill: ROC AUC=0.500\n",
      "ROC AUC=0.784\n"
     ]
    },
    {
     "data": {
      "image/png": "[encoded data removed]",
      "text/plain": [
       "<Figure size 432x288 with 1 Axes>"
      ]
     },
     "metadata": {
      "needs_background": "light"
     },
     "output_type": "display_data"
    }
   ],
   "source": [
    "prediction_a549_maccs_rf_probs = best_model_rf_A549_Maccs.predict_proba(X_Macc_test_a549)\n",
    "roc_auc_a549_maccs=roc_auc(y_Macc_test_a549,prediction_a549_maccs_rf_probs,'Random_Forest')\n",
    "rf_test_a549_maccs.update(roc_auc_a549_maccs)"
   ]
  },
  {
   "cell_type": "markdown",
   "id": "frozen-session",
   "metadata": {},
   "source": [
    "---------------------------------------------------------------------------------------------------------------------"
   ]
  },
  {
   "cell_type": "markdown",
   "id": "virgin-walter",
   "metadata": {},
   "source": [
    "## For Morgan2:"
   ]
  },
  {
   "cell_type": "markdown",
   "id": "outside-decline",
   "metadata": {},
   "source": [
    "### For MCF7:"
   ]
  },
  {
   "cell_type": "code",
   "execution_count": 56,
   "id": "deluxe-chapel",
   "metadata": {},
   "outputs": [
    {
     "name": "stdout",
     "output_type": "stream",
     "text": [
      "********************************** Wait *****************************************************\n",
      "\n",
      "Fitting 5 folds for each of 764 candidates, totalling 3820 fits\n",
      "\n",
      "******************************** Done ******************************************************\n",
      "CPU times: user 1min 11s, sys: 11.6 s, total: 1min 23s\n",
      "Wall time: 12min 59s\n"
     ]
    }
   ],
   "source": [
    "%%time\n",
    "print('********************************** Wait *****************************************************\\n')\n",
    "grid_search_rf_mcf7_morgan2 = GridSearchCV(estimator = rf, param_grid = param_grid_rf, cv = 5, n_jobs = -1, verbose = 2,scoring='recall')\n",
    "grid_search_rf_mcf7_morgan2.fit(X_Morgan2_train_mcf7, y_Morgan2_train_mcf7)\n",
    "print('\\n******************************** Done ******************************************************')\n",
    "MCF7_Morgan2_RF=pd.DataFrame(grid_search_rf_mcf7_morgan2.cv_results_)"
   ]
  },
  {
   "cell_type": "code",
   "execution_count": 57,
   "id": "plain-madagascar",
   "metadata": {},
   "outputs": [],
   "source": [
    "#MCF7_Morgan2_RF.to_csv('MCF7_Morgan2_RF_auc.csv',index=False)"
   ]
  },
  {
   "cell_type": "code",
   "execution_count": 58,
   "id": "powerful-twenty",
   "metadata": {},
   "outputs": [
    {
     "name": "stdout",
     "output_type": "stream",
     "text": [
      "  Best Parameter are:\n",
      " RandomForestClassifier(max_features='sqrt', n_estimators=75, random_state=1)\n"
     ]
    }
   ],
   "source": [
    "print('  Best Parameter are:\\n',grid_search_rf_mcf7_morgan2.best_estimator_)"
   ]
  },
  {
   "cell_type": "code",
   "execution_count": 59,
   "id": "scientific-national",
   "metadata": {},
   "outputs": [],
   "source": [
    "best_model_rf_MCF7_Morgan2 = grid_search_rf_mcf7_morgan2.best_estimator_\n",
    "#best_model_rf_MCF7_Morgan2=RandomForestClassifier(max_features='log2', n_estimators=69, random_state=1)"
   ]
  },
  {
   "cell_type": "code",
   "execution_count": 60,
   "id": "former-relation",
   "metadata": {},
   "outputs": [
    {
     "name": "stdout",
     "output_type": "stream",
     "text": [
      "Accuracy: 0.813 \n",
      "Balanced_accuracy: 0.801 \n",
      "AUC_Score: 0.873 \n",
      "Specificity: 0.897 \n",
      "Sensitivity: 0.704 \n",
      "MCC: 0.62\n"
     ]
    }
   ],
   "source": [
    "rf_mcf7_morgan2_cv,rf_mcf7_morgan2_mean=cv_result(best_model_rf_MCF7_Morgan2,X_Morgan2_train_mcf7,y_Morgan2_train_mcf7)"
   ]
  },
  {
   "cell_type": "code",
   "execution_count": 61,
   "id": "assigned-brain",
   "metadata": {},
   "outputs": [
    {
     "data": {
      "text/html": [
       "<div>\n",
       "<style scoped>\n",
       "    .dataframe tbody tr th:only-of-type {\n",
       "        vertical-align: middle;\n",
       "    }\n",
       "\n",
       "    .dataframe tbody tr th {\n",
       "        vertical-align: top;\n",
       "    }\n",
       "\n",
       "    .dataframe thead th {\n",
       "        text-align: right;\n",
       "    }\n",
       "</style>\n",
       "<table border=\"1\" class=\"dataframe\">\n",
       "  <thead>\n",
       "    <tr style=\"text-align: right;\">\n",
       "      <th></th>\n",
       "      <th>fit_time</th>\n",
       "      <th>score_time</th>\n",
       "      <th>test_accuracy</th>\n",
       "      <th>test_balanced_accuracy</th>\n",
       "      <th>test_roc_auc</th>\n",
       "      <th>test_specificity</th>\n",
       "      <th>test_sensitivity</th>\n",
       "      <th>test_MCC</th>\n",
       "    </tr>\n",
       "  </thead>\n",
       "  <tbody>\n",
       "    <tr>\n",
       "      <th>0</th>\n",
       "      <td>0.190934</td>\n",
       "      <td>0.026536</td>\n",
       "      <td>0.767123</td>\n",
       "      <td>0.751524</td>\n",
       "      <td>0.842226</td>\n",
       "      <td>0.878049</td>\n",
       "      <td>0.625000</td>\n",
       "      <td>0.526001</td>\n",
       "    </tr>\n",
       "    <tr>\n",
       "      <th>1</th>\n",
       "      <td>0.177125</td>\n",
       "      <td>0.022730</td>\n",
       "      <td>0.835616</td>\n",
       "      <td>0.826220</td>\n",
       "      <td>0.870046</td>\n",
       "      <td>0.902439</td>\n",
       "      <td>0.750000</td>\n",
       "      <td>0.665766</td>\n",
       "    </tr>\n",
       "    <tr>\n",
       "      <th>2</th>\n",
       "      <td>0.151273</td>\n",
       "      <td>0.023452</td>\n",
       "      <td>0.794521</td>\n",
       "      <td>0.775915</td>\n",
       "      <td>0.858994</td>\n",
       "      <td>0.926829</td>\n",
       "      <td>0.625000</td>\n",
       "      <td>0.589417</td>\n",
       "    </tr>\n",
       "    <tr>\n",
       "      <th>3</th>\n",
       "      <td>0.161463</td>\n",
       "      <td>0.023541</td>\n",
       "      <td>0.805556</td>\n",
       "      <td>0.793863</td>\n",
       "      <td>0.926042</td>\n",
       "      <td>0.878049</td>\n",
       "      <td>0.709677</td>\n",
       "      <td>0.601118</td>\n",
       "    </tr>\n",
       "    <tr>\n",
       "      <th>4</th>\n",
       "      <td>0.157306</td>\n",
       "      <td>0.024112</td>\n",
       "      <td>0.861111</td>\n",
       "      <td>0.856250</td>\n",
       "      <td>0.869531</td>\n",
       "      <td>0.900000</td>\n",
       "      <td>0.812500</td>\n",
       "      <td>0.718132</td>\n",
       "    </tr>\n",
       "  </tbody>\n",
       "</table>\n",
       "</div>"
      ],
      "text/plain": [
       "   fit_time  score_time  test_accuracy  test_balanced_accuracy  test_roc_auc  \\\n",
       "0  0.190934    0.026536       0.767123                0.751524      0.842226   \n",
       "1  0.177125    0.022730       0.835616                0.826220      0.870046   \n",
       "2  0.151273    0.023452       0.794521                0.775915      0.858994   \n",
       "3  0.161463    0.023541       0.805556                0.793863      0.926042   \n",
       "4  0.157306    0.024112       0.861111                0.856250      0.869531   \n",
       "\n",
       "   test_specificity  test_sensitivity  test_MCC  \n",
       "0          0.878049          0.625000  0.526001  \n",
       "1          0.902439          0.750000  0.665766  \n",
       "2          0.926829          0.625000  0.589417  \n",
       "3          0.878049          0.709677  0.601118  \n",
       "4          0.900000          0.812500  0.718132  "
      ]
     },
     "execution_count": 61,
     "metadata": {},
     "output_type": "execute_result"
    }
   ],
   "source": [
    "rf_mcf7_morgan2_cv"
   ]
  },
  {
   "cell_type": "markdown",
   "id": "architectural-benjamin",
   "metadata": {},
   "source": [
    "#### Test set for MCF7:"
   ]
  },
  {
   "cell_type": "code",
   "execution_count": 62,
   "id": "cardiovascular-gather",
   "metadata": {},
   "outputs": [
    {
     "name": "stdout",
     "output_type": "stream",
     "text": [
      "Accuracy Score: 0.78\n",
      "Balanced Accuracy: 0.766\n",
      "MCC Score: 0.553\n",
      "Sensitivity Score: 0.65\n",
      "Specificity Score: 0.882\n",
      "\n",
      "********************** Graph *****************************\n",
      "\n"
     ]
    },
    {
     "data": {
      "image/png": "[encoded data removed]",
      "text/plain": [
       "<Figure size 360x360 with 2 Axes>"
      ]
     },
     "metadata": {
      "needs_background": "light"
     },
     "output_type": "display_data"
    }
   ],
   "source": [
    "best_model_rf_MCF7_Morgan2.fit(X_Morgan2_train_mcf7, y_Morgan2_train_mcf7)\n",
    "prediction_mcf7_morgan2_rf=best_model_rf_MCF7_Morgan2.predict(X_Morgan2_test_mcf7)\n",
    "rf_test_mcf7_morgan2 = permonce_measure(y_Morgan2_test_mcf7,prediction_mcf7_morgan2_rf)"
   ]
  },
  {
   "cell_type": "code",
   "execution_count": 63,
   "id": "earlier-hygiene",
   "metadata": {},
   "outputs": [
    {
     "name": "stdout",
     "output_type": "stream",
     "text": [
      "No Skill: ROC AUC=0.500\n",
      "ROC AUC=0.832\n"
     ]
    },
    {
     "data": {
      "image/png": "[encoded data removed]",
      "text/plain": [
       "<Figure size 432x288 with 1 Axes>"
      ]
     },
     "metadata": {
      "needs_background": "light"
     },
     "output_type": "display_data"
    }
   ],
   "source": [
    "prediction_mcf7_morgan2_rf_probs = best_model_rf_MCF7_Morgan2.predict_proba(X_Morgan2_test_mcf7)\n",
    "roc_auc_mcf7_morgan2=roc_auc(y_Morgan2_test_mcf7,prediction_mcf7_morgan2_rf_probs,'Random_Forest')\n",
    "rf_test_mcf7_morgan2.update(roc_auc_mcf7_morgan2)"
   ]
  },
  {
   "cell_type": "markdown",
   "id": "transparent-savings",
   "metadata": {},
   "source": [
    "-------------------------------------------------------------------------------------------------------------------"
   ]
  },
  {
   "cell_type": "markdown",
   "id": "outer-latter",
   "metadata": {},
   "source": [
    "### For Breast:"
   ]
  },
  {
   "cell_type": "code",
   "execution_count": 64,
   "id": "racial-sight",
   "metadata": {},
   "outputs": [
    {
     "name": "stdout",
     "output_type": "stream",
     "text": [
      "********************************** Wait *****************************************************\n",
      "\n",
      "Fitting 5 folds for each of 764 candidates, totalling 3820 fits\n",
      "\n",
      "******************************** Done ******************************************************\n",
      "CPU times: user 1min 26s, sys: 14.1 s, total: 1min 40s\n",
      "Wall time: 14min 47s\n"
     ]
    }
   ],
   "source": [
    "%%time\n",
    "print('********************************** Wait *****************************************************\\n')\n",
    "grid_search_rf_breast_morgan2 = GridSearchCV(estimator = rf, param_grid = param_grid_rf, cv = 5, n_jobs = -1, verbose = 2,scoring='recall')\n",
    "grid_search_rf_breast_morgan2.fit(X_Morgan2_train_breast, y_Morgan2_train_breast)\n",
    "print('\\n******************************** Done ******************************************************')\n",
    "Breast_Morgan2_RF=pd.DataFrame(grid_search_rf_breast_morgan2.cv_results_)"
   ]
  },
  {
   "cell_type": "code",
   "execution_count": 65,
   "id": "curious-robin",
   "metadata": {},
   "outputs": [],
   "source": [
    "#Breast_Morgan2_RF.to_csv('Breast_Morgan2_RF_auc.csv',index=False)"
   ]
  },
  {
   "cell_type": "code",
   "execution_count": 66,
   "id": "following-organ",
   "metadata": {},
   "outputs": [
    {
     "name": "stdout",
     "output_type": "stream",
     "text": [
      "  Best Parameter are:\n",
      " RandomForestClassifier(criterion='entropy', max_features='sqrt',\n",
      "                       n_estimators=153, random_state=1)\n"
     ]
    }
   ],
   "source": [
    "print('  Best Parameter are:\\n',grid_search_rf_breast_morgan2.best_estimator_)"
   ]
  },
  {
   "cell_type": "code",
   "execution_count": 67,
   "id": "numerous-powell",
   "metadata": {},
   "outputs": [],
   "source": [
    "best_model_rf_Breast_Morgan2 = grid_search_rf_breast_morgan2.best_estimator_\n",
    "#best_model_rf_Breast_Morgan2 = RandomForestClassifier(criterion='entropy', max_features='log2',n_estimators=191, random_state=1)"
   ]
  },
  {
   "cell_type": "code",
   "execution_count": 68,
   "id": "forbidden-pregnancy",
   "metadata": {},
   "outputs": [
    {
     "name": "stdout",
     "output_type": "stream",
     "text": [
      "Accuracy: 0.798 \n",
      "Balanced_accuracy: 0.788 \n",
      "AUC_Score: 0.853 \n",
      "Specificity: 0.881 \n",
      "Sensitivity: 0.695 \n",
      "MCC: 0.599\n"
     ]
    }
   ],
   "source": [
    "rf_breast_morgan2_cv,rf_breast_morgan2_mean=cv_result(best_model_rf_Breast_Morgan2,X_Morgan2_train_breast,y_Morgan2_train_breast)"
   ]
  },
  {
   "cell_type": "code",
   "execution_count": 69,
   "id": "unlikely-kentucky",
   "metadata": {},
   "outputs": [
    {
     "data": {
      "text/html": [
       "<div>\n",
       "<style scoped>\n",
       "    .dataframe tbody tr th:only-of-type {\n",
       "        vertical-align: middle;\n",
       "    }\n",
       "\n",
       "    .dataframe tbody tr th {\n",
       "        vertical-align: top;\n",
       "    }\n",
       "\n",
       "    .dataframe thead th {\n",
       "        text-align: right;\n",
       "    }\n",
       "</style>\n",
       "<table border=\"1\" class=\"dataframe\">\n",
       "  <thead>\n",
       "    <tr style=\"text-align: right;\">\n",
       "      <th></th>\n",
       "      <th>fit_time</th>\n",
       "      <th>score_time</th>\n",
       "      <th>test_accuracy</th>\n",
       "      <th>test_balanced_accuracy</th>\n",
       "      <th>test_roc_auc</th>\n",
       "      <th>test_specificity</th>\n",
       "      <th>test_sensitivity</th>\n",
       "      <th>test_MCC</th>\n",
       "    </tr>\n",
       "  </thead>\n",
       "  <tbody>\n",
       "    <tr>\n",
       "      <th>0</th>\n",
       "      <td>0.382193</td>\n",
       "      <td>0.041915</td>\n",
       "      <td>0.837209</td>\n",
       "      <td>0.842335</td>\n",
       "      <td>0.890889</td>\n",
       "      <td>0.787234</td>\n",
       "      <td>0.897436</td>\n",
       "      <td>0.682440</td>\n",
       "    </tr>\n",
       "    <tr>\n",
       "      <th>1</th>\n",
       "      <td>0.374703</td>\n",
       "      <td>0.043326</td>\n",
       "      <td>0.779070</td>\n",
       "      <td>0.762957</td>\n",
       "      <td>0.816421</td>\n",
       "      <td>0.936170</td>\n",
       "      <td>0.589744</td>\n",
       "      <td>0.570077</td>\n",
       "    </tr>\n",
       "    <tr>\n",
       "      <th>2</th>\n",
       "      <td>0.358410</td>\n",
       "      <td>0.044853</td>\n",
       "      <td>0.825581</td>\n",
       "      <td>0.816421</td>\n",
       "      <td>0.902619</td>\n",
       "      <td>0.914894</td>\n",
       "      <td>0.717949</td>\n",
       "      <td>0.651786</td>\n",
       "    </tr>\n",
       "    <tr>\n",
       "      <th>3</th>\n",
       "      <td>0.366413</td>\n",
       "      <td>0.045186</td>\n",
       "      <td>0.802326</td>\n",
       "      <td>0.797327</td>\n",
       "      <td>0.873704</td>\n",
       "      <td>0.851064</td>\n",
       "      <td>0.743590</td>\n",
       "      <td>0.600080</td>\n",
       "    </tr>\n",
       "    <tr>\n",
       "      <th>4</th>\n",
       "      <td>0.353205</td>\n",
       "      <td>0.043163</td>\n",
       "      <td>0.744186</td>\n",
       "      <td>0.721491</td>\n",
       "      <td>0.780154</td>\n",
       "      <td>0.916667</td>\n",
       "      <td>0.526316</td>\n",
       "      <td>0.490453</td>\n",
       "    </tr>\n",
       "  </tbody>\n",
       "</table>\n",
       "</div>"
      ],
      "text/plain": [
       "   fit_time  score_time  test_accuracy  test_balanced_accuracy  test_roc_auc  \\\n",
       "0  0.382193    0.041915       0.837209                0.842335      0.890889   \n",
       "1  0.374703    0.043326       0.779070                0.762957      0.816421   \n",
       "2  0.358410    0.044853       0.825581                0.816421      0.902619   \n",
       "3  0.366413    0.045186       0.802326                0.797327      0.873704   \n",
       "4  0.353205    0.043163       0.744186                0.721491      0.780154   \n",
       "\n",
       "   test_specificity  test_sensitivity  test_MCC  \n",
       "0          0.787234          0.897436  0.682440  \n",
       "1          0.936170          0.589744  0.570077  \n",
       "2          0.914894          0.717949  0.651786  \n",
       "3          0.851064          0.743590  0.600080  \n",
       "4          0.916667          0.526316  0.490453  "
      ]
     },
     "execution_count": 69,
     "metadata": {},
     "output_type": "execute_result"
    }
   ],
   "source": [
    "rf_breast_morgan2_cv"
   ]
  },
  {
   "cell_type": "markdown",
   "id": "killing-brain",
   "metadata": {},
   "source": [
    "#### Test set for Breast:"
   ]
  },
  {
   "cell_type": "code",
   "execution_count": 70,
   "id": "composite-springer",
   "metadata": {},
   "outputs": [
    {
     "name": "stdout",
     "output_type": "stream",
     "text": [
      "Accuracy Score: 0.796\n",
      "Balanced Accuracy: 0.789\n",
      "MCC Score: 0.589\n",
      "Sensitivity Score: 0.714\n",
      "Specificity Score: 0.864\n",
      "\n",
      "********************** Graph *****************************\n",
      "\n"
     ]
    },
    {
     "data": {
      "image/png": "[encoded data removed]",
      "text/plain": [
       "<Figure size 360x360 with 2 Axes>"
      ]
     },
     "metadata": {
      "needs_background": "light"
     },
     "output_type": "display_data"
    }
   ],
   "source": [
    "best_model_rf_Breast_Morgan2.fit(X_Morgan2_train_breast, y_Morgan2_train_breast)\n",
    "prediction_breast_morgan2_rf=best_model_rf_Breast_Morgan2.predict(X_Morgan2_test_breast)\n",
    "rf_test_breast_morgan2 = permonce_measure(y_Morgan2_test_breast,prediction_breast_morgan2_rf)"
   ]
  },
  {
   "cell_type": "code",
   "execution_count": 71,
   "id": "facial-queens",
   "metadata": {},
   "outputs": [
    {
     "name": "stdout",
     "output_type": "stream",
     "text": [
      "No Skill: ROC AUC=0.500\n",
      "ROC AUC=0.876\n"
     ]
    },
    {
     "data": {
      "image/png": "[encoded data removed]",
      "text/plain": [
       "<Figure size 432x288 with 1 Axes>"
      ]
     },
     "metadata": {
      "needs_background": "light"
     },
     "output_type": "display_data"
    }
   ],
   "source": [
    "prediction_breast_morgan2_rf_probs = best_model_rf_Breast_Morgan2.predict_proba(X_Morgan2_test_breast)\n",
    "roc_auc_breast_morgan2=roc_auc(y_Morgan2_test_breast,prediction_breast_morgan2_rf_probs,'Random_Forest')\n",
    "rf_test_breast_morgan2.update(roc_auc_breast_morgan2)"
   ]
  },
  {
   "cell_type": "markdown",
   "id": "ruled-protest",
   "metadata": {},
   "source": [
    "--------------------------------------------------------------------------------------------------------------------"
   ]
  },
  {
   "cell_type": "markdown",
   "id": "floral-spotlight",
   "metadata": {},
   "source": [
    "### For Lung:"
   ]
  },
  {
   "cell_type": "code",
   "execution_count": 72,
   "id": "capital-weekly",
   "metadata": {},
   "outputs": [
    {
     "name": "stdout",
     "output_type": "stream",
     "text": [
      "********************************** Wait *****************************************************\n",
      "\n",
      "Fitting 5 folds for each of 764 candidates, totalling 3820 fits\n",
      "\n",
      "******************************** Done ******************************************************\n",
      "CPU times: user 1min 32s, sys: 15.1 s, total: 1min 47s\n",
      "Wall time: 14min 50s\n"
     ]
    }
   ],
   "source": [
    "%%time\n",
    "print('********************************** Wait *****************************************************\\n')\n",
    "grid_search_rf_lung_morgan2 = GridSearchCV(estimator = rf, param_grid = param_grid_rf, cv = 5, n_jobs = -1, verbose = 2,scoring='recall')\n",
    "grid_search_rf_lung_morgan2.fit(X_Morgan2_train_lung, y_Morgan2_train_lung)\n",
    "print('\\n******************************** Done ******************************************************')\n",
    "Lung_Morgan2_RF=pd.DataFrame(grid_search_rf_lung_morgan2.cv_results_)"
   ]
  },
  {
   "cell_type": "code",
   "execution_count": 73,
   "id": "human-material",
   "metadata": {},
   "outputs": [],
   "source": [
    "#Lung_Morgan2_RF.to_csv('Lung_Morgan2_RF_auc.csv',index=False)"
   ]
  },
  {
   "cell_type": "code",
   "execution_count": 74,
   "id": "brutal-slope",
   "metadata": {},
   "outputs": [
    {
     "name": "stdout",
     "output_type": "stream",
     "text": [
      "  Best Parameter are:\n",
      " RandomForestClassifier(criterion='entropy', max_features='sqrt',\n",
      "                       n_estimators=103, random_state=1)\n"
     ]
    }
   ],
   "source": [
    "print('  Best Parameter are:\\n',grid_search_rf_lung_morgan2.best_estimator_)"
   ]
  },
  {
   "cell_type": "code",
   "execution_count": 75,
   "id": "broad-performer",
   "metadata": {},
   "outputs": [],
   "source": [
    "best_model_rf_Lung_Morgan2 = grid_search_rf_lung_morgan2.best_estimator_\n",
    "#best_model_rf_Lung_Morgan2 = RandomForestClassifier(max_features='log2', n_estimators=145, random_state=1)"
   ]
  },
  {
   "cell_type": "code",
   "execution_count": 76,
   "id": "disturbed-multiple",
   "metadata": {},
   "outputs": [
    {
     "name": "stdout",
     "output_type": "stream",
     "text": [
      "Accuracy: 0.734 \n",
      "Balanced_accuracy: 0.73 \n",
      "AUC_Score: 0.786 \n",
      "Specificity: 0.799 \n",
      "Sensitivity: 0.661 \n",
      "MCC: 0.468\n"
     ]
    }
   ],
   "source": [
    "rf_lung_morgan2_cv,rf_lung_morgan2_mean=cv_result(best_model_rf_Lung_Morgan2,X_Morgan2_train_lung,y_Morgan2_train_lung)"
   ]
  },
  {
   "cell_type": "code",
   "execution_count": 77,
   "id": "drawn-variety",
   "metadata": {},
   "outputs": [
    {
     "data": {
      "text/html": [
       "<div>\n",
       "<style scoped>\n",
       "    .dataframe tbody tr th:only-of-type {\n",
       "        vertical-align: middle;\n",
       "    }\n",
       "\n",
       "    .dataframe tbody tr th {\n",
       "        vertical-align: top;\n",
       "    }\n",
       "\n",
       "    .dataframe thead th {\n",
       "        text-align: right;\n",
       "    }\n",
       "</style>\n",
       "<table border=\"1\" class=\"dataframe\">\n",
       "  <thead>\n",
       "    <tr style=\"text-align: right;\">\n",
       "      <th></th>\n",
       "      <th>fit_time</th>\n",
       "      <th>score_time</th>\n",
       "      <th>test_accuracy</th>\n",
       "      <th>test_balanced_accuracy</th>\n",
       "      <th>test_roc_auc</th>\n",
       "      <th>test_specificity</th>\n",
       "      <th>test_sensitivity</th>\n",
       "      <th>test_MCC</th>\n",
       "    </tr>\n",
       "  </thead>\n",
       "  <tbody>\n",
       "    <tr>\n",
       "      <th>0</th>\n",
       "      <td>0.249111</td>\n",
       "      <td>0.030091</td>\n",
       "      <td>0.663158</td>\n",
       "      <td>0.662222</td>\n",
       "      <td>0.772667</td>\n",
       "      <td>0.680000</td>\n",
       "      <td>0.644444</td>\n",
       "      <td>0.324444</td>\n",
       "    </tr>\n",
       "    <tr>\n",
       "      <th>1</th>\n",
       "      <td>0.240396</td>\n",
       "      <td>0.030447</td>\n",
       "      <td>0.789474</td>\n",
       "      <td>0.782222</td>\n",
       "      <td>0.853333</td>\n",
       "      <td>0.920000</td>\n",
       "      <td>0.644444</td>\n",
       "      <td>0.591915</td>\n",
       "    </tr>\n",
       "    <tr>\n",
       "      <th>2</th>\n",
       "      <td>0.235852</td>\n",
       "      <td>0.029937</td>\n",
       "      <td>0.726316</td>\n",
       "      <td>0.722222</td>\n",
       "      <td>0.752222</td>\n",
       "      <td>0.800000</td>\n",
       "      <td>0.644444</td>\n",
       "      <td>0.451110</td>\n",
       "    </tr>\n",
       "    <tr>\n",
       "      <th>3</th>\n",
       "      <td>0.259978</td>\n",
       "      <td>0.030866</td>\n",
       "      <td>0.755319</td>\n",
       "      <td>0.753515</td>\n",
       "      <td>0.788662</td>\n",
       "      <td>0.795918</td>\n",
       "      <td>0.711111</td>\n",
       "      <td>0.509461</td>\n",
       "    </tr>\n",
       "    <tr>\n",
       "      <th>4</th>\n",
       "      <td>0.237859</td>\n",
       "      <td>0.031031</td>\n",
       "      <td>0.734043</td>\n",
       "      <td>0.729545</td>\n",
       "      <td>0.764545</td>\n",
       "      <td>0.800000</td>\n",
       "      <td>0.659091</td>\n",
       "      <td>0.464939</td>\n",
       "    </tr>\n",
       "  </tbody>\n",
       "</table>\n",
       "</div>"
      ],
      "text/plain": [
       "   fit_time  score_time  test_accuracy  test_balanced_accuracy  test_roc_auc  \\\n",
       "0  0.249111    0.030091       0.663158                0.662222      0.772667   \n",
       "1  0.240396    0.030447       0.789474                0.782222      0.853333   \n",
       "2  0.235852    0.029937       0.726316                0.722222      0.752222   \n",
       "3  0.259978    0.030866       0.755319                0.753515      0.788662   \n",
       "4  0.237859    0.031031       0.734043                0.729545      0.764545   \n",
       "\n",
       "   test_specificity  test_sensitivity  test_MCC  \n",
       "0          0.680000          0.644444  0.324444  \n",
       "1          0.920000          0.644444  0.591915  \n",
       "2          0.800000          0.644444  0.451110  \n",
       "3          0.795918          0.711111  0.509461  \n",
       "4          0.800000          0.659091  0.464939  "
      ]
     },
     "execution_count": 77,
     "metadata": {},
     "output_type": "execute_result"
    }
   ],
   "source": [
    "rf_lung_morgan2_cv"
   ]
  },
  {
   "cell_type": "markdown",
   "id": "female-filter",
   "metadata": {},
   "source": [
    "#### Test set for Lung:"
   ]
  },
  {
   "cell_type": "code",
   "execution_count": 78,
   "id": "lesser-breach",
   "metadata": {},
   "outputs": [
    {
     "name": "stdout",
     "output_type": "stream",
     "text": [
      "Accuracy Score: 0.773\n",
      "Balanced Accuracy: 0.769\n",
      "MCC Score: 0.545\n",
      "Sensitivity Score: 0.696\n",
      "Specificity Score: 0.841\n",
      "\n",
      "********************** Graph *****************************\n",
      "\n"
     ]
    },
    {
     "data": {
      "image/png": "[encoded data removed]",
      "text/plain": [
       "<Figure size 360x360 with 2 Axes>"
      ]
     },
     "metadata": {
      "needs_background": "light"
     },
     "output_type": "display_data"
    }
   ],
   "source": [
    "best_model_rf_Lung_Morgan2.fit(X_Morgan2_train_lung, y_Morgan2_train_lung)\n",
    "prediction_lung_morgan2_rf=best_model_rf_Lung_Morgan2.predict(X_Morgan2_test_lung)\n",
    "rf_test_lung_morgan2 = permonce_measure(y_Morgan2_test_lung,prediction_lung_morgan2_rf)"
   ]
  },
  {
   "cell_type": "code",
   "execution_count": 79,
   "id": "massive-westminster",
   "metadata": {},
   "outputs": [
    {
     "name": "stdout",
     "output_type": "stream",
     "text": [
      "No Skill: ROC AUC=0.500\n",
      "ROC AUC=0.855\n"
     ]
    },
    {
     "data": {
      "image/png": "[encoded data removed]",
      "text/plain": [
       "<Figure size 432x288 with 1 Axes>"
      ]
     },
     "metadata": {
      "needs_background": "light"
     },
     "output_type": "display_data"
    }
   ],
   "source": [
    "prediction_lung_morgan2_rf_probs = best_model_rf_Lung_Morgan2.predict_proba(X_Morgan2_test_lung)\n",
    "roc_auc_lung_morgan2=roc_auc(y_Morgan2_test_lung,prediction_lung_morgan2_rf_probs,'Random_Forest')\n",
    "rf_test_lung_morgan2.update(roc_auc_lung_morgan2)"
   ]
  },
  {
   "cell_type": "markdown",
   "id": "temporal-ballet",
   "metadata": {},
   "source": [
    "---------------------------------------------------------------------------------------------------------------------"
   ]
  },
  {
   "cell_type": "markdown",
   "id": "limited-aaron",
   "metadata": {},
   "source": [
    "### For A549:"
   ]
  },
  {
   "cell_type": "code",
   "execution_count": 80,
   "id": "closing-column",
   "metadata": {},
   "outputs": [
    {
     "name": "stdout",
     "output_type": "stream",
     "text": [
      "********************************** Wait *****************************************************\n",
      "\n",
      "Fitting 5 folds for each of 764 candidates, totalling 3820 fits\n",
      "\n",
      "******************************** Done ******************************************************\n",
      "CPU times: user 56 s, sys: 1.43 s, total: 57.4 s\n",
      "Wall time: 11min 9s\n"
     ]
    }
   ],
   "source": [
    "%%time\n",
    "print('********************************** Wait *****************************************************\\n')\n",
    "grid_search_rf_a549_morgan2 = GridSearchCV(estimator = rf, param_grid = param_grid_rf, cv = 5, n_jobs = -1, verbose = 2,scoring='recall')\n",
    "grid_search_rf_a549_morgan2.fit(X_Morgan2_train_a549, y_Morgan2_train_a549)\n",
    "print('\\n******************************** Done ******************************************************')\n",
    "A549_Morgan2_RF=pd.DataFrame(grid_search_rf_a549_morgan2.cv_results_)"
   ]
  },
  {
   "cell_type": "code",
   "execution_count": 81,
   "id": "uniform-feature",
   "metadata": {},
   "outputs": [],
   "source": [
    "#A549_Morgan2_RF.to_csv('A549_Morgan2_RF_auc.csv',index=False)"
   ]
  },
  {
   "cell_type": "code",
   "execution_count": 82,
   "id": "removable-dayton",
   "metadata": {},
   "outputs": [
    {
     "name": "stdout",
     "output_type": "stream",
     "text": [
      "  Best Parameter are:\n",
      " RandomForestClassifier(criterion='entropy', max_features='sqrt',\n",
      "                       n_estimators=61, random_state=1)\n"
     ]
    }
   ],
   "source": [
    "print('  Best Parameter are:\\n',grid_search_rf_a549_morgan2.best_estimator_)"
   ]
  },
  {
   "cell_type": "code",
   "execution_count": 83,
   "id": "cathedral-rainbow",
   "metadata": {},
   "outputs": [],
   "source": [
    "best_model_rf_A549_Morgan2 = grid_search_rf_a549_morgan2.best_estimator_\n",
    "#best_model_rf_A549_Morgan2 = RandomForestClassifier(criterion='entropy', max_features='sqrt',n_estimators=46, random_state=1)"
   ]
  },
  {
   "cell_type": "code",
   "execution_count": 84,
   "id": "obvious-record",
   "metadata": {},
   "outputs": [
    {
     "name": "stdout",
     "output_type": "stream",
     "text": [
      "Accuracy: 0.77 \n",
      "Balanced_accuracy: 0.767 \n",
      "AUC_Score: 0.828 \n",
      "Specificity: 0.841 \n",
      "Sensitivity: 0.693 \n",
      "MCC: 0.549\n"
     ]
    }
   ],
   "source": [
    "rf_a549_morgan2_cv,rf_a549_morgan2_mean=cv_result(best_model_rf_A549_Morgan2,X_Morgan2_train_a549,y_Morgan2_train_a549)"
   ]
  },
  {
   "cell_type": "code",
   "execution_count": 85,
   "id": "regulated-scratch",
   "metadata": {},
   "outputs": [
    {
     "data": {
      "text/html": [
       "<div>\n",
       "<style scoped>\n",
       "    .dataframe tbody tr th:only-of-type {\n",
       "        vertical-align: middle;\n",
       "    }\n",
       "\n",
       "    .dataframe tbody tr th {\n",
       "        vertical-align: top;\n",
       "    }\n",
       "\n",
       "    .dataframe thead th {\n",
       "        text-align: right;\n",
       "    }\n",
       "</style>\n",
       "<table border=\"1\" class=\"dataframe\">\n",
       "  <thead>\n",
       "    <tr style=\"text-align: right;\">\n",
       "      <th></th>\n",
       "      <th>fit_time</th>\n",
       "      <th>score_time</th>\n",
       "      <th>test_accuracy</th>\n",
       "      <th>test_balanced_accuracy</th>\n",
       "      <th>test_roc_auc</th>\n",
       "      <th>test_specificity</th>\n",
       "      <th>test_sensitivity</th>\n",
       "      <th>test_MCC</th>\n",
       "    </tr>\n",
       "  </thead>\n",
       "  <tbody>\n",
       "    <tr>\n",
       "      <th>0</th>\n",
       "      <td>0.098134</td>\n",
       "      <td>0.018443</td>\n",
       "      <td>0.816667</td>\n",
       "      <td>0.814732</td>\n",
       "      <td>0.830915</td>\n",
       "      <td>0.843750</td>\n",
       "      <td>0.785714</td>\n",
       "      <td>0.631228</td>\n",
       "    </tr>\n",
       "    <tr>\n",
       "      <th>1</th>\n",
       "      <td>0.099321</td>\n",
       "      <td>0.018542</td>\n",
       "      <td>0.733333</td>\n",
       "      <td>0.732143</td>\n",
       "      <td>0.804688</td>\n",
       "      <td>0.750000</td>\n",
       "      <td>0.714286</td>\n",
       "      <td>0.464286</td>\n",
       "    </tr>\n",
       "    <tr>\n",
       "      <th>2</th>\n",
       "      <td>0.097951</td>\n",
       "      <td>0.018409</td>\n",
       "      <td>0.700000</td>\n",
       "      <td>0.699666</td>\n",
       "      <td>0.788098</td>\n",
       "      <td>0.709677</td>\n",
       "      <td>0.689655</td>\n",
       "      <td>0.399333</td>\n",
       "    </tr>\n",
       "    <tr>\n",
       "      <th>3</th>\n",
       "      <td>0.099326</td>\n",
       "      <td>0.018492</td>\n",
       "      <td>0.733333</td>\n",
       "      <td>0.726363</td>\n",
       "      <td>0.814794</td>\n",
       "      <td>0.935484</td>\n",
       "      <td>0.517241</td>\n",
       "      <td>0.502060</td>\n",
       "    </tr>\n",
       "    <tr>\n",
       "      <th>4</th>\n",
       "      <td>0.100652</td>\n",
       "      <td>0.018250</td>\n",
       "      <td>0.866667</td>\n",
       "      <td>0.863181</td>\n",
       "      <td>0.903782</td>\n",
       "      <td>0.967742</td>\n",
       "      <td>0.758621</td>\n",
       "      <td>0.746567</td>\n",
       "    </tr>\n",
       "  </tbody>\n",
       "</table>\n",
       "</div>"
      ],
      "text/plain": [
       "   fit_time  score_time  test_accuracy  test_balanced_accuracy  test_roc_auc  \\\n",
       "0  0.098134    0.018443       0.816667                0.814732      0.830915   \n",
       "1  0.099321    0.018542       0.733333                0.732143      0.804688   \n",
       "2  0.097951    0.018409       0.700000                0.699666      0.788098   \n",
       "3  0.099326    0.018492       0.733333                0.726363      0.814794   \n",
       "4  0.100652    0.018250       0.866667                0.863181      0.903782   \n",
       "\n",
       "   test_specificity  test_sensitivity  test_MCC  \n",
       "0          0.843750          0.785714  0.631228  \n",
       "1          0.750000          0.714286  0.464286  \n",
       "2          0.709677          0.689655  0.399333  \n",
       "3          0.935484          0.517241  0.502060  \n",
       "4          0.967742          0.758621  0.746567  "
      ]
     },
     "execution_count": 85,
     "metadata": {},
     "output_type": "execute_result"
    }
   ],
   "source": [
    "rf_a549_morgan2_cv"
   ]
  },
  {
   "cell_type": "markdown",
   "id": "loved-inspection",
   "metadata": {},
   "source": [
    "#### Test set for A549:"
   ]
  },
  {
   "cell_type": "code",
   "execution_count": 86,
   "id": "endless-stomach",
   "metadata": {},
   "outputs": [
    {
     "name": "stdout",
     "output_type": "stream",
     "text": [
      "Accuracy Score: 0.747\n",
      "Balanced Accuracy: 0.748\n",
      "MCC Score: 0.496\n",
      "Sensitivity Score: 0.778\n",
      "Specificity Score: 0.718\n",
      "\n",
      "********************** Graph *****************************\n",
      "\n"
     ]
    },
    {
     "data": {
      "image/png": "[encoded data removed]",
      "text/plain": [
       "<Figure size 360x360 with 2 Axes>"
      ]
     },
     "metadata": {
      "needs_background": "light"
     },
     "output_type": "display_data"
    }
   ],
   "source": [
    "best_model_rf_A549_Morgan2.fit(X_Morgan2_train_a549, y_Morgan2_train_a549)\n",
    "prediction_a549_morgan2_rf=best_model_rf_A549_Morgan2.predict(X_Morgan2_test_a549)\n",
    "rf_test_a549_morgan2 = permonce_measure(y_Morgan2_test_a549,prediction_a549_morgan2_rf)"
   ]
  },
  {
   "cell_type": "code",
   "execution_count": 87,
   "id": "british-homework",
   "metadata": {},
   "outputs": [
    {
     "name": "stdout",
     "output_type": "stream",
     "text": [
      "No Skill: ROC AUC=0.500\n",
      "ROC AUC=0.845\n"
     ]
    },
    {
     "data": {
      "image/png": "[encoded data removed]",
      "text/plain": [
       "<Figure size 432x288 with 1 Axes>"
      ]
     },
     "metadata": {
      "needs_background": "light"
     },
     "output_type": "display_data"
    }
   ],
   "source": [
    "prediction_a549_morgan2_rf_probs = best_model_rf_A549_Morgan2.predict_proba(X_Morgan2_test_a549)\n",
    "roc_auc_a549_morgan2=roc_auc(y_Morgan2_test_a549,prediction_a549_morgan2_rf_probs,'Random_Forest')\n",
    "rf_test_a549_morgan2.update(roc_auc_a549_morgan2)"
   ]
  },
  {
   "cell_type": "markdown",
   "id": "protective-blake",
   "metadata": {},
   "source": [
    "## EnD!"
   ]
  },
  {
   "cell_type": "code",
   "execution_count": 88,
   "id": "varied-registrar",
   "metadata": {},
   "outputs": [
    {
     "data": {
      "text/html": [
       "<div>\n",
       "<style scoped>\n",
       "    .dataframe tbody tr th:only-of-type {\n",
       "        vertical-align: middle;\n",
       "    }\n",
       "\n",
       "    .dataframe tbody tr th {\n",
       "        vertical-align: top;\n",
       "    }\n",
       "\n",
       "    .dataframe thead th {\n",
       "        text-align: right;\n",
       "    }\n",
       "</style>\n",
       "<table border=\"1\" class=\"dataframe\">\n",
       "  <thead>\n",
       "    <tr style=\"text-align: right;\">\n",
       "      <th></th>\n",
       "      <th>Model</th>\n",
       "      <th>criterion</th>\n",
       "      <th>max_features</th>\n",
       "      <th>n_estimators</th>\n",
       "      <th>Accuracy</th>\n",
       "      <th>Balanced Accuracy</th>\n",
       "      <th>AUC_Score</th>\n",
       "      <th>Specificity</th>\n",
       "      <th>Sensitivity</th>\n",
       "      <th>MCC</th>\n",
       "      <th>Accuracy_test</th>\n",
       "      <th>Balanced Accuracy_test</th>\n",
       "      <th>MCC Score_test</th>\n",
       "      <th>Sensitivity Score_test</th>\n",
       "      <th>Specificity Score_test</th>\n",
       "      <th>AUC_Score_test</th>\n",
       "    </tr>\n",
       "  </thead>\n",
       "  <tbody>\n",
       "    <tr>\n",
       "      <th>0</th>\n",
       "      <td>RF_MCF7_MACCS</td>\n",
       "      <td>entropy</td>\n",
       "      <td>sqrt</td>\n",
       "      <td>195</td>\n",
       "      <td>0.793</td>\n",
       "      <td>0.788</td>\n",
       "      <td>0.868</td>\n",
       "      <td>0.833</td>\n",
       "      <td>0.742</td>\n",
       "      <td>0.585</td>\n",
       "      <td>0.791</td>\n",
       "      <td>0.781</td>\n",
       "      <td>0.574</td>\n",
       "      <td>0.700</td>\n",
       "      <td>0.863</td>\n",
       "      <td>0.835</td>\n",
       "    </tr>\n",
       "    <tr>\n",
       "      <th>1</th>\n",
       "      <td>RF_Breast_MACCS</td>\n",
       "      <td>entropy</td>\n",
       "      <td>log2</td>\n",
       "      <td>131</td>\n",
       "      <td>0.767</td>\n",
       "      <td>0.760</td>\n",
       "      <td>0.830</td>\n",
       "      <td>0.831</td>\n",
       "      <td>0.690</td>\n",
       "      <td>0.529</td>\n",
       "      <td>0.787</td>\n",
       "      <td>0.781</td>\n",
       "      <td>0.569</td>\n",
       "      <td>0.714</td>\n",
       "      <td>0.847</td>\n",
       "      <td>0.843</td>\n",
       "    </tr>\n",
       "    <tr>\n",
       "      <th>2</th>\n",
       "      <td>RF_Lung_MACCS</td>\n",
       "      <td>entropy</td>\n",
       "      <td>sqrt</td>\n",
       "      <td>17</td>\n",
       "      <td>0.687</td>\n",
       "      <td>0.685</td>\n",
       "      <td>0.752</td>\n",
       "      <td>0.719</td>\n",
       "      <td>0.652</td>\n",
       "      <td>0.374</td>\n",
       "      <td>0.706</td>\n",
       "      <td>0.697</td>\n",
       "      <td>0.415</td>\n",
       "      <td>0.554</td>\n",
       "      <td>0.841</td>\n",
       "      <td>0.792</td>\n",
       "    </tr>\n",
       "    <tr>\n",
       "      <th>3</th>\n",
       "      <td>RF_A549_MACCS</td>\n",
       "      <td>entropy</td>\n",
       "      <td>sqrt</td>\n",
       "      <td>121</td>\n",
       "      <td>0.720</td>\n",
       "      <td>0.717</td>\n",
       "      <td>0.812</td>\n",
       "      <td>0.791</td>\n",
       "      <td>0.644</td>\n",
       "      <td>0.442</td>\n",
       "      <td>0.720</td>\n",
       "      <td>0.721</td>\n",
       "      <td>0.442</td>\n",
       "      <td>0.750</td>\n",
       "      <td>0.692</td>\n",
       "      <td>0.784</td>\n",
       "    </tr>\n",
       "    <tr>\n",
       "      <th>4</th>\n",
       "      <td>RF_MCF7_MORGAN2</td>\n",
       "      <td>gini</td>\n",
       "      <td>sqrt</td>\n",
       "      <td>75</td>\n",
       "      <td>0.813</td>\n",
       "      <td>0.801</td>\n",
       "      <td>0.873</td>\n",
       "      <td>0.897</td>\n",
       "      <td>0.704</td>\n",
       "      <td>0.620</td>\n",
       "      <td>0.780</td>\n",
       "      <td>0.766</td>\n",
       "      <td>0.553</td>\n",
       "      <td>0.650</td>\n",
       "      <td>0.882</td>\n",
       "      <td>0.832</td>\n",
       "    </tr>\n",
       "    <tr>\n",
       "      <th>5</th>\n",
       "      <td>RF_Breast_MORGAN2</td>\n",
       "      <td>entropy</td>\n",
       "      <td>sqrt</td>\n",
       "      <td>153</td>\n",
       "      <td>0.798</td>\n",
       "      <td>0.788</td>\n",
       "      <td>0.853</td>\n",
       "      <td>0.881</td>\n",
       "      <td>0.695</td>\n",
       "      <td>0.599</td>\n",
       "      <td>0.796</td>\n",
       "      <td>0.789</td>\n",
       "      <td>0.589</td>\n",
       "      <td>0.714</td>\n",
       "      <td>0.864</td>\n",
       "      <td>0.876</td>\n",
       "    </tr>\n",
       "    <tr>\n",
       "      <th>6</th>\n",
       "      <td>RF_Lung_MORGAN2</td>\n",
       "      <td>entropy</td>\n",
       "      <td>sqrt</td>\n",
       "      <td>103</td>\n",
       "      <td>0.734</td>\n",
       "      <td>0.730</td>\n",
       "      <td>0.786</td>\n",
       "      <td>0.799</td>\n",
       "      <td>0.661</td>\n",
       "      <td>0.468</td>\n",
       "      <td>0.773</td>\n",
       "      <td>0.769</td>\n",
       "      <td>0.545</td>\n",
       "      <td>0.696</td>\n",
       "      <td>0.841</td>\n",
       "      <td>0.855</td>\n",
       "    </tr>\n",
       "    <tr>\n",
       "      <th>7</th>\n",
       "      <td>RF_A549_MORGAN2</td>\n",
       "      <td>entropy</td>\n",
       "      <td>sqrt</td>\n",
       "      <td>61</td>\n",
       "      <td>0.770</td>\n",
       "      <td>0.767</td>\n",
       "      <td>0.828</td>\n",
       "      <td>0.841</td>\n",
       "      <td>0.693</td>\n",
       "      <td>0.549</td>\n",
       "      <td>0.747</td>\n",
       "      <td>0.748</td>\n",
       "      <td>0.496</td>\n",
       "      <td>0.778</td>\n",
       "      <td>0.718</td>\n",
       "      <td>0.845</td>\n",
       "    </tr>\n",
       "  </tbody>\n",
       "</table>\n",
       "</div>"
      ],
      "text/plain": [
       "               Model criterion max_features  n_estimators  Accuracy  \\\n",
       "0      RF_MCF7_MACCS   entropy         sqrt           195     0.793   \n",
       "1    RF_Breast_MACCS   entropy         log2           131     0.767   \n",
       "2      RF_Lung_MACCS   entropy         sqrt            17     0.687   \n",
       "3      RF_A549_MACCS   entropy         sqrt           121     0.720   \n",
       "4    RF_MCF7_MORGAN2      gini         sqrt            75     0.813   \n",
       "5  RF_Breast_MORGAN2   entropy         sqrt           153     0.798   \n",
       "6    RF_Lung_MORGAN2   entropy         sqrt           103     0.734   \n",
       "7    RF_A549_MORGAN2   entropy         sqrt            61     0.770   \n",
       "\n",
       "   Balanced Accuracy  AUC_Score  Specificity  Sensitivity    MCC  \\\n",
       "0              0.788      0.868        0.833        0.742  0.585   \n",
       "1              0.760      0.830        0.831        0.690  0.529   \n",
       "2              0.685      0.752        0.719        0.652  0.374   \n",
       "3              0.717      0.812        0.791        0.644  0.442   \n",
       "4              0.801      0.873        0.897        0.704  0.620   \n",
       "5              0.788      0.853        0.881        0.695  0.599   \n",
       "6              0.730      0.786        0.799        0.661  0.468   \n",
       "7              0.767      0.828        0.841        0.693  0.549   \n",
       "\n",
       "   Accuracy_test  Balanced Accuracy_test  MCC Score_test  \\\n",
       "0          0.791                   0.781           0.574   \n",
       "1          0.787                   0.781           0.569   \n",
       "2          0.706                   0.697           0.415   \n",
       "3          0.720                   0.721           0.442   \n",
       "4          0.780                   0.766           0.553   \n",
       "5          0.796                   0.789           0.589   \n",
       "6          0.773                   0.769           0.545   \n",
       "7          0.747                   0.748           0.496   \n",
       "\n",
       "   Sensitivity Score_test  Specificity Score_test  AUC_Score_test  \n",
       "0                   0.700                   0.863           0.835  \n",
       "1                   0.714                   0.847           0.843  \n",
       "2                   0.554                   0.841           0.792  \n",
       "3                   0.750                   0.692           0.784  \n",
       "4                   0.650                   0.882           0.832  \n",
       "5                   0.714                   0.864           0.876  \n",
       "6                   0.696                   0.841           0.855  \n",
       "7                   0.778                   0.718           0.845  "
      ]
     },
     "execution_count": 88,
     "metadata": {},
     "output_type": "execute_result"
    }
   ],
   "source": [
    "Model = pd.DataFrame({'Model':['RF_MCF7_MACCS','RF_Breast_MACCS','RF_Lung_MACCS','RF_A549_MACCS','RF_MCF7_MORGAN2','RF_Breast_MORGAN2','RF_Lung_MORGAN2','RF_A549_MORGAN2']})\n",
    "parameters=pd.DataFrame([grid_search_rf_mcf7_maccs.best_params_,grid_search_rf_breast_maccs.best_params_,grid_search_rf_lung_maccs.best_params_,grid_search_rf_a549_maccs.best_params_,grid_search_rf_mcf7_morgan2.best_params_,grid_search_rf_breast_morgan2.best_params_,grid_search_rf_lung_morgan2.best_params_,grid_search_rf_a549_morgan2.best_params_])\n",
    "test_set=pd.DataFrame([rf_test_mcf7_maccs,rf_test_breast_maccs,rf_test_lung_maccs,rf_test_a549_maccs,rf_test_mcf7_morgan2,rf_test_breast_morgan2,rf_test_lung_morgan2,rf_test_a549_morgan2])\n",
    "cv_set=pd.DataFrame([rf_mcf7_maccs_mean,rf_breast_maccs_mean,rf_lung_maccs_mean,rf_a549_maccs_mean,rf_mcf7_morgan2_mean,rf_breast_morgan2_mean,rf_lung_morgan2_mean,rf_a549_morgan2_mean])\n",
    "final_result=pd.concat([Model,parameters,cv_set,test_set],axis=1)\n",
    "final_result"
   ]
  },
  {
   "cell_type": "code",
   "execution_count": null,
   "id": "broad-justice",
   "metadata": {},
   "outputs": [],
   "source": []
  }
 ],
 "metadata": {
  "kernelspec": {
   "display_name": "Python 3",
   "language": "python",
   "name": "python3"
  },
  "language_info": {
   "codemirror_mode": {
    "name": "ipython",
    "version": 3
   },
   "file_extension": ".py",
   "mimetype": "text/x-python",
   "name": "python",
   "nbconvert_exporter": "python",
   "pygments_lexer": "ipython3",
   "version": "3.7.10"
  }
 },
 "nbformat": 4,
 "nbformat_minor": 5
}
